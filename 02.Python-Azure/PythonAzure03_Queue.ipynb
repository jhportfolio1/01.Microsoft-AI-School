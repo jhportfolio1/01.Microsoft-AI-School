{
  "nbformat": 4,
  "nbformat_minor": 0,
  "metadata": {
    "colab": {
      "provenance": [],
      "authorship_tag": "ABX9TyNjEZADFTJ9hjDqofjPWq98",
      "include_colab_link": true
    },
    "kernelspec": {
      "name": "python3",
      "display_name": "Python 3"
    },
    "language_info": {
      "name": "python"
    }
  },
  "cells": [
    {
      "cell_type": "markdown",
      "metadata": {
        "id": "view-in-github",
        "colab_type": "text"
      },
      "source": [
        "<a href=\"https://colab.research.google.com/github/jhportfolio1/MS-AI-School-Python-Azure/blob/main/PythonAzure03_Queue.ipynb\" target=\"_parent\"><img src=\"https://colab.research.google.com/assets/colab-badge.svg\" alt=\"Open In Colab\"/></a>"
      ]
    },
    {
      "cell_type": "markdown",
      "source": [
        "# 3. Azure 에서 큐 다루기"
      ],
      "metadata": {
        "id": "Ddb56AZQX8xF"
      }
    },
    {
      "cell_type": "markdown",
      "source": [
        "## 1) 큐 만들기 위해 패키지 가져오기"
      ],
      "metadata": {
        "id": "CW5v_Og0YCES"
      }
    },
    {
      "cell_type": "code",
      "execution_count": 1,
      "metadata": {
        "colab": {
          "base_uri": "https://localhost:8080/"
        },
        "id": "vfOEIo7xXvQO",
        "outputId": "c5ef7825-f510-46b9-d49a-994d7901bf1c"
      },
      "outputs": [
        {
          "output_type": "stream",
          "name": "stdout",
          "text": [
            "Looking in indexes: https://pypi.org/simple, https://us-python.pkg.dev/colab-wheels/public/simple/\n",
            "Collecting azure-storage-queue==2.1.0\n",
            "  Downloading azure_storage_queue-2.1.0-py2.py3-none-any.whl (24 kB)\n",
            "Collecting azure-common>=1.1.5\n",
            "  Downloading azure_common-1.1.28-py2.py3-none-any.whl (14 kB)\n",
            "Collecting azure-storage-common~=2.1\n",
            "  Downloading azure_storage_common-2.1.0-py2.py3-none-any.whl (47 kB)\n",
            "\u001b[2K     \u001b[90m━━━━━━━━━━━━━━━━━━━━━━━━━━━━━━━━━━━━━━━━\u001b[0m \u001b[32m47.8/47.8 kB\u001b[0m \u001b[31m3.1 MB/s\u001b[0m eta \u001b[36m0:00:00\u001b[0m\n",
            "\u001b[?25hRequirement already satisfied: cryptography in /usr/local/lib/python3.9/dist-packages (from azure-storage-common~=2.1->azure-storage-queue==2.1.0) (40.0.2)\n",
            "Requirement already satisfied: requests in /usr/local/lib/python3.9/dist-packages (from azure-storage-common~=2.1->azure-storage-queue==2.1.0) (2.27.1)\n",
            "Requirement already satisfied: python-dateutil in /usr/local/lib/python3.9/dist-packages (from azure-storage-common~=2.1->azure-storage-queue==2.1.0) (2.8.2)\n",
            "Requirement already satisfied: cffi>=1.12 in /usr/local/lib/python3.9/dist-packages (from cryptography->azure-storage-common~=2.1->azure-storage-queue==2.1.0) (1.15.1)\n",
            "Requirement already satisfied: six>=1.5 in /usr/local/lib/python3.9/dist-packages (from python-dateutil->azure-storage-common~=2.1->azure-storage-queue==2.1.0) (1.16.0)\n",
            "Requirement already satisfied: certifi>=2017.4.17 in /usr/local/lib/python3.9/dist-packages (from requests->azure-storage-common~=2.1->azure-storage-queue==2.1.0) (2022.12.7)\n",
            "Requirement already satisfied: urllib3<1.27,>=1.21.1 in /usr/local/lib/python3.9/dist-packages (from requests->azure-storage-common~=2.1->azure-storage-queue==2.1.0) (1.26.15)\n",
            "Requirement already satisfied: idna<4,>=2.5 in /usr/local/lib/python3.9/dist-packages (from requests->azure-storage-common~=2.1->azure-storage-queue==2.1.0) (3.4)\n",
            "Requirement already satisfied: charset-normalizer~=2.0.0 in /usr/local/lib/python3.9/dist-packages (from requests->azure-storage-common~=2.1->azure-storage-queue==2.1.0) (2.0.12)\n",
            "Requirement already satisfied: pycparser in /usr/local/lib/python3.9/dist-packages (from cffi>=1.12->cryptography->azure-storage-common~=2.1->azure-storage-queue==2.1.0) (2.21)\n",
            "Installing collected packages: azure-common, azure-storage-common, azure-storage-queue\n",
            "Successfully installed azure-common-1.1.28 azure-storage-common-2.1.0 azure-storage-queue-2.1.0\n"
          ]
        }
      ],
      "source": [
        "!pip install azure-storage-queue==2.1.0"
      ]
    },
    {
      "cell_type": "code",
      "source": [
        "from azure.storage.queue import QueueService, QueueMessageFormat\n"
      ],
      "metadata": {
        "id": "2Y-sXGxNX_R2"
      },
      "execution_count": 2,
      "outputs": []
    },
    {
      "cell_type": "markdown",
      "source": [
        "## 2) 큐 만들어서 큐 서비스에 연결하기"
      ],
      "metadata": {
        "id": "jy4rQRBMYO5J"
      }
    },
    {
      "cell_type": "markdown",
      "source": [
        "- 큐 엑세스 포인트 연결"
      ],
      "metadata": {
        "id": "kZki9_Z1Ybjy"
      }
    },
    {
      "cell_type": "code",
      "source": [
        ", queueservice\n",
        "connect_str='DefaultEndpointsProtocol=https;AccountName=labuser97storage;AccountKey=bM4U7r64nkPBcNDp6MLcX6FEHcZa0biT2nmpffvWJdqgDrc7LtDPFz+2S0Ti8vWB3wSS6XlaUvH0+AStOO+s2g==;EndpointSuffix=core.windows.net'"
      ],
      "metadata": {
        "id": "Ql_pPjzzYMka"
      },
      "execution_count": 6,
      "outputs": []
    },
    {
      "cell_type": "markdown",
      "source": [
        "- 큐 생성 및 연결"
      ],
      "metadata": {
        "id": "CP2asiAoYd3Q"
      }
    },
    {
      "cell_type": "code",
      "source": [
        "queue_name = 'queue-myqueue'\n",
        "queue_service = QueueService(connection_string=connect_str)\n",
        "\n",
        "queue_service.create_queue(queue_name)"
      ],
      "metadata": {
        "colab": {
          "base_uri": "https://localhost:8080/"
        },
        "id": "csem-YXKYalm",
        "outputId": "29658a12-7026-4ec4-b503-c443a7702367"
      },
      "execution_count": 7,
      "outputs": [
        {
          "output_type": "execute_result",
          "data": {
            "text/plain": [
              "False"
            ]
          },
          "metadata": {},
          "execution_count": 7
        }
      ]
    },
    {
      "cell_type": "markdown",
      "source": [
        "![image.png](data:image/png;base64,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)"
      ],
      "metadata": {
        "id": "UvaVaKjCY4QX"
      }
    },
    {
      "cell_type": "markdown",
      "source": [
        "## 3) 큐에 메세지 넣기"
      ],
      "metadata": {
        "id": "CWaMh62OgbSp"
      }
    },
    {
      "cell_type": "code",
      "source": [
        "queue_service.encode_function = QueueMessageFormat.binary_base64encode\n",
        "queue_service.decode_function = QueueMessageFormat.binary_base64decode"
      ],
      "metadata": {
        "id": "zS7k_vRnYsF3"
      },
      "execution_count": 19,
      "outputs": []
    },
    {
      "cell_type": "code",
      "source": [
        "import base64\n",
        "message = 'Hello World'\n",
        "print('Adding message: ' + message)"
      ],
      "metadata": {
        "colab": {
          "base_uri": "https://localhost:8080/"
        },
        "id": "yFnjzOt7cgSa",
        "outputId": "c0935dd4-9389-4b55-d3b9-8015d5deec6e"
      },
      "execution_count": 20,
      "outputs": [
        {
          "output_type": "stream",
          "name": "stdout",
          "text": [
            "Adding message: Hello World\n"
          ]
        }
      ]
    },
    {
      "cell_type": "markdown",
      "source": [
        "- 메세지를 유니코드 방식으로 엔코딩 하기"
      ],
      "metadata": {
        "id": "t3_UVWcFgnIe"
      }
    },
    {
      "cell_type": "code",
      "source": [
        "message = base64.b64encode(message.encode('utf-8'))\n",
        "queue_service.put_message(queue_name, message)"
      ],
      "metadata": {
        "colab": {
          "base_uri": "https://localhost:8080/"
        },
        "id": "YHkM2OJJgV9v",
        "outputId": "a2b0a83b-b9b2-4c5f-e9af-d140c1d9671b"
      },
      "execution_count": 21,
      "outputs": [
        {
          "output_type": "execute_result",
          "data": {
            "text/plain": [
              "<azure.storage.queue.models.QueueMessage at 0x7f4376fc31f0>"
            ]
          },
          "metadata": {},
          "execution_count": 21
        }
      ]
    },
    {
      "cell_type": "markdown",
      "source": [
        "## 4) 큐에서 메세지 가져오기"
      ],
      "metadata": {
        "id": "ROAcwop_hckx"
      }
    },
    {
      "cell_type": "markdown",
      "source": [
        "- Peeked message : 엿보기\n",
        "- Get message : 메세지 통으로 가져오기 -> 메세지가 Queue 에서 빠져나옴"
      ],
      "metadata": {
        "id": "2JNp3zK9jcX8"
      }
    },
    {
      "cell_type": "code",
      "source": [
        "messages = queue_service.peek_messages(queue_name)"
      ],
      "metadata": {
        "id": "bdDNknkDg602"
      },
      "execution_count": 22,
      "outputs": []
    },
    {
      "cell_type": "markdown",
      "source": [
        "- 가져온 메세지 열기"
      ],
      "metadata": {
        "id": "ABWRXxEohrTB"
      }
    },
    {
      "cell_type": "code",
      "source": [
        "for peeked_message in messages:\n",
        "  message = base64.b64decode(peeked_message.content)\n",
        "  print('Peeked message: ' + message.decode('utf-8'))"
      ],
      "metadata": {
        "colab": {
          "base_uri": "https://localhost:8080/"
        },
        "id": "NaWKbd6Yhmdu",
        "outputId": "f87d8be3-08e6-460c-af9a-179cae31cf83"
      },
      "execution_count": 24,
      "outputs": [
        {
          "output_type": "stream",
          "name": "stdout",
          "text": [
            "Peeked message: Hello World\n"
          ]
        }
      ]
    },
    {
      "cell_type": "markdown",
      "source": [
        "- get으로 메세지 빼오기"
      ],
      "metadata": {
        "id": "Nj4N210CkrAG"
      }
    },
    {
      "cell_type": "code",
      "source": [
        "messages = queue_service.get_messages(queue_name)\n",
        "\n",
        "for msg in messages:\n",
        "  message = base64.b64decode(msg.content)\n",
        "  print('Got message: ' + message.decode('utf-8'))"
      ],
      "metadata": {
        "colab": {
          "base_uri": "https://localhost:8080/"
        },
        "id": "G7r5x0CEiKPV",
        "outputId": "372cd834-b27c-4545-b101-188214c5cefd"
      },
      "execution_count": 29,
      "outputs": [
        {
          "output_type": "stream",
          "name": "stdout",
          "text": [
            "Got message: Hello World\n"
          ]
        }
      ]
    },
    {
      "cell_type": "markdown",
      "source": [
        "## 5) 큐 삭제하기"
      ],
      "metadata": {
        "id": "BYskQvNTk4io"
      }
    },
    {
      "cell_type": "code",
      "source": [
        "queue_service.delete_queue(queue_name)\n"
      ],
      "metadata": {
        "colab": {
          "base_uri": "https://localhost:8080/"
        },
        "id": "btKDHzrEjYw6",
        "outputId": "d9b2c39d-6117-4a46-8af9-5a6ee278ec02"
      },
      "execution_count": 30,
      "outputs": [
        {
          "output_type": "execute_result",
          "data": {
            "text/plain": [
              "True"
            ]
          },
          "metadata": {},
          "execution_count": 30
        }
      ]
    },
    {
      "cell_type": "code",
      "source": [],
      "metadata": {
        "id": "4QmGG439k9cm"
      },
      "execution_count": null,
      "outputs": []
    }
  ]
}