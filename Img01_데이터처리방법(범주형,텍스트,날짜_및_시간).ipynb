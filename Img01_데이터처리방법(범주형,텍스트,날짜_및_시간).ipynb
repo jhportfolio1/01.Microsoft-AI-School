{
  "nbformat": 4,
  "nbformat_minor": 0,
  "metadata": {
    "colab": {
      "provenance": [],
      "toc_visible": true,
      "authorship_tag": "ABX9TyPtplA58DKPGRyHW3EGuhfv",
      "include_colab_link": true
    },
    "kernelspec": {
      "name": "python3",
      "display_name": "Python 3"
    },
    "language_info": {
      "name": "python"
    }
  },
  "cells": [
    {
      "cell_type": "markdown",
      "metadata": {
        "id": "view-in-github",
        "colab_type": "text"
      },
      "source": [
        "<a href=\"https://colab.research.google.com/github/jhportfolio1/Microsoft-AI-School/blob/main/Img01_%EB%8D%B0%EC%9D%B4%ED%84%B0%EC%B2%98%EB%A6%AC%EB%B0%A9%EB%B2%95(%EB%B2%94%EC%A3%BC%ED%98%95%2C%ED%85%8D%EC%8A%A4%ED%8A%B8%2C%EB%82%A0%EC%A7%9C_%EB%B0%8F_%EC%8B%9C%EA%B0%84).ipynb\" target=\"_parent\"><img src=\"https://colab.research.google.com/assets/colab-badge.svg\" alt=\"Open In Colab\"/></a>"
      ]
    },
    {
      "cell_type": "markdown",
      "source": [
        "# 1. 데이터 전처리하는 이유\n",
        "- 데이터전처리 : 머신러닝 파이프라인에서 모델학습/서빙의 입력에 맞는 데이터 가공 \n",
        "- 이유 : 실제 데이터는 다양한 소스/프로세스 통해 수집되어, 데이터셋 품질 떨어트리는 이상값/손상값 포함될 수 있음"
      ],
      "metadata": {
        "id": "b67GrcVj4U2B"
      }
    },
    {
      "cell_type": "markdown",
      "source": [
        "# 2. 데이터 파이프라인\n",
        "- 데이터파이프라인 : 데이터 생성부터 저장까지의 과정\n",
        "- 데이터 가져오는 과정에서 데이터 정제/전처리 쉽도록 \n",
        "- 과정 : 생성→수집→가공후저장(ETL)→시각화"
      ],
      "metadata": {
        "id": "-L66oqfi5zkA"
      }
    },
    {
      "cell_type": "markdown",
      "source": [
        "# 3. 데이터베이스 저장소"
      ],
      "metadata": {
        "id": "f1WI4QQ2GFZL"
      }
    },
    {
      "cell_type": "markdown",
      "source": [
        ">## 1) 데이터웨어하우스(DW)\n",
        ">- DB에 축적된 데이터를 공통 형식으로 변환해서 관리하는 DB \n",
        ">- DB 관리시스템을 통합해서 효울적으로 조정관리 하는 것\n",
        ">- 쓰기스키마 : DW 저장전 처리 필수, 이때 어떤 데이터 포함할지 결정하는 것"
      ],
      "metadata": {
        "id": "zKFtBs0PGJsT"
      }
    },
    {
      "cell_type": "markdown",
      "source": [
        ">## 2) 데이터레이크\n",
        ">- 구조화/반구조화/비구조화 데이터 저장/처리/보호 하는 중앙 집중식 저장소\n",
        ">- 정의된 용도가 없는 비정형 원시데이터 저장\n",
        ">- 즉시 데이터 수집, 향후 사용처 파악 가능 \\"
      ],
      "metadata": {
        "id": "QUUnOgyMGiqQ"
      }
    },
    {
      "cell_type": "markdown",
      "source": [
        "# 4. 데이터 분석 과정"
      ],
      "metadata": {
        "id": "-A_llVT9HVGd"
      }
    },
    {
      "cell_type": "markdown",
      "source": [
        ">## 1) 문제정의 \n",
        ">- 분석 대상/목적/계획 수립"
      ],
      "metadata": {
        "id": "zQgpXy4ZIYQP"
      }
    },
    {
      "cell_type": "markdown",
      "source": [
        ">## 2) 데이터수집 \n",
        ">- 양보다 질이 중요(비용/법적문제 발생가능)\n",
        ">- 구매/실험/웹크롤링/오픈데이터셋 이용\n",
        ">- 오픈데이터셋 : AI Hub, 공공데이터포털, UCI Repository, MNIST, Fashion-MNIST, OpenImageDatasest, Kaggle"
      ],
      "metadata": {
        "id": "G_7QyQ9XIcyv"
      }
    },
    {
      "cell_type": "markdown",
      "source": [
        ">## 3) 데이터전처리\n",
        ">- 데이터 분석을 전제로 데이터 생성하지 않았기 때문에 전처리 필요\n",
        ">- 분석에 부적합한 구조/결측값/이상치 존재\n",
        ">- 노이즈/중복값/결측값 보정, 데이터 연계/통합, 데이터구조 변경 \n",
        ">- 데이터 벡터화 "
      ],
      "metadata": {
        "id": "vELwfUvqJd1C"
      }
    },
    {
      "cell_type": "markdown",
      "source": [
        ">## 4) 모델링\n",
        ">- 원하는 결과 도출 위해 분류, 회귀 작업 진행하는 단계 \n",
        ">- 전처리된 데이터 활용하여 학습 진행"
      ],
      "metadata": {
        "id": "VL4WndYaKCaW"
      }
    },
    {
      "cell_type": "markdown",
      "source": [
        ">## 5) 해석 및 시각화\n",
        ">- 모델링 통해 도출시, 문제 해결방법 모색\n",
        ">- 시각화로 도출된 결과 알아보기 쉽게 표현/근거활용"
      ],
      "metadata": {
        "id": "PMLPkf7GKKly"
      }
    },
    {
      "cell_type": "markdown",
      "source": [
        "# 5. 데이터 종류"
      ],
      "metadata": {
        "id": "UqYOfMzHLRyX"
      }
    },
    {
      "cell_type": "markdown",
      "source": [
        ">## 1) 데이터 타입\n",
        ">- 범주형 변수 : 관측결과가 범주/항목 형태로 나타나는 자료, 빈도수\n",
        ">- 수치해석학 : 관측값이 수치로 측정되는 자료, 평균/중앙값/STD/최대최소/사분위수"
      ],
      "metadata": {
        "id": "i4wDxTO9LcH-"
      }
    },
    {
      "cell_type": "markdown",
      "source": [
        ">## 2) 데이터포맷\n",
        ">- 정형데이터 : 사전 정의된 데이터, 수치만으로 의미파악 쉬움, 데이터스키마 (테이블, 스프레드시트)\n",
        ">- 비정형데이터 : 형태없고 연산불가능(동영상(이진), 이미지(이진), 음성, tesxt, 시계열데이터)\n",
        ">- 반정형데이터 : Semi정형데이터, 스키마가지고있지만 연산 불가능(HTML, XML, JSON, 웹로그, IoT센서데이터)"
      ],
      "metadata": {
        "id": "oz-RGKAjLn87"
      }
    },
    {
      "cell_type": "markdown",
      "source": [
        "# 6. 데이터전처리 필요성"
      ],
      "metadata": {
        "id": "QgyMpMStN9mF"
      }
    },
    {
      "cell_type": "markdown",
      "source": [
        ">## 1) 이상값 \n",
        ">- 데이터오류 : 데이터 수집/기록/입력 중 발생하는 인적오류\n",
        ">- 측정오류 : 일반적 원인, 측정기기 결함\n",
        ">- 실험오류\n",
        ">- 의도적 이상치\n",
        ">- 데이터처리 오류 : 여러소스에서 데이터 추출시, 일부 조작/추출 오류 발생\n",
        ">- 샘플링 오류 : 이미지폴더에 다른 이미지 포함된 경우\n",
        ">- 자연적 이상값 : 이상값 인위적이지 않은 경우 자연적 이상값"
      ],
      "metadata": {
        "id": "fnem0VQSOeqT"
      }
    },
    {
      "cell_type": "markdown",
      "source": [
        ">## 2) 데이터 전처리 방법\n",
        ">- 데이터 클리닝 : 결측치대체, 잡음데이터평활, 이상치확인/제거, 불일치해결\n",
        ">- 데이터 통합 : 다양한 로그파일의 DB통합, 일관성 있는 데이터 형태로 변환\n",
        ">- 데이터 변환 : 정규화/집합화/요약/계층생성\n",
        ">- 데이터 축소 : 원래 데이터와 같은 분석 결과 얻을 수 있어야함\n",
        ">- 데이터 이산화 : 수치값을 속성 값으로 변환\n",
        ">- 데이터 표현 특징추출 : 대표특징 이해과정, 데이터축소의일종(가속도 센서)"
      ],
      "metadata": {
        "id": "g5w1W5zzO4Oh"
      }
    },
    {
      "cell_type": "markdown",
      "source": [
        ">## 3) 결측치 처리방법\n",
        ">- 해당 튜플 무시 : 분류에서 구분 라벨 빠진 경우\n",
        ">- 기준에 따른 자동 채우기 : unknown, ignore\n",
        ">- 전문가가 직접 값 채우기 : 가장 신뢰성 높음"
      ],
      "metadata": {
        "id": "288W1vPiPfWG"
      }
    },
    {
      "cell_type": "markdown",
      "source": [
        ">## 4) 잡음 처리방법\n",
        ">![image.png](data:image/png;base64,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)\n",
        ">- 잡음 : 랜덤에러, 변형된 값\n",
        ">- 바이닝 : 데이터 정렬 후 주파수 단위로 bins나누고 대표값 변환\n",
        ">- 회귀 : 추세함수 찾아서 사용\n",
        ">- 클러스터링 : 집합화 후 outliter 제거"
      ],
      "metadata": {
        "id": "rMqy_wvxPqUd"
      }
    },
    {
      "cell_type": "markdown",
      "source": [
        ">## 5) 데이터 통합\n",
        ">- 데이터 통합 : 데이터를 일관성 있는 1개의 데이터로 합치는 것\n",
        ">- 스키마 통합 : 데이터의 메타데이터 통합"
      ],
      "metadata": {
        "id": "mEDnyGc3Skk-"
      }
    },
    {
      "cell_type": "markdown",
      "source": [
        ">>### 데이터 통합시 문제 및 해결책\n",
        ">>- 중복문제 : 연관관계 분석 통해 중복 제거\n",
        ">>- 일관성문제 : 계산/통계 값 틀린 경우 → 계산 검증\n",
        ">>- 엔터티 확인문제 : 엔트리 동일한지 검증체크\n",
        ">>- 표현문제 : kg/파운드 파이 등 단위 표현 일치화\n",
        ">>- 스케일 : mm/cm 등 스케일 변환 과정"
      ],
      "metadata": {
        "id": "GKWEZWlaS-Dq"
      }
    },
    {
      "cell_type": "markdown",
      "source": [
        ">## 6) 데이터 변환\n",
        ">- 평활화 : 데이터 노이즈 제거 위해 추세 맞게 데이터 변환\n",
        ">- 집합 : 요약, 데이터 큐브 생성\n",
        ">- 일반화 : 특정 구간 분포값으로 스케일 변화 \n",
        ">- 정규화 : 0~1사이 범위 데이터 표준화\n",
        ">- 표준화 : 평균까지 거리 2개 이상 단위가 다를때 같은 기준으로 보게끔\n",
        ">- 특징생성 : 새로운 속성/특징 만들기"
      ],
      "metadata": {
        "id": "hpAs-aRYTVty"
      }
    },
    {
      "cell_type": "markdown",
      "source": [
        ">## 7) 데이터 축소\n",
        ">- 데이터축소 : 적은 양으로 \n",
        ">- 차원축소 : 관계없거나 중복 데이터 제거\n",
        ">- 데이터압축 : 인코딩/변환 통해 데이터 축소\n",
        ">- Discrete Wavelet Transform(DWT) : 선형 신호 처리 기술\n",
        ">- Principal Component Analysis(PCA) : 데이터 잘 표현하는 직교상 데이터 벡터 찾아서 압축\n",
        ">- Numerosity Reduction(수량축소) : 데이터 작은 형태로 줄여 크기 줄임 "
      ],
      "metadata": {
        "id": "Vr63QNG0Uj-c"
      }
    },
    {
      "cell_type": "markdown",
      "source": [
        ">## 8) 특성 추출 사용한 차원축소\n",
        ">- 내재된 정보는 유지하면서 특성의 수를 줄임\n",
        ">- 차원증가시 : 예측신뢰도↓, 과적합발생, 개별간 상관관계↑\n",
        ">- PCA(주성분분석) : 고차원 데이터를 저차원으로 축소시킴\n",
        ">>- 데이터 분산 유지하면서 특성의 수만 줄임\n",
        ">>- 특성 행렬만 이용하는 비지도 학습 기법\n",
        ">>- 2D 공간 모든 샘플을 1차원 주성분에 투영하는 것"
      ],
      "metadata": {
        "id": "Lh2P-VVIVFW4"
      }
    },
    {
      "cell_type": "markdown",
      "source": [
        "# 7. 실습"
      ],
      "metadata": {
        "id": "OGUovgjYzN74"
      }
    },
    {
      "cell_type": "markdown",
      "source": [
        ">## 1) PCA 이용 특성 줄이기 실습"
      ],
      "metadata": {
        "id": "eRf6ZgcOZGje"
      }
    },
    {
      "cell_type": "markdown",
      "source": [
        ">>### (1) StandardScaler() \n",
        ">> Scikit-learn의 전처리(preprocessing) 모듈에서 제공되는 클래스 중 하나입니다. 이 클래스는 데이터를 평균이 0, 분산이 1인 가우시안 정규 분포(standard normal distribution)로 변환합니다."
      ],
      "metadata": {
        "id": "AUwxsiLAZLZI"
      }
    },
    {
      "cell_type": "markdown",
      "source": [
        ">>### (2) digits.data\n",
        ">>digits 데이터셋에서 숫자 이미지의 각 픽셀 값을 포함하는 배열"
      ],
      "metadata": {
        "id": "bZpe94lTZT5J"
      }
    },
    {
      "cell_type": "markdown",
      "source": [
        ">>### (3) fit_transform() 메서드 \n",
        ">> StandardScaler 클래스에는 데이터를 변환하는 두 가지 단계가 있습니다. 첫째, 모델을 학습(fit)하고, 둘째, 학습된 모델을 사용하여 데이터를 변환(transform)합니다. fit_transform() 메서드는 이 두 단계를 한 번에 수행합니다. 즉, 데이터를 표준화(normalize)하고, 변환된 값을 반환합니다.\n",
        "\n",
        ">>따라서 위의 코드는 digits 데이터셋의 특성을 가우시안 정규 분포로 변환한 후, 변환된 값을 featuress 변수에 할당 이렇게 정규화를 수행하면, 모델이 데이터를 더 잘 이해하고, 모델의 예측 성능을 향상 시킬 수 있습니다."
      ],
      "metadata": {
        "id": "szu-AHO2ZW9h"
      }
    },
    {
      "cell_type": "code",
      "source": [
        "pip install scikit-learn"
      ],
      "metadata": {
        "colab": {
          "base_uri": "https://localhost:8080/"
        },
        "id": "EOGoygovYiE3",
        "outputId": "dd79c404-8902-4d7f-ea70-de85a998ce1d"
      },
      "execution_count": null,
      "outputs": [
        {
          "output_type": "stream",
          "name": "stdout",
          "text": [
            "Looking in indexes: https://pypi.org/simple, https://us-python.pkg.dev/colab-wheels/public/simple/\n",
            "Requirement already satisfied: scikit-learn in /usr/local/lib/python3.10/dist-packages (1.2.2)\n",
            "Requirement already satisfied: numpy>=1.17.3 in /usr/local/lib/python3.10/dist-packages (from scikit-learn) (1.22.4)\n",
            "Requirement already satisfied: scipy>=1.3.2 in /usr/local/lib/python3.10/dist-packages (from scikit-learn) (1.10.1)\n",
            "Requirement already satisfied: joblib>=1.1.1 in /usr/local/lib/python3.10/dist-packages (from scikit-learn) (1.2.0)\n",
            "Requirement already satisfied: threadpoolctl>=2.0.0 in /usr/local/lib/python3.10/dist-packages (from scikit-learn) (3.1.0)\n"
          ]
        }
      ]
    },
    {
      "cell_type": "code",
      "source": [
        "from sklearn.preprocessing import StandardScaler\n",
        "from sklearn.decomposition import PCA\n",
        "from sklearn import datasets \n",
        "\n",
        "digits = datasets.load_digits() #8*8 크기 손글씨 숫자 데이터 로드\n",
        "features = StandardScaler().fit_transform(digits.data)  #특성 행렬 표준화 처리\n",
        "print(features)"
      ],
      "metadata": {
        "colab": {
          "base_uri": "https://localhost:8080/"
        },
        "id": "A0hROBg28i_4",
        "outputId": "efe937b4-c803-48de-a743-3dfcccdf3fc8"
      },
      "execution_count": null,
      "outputs": [
        {
          "output_type": "stream",
          "name": "stdout",
          "text": [
            "[[ 0.         -0.33501649 -0.04308102 ... -1.14664746 -0.5056698\n",
            "  -0.19600752]\n",
            " [ 0.         -0.33501649 -1.09493684 ...  0.54856067 -0.5056698\n",
            "  -0.19600752]\n",
            " [ 0.         -0.33501649 -1.09493684 ...  1.56568555  1.6951369\n",
            "  -0.19600752]\n",
            " ...\n",
            " [ 0.         -0.33501649 -0.88456568 ... -0.12952258 -0.5056698\n",
            "  -0.19600752]\n",
            " [ 0.         -0.33501649 -0.67419451 ...  0.8876023  -0.5056698\n",
            "  -0.19600752]\n",
            " [ 0.         -0.33501649  1.00877481 ...  0.8876023  -0.26113572\n",
            "  -0.19600752]]\n"
          ]
        }
      ]
    },
    {
      "cell_type": "markdown",
      "source": [
        ">>### (4) PCA 클래스\n",
        ">>Scikit-learn의 decomposition 모듈에서 제공되는 클래스 중 하나입니다. PCA는 데이터셋의 차원을 감소시키는 기술로, 데이터셋에서 가장 중요한 특성만 추출하여 새로운 차원 축으로 변환합니다. 이를 통해 데이터셋의 노이즈(noise)를 제거하고, 더욱 빠르고 효율적인 학습이 가능해집니다."
      ],
      "metadata": {
        "id": "apvuusASZjz-"
      }
    },
    {
      "cell_type": "markdown",
      "source": [
        ">>### (5) n_components\n",
        ">>PCA 클래스의 인자 중 하나로, 추출할 주성분(principal component)의 수를 지정합니다. 여기서는 99%의 분산(variance)을 유지하도록 설정되어 있습니다. 이는 데이터셋에서 99%의 정보가 유지되도록 차원을 축소하는 것을 의미합니다.\n",
        "\n"
      ],
      "metadata": {
        "id": "MCDTo1KOZ2R0"
      }
    },
    {
      "cell_type": "markdown",
      "source": [
        ">>### (6) whiten\n",
        ">>PCA 클래스의 인자 중 하나로, True로 설정할 경우 PCA의 결과로 나오는 주성분들이 서로 독립적인 값이 되도록 백색화(whitening)를 수행합니다. 백색화를 하면 각 주성분의 분산이 1이 되고, 상관 관계가 없는 성분들로 구성된 새로운 특성 공간이 만들어집니다.\n",
        "\n"
      ],
      "metadata": {
        "id": "RYjxEAqDZ3i1"
      }
    },
    {
      "cell_type": "markdown",
      "source": [
        ">>### (7) fit_transform()\n",
        ">>PCA 클래스에는 fit()과 transform() 메서드가 있습니다. fit() 메서드는 PCA 모델을 학습하고, transform() 메서드는 학습된 모델을 사용하여 데이터를 변환합니다. fit_transform() 메서드는 이 두 단계를 한 번에 수행합니다.\n",
        "\n",
        ">>위의 같이 PCA이용하면 99%의 분산을 유지하도록 새로운 특성(feature) 공간으로 변환하고 있습니다. 결과적으로, 원본 데이터셋의 특성 개수는 features.shape[1]으로 확인할 수 있고, PCA를 수행하여 감소된 특성 개수는 features_pca.shape[1]으로 확인할 수 있습니다. 이렇게 차원 축소를 수행하면, 모델의 학습 시간을 단축시키고, 과적합(overfitting)을 방지할 수 있습니다."
      ],
      "metadata": {
        "id": "pfGF3tRWZ4i9"
      }
    },
    {
      "cell_type": "code",
      "source": [
        "# 99% 분산 유지하도록 PCA 클래스 객체 생성\n",
        "pca = PCA(n_components=0.99, whiten=True) \n",
        "features_pca = pca.fit_transform(features)  #PCA수행\n",
        "\n",
        "# result\n",
        "print(\"원본 특성 개수 >>\", features.shape[1])\n",
        "print(\"줄어든 특성 개수 >>\", features_pca.shape[1])"
      ],
      "metadata": {
        "colab": {
          "base_uri": "https://localhost:8080/"
        },
        "id": "wmlcjswlYT69",
        "outputId": "eddab294-af8c-43a1-9a3b-0089ef7e0cbe"
      },
      "execution_count": null,
      "outputs": [
        {
          "output_type": "stream",
          "name": "stdout",
          "text": [
            "원본 특성 개수 >> 64\n",
            "줄어든 특성 개수 >> 54\n"
          ]
        }
      ]
    },
    {
      "cell_type": "markdown",
      "source": [
        ">## 2) 주성분 줄이기 차이 비교"
      ],
      "metadata": {
        "id": "bf_rnqEgcDBi"
      }
    },
    {
      "cell_type": "code",
      "source": [
        "from sklearn.datasets import load_digits\n",
        "from sklearn.model_selection import train_test_split\n",
        "from sklearn.linear_model import LogisticRegression\n",
        "from sklearn.metrics import accuracy_score\n",
        "\n",
        "# 데이터 불러오기\n",
        "digits = load_digits()\n",
        "\n",
        "# 차이 있는지 체크위해서 정규화하지 않은 데이터로 분류 모델 훈련\n",
        "x_train, x_test, y_train, y_test = train_test_split(digits.data, digits.target, random_state=777)\n",
        "model = LogisticRegression()\n",
        "model.fit(x_train, y_train)\n",
        "y_pred = model.predict(x_test)\n",
        "\n",
        "no_standardScaler_accuracy_score = accuracy_score(y_test, y_pred)\n",
        "print(\"Accuracy without normalization: \", no_standardScaler_accuracy_score)\n",
        "\n",
        "\"\"\"\n",
        "데이터가 8:2로 나눠지면\n",
        "2 부분을 1:1로 나눠서\n",
        "8:1:1로 사용\n",
        "\"\"\"\n",
        "\n",
        "#사이킷런 손글씨 데이터 활용하여 주성분 줄이기 차이 결과값 비교\n",
        "\n",
        "#데이터 정규화 후 분류모델 훈련\n",
        "scaler = StandardScaler()\n",
        "x_train_norm = scaler.fit_transform(x_train)\n",
        "x_test_norm = scaler.transform(x_test)\n",
        "model_norm = LogisticRegression()\n",
        "model_norm.fit(x_train_norm, y_train)\n",
        "y_pred_norm = model_norm.predict(x_test_norm)\n",
        "\n",
        "standardScaler_accuracy_score = accuracy_score(y_test, y_pred_norm)\n",
        "print(\"Accuracy with normalization:\", standardScaler_accuracy_score)"
      ],
      "metadata": {
        "colab": {
          "base_uri": "https://localhost:8080/"
        },
        "id": "jjvVvfMwYw8P",
        "outputId": "f263a19c-bbbc-4a54-cad0-916f6060ce33"
      },
      "execution_count": null,
      "outputs": [
        {
          "output_type": "stream",
          "name": "stderr",
          "text": [
            "/usr/local/lib/python3.10/dist-packages/sklearn/linear_model/_logistic.py:458: ConvergenceWarning: lbfgs failed to converge (status=1):\n",
            "STOP: TOTAL NO. of ITERATIONS REACHED LIMIT.\n",
            "\n",
            "Increase the number of iterations (max_iter) or scale the data as shown in:\n",
            "    https://scikit-learn.org/stable/modules/preprocessing.html\n",
            "Please also refer to the documentation for alternative solver options:\n",
            "    https://scikit-learn.org/stable/modules/linear_model.html#logistic-regression\n",
            "  n_iter_i = _check_optimize_result(\n"
          ]
        },
        {
          "output_type": "stream",
          "name": "stdout",
          "text": [
            "Accuracy without normalization:  0.9511111111111111\n",
            "Accuracy with normalization: 0.9555555555555556\n"
          ]
        }
      ]
    },
    {
      "cell_type": "code",
      "source": [
        "#차이점 확인\n",
        "print(no_standardScaler_accuracy_score, standardScaler_accuracy_score)"
      ],
      "metadata": {
        "colab": {
          "base_uri": "https://localhost:8080/"
        },
        "id": "TNDQ-t8Hw6xt",
        "outputId": "bc834d37-fb1b-456e-e16c-35fbced3efef"
      },
      "execution_count": null,
      "outputs": [
        {
          "output_type": "stream",
          "name": "stdout",
          "text": [
            "0.9511111111111111 0.9555555555555556\n"
          ]
        }
      ]
    },
    {
      "cell_type": "markdown",
      "source": [
        ">## 3) 방사기저함수로 데이터차원 축소 : 선형적 구분되지 않을때\n",
        ">- 데이터 간 유사도 측정 위해 사용되는 함수 중 하나\n",
        ">- 고차원에 투영\n",
        ">- RBF는 두 데이터 포인트 사이 거리가 멀수록 값이 작아짐 (가우시안 함수 사용)\n",
        ">- 머신러닝에서 커널트릭, 클러스터링에 사용"
      ],
      "metadata": {
        "id": "j9ARoNQ_zasz"
      }
    },
    {
      "cell_type": "code",
      "source": [
        "from sklearn.decomposition import KernelPCA\n",
        "from sklearn.datasets import make_circles \n",
        "\n",
        "# 선형적 구분되지 않는 데이터 만들기\n",
        "features, _ = make_circles(n_samples=1000, random_state=777, noise=0.1, factor=0.1)\n",
        "print(features)"
      ],
      "metadata": {
        "colab": {
          "base_uri": "https://localhost:8080/"
        },
        "id": "VQHPVI0hxFzp",
        "outputId": "cc476805-9efb-4a9f-8688-f2048994d24a"
      },
      "execution_count": null,
      "outputs": [
        {
          "output_type": "stream",
          "name": "stdout",
          "text": [
            "[[-0.02313275  0.15282194]\n",
            " [ 0.8626983   0.46556009]\n",
            " [ 0.05905661 -0.05048386]\n",
            " ...\n",
            " [-0.10071513 -0.1814104 ]\n",
            " [ 0.10461224  0.08710802]\n",
            " [ 0.28894733  0.97460534]]\n"
          ]
        }
      ]
    },
    {
      "cell_type": "code",
      "source": [
        "# 방사 기저 함수(radius basis function RBF) 사용 커널 PCA 사용\n",
        "kpca = KernelPCA(kernel = 'rbf', gamma=15, n_components=1)\n",
        "\n",
        "# Kernel rbf : 가우시안 RBF 커널\n",
        "features_kpca = kpca.fit_transform(features)\n",
        "print(\"원본 특성 개수 :\", features.shape[1])\n",
        "print(\"줄어든 특성 개수 :\", features_kpca.shape[1])"
      ],
      "metadata": {
        "colab": {
          "base_uri": "https://localhost:8080/"
        },
        "id": "XHq4uBZIzuwj",
        "outputId": "c70572ed-93bd-49de-b067-9b42f5a765e8"
      },
      "execution_count": null,
      "outputs": [
        {
          "output_type": "stream",
          "name": "stdout",
          "text": [
            "원본 특성 개수 : 2\n",
            "줄어든 특성 개수 : 1\n"
          ]
        }
      ]
    },
    {
      "cell_type": "markdown",
      "source": [
        ">## 4) 선형 판별분석 LDA 실습\n",
        ">- 클래스를 최대한 분리하는 성분 축으로 특성 투영\n",
        ">- LDA : 분류알고리즘, 차원축소에 사용, 저차원에 투영"
      ],
      "metadata": {
        "id": "TVs9AtSk1ezT"
      }
    },
    {
      "cell_type": "code",
      "source": [
        "from sklearn import datasets\n",
        "from sklearn.discriminant_analysis import LinearDiscriminantAnalysis\n",
        "\n",
        "# Iris 데이터 로드\n",
        "iris = datasets.load_iris()\n",
        "features = iris.data\n",
        "target = iris.target\n",
        "\n",
        "# LDA 객체 만들고 실행하여 특성 반환\n",
        "lda = LinearDiscriminantAnalysis(n_components=1)\n",
        "features_lda = lda.fit(features, target).transform(features)\n",
        "\n",
        "print(\"원본 특성 개수\", features.shape[1])\n",
        "print(\"줄어든 특성 개수\", features_lda.shape[1])"
      ],
      "metadata": {
        "colab": {
          "base_uri": "https://localhost:8080/"
        },
        "id": "4Epf6qtc0pxz",
        "outputId": "1f5c77f4-467e-4d50-adc6-11848311e35f"
      },
      "execution_count": null,
      "outputs": [
        {
          "output_type": "stream",
          "name": "stdout",
          "text": [
            "원본 특성 개수 4\n",
            "줄어든 특성 개수 1\n"
          ]
        }
      ]
    },
    {
      "cell_type": "markdown",
      "source": [
        ">## 5) 범주형 데이터 처리 실습\n",
        ">- 연속적이지 않고, 명목상 분류되는 값\n",
        ">- 수치 데이터가 아니기 때문에 바꿔줘야함"
      ],
      "metadata": {
        "id": "n-Gwg8N7839V"
      }
    },
    {
      "cell_type": "markdown",
      "source": [
        ">>### (1) 순서가 없는 범주형 데이터 처리실습"
      ],
      "metadata": {
        "id": "s_jbfzGCATPe"
      }
    },
    {
      "cell_type": "code",
      "source": [
        "#순서가 없는 범주형 데이터 처리 (LabelBinarizer사용 : 문자열 데이터 원핫 인코딩)\n",
        "\n",
        "import numpy as np\n",
        "from sklearn.preprocessing import LabelBinarizer, MultiLabelBinarizer\n",
        "\n",
        "\n",
        "# 특성 데이터 생성\n",
        "feature = np.array(([\"가나다라\"],\n",
        "                    [\"가나다라\"],\n",
        "                    [\"다라가나\"],\n",
        "                    [\"라가나다\"]))\n",
        "\n",
        "# 원핫 인코더 생성\n",
        "one_hot = LabelBinarizer()\n",
        "\n",
        "# 특성 원핫 인코딩 변환\n",
        "one_hot.fit_transform(feature)\n",
        "\n",
        "# 특성 클래스 확인\n",
        "one_hot.classes_\n",
        "\n",
        "print(\"특성 클래스 확인\", one_hot.classes_)\n",
        "\n",
        "# 데이터 되돌리는 법\n",
        "one_hot_data = one_hot.inverse_transform(one_hot.transform(feature))\n",
        "print(\"one hot >>\", one_hot_data)"
      ],
      "metadata": {
        "colab": {
          "base_uri": "https://localhost:8080/"
        },
        "id": "8k19eY989Eao",
        "outputId": "5b758e4d-2ae7-4d87-e507-80e95d9ff900"
      },
      "execution_count": null,
      "outputs": [
        {
          "output_type": "stream",
          "name": "stdout",
          "text": [
            "특성 클래스 확인 ['가나다라' '다라가나' '라가나다']\n",
            "one hot >> ['가나다라' '가나다라' '다라가나' '라가나다']\n"
          ]
        }
      ]
    },
    {
      "cell_type": "markdown",
      "source": [
        ">>### (2) 다중 클래스 특성 범주형 데이터 처리 방법"
      ],
      "metadata": {
        "id": "HZgg-eGDAXVC"
      }
    },
    {
      "cell_type": "code",
      "source": [
        "# 다중 클래스 특성 범주형 데이터 처리 방법\n",
        "multiclass_feature = [(\"가나다라마\", \"아자바하나\"),\n",
        "                      (\"자다가나라\", \"자다나타하\"),\n",
        "                      (\"가나다라마\", \"아자바하나\"),\n",
        "                      (\"아마자나가\", \"아카나다하\"),\n",
        "                      (\"가나다라마\", \"아자바하나\")]\n",
        "\n",
        "# 다중 클래스 원핫 인코더 객체 생성\n",
        "one_hot_multiclass = MultiLabelBinarizer()\n",
        "\n",
        "# 다중 클래스 특성을 원핫 인코딩 변환\n",
        "one_hot_multiclass.fit_transform(multiclass_feature)\n",
        "\n",
        "# 특성 클래스확인\n",
        "one_hot_data = one_hot_multiclass.classes_\n",
        "\n",
        "print(\"특성 클래스 확인 >>\", one_hot_data)"
      ],
      "metadata": {
        "colab": {
          "base_uri": "https://localhost:8080/"
        },
        "id": "_6_Q5tLZ-dsk",
        "outputId": "fb763e86-eee0-46df-8082-6dafaa2a9f3d"
      },
      "execution_count": null,
      "outputs": [
        {
          "output_type": "stream",
          "name": "stdout",
          "text": [
            "특성 클래스 확인 >> ['가나다라마' '아마자나가' '아자바하나' '아카나다하' '자다가나라' '자다나타하']\n"
          ]
        }
      ]
    },
    {
      "cell_type": "markdown",
      "source": [
        ">>### (3) 문자열 타깃 데이터 원핫 인코딩"
      ],
      "metadata": {
        "id": "_MUgIyfGAamQ"
      }
    },
    {
      "cell_type": "code",
      "source": [
        "from sklearn.preprocessing import OneHotEncoder\n",
        "\n",
        "# 여러 개 열이 있는 특성 배열 생성\n",
        "str_feature = np.array([[\"안녕\",1],\n",
        "                        [\"저녁\",3],\n",
        "                        [\"안녕\",1],\n",
        "                        [\"점심\",1]])\n",
        "\n",
        "# 기본값 : 희소배열 반환, sparse = False 지정시 밀집 배열로 반환\n",
        "one_hot_encoder = OneHotEncoder(sparse=False)\n",
        "\n",
        "# OneHotencoder : 입력 특성 배열 모두 범주형으로 인식\n",
        "one_hot_encoder.fit_transform(str_feature)\n",
        "\n",
        "# categories_ 속성으로 클래스 확인 가능\n",
        "one_hot_encoder_data = one_hot_encoder.categories_\n",
        "\n",
        "print(\"One Hot Encoder data >>\", one_hot_encoder_data)"
      ],
      "metadata": {
        "colab": {
          "base_uri": "https://localhost:8080/"
        },
        "id": "eP6eCssU_879",
        "outputId": "ff84b5d9-2c4f-437f-8652-3f46bfe1e120"
      },
      "execution_count": null,
      "outputs": [
        {
          "output_type": "stream",
          "name": "stdout",
          "text": [
            "One Hot Encoder data >> [array(['안녕', '저녁', '점심'], dtype='<U21'), array(['1', '3'], dtype='<U21')]\n"
          ]
        },
        {
          "output_type": "stream",
          "name": "stderr",
          "text": [
            "/usr/local/lib/python3.10/dist-packages/sklearn/preprocessing/_encoders.py:868: FutureWarning: `sparse` was renamed to `sparse_output` in version 1.2 and will be removed in 1.4. `sparse_output` is ignored unless you leave `sparse` to its default value.\n",
            "  warnings.warn(\n"
          ]
        }
      ]
    },
    {
      "cell_type": "markdown",
      "source": [
        ">>### (4) 순서있는 범주형 데이터 특성 인코딩\n",
        ">>- 수치값으로 변환\n",
        ">>- 문자열 정수로 매핑하는 딕셔너리 만들어서 특성 적용"
      ],
      "metadata": {
        "id": "BY7DyXlmCNDj"
      }
    },
    {
      "cell_type": "code",
      "source": [
        "# 판다스 데이터 프레임의 replace() 사용\n",
        "# 문자열 레이블을 수치값으로 변환\n",
        "\n",
        "import pandas as pd\n",
        "\n",
        "#data frame / 특성 데이터 생성\n",
        "dataframe = pd.DataFrame({\n",
        "    'Score' : [\"Low\", \"Low\",\"Medium\",\"Medium\",\"High\"]\n",
        "})\n",
        "\n",
        "#매핑 딕셔너리 생성\n",
        "scale_mapper = {\n",
        "    \"Low\" : 1,\n",
        "    \"Medium\" : 2,\n",
        "    \"High\" : 3\n",
        "}\n",
        "\n",
        "#특성을 정수로 변환\n",
        "data = dataframe[\"Score\"].replace(scale_mapper)\n",
        "print(data)"
      ],
      "metadata": {
        "colab": {
          "base_uri": "https://localhost:8080/"
        },
        "id": "oUZkCaBnAu5P",
        "outputId": "5ebcf0d4-91a1-4d8c-9089-97c020132d6f"
      },
      "execution_count": null,
      "outputs": [
        {
          "output_type": "stream",
          "name": "stdout",
          "text": [
            "0    1\n",
            "1    1\n",
            "2    2\n",
            "3    2\n",
            "4    3\n",
            "Name: Score, dtype: int64\n"
          ]
        }
      ]
    },
    {
      "cell_type": "markdown",
      "source": [
        ">>### (5) 순서있는 범주형 특성 인코딩"
      ],
      "metadata": {
        "id": "TJc5YEncI0jf"
      }
    },
    {
      "cell_type": "code",
      "source": [
        "# 순서있는 범주형 특성 인코딩\n",
        "\n",
        "from sklearn.preprocessing import OrdinalEncoder\n",
        "\n",
        "features_array = np.array([[\"Low\", 10],\n",
        "                           [\"High\", 50],\n",
        "                           [\"Medium\", 3]])\n",
        "\n",
        "ordinal_encoder = OrdinalEncoder()\n",
        "ordinal_encoder.fit_transform(features_array)\n",
        "ordinal_encoder_data = ordinal_encoder.categories_\n",
        "\n",
        "print(\"Ordinal Encoder >>\", ordinal_encoder_data)"
      ],
      "metadata": {
        "colab": {
          "base_uri": "https://localhost:8080/"
        },
        "id": "SjhxxRL5C9Gc",
        "outputId": "2e7276c2-4792-4464-d544-e9848d50a23c"
      },
      "execution_count": null,
      "outputs": [
        {
          "output_type": "stream",
          "name": "stdout",
          "text": [
            "Ordinal Encoder >> [array(['High', 'Low', 'Medium'], dtype='<U21'), array(['10', '3', '50'], dtype='<U21')]\n"
          ]
        }
      ]
    },
    {
      "cell_type": "markdown",
      "source": [
        ">>### (6) 순서있는 범주형 특성 인코딩\n",
        ">>- 특성 딕셔너리 인코딩 "
      ],
      "metadata": {
        "id": "ERnfwSeYI4gN"
      }
    },
    {
      "cell_type": "code",
      "source": [
        "from sklearn.feature_extraction import DictVectorizer\n",
        "\n",
        "#문서에서 단어의 사용빈도 나타내는 딕셔너리 정보 입력받아 Bow 인코딩한 수치 벡터로 변환 \n",
        "#딕셔너리 생성\n",
        "data_dict = [{\"Red\":2, \"Blue\":4},\n",
        "             {\"Red\":4, \"Blue\":3},\n",
        "             {\"Red\":1, \"Yellow\":2},\n",
        "             {\"Red\":1, \"Yellow\":2},]\n",
        "\n",
        "#DictVectorizer 객체 생성\n",
        "dictvectorizer = DictVectorizer(sparse=False)\n",
        "\n",
        "#딕셔너리를 특성 행렬로 변환\n",
        "features = dictvectorizer.fit_transform(data_dict)\n",
        "print(\"특성행렬\")\n",
        "print(features)\n",
        "\n",
        "#특성 이름 확인\n",
        "feature_names = dictvectorizer.get_feature_names_out()\n",
        "print(feature_names)\n",
        "\n",
        "dict_data=pd.DataFrame(features, columns=feature_names)\n",
        "print(dict_data)"
      ],
      "metadata": {
        "colab": {
          "base_uri": "https://localhost:8080/"
        },
        "id": "HRZwq42ZGlgy",
        "outputId": "264f32b3-4299-4426-d540-3a9159468b5d"
      },
      "execution_count": null,
      "outputs": [
        {
          "output_type": "stream",
          "name": "stdout",
          "text": [
            "특성행렬\n",
            "[[4. 2. 0.]\n",
            " [3. 4. 0.]\n",
            " [0. 1. 2.]\n",
            " [0. 1. 2.]]\n",
            "['Blue' 'Red' 'Yellow']\n",
            "   Blue  Red  Yellow\n",
            "0   4.0  2.0     0.0\n",
            "1   3.0  4.0     0.0\n",
            "2   0.0  1.0     2.0\n",
            "3   0.0  1.0     2.0\n"
          ]
        }
      ]
    },
    {
      "cell_type": "markdown",
      "source": [
        ">>### (7) 누락된 클래스값 대체 - 최근접 이웃 KNN\n",
        ">>- 머신러닝 분류 알고리즘 훈련하여 누락된 값 예측\n",
        ">>- K최근접 이웃 KNN 분류기 사용\n",
        ">>- K최근접 이웃 KNN 사용전, 정규화 필수\n",
        ">>- K 갯수 선택 문제 : 과대/과소 적합 피하는 알맞은 K값 선택해야함"
      ],
      "metadata": {
        "id": "YJt9JPPPKtAC"
      }
    },
    {
      "cell_type": "code",
      "source": [
        "# 누락된 클래스 값 대체\n",
        "\n",
        "import numpy as np\n",
        "from sklearn.neighbors import KNeighborsClassifier\n",
        "\n",
        "# 범주형 특성을 가진 특성 행렬 생성\n",
        "x = np.array([[0, 2.10, 1.45],\n",
        "              [1, 1.18, 1.33],\n",
        "              [0, 1.22, 1.27],\n",
        "              [1, -0.20, -1.15]])\n",
        "\n",
        "# 범주형 특성에 누락된 값이 있는 특성행렬 만들기\n",
        "x_with_nan = np.array([[np.nan, 0.87, 1.31],\n",
        "                       [np.nan, -0.67, -0.22]])\n",
        "\n",
        "#k=3, 예측수행시 가장 가까운 3개의 이웃찾아 거리에 따라 가중치 부여하여 예측함 \n",
        "clf = KNeighborsClassifier(3, weights='distance') \n",
        "\n",
        "#데이터 출력\n",
        "print(x[:,1:])\n",
        "#라벨출력\n",
        "print(x[:,0])"
      ],
      "metadata": {
        "colab": {
          "base_uri": "https://localhost:8080/"
        },
        "id": "xKRWBAh2K1mj",
        "outputId": "0622e451-5026-4054-98b3-f3fa0b8e0015"
      },
      "execution_count": null,
      "outputs": [
        {
          "output_type": "stream",
          "name": "stdout",
          "text": [
            "[[ 2.1   1.45]\n",
            " [ 1.18  1.33]\n",
            " [ 1.22  1.27]\n",
            " [-0.2  -1.15]]\n",
            "[0. 1. 0. 1.]\n"
          ]
        }
      ]
    },
    {
      "cell_type": "code",
      "source": [
        "#훈련\n",
        "train_model = clf.fit(x[:,1:], x[:,0])\n",
        "\n",
        "#누락된 값 클래스 예측\n",
        "imputed_values = train_model.predict(x_with_nan[:,1:])\n",
        "\n",
        "#예측된 클래스와 원본 특성을 열로 합치기\n",
        "x_with_imputed = np.hstack((imputed_values.reshape(-1,1), x_with_nan[:,1:]))\n",
        "#두 특성 행렬 연결\n",
        "data = np.vstack((x_with_imputed,x))\n",
        "\n",
        "print(data)"
      ],
      "metadata": {
        "colab": {
          "base_uri": "https://localhost:8080/"
        },
        "id": "PNHraNVkL95i",
        "outputId": "4068da00-84d6-4c31-b734-c589b4b8de1e"
      },
      "execution_count": null,
      "outputs": [
        {
          "output_type": "stream",
          "name": "stdout",
          "text": [
            "[[ 0.    0.87  1.31]\n",
            " [ 1.   -0.67 -0.22]\n",
            " [ 0.    2.1   1.45]\n",
            " [ 1.    1.18  1.33]\n",
            " [ 0.    1.22  1.27]\n",
            " [ 1.   -0.2  -1.15]]\n"
          ]
        }
      ]
    },
    {
      "cell_type": "markdown",
      "source": [
        ">>![image.png](data:image/png;base64,iVBORw0KGgoAAAANSUhEUgAAASUAAAFwCAYAAAD+JG0zAAAgAElEQVR4nOzdd3gU57n38e/MdvXeECB67x3TsQFjcMO9xSVxcux055yUk/eknSQnvduJk7h3bNyNbcDYdDAgihAqqKDe+2rrzLx/yMEmtoRouyPp/lwXly9Lo917VtrfPvPMU5SsJTcYCCGESajhLkAIIT6pT4RSRkoiD9x9I5NGD//U90ZlZfLte29hcHpKGCoTQlxofSKUGppbcTjsfPn2a4mOdJ36usvp4Kt3XEeE00ldY3MYKxRCXCh9IpT8gSDPv7GZlMR4Ll8899TXL5s/g2GD03h0w1v4/IEwViiEuFD6RCgBlFTW8OLGrdyy5lIGpSaRnpLIPdev4YmX3+FkZW24yxNCXCDWcBfQW7pusHHbPpbOnc7d61aj6Tp1jc288d4uDENuIArRX/SZlhJAU2sbj23YyJpl81mxcBZ/fOIlOr2+cJclhLiA+kxL6V8OHMvncF4RLW3tHC0oDnc5QogLrE+1lAA0Tcfr9eH2eMNdihDiIuhzoSSE6N/6XCgZhoFuGNK5LUQ/1ef6lIKazqMvbcQfkHFJQvRHfS6UDMPgcN6JcJchhLhI+tzlmxCif5NQEkKYioSSEMJUJJSEEKYioSSEMBUJJSGEqUgoCSFMRUJJCGEqEkpCCFORUBJCmIqEkhDCVCSUhBCm0qcm5CqKwqTRwxg/MguP18/7+7JpbXeHuywhxAXUp0LJarGwatEc/uOWq6lrbCavuExCSYh+Ri7fhBCmIqEkhDAVCSUhhKlIKAkhTEVCSQhhKhJKQghTkVASQpiKhJIQwlQklIQQpiKhJIQwFQklIYSpSCgJIUxFQkkIYSoSSkIIU5FQEkKYioSSEMJUJJSEEKYioSSEMBUJJSGEqUgoCSFMRUJJCGEqEkpCCFORUBJCmEq3+75ZVJW05AQS4mJQVZWqmnoamlsx/vWDFgsZqUnEx0bT3NpORU0dum6c+vlIl5PMtGTsNhuVtQ00tbZd7HMRQvQD3YbSrMljuWvdarw+H06HA6fDxu8ee5FDuYXYrFZuWL2ElQvn0NbhJiE2mg3vbuOld7ZhGAYpifF85fZrSUtOwNDBMHR+88gLFJSWh/LcRB+i0PXHqAAGEPzov2Lg6TaU8opO8uO/PE51XSN2m4Xv/ccd3H7lZRzLL2bCqCxuXnMpP//rU+w9nMuiWVP5/v13sDv7GDX1jVx/+RLSkhP4/u/+QWenl2/cfSNfuvlKHvi/BzEM+VMTp0sBFikwT1FJBBox2GsYbDOgJtzFiZDrtk+ppd1NZU09GAa6Dj6fn4CmoagKc6dOoLK2gd2HcglqOruzc6isbWDBjEk4HQ4WzpzM29v2UdvQTHunh1c2bWfC6GGkJcX3WIzFomK1WHr8pyrKBX8RRPhMAH6rqvxEtbBWUZivKKxVVH6oWviNqjI13AWKkOu2pQQQFx3JVZcuYMywIQwdlMYv//4sum6QNSiV4vIqdF0HwOcPUFZVw6C0ZGKiIkiIjeHEycpTj9PU2kanx0dKYjzV9U2f+VwJsTHcdMUyEuKiu61HVVWmjx91LucpTCgN+L6qMuMzPmiswExF4TuqygO6TuWnjhD9VY+hpKgWIpxOAIKaRmx0JIoCNpsNnz9w6jjdMAgENJx2OzabDUVRCAQ+/r6m6RiGgcNm6/a5YqIiuPqyhQwdlNZ9PXQFk+j7FGCpAlN7aPkqwERghQKPylX/gNFjKDW3tvHQs6+iKApXX7qAO69dxbHCEhqbW0lOiPv4QawW4mOjySs+SWt7B4FAgKSEWCjq+r7Tacdht9HS4e72uRpbWvnLUxuIjors9hiLqrJs3nQWzZpylqcpzEYFZioqljMcZ1UUZqLyqKGHoixhAt2GkqIoKArouoFhGFTXN+Kw21FVlaMFxXzu2lUkxMbQ1NpGYmwMY4cPYf3GrXi8PvKLy5kzZTw7D+RgGAYTRmYRDAapqK7vtpB2t4dXt+zssVib1UpqUryEUj9gAPZeHtvb40T/0G0oTR8/imnjR5FbdBKH3c66lYv48GgeLa3t7DtynHUrF3P/bdfw/t5DXL5oNpV1DRw4VoA/EOS1rTv52h3XUVFTT1uHm9uuWsGGd7fT6fWG8tyEiRnAccNghaLQ060L3TDIkzu2A0q3oVTX1EJUZASrFs5G1w227snmne37CGgatQ3N/OQvT7BuxSJWL55DXVMLf35qAx6vD4Dt+4+goLBkzlRUVeWldz7g9fd2heykhPkZwGbD4DrDILObfiUDqALekVAaULoNpfLqOn7/2HqsFgu6YZy60/YvRWWV/Oqfz2G1WggEgqd9LxjUeG/PQT748BCKohAMahenetGnnQB+Yxh8B0j5txaTDtQaBn8xDHLDU54Ikx47uqHrrlt3DMP4VCB9kqZJ5+RApqoqqqKc6p/ko9gxMMAwMAx4R9ep0nVuUBWmohAHtACHMXhJNzhIV0CJgeOMoSREdywWFbvVit1uJyE2muSEOJLiY0mIiyYqIoKYqAiiIiNwWK1YbRZsFmvX8JGgRiAYxOf309bRSYe7k9yOTg63tNLS3EpVUzOVHZ10BIIYwSDocvk2kEgoiV5RFAWn3UZ0VCQjhmQwOiuTrMx0hmWmMyQjlQinE1VVUFUVRelqJXd0euhwe/AHAwSDGsGghqIoWK0WbFYLDrud6EgXES4XigKGbqAbBkFNo6W1ndLKGkoqqikuqyK/tILy6jo8Xh/+T4yBE/2PhJLolt1mJTY6ivEjhzJt/Gimjh/FqCEZOBwOVAUamto4WV3De7sPUllbT21DE7WNzTQ0tdLp9RIM6mi6hmF0Xer/a96j8tElnaooXVOLrFZioiJITYwnJTGBtOR4BqenMDQjjbXLLiEqwoWma7S2uzl2opTs3EIO5RZSXF6Fu9OLpssFXn8ioSROY7dZSU6IZ+7UcSyYMZkZE8cQ6XISCAbJKy7j5U07OF50kuNFpTQ2t+ELBPD7A+jneYesrrH5tKlJVouK3WbD5XQwKC2Z8SOyGDdiKJPHjmDBjElgQHVDI3uyj7HjQA5H8opobe+QgOoHJJQEqqoSHxPFnCnjWbFgFnOnjsdht1Pb0MSmnR+y70geR/OLaWptw+cPhGSlh6CmE9R8dHp9NLa0cSSvCIuq4nTaGZSSxPTxo5k7bQIrF85h3col1De18P6+bDbt2E/uiVLcHhkT11dJKA1gdpuV4YMzWLN0PqsWzSYpIY66hmY2vLuNbfsOc+yjN/e/DwcJF03XcXd6KSitoKC0gpfe3UZCbDQzJo5h+bzpXLFkHtevWkpBaRmvbt7Jlt0HqG9qNU394aDYbdgyU7CmJ6FYrWjNbfjLqtFb3WDS8V8SSgOQw25j2vjR3LRmGZdMnwSGwc7sHN7cupu9h4/T7u7sE+teBYJBahubeeuDPby740PSkhJYPGcqVy6bz3fuvZV7b1zLG1t38/KmbZysrO1xeEt/ZM1IJuqy2diHpIHVgqIoGLqO1tpB547DeLLzwYRjCCWUBhCH3cbMSWP53DWrmDNlHM2t7Tz7xmbeeG8XxeXVffpNG9Q0Kmrrefq1TWx45wOmTxjNulWLuWnNcq5duYiNH+zh+Te3UlRWOSD6nawpCcRcvRhrWiLKJ0bMKxYL1oRYIlfMBVXFs++Y6VpMEkoDgNVqYdKo4XzhxjUsmj2V2oYm/vLUBl7dspO6xpY+0So6Gx6fn50Hc9hzOJexw4dw8xXLWbPsElYvnseGd7fxzBubqapt6HfnfYpVxTV7HNbUhNMC6ZMsTjsRcyfiL6pAa2gJcYE9k1DqxxRFYXB6Cl+4fg1XLr+ENncnf3riJdZv3EpTa3u4y7voNE3nWGEp//PHR3jqtU3cte5ybl6znCuWzuPRF99kw7vbaXd3hrvMC051ubANTUc5w9pjamwUtsxkCSURGpERTq6+dCH33riWqEgXz7/1Ho+89BY13az82Z/pukFecRnf++3feWHjVr5001X81xduYfXiefzusfXsP3qcYD+aEqVYVBSn44IdF2oSSv2MosCIwYP4z8/fxCUzJ7PvyHH++PiLHD5+YsDvDqJpOgdyCvjyj3/P6sVzuf+2a/jbT77Foy+9xWMbNtLS1hHuEi8IIxhE7+iEHpaWBjACHx1nMhJK/YjDZuPyxXP4xl03YLVa+OXDz3QtvOfzh7s0U/H5A7y8aTu7Dh7l63dez93XrWbmxDH86p/PcjS/pM8PIdA7vfgLy7GlJ6NYurmEMwy0xhYC5bWhLa4XLHFZE34Y7iJ6y6KqzJs2gVmTxuL2eHl503YaW1rDXZYppCUl8J0v3soXb76SgtJyvvfbv7Npx4cE+vAdtYvN7fHywb7DVNU1cOklM7lq+QICQY2i8kr8Pax+YXoGaE2tWFMTsMRHd63N8IkOb8Mw0Ns76di0j2BlXdjK7I60lPo4VVGYNWks//OVO0lPTuTRlzbyyPo3ae1hPXTxsaCm8fKm7eQUlvDNu27gm3dfz9SxI/jtoy9QUdP98s1mp7e6aXvlAyIXT8cxZghKhKtrnJI/QLC2Cff2bPwnKky546eEUh9ms1lZtXA23/3ibbS7O/na//6RXQdzBsQ4nAutsLSC//zFg9xy5WXcvW41ackJ/PTBJ8ktKjXbMJ5e09vctL++nc6dMViS4lAsKnpbJ4G6JjBxS1BCqY+KdDm5Ze2lfPHmq8gvLuN//vBPisqqwl1Wn9bR6eWf69+isqaBB+65kd9898v874OPsyv7WJ/uZ9Ka2tCa2sJdRq/JJmp9UGJcDN+46wbuu/Uatn94mG/+7M8SSBeIpmm89cEevvvrv+Hz+/nFf32JK5fNx26Tz+9QkVDqY1KT4vn+fXdwzYqFPP/mFn7wx0eobWwOd1n9imEY7D18nG/94kEKSyr4wVfu4rarVuB0dL+ZqrhwJJT6kKT4WL597y0smDmZvz77Kr9//EXaTDjOpL8oLK3g27/6Kzv2H+HLt1/LDauX4bTLLnQXm4RSH5EQE823772FRTOn8PDzr/PEy+/glfFHF11tYzM/+vOj7DqQw1duv5brLl+Mwy4tpotJQqkPiI2K5D+/cDPL5k7nny++xVOvvovPL+tUh0pDcxv/++AT7D+az5dvu5ZrLluI3SbBdLFIKJlcpMvJN+++kVWLZvP4y2/z+IaNpzb9FKFT09DETx96kiP5RXz59nWsXTYPq8US7rL6JQklE7NZrdxxzSquWbGQZ17fzD9eeJNOCaSwqaip56cPPcmJkxXcf9u1zJs6occtx8W5kVAyKVVRuOySGdxz3RW8t/sADz/3Op1eWXc63E5W1vKbR57H3enha3dex8iszHCX1O9IKJnUpDEj+MZdN1JaWcOv/vm8TBsxkWMFJfzpyQ2kJsXzlTvWkRgbE+6S+hUJJRManJbMA3ffiNVq4Wd/fYLKPjwHqz/SDYP392Tz2IaNzJs6gbuvvwKnQ4YKXCgSSiYTFeHiizdfxdgRg/nD4+s5lHsi3CWJz+APBlm/8X02frCbG1YvZfXiOXSz8qw4SxJKJqKqCpcvmsOKBbN48e0PeOuDvee9yaO4eNo6Onn4udcpKCnnSzdfxcih0r90IUgomcjY4UO567rV5JeU88Qr7+D3B1ABFxANRAEyOsZcKmsbePCZl4mOjOD+264hKsIV7pL6PAklk4h0Obnz2lVER0bwt+depba+iRTgRgV+pSo8pqo8qKp8XVGYiizvYBYGsO9wHk+/vpmlc6Zx+aLZqKpcx50P+ds2iaVzp7Nk9lRe2LiVD4/kMQL4tqIyT1X4ZBfqbEXhcsPgQd3gVQxkXHf4BYJBXnjzPRbOnMyd165mf04BJRXV4S6rz5KWkgmkJSVwxzUrKa+pZ/3G93H6A3xNVVn4b4EEXb+wTEXhq6rCzHAUKz5TXVMLDz/3GqnJ8dy0ZpnMjzsPEkphpihw5fJLGJ6ZztOvb6Ksuo7pCsyl519OqqJw1WeElgifHQeOsmXXAVYvnsuk0SPCXU6fJaEUZkMy0rh25SIOHT/B+3sOYRgGY1GIOsP9ZQWYiIIzNGWKXvD5Azz9+mYM4PrVS4iMkN/OuZBQCiMFuHbFIpLiYnn2jS00t3UtWdrbX4r88swn90Qpb3+wl4UzJjN9/Ohwl9MnddvRbbVYGDNsCGOGD8Zms5JfXEZOYQnBYNeWPREuB9PGjWJIRipVdY3sO5x72v5iaUkJTJ8wmqgIF0cLiskvKe/T6xxfDJnpyaxZMpd9R/L48MjxUwvU5xsGnYZBdA+tJQM4bhjI9FxzCQY1Xn53G5fOn8GVyy/h4LEC3B6Zs3g2uv2wzUhN4ut3XsfwwRkMTkvm/93/Oa69bCGKAi6HnftvvZZ7rr+CpIQ47lx3OQ/ccxM2a1fGDR+czk++fg8LZk5i+OAMfvjVu1gye2rITqqvWLvsEhIT4njpnfdP29P+AHDAMNB7GDfZaBi8JqFkSifKKtmy+yDzpk1g0tjh4S6nz+m2pVRV28B3f/MwTa3tAHyupY3VS+bx9vZ9jBuRxeI5U/ivXzzE8aIyRg3N5KEff5PXtuzk2IkSrlu1BLfHy8//+hReX4Bb1i7n7utXs33/EQJB827tEkpJ8bFcdekCDuUWsj8n/7Ttt5qB3xkGkRhMA6yf3EgQqDcM/mYY7A5xzaJ3AkGNN7buZuWCWaxaMIeDxwrxy6J8vdZtSymoaTQ0t6LrOoZhEBMdSWNLK4GgxsyJo6moruN4URmGYVBSUUXuiVLmTZuAw25n1qRxvL/3EO1uD4FgkB0HjpIQE0NWZlq3hSiKQoTLSVSEq8d/tn6yq8Si2VMYnJbCK5u309b+6RUAjgPfMnR+Z+jsMQxKDYNcw+B5Q+cBXec5w0AWwzWvgtIy9h45zoKZk8jKSA13OX1Kr97hI4YMYsUls/j5X58iEAiSlpxIRU0dxkedIIGgRk1dI6mJ8URHuIiJjqCi5uPtgDs6Pbg9XhLjYijs5jlSE+P51udvIi05ods6FBQGZ6T0/uxMyuV0sHbZfMqqatmTndvtJqXVwD8NeNrQsQI64AMZMNkHeLx+3t25n4UzJ7NkzjQKSyvMuBmtKZ0xlFIS4/j+fbezY/8RPjyS1xVEhgHG6Z2whgLKv4bXf9arr3S1hrpjt9sYnTWYoT19qij0i0Fp40YMYeKoYbzw1lbqzrA9kg7IfiV9U/axAorLq1k4czLrN75Pc1t7uEvqE3oMpeSEWH76wBeorm/kL0+/jC8QQFUUahubGTcyq2tvcsPAarWQmpRAQUk5HZ0e2t2dZKQmQU4+AJEuF5EuB82t3f9Sahua+N5vH+5xCxur1cINly/lmhWLzvF0w8+iqiyYMRm7zcY72z+UVQD6sabWdnYeOMId16xizPDB7DmUG+6S+oRuQykxLoYffuUumprb+OmDT9LR6QG6Frg6eKyQlQtnMzwznaLyKjJSkpg0ahhPvfwuXr+f/Tn5LJo1hXd3fEggEGTW5LF0enw9zgfy+QPkFJT0WKzNamXRrCnneKrmEB0ZweLZUzhaUExxuexqe1YUUJwOlI9ay4YvgGHiNct1XWf3oVxuWnMpi2dPYe/hXOQz6My6DaU7rlnJghmTeOnd7Xzp5qsAqG9q5sW3P+BIfhFHC0r4f1/+HDv2H2XhzMkcyMnncN4JNE3ntS07+NFX7ua//+N2GppbWTZ3Gv9Y/6ZsCwSMHjaYzLQUHtvw9qmgF2emRrlwzRiHY9wwLPExgEGwsRVfbgme7DwMtznHAhWVVVJUVsm08aOJj4k+dTdbdK/bUNq86wAnq+r4ZLS3tHUQCGr4AwF+/tcnWTBjMoPTU3jurS18sPcQ/o9u9x8vOsm3fvkg86dNwmm38aM/PU728e66uAcORVGYMXE0NpuNXdk54S6nz1Djooi5chH2EZko6sc3jO0uB7aMJGyZKbS/tRO9zXzrmLe7Pew7ksdd6y5nSEaqhFIvdBtKR/OLOZpf3O0Ptrs9bNy29zO/Zxhduz6crKw9/wr7kagIF9MnjKGkvIqyyppwl9M3WCxELpyKY+RgPrXerKKgWCw4xg5Fa2mn4509mO36SNd1DucVEtRWMGvyOA4dl+WNz0SmT4VQYlwMY7IGk1NQLLuT9JIlMQbH6KGfDqRPUCwWHKOHoMZHh7Cy3issraCpuZVp40bKBpa9IKEUQmOGD8HhsHO0oAS9pzkk4hQ1KgI1KqJ3x0We+bhwaO/oJK+4nKzMdJISYsNdjulJKIXQuBFDUBTIKez+slj8G13v+nehjgsDnz/AkfwiMlOTSE9ODHc5piehFCIRLgdZmenUNjRT39QS7nL6DK25nWBja4/HGIZBsKEFzaSdyLphUFpZTVDTGDV0ULjLMT0JpRCJiohgaEYqpRXVdMpSFr2mt7nx7D+O3s1wEsMw0D0+PNn5GB3mHWJRUdtAa0cnY4cPDXcppiehFCJx0VGkJsZzsrIGr0/Ga/WaYeDJzse9LRu9oxND18EwMAwDQ9PR29y4t2XjPWzuISf1Dc00tbYxYkgGFou87XrSP6bc9wFpyQmoqkplXcOpicyilwJBOrcfIlBciWNcFtaUBAzDQKtpxJtXSrC6gR4XnzIBXyBAVW0DWYPSiI2KlPFKPZBQCpG05K43Um19U7hLCSm7zUpGahJJ8bEoKDS1tlFZ24DXd5YLr+g6gfJaAuV9c+ybputU1NQzddxIYmOiJJR6IKEUImlJXaFUc4ZVAfqToRmp3HXdapbOmUZqUjwKCnVNLew8eJTHX9pIXnHZgFnOQ9N0quoaiIuOIjYqMtzlmJqEUojExUSh6Tqt7R3hLiUksgal8ctv/wezJo097euZacnccPlSJozM4nu/eZijZ5iE3V8YhkFjSxtOh0O29j4D6XELAZvVQnRkBO5OD/5A/+/kttmsfP6GNZ8KpH9RFIXxI7P48u3rcDoGzs51breHoBYkNjoq3KWYmoRSCNhtNiJcTtrcnQQ1cw7wu5DSEhNYMmdaj8eoqsr08aMYNTQzRFWFX6fXi9cXID4mqqdZMwOehFIIWFQVu82G1+cfENtMRUW6SO7FdIqoyAgS4wfOtAt/IEhQ03A6HXTt+ic+i4RSCKiqis1qIRDUMEx+6/pC8AcCvRog6g8E6PQOnIGkmqah6zoOm1UiqQcSSiGgqgpWi4VgMIgxAO431TU2cyivqMdjunbBqaboZGWIqgq/oKaj6Tp2m00aSj2QUAqRrgGTA+Mvsd3t4ZEX36Ku4bOHP/zrTtTjL79NY0tbiKsLH0VRUOiaCzcAPpvOmYRSCOi6QVDTsFmtPe7o0p/sOnCUH/zpUY4VluDx+tB1HV3X8Xh9FJSW8+t/PMsbWwfWdppWi4qqqvgDsiFrT2ScUghouk4wqOFy2gdMKGm6zjvb9nI0v5j508YzYmgmqqJQUlnNnkO5nKysGXBrSlksFiwWC35/QBpKPZBQCoGgpuH1+UmIi8GiDpzGqQFU1taz/u0Pwl2KKTjsNmxWC26PR+Y/9mDgvEPCyB8I0NHpISYqAqtVlkMdqCJcTpwOO81tA2NU/7mSUAoBTdNp7+zE5XT2uNmm6N+iIyNQUGiT9dl7JKEUIs0t7aiqQkJcTLhLEWGgKgrJCXG4PV463LIRe08klEKkpqEJBYXUpPhwlyLCwGJRGZSSRGtbB63t0lLqiYRSiFTXN6IokJYkC8cPRBaLhcy0ZJrb2wfMShHnSkIpRGobmvEHgmSmJaMOoDtwokuE00F6ShJ1jS20uc27lrgZyLsjRNo63KeWQ41wOsJdjgix9OQE4mKiKCwtl+EAZyChFCIdnR5OVtUwdFAakbLI14CTkZpMdGQEeUVl4S7F9CSUQsTnD1BUVk18bDSZqUnhLkeEkEVVGTU0k2AwSElFdbjLMT0JpRDKPVGCrutMGjM83KWIEHI67EweO4Ly6jqqGwbWxhHnQkIphIrLq2htdzNh1DBsMrJ7wEiMi2H4kAxOlFXSLLuYnJGEUgg1t3WQe6KUSaOHEx8rgygHirEjhhIfHcX+nHzp5O4FCaUQ8nh9HMjJJzUpgdHDBoe7HBECNquFaeNH4Q8GOXz8RLjL6RMklELswLECPF4fC2ZMksXjB4DY6ChmThxDXnEZFTX14S6nT5BQCrGyqhryS8qYP20CcTHR4S5HXGQTRg0jMy2ZfUeO09EpgyZ7Q0IpxNweL1v3ZjN8SAYTRg4LdzniIrLZrFwyfSKarrNj/9Fwl9NnSCiFmGHA7oPHaG13c8XSeVgt8ivor1IT45k/bSJH8ooolfFJvXbGd4SqqiQnxGG1fHwL22G3MSQ9haGD0nDYbZ/6mbjoKIZlppOWlCDzvD5DaWUNew/nsmjWZAanp4a7HHGRzJ8+kZSkeLbuycbdiy2nRJcel8MdPjidu667ghkTRnP/j35HSXk1aUkJfO3O6xicnoqqQFVdIz//69M0trSi0PWL+PyNa7GqKjarlXd27OPJV98lGNRCdErmFwgGeX3LLlZcMotl86fz6ItvDbj1qvu7mKhILrtkJtX1jezKzgl3OX1Kj82YEUMGkV9cRkJsNHabDVVVufu61cRERfLVH/+er/7kj0RFurjjmpUAJMbH8cA9N7J5534+/9+/5PePv8jVly1kytiRITmZvmTvkePkFZexdul8khPiwl2OuMCmjhvJpNHDeW/3QarrZRT32egxlDbt3M/6jVtPtXISYqOZN20CL7y1labWdhqaW3nujS1csWQuVouFGRNHoesGb2/bi88f4OCxfI4VlrBs7vReFaMoyhn/9RedHi/PvbmFkUMGsWjWFFS1/5zbQBfhdHD1pQvo6PTw7o4PB8RW7RfSWe1mkpqUAEBVbcOprxWXVREZ4SIhLoahGWnU1Deeun4OahonSiuZOWnMGR87LjqStcsXEBcd1e0xFovCjIlnfqy+YvOuA9x25WWsW7mYD/Yeoq6pJdwl9R2qgndb5pwAACAASURBVBoThSXaBYqK3ulFa22HQPi7CSaPHcG86RN5dfMOisqqwl1On3NWoWSzWNA+2ljxXzRdR9N0Ip0O7HYb/qB22ieDL+An0uU842PHxUTzuatXMjQzrcfj1H7UWmpp62D92x/wn/fcxNK501i/8f2u3VNFj9SYSCLmTcIxNgtLbBQoCrrbg7+0is5dRwlWhW+Qosvp4MbVy/B4fby5dTf+QCBstfRVZxVK7e5OrBYVl/PjHTkiXU5sVgst7R20tLUTGeHEZrXiDwRRUIiPjaGxF5MQm9vaeXTDRuJiIrs9RlVULpkxiTlTxp9N2aa2cdterlx+CTdesZxdB3Mol1G/PVKiI4i+egmOEZkon7jktcRG4Zw8Cmt6Eu2vfkCgrDYs9c2dMo4FMyfxwltbyS+RtZPOxVmFUm1jM63tbiaPHUnuiZMoisKsyeMorayltd1NXlEZN6+5lNSkBIrLuy7rJo4ext5DuWd87NZ2N0+/tqnHY2xWKy6no1+FUlNLG8++vpnv338HVyydzz/Xv0kgKNs6fyZFIXL+ZBwjBp0WSB9/W8GaFE/k8lm0PPU2hHh77JioSO64ZhUNza28vGm7bM99js5qEJHb4+WNrbu49rJFLJs3neXzpnPtikU89+YWdMPg2IlSSitquOf6K5g9aSw3r1lOQkw07+/Nvlj19wtbdh/kw6P5XLdqCeNGDg13OaalRDhxjBuG0sPYN0VVsGUkY81IDmFlXYG4Zuk8po0fzfqN78tibufhjKGk6Trv7TlIe4cbwzB4bcsOXt2ygzVL57N68VxefPt93nx/N9A1C/4Xf3+GDncnN6+9lCEZKfzqH89RUlFz0U+kL2t3d/LYSxuxWa3ccdVKoiMjwl2SKSk2K5YeLu8/Ps7Wq+MupBFDMrhr3WqO5Bfx2padaJrccTtXZ7x8CwY1/ucPj5z6f7fHx9OvbWL9xq0An2qillXV8n8PP4PDbiMQCKLJ7dBeOZCTz6tbtnPTFctYsWAWL2/aLreS/42h6+g+PxZbz3+2hqZh+PwhqgqiIpzcc90VxMdE8ZM/P0ZDc2vInrs/Ouc5IP5AsNtrZsMw8Pr8EkhnIahpPPfGFgpKKrjn+isYPSwz3CWZjtHpI3CypmsCYXfHGAZaSzvB6oZuj7mQLKrKygWzWbVoNus3bmVPL/pPRc9kYpqJVNU18vDzrxMd6eJLN11FXEz3Y7YGpGCQzl2H0Vo6PnMFR8Mw0D0+PHuPobeHZmvs8aOy+MKNazleVMajL23ELzcpzpuEksnsPnSMZ17fzIKZk7j96pXYbZ+e8DyQBcpraXtjG4HyWnSfH0PXMXQDIxBAa2jBvXU/noN5IallUGoyX719HU6HnT89+ZIMfr1AzmpIgLj4AoEgz7y+haGD0rjj6hWUllfzxvu7ZW3nfzHAX1BOsLYZe1Y61tQEUC1oTa34S6vQGlogBJObY6Iiuef6K5g8ZgS/f3w9+w4fv+jPOVBIKJlQa3sHf3nyZQanp/DNu2+koq6e7GOF4S7LVPTWDryHw/Oa2G021q1cxOolc9nw7nZe2bRD+k8vILl8M6nymjp+/Y/n0A2d79x7K0MyZN0lM1BVhcWzp3DntZfz4ZE8HnnxTTw+X7jL6lcklEzs0PET/O7RFxiWmc5/3nMTGcmJ4S5pQFMUhdmTx/G1O6+jtqmFvzy1gXrpR7rgJJRMzDAM3t62jweffoU5U8fzwD03kvbRSg0itBQFZkwYzXe/eBvo8Lt/Pk9+SXm4y+qXpE/J5IKaxjOvb8Jus/L5G9YQ0DR++8gL1DU2h7u0AWXymBH89323Y7db+dlDT7L3cK7cfLhIJJT6AH8gyBOvvIPVauXOa1cRDGr84bH11MvI4ZCYMCqL//nynURGRPCzh55g58EcWWLmIpJQ6iO8Pj+PbXgLq0XltqtWoCoKf3pyA9X1jeEurd9SVYUpY0fy/fvuICE2mp88+ATbPjwi66lfZBJKfUinx8cjL76FbhjcduVlxMdF89t/Pk/hycpwl9bv2KxWFs+ZwgN33YjVauV/H3qSD/YekvmIISAd3X1MR6eHR9a/yR+eeIkJI4fx0we+wMyJY/rV+uXhFuF0cN2qJfy/+z5HR6eX7/76b2zdc1DGIoWIhFIf1On18eLGrfzkz48TExnJzx64l8sumXna3nzi3MTHRPGFG9fw1TvWcbzoJN/9zd/Yn5Mvl2whJJdvfVQgqLFl9wEaWlr5zr238qOv3U1WZhrr39pKc1tHuMvrcxRFYeSQQdx701oWzZrCuzs+5MGnX5btkcJAQqkP0w2D7NxCvvPrv/KV29fxpZuuYsqYkTz0zCvkFpXKp3svOew2Lp03gy/ctJaE2BgefWkjz76xhdZ2CfdwsMRlTfhhuIvoLYuqMm/aBGZNGovb4+XlTdtpbJHb4i1tHew6mENru5sVC2dx2SUz8Pr8lFbWyHrfZ5CWlMB9t17DvTetpa6xmV/+/Vlef28nnbLNdthIS6mfaO/08PRrm8gpKOb+267lW5+/manjR/HI+rcoKq+SgX7/xm6zMmfKeO675WqGDxnEq1t28MTLb1NZ2yCvVZhJKPUjmq5zMLeQb//qr9yy9lJuXL2MaeNH8/Rr7/LGe7tpkcsRFEVhWGYat155GVcsnUdDUys//tOjvLf3IB5v6JbQFd2TUOqHGppb+euzr7LvyHHuum4137jzRi6dP5MnXn6HXdk5eEO4frWZpCTGs3rxXG5YvZT4mGhe37KTp1/bzMmqWmkdmYiEUj/lDwTZcyiXvKKTrFw4m1uvvIxff+c+dh3M4cnX3uVw7gm8/oERTglx0SydO52bVi9jWGY6B3Ly+clfHmf/0XzpczMhCaV+rqXdzfqN77Nt/xHWLruEG1cv5S8/+Dq7s4/xwltbOXCsoN926iYnxLF83jSuXbGYEUMHkVdUxv/84RG27z9Mu9sT7vJENySUBgDdMKiua+QfL7zO29v2snbpPK5cvoDff/+rHMk7wWtbdrLzwNF+sca0xaIyLDOdFQtmsWrRHAanpXCssJgf/+lxtu8/THNrO3KhZm4SSgOIrhuUVdXy0DOv8srmHay4ZBZrls3nB1+9i8qaerbuPcTmnR+SX1yGp4/1OyXGxTB1/CguXzSHuVMn4HTY2H80n788uYE9h3Jp63BLGPUREkoDkG4YVNY28NjLb/Py5u3MmjSWK5cv4NrLFnLr2kvJPVHK+3sPsftQDsXlVXR6zLnca1J8LGOHD2HR7KnMnz6RIekp1NQ38va2Pby+dTd5RSfx+QPhLlOcJQmlAcwwDFraOti0cz9b92aTNSiNBTMms3LhLL5085Xcd+vVFJ2s4MOcfPYezuXEyUpqGpoIBrWw1BvhcjIoNYkJI7OYN20iU8aOYFBaEs2tHRw6XsiDT73MgZx86ppa5G5aHyahdI4UlwNLXDSKzYrhC6C1tId0q+gLLRjUOHGykhMnK3n2jc0MG5TGnGkTWDJ7KlcsmcfnrllFY0sr5dV1HCssITv3BGVVtTS2tNHY0oY/cOFaJIoCkS4XiXExJCXEMjprMNPGj2L0sMFkpibjdDqorKnnaEExf35qA4eOn6C6rlFm8fcTEkpny2bBOXkUETPHY0mK6wolf4BgbSOevcfwHi8BrW+/OXz+AHkl5eSVlPPUq++SnpzIyKGDmDVpLJNGj2D5/JncsvYygppGU0s7jS2tVNU1UlVbT2VtA7WNTbS5O/F6/V3bt2s6mq6h6TqKomBRVSyqBavVgsthx+V0EBcTTUZKIhmpSQxKSSItOYGE2Bhio6PwB4PU1DVQWlnDG1t3cTCnkJNVNTS2tIX7pRIXgYTS2bCoRC6aTsT8yaj2j3euVVwO7FkZWFMTUaIi8OzLCcmGiKGgaToVNfVU1NTz/t5DWC0WkhJiSUtKIGtQOqOyBjFiyCAyUhIZO2IIsVGRREa4sFhU/P4AvkAAXdPRdP3UBGGLqqKqKlarBYfdhs1qwe8P0uZ209bRSWt7B4WlFZw4WUnhyQrKq+uobWympa0duSrr/ySUzoJ9+CAi5k48LZA+SXU5iFw0lUBZNcGqhhBXFxpBTaOmvoma+iYOHT8BgEJXf09UhIuoSBcRLieRLiex0ZFER0bisFuxWW3YbBYM3cAf1PAHAvh8flrb3bS53Xg8Pjo6vXR0dtLR6ZEO6gFMQqm3VAXnhOGoTkfPh0W6cIzN6reh9FkMwO3x4vZ4qZVdVsR5klDqLUXBkhDbi8MULIlxIShIXGxWIA0YCjiBFqAEaAYZ83QRSSj1lmGg92I6hmGA0U+nbQwkScBNisIaRSFdUbADHYZBIfCMYbDZMJDf8sUhodRbuoG/qALHmKEoPayFbQSD+IoqQliYuNASgG8qKlcpCrZP7McQqyjMBIYDscDzhoFM573wZOOAs+A9VoKvqBKjm1v+RlDDl1tCoFi2POqrVGC5onCFenogfVKConCHojA6pJUNHBJKZ8Fwe+h4ayfeY0Vond6ucDIMDE1D6+jEk51Hx+Z9GD65c9RXuYAlStd/e5KuwFzZ1uqikMu3s6Q1ttL+2nZsg1OxDU5BdTnROjwEymsIVtZh+KVB35fZgHTOHDZ2FNKku/uiOK9QinQ5mTAyi5SkeCprGzhWWII/0P/flIbPj/9EOf4T5eEuRVxgGtCbTZWCdN2FExfeOYdSpMvJfbdew+hhmZSWV3PTmuVs3nmAJ199F00Lz4RNIc6XB9hjGMz96I5bdxoNgwMyvPyiOOc+pVmTx7J49lR++fdn+fnDT/PQ069w05plZKYlX8j6hAipIPC2YbBH1+nuo9VtwKuGwdFQFjaAnFNLyaKqzJ82kWOFJRSWdt3+PnCsgPqmFmZOHM3JypqzfkxFUXA67Khq99fzNosVm1W6wcTFVQH8wjC4V9e5RFGIVRQsgB+Dmo8C6RnDQBbUvTjO6R2uKAqD0pLJKSg+9bVAMEh1XRPpKUnnVEhSfCz33Xo1KQndj4ZWFJXRwzLP6fGFOBuFwI8NgwmGwThFIRKox+CwAcVA312kxvzOudmhoHxq/Rrd0LH2MLCwJy6ngxkTxjA0I7WnJ8XRzWRYIS60dmAPXX1MInTOKZR0w6CuqYmMT7SKrBYLyfFxp7WezkZ9Uwv/9/DTRPQw4dVqsXDl8ku4fPHcc3oOIYT5nVso6TofHsnn8zdcQVJ8LA3NrQwdlMaQjFSycwvPqRCP18eugzk9HmOzWpk8dsQ5Pb4Qom8458u3vYdzuWLJXL597y0cOFbAsrnT2XHgCCdOyhQLIcS5O+dQamhu5WcPPcXSedNIiovl3R372LzzgCzOJYQ4L+d1f72itp6nXn0Xi2ohKAMmhRAXwHlPyDUMJJCEEBeMrBIghDAVCSUhhKlIKAkhTEVCSQhhKhJKQghTkVASQpiKhJIQwlQklIQQpiKhJIQwFQklIYSpSCgJIUxFQkkIYSoSSkIIU5FQEkKYioSSEOK8JcXHcs1lCz9z38fJY4azfP6MXm+PJqEkhDhvXp+fxbOn8u0v3HLa5h+Zacn8+Ov3EB8T3eudsyWUhBDnraPTw5+efImszDTWrVyMoijYbVa+dc9NHMkv5s2tu9B7uVWVhJIQ4oIoLq/iwadf4Y5rVjFuxFBuWL2MQalJ/PXZV/D4er99Z5/dA9tqsTAqKxO7vc+eghCm5vZ4KSmvxuhlC8cwYMvuA0yfMJoff/0ekuJi+N5vHqaqtvGsnrfPvqPjYqL4ydfvQdNlfXAhLobDeUXc/8Pf4T2LVo4/EGTzrgPcvPZSCkvLySksOevn7VOhZGAQDGqntnFy9bCbbigpCqfuLASCQWSX50+zqCpWqwVN02WjiU8w899OT7tVdyc2OpJ7rr+C5998j3nTJnDl8kt45vUt6Lre68foU6GkaTrv7NhHaWVtuEs5TWx0JPffdjURTid/enIDtQ3N4S7JdJbOncqapfPJzi3k2Te2hLsc00hJjOM/brkKXTd48OlXaGxpC3dJpzS1tBIIBHt9vNVi4Za1l+Kw2/jjEy+y59AxvvX5mzl8vIijBcW9f5xzKTZcDMPgWGEpxwpLw13KadKSE7hr3eXYbTY279xP4cmKcJdkOskJMaxZOp+y6lo2vPtBuMsxjRFDMrhr3Wp0vesDt6zKXB+4Z2POlHGsXjyXH/3pMVrb3by3J5tFs6fw5duu4Tu/eZjm1vZePY7cfRNCnLf0lES+eNOVvPn+HrJzCwHQNI2HnnmV1KQEbli1BKuld3EjoSSEOG9JcbFs23+EZ9/YjPaJ/qOq2gZ+9c/n8AeDve4D7lOXb0IIczpaUNxtv9HOA0fZeeBorx9LWkpCCFORUBJCmIqEkhDCVKRP6QIIahoVNfW0dbjxBwLhLseUWtvdlFbW0NDUEu5STMUfCFJeXYeu6wSCvR8T1J8pWUtuMNEY0r5JVRXiY6JRVYWm1nY0rfejVweKCKeDqEgXXq+fNndnuMsxDYuqEh8bjWFAS1v7aXeuBippKV0Aum6YaiSuGXV6fXR6feEuw3Q0XaehuTXcZZiK9CkJIUxFQkkIYSoSSkIIU5E+pfPksNuYPXkcU8ePwu8PsHVvNoUl5Qy0uweJcTHMmjyO5pY29h45DnQtJr98/gyGpKdSUl7Fpl37aW13A6AqCmNHDGXhrMlEOBzsOZzL3sPHz2qJC7Nz2G1MGz+aqeNHEul0UlBawft7s2n/qKM/JiqChTMnMzprMPXNLby3+yBVdR8viJY1KI3Fs6eQEBdLTkExOw/m0Onxhut0QsYSlzXhh+Euoq+yqCrXrVrC9auWcrzoJIlxMdy85lIOHS/s9Yzo/iA2KpJv33srVy6fj9Nh54N9h4mNiuQHX/kcqYkJHM47wYoFs5g4ehh7D+US1DSmTxjD9750G+XVdbR1uLnn+jU0tbRRVFYV7tO5YFITE1i3cjHNre00t3ewatFsRg7JYM/hXOxWG/ffdg2zJo3j2IlSJowaxrJ509l/NI9Or4+h6Sn88Kt34QsEqa5r5OrLFhIdEUFOYTG63r8/8iSUzkN6cgL333oNL2/awYtvv8/hvBPMmDCGzLRk9mQfC3d5IVVeVYvDbsPldLB1TzZL5kxjzZJ5fOvnf+FgbiHHi8q479ar+fBoPk0tbXzjruspq67jj0+8xOH8Iuw2G9etXMIb7+/qN0MqOj1eDh7LZ//RfI4WFOMPBLj60kVs3nmArMw0br96JX94fD2bdx2goKSMVYvm4vZ4KCit4ParV5IQG8PP//YUB3Ly6fR4uWbFIvYczqWtwx3uU7uopE/pPGQNSsPldHAgJw9N12l3e9iVncPUcSNxucyxKmYo+PwBcotOnrY4/PxpEzh4rICGj4ZKlFZWc7KyhunjR5EYF8PIoYPY9uFhAsEgmqazedd+Rg/LJCEuJlynccH9629C03VURWFwagrV9Y20dXQyecxIGppaKCitwDAMquubyCsqZfqE0VgtFuZPm8jOg0dp63CjGwZHC4rRNI2RQweF+7QuOgml85AYH4vb48H9iev8xpY2nE4HEU5XGCsLL1VVSE6Io7Ku4dTXDN2gpqGZtOQEoiIjUBT1tEvc9o5OvH4/yfFx4Sj5ohszfAgrFs7mpXc+wOv3k5IYR0NL66lR3EFNo6G5jYTYGKIjXcTGRFHd0HRqeVyP14/b4yUxtv+EdncklM5DIBhEUU5/CVVFAcPAMPrHJci5MHSDQDCIRT39tbFYVDRN/2hTQgNVVT7+pgKqovbLjSCyMtP46h3rOHAsnx0fLeHxr9dH4ePXQLUoGLpOUNPRdR3rJ14/RekKe20A/F1JKJ2H+sYWIl1O4mKiAVCAtJRE3B7vgLhL0h2DrsW9hg/OOPU1VVUZkp5KVV0DbR1uNE0jNTH+1PdTEuKx2azUN/Wv0c1D0lP45l03UlXXyMPPvXZqZ5CqugZSkxJwOGxA15269OQk6ptb6fR4qW1sZuigtFPBHRXhIiYqioZ+9vp8Fgml81BaVUtTaxuLZ0/BarEQHxvN8nkz2Hkg56w23+uP3t93mGnjR5GVkQbA1HEjSE2KZ9+R47S2uzmQU8DqJfNwOuxYLRauvmwh2bkFNLf2n+k6GamJfO3O66lvaubPT22g6ROXq4ePFxEd4WL6+FEoisLQQWlMHJXF7uwcgprGe7sPsmTOVJLiY1FVhXnTJxIIBikoKQ/jGYWG3H07D16fD58/wHWrFjNz0hjWLJ2Ppun8/YXX6Oj0hLu8kJszZTyRLidb92TT1NpKenIit151GeNHDuX6y5fx2padbN2bjabp1DQ0sXLhbJbOmcbi2VOZMnYEv330BSprG878RH3EdSuXcMPqpWi6zpwp47l80RzmTB5H7olSqusbiYhwcuMVy5g2bhRrl80nv7iMF9/Zhj8QoLqukVmTxnL5ornMmzqBS2ZM4rk3tnAor9BU2zBdDLJKwHmyWiwMHZRKVmY6Xp+f/OKyATvBMiM1CZvVwsmPtsCKcDmZMDKLxPgYqusaOV5UdmppFwVITU5g7PAhWCwWCksrKK+u7VdvuLTkBDLTkuET/UY+v5+CknJ8/gAOu43RWZmkpyTR1NpOfnHZqYGVAPEx0YwfMZSICCcnK2spKa8iMAD2zJNQEkKYivQpCSFMRUJJCGEqEkpCCFORUBJCmIqEkhDCVCSUhBCmIqEkhDAVCSUhhKlIKAkhTEVCSQhhKhJKQghTkVASQpiKhJIQwlQklIQQpiKhJIQwFQklIYSpSCgJIUxFQkkIYSoSSkIIU5FQEkKYioSSEMJUJJSEEKYioSSEMBUJJSGEqUgoCSFMRUJJCGEqEkpCCFORUBJCmIqEkhDCVCSUhBCmIqEkhDAVCSUhhKlIKAkhTEVCSQhhKhJKQghTkVASQpiKhJIQwlQklIQQpiKhJIQwFQklIYSpSCgJIUxFQkkIYSoSSkIIU5FQEkKYioSSEMJUJJSEEKYioSSEMBVruAsQIaCqWOKjsQ1OQ42OwPB4CVTUEaxvBk2/OM+pKGCxAAboOujGxXmeC00BrFYUVcXQNAhq4a5owJFQ6ucUl52I+VNwTR+LGukEVQXdwPD58eYU4f7gIHqbu1eP5Zw0kmB9M0ZQwxIXhf9ExWc8oYItMwXHuCzU2ChQFIz2Try5JQROVl/gs7vALCrOKaNxjBmK6rKje3x4DxXgO14a7soGFAml/sxmJWrpTFyzJqBYLR9/3aKgRDhxzRyHGuGk7fXtGJ3enh/LasExYTjBnYexD04F7bNbEM6po3HNGo/3cAGewye6GkypCaguxwU8sYtEUTA8PtzbstHb3dhHDSZyyQyC9S1oDS3hrm7AkFDqx+xD03BOGX16IH2Coqo4xmbhLCzHczCv28dRXA7sIwZjiY3CmhCDLSuDYFX9p46zJMYSMW8iHe8dwJ9fCh9dsQVrGk8doybGYomPBo8f65BUfMdL0Nvc2AanYh+ShmGAv6iCYHVD1w9YLdhHDMKWlojhD+LNK0Vvbu+qaVgGWnMb9mGDUBx2AhW1+Isqzv1SMajhO15y6n8DJ6th1gTUCCdyERc6Ekr9mH3EYBSnvcdjFKsF++gheA7ld/tmVhw27MPSMSwW1PgYbKkJaJ8RSrbBqRj+IP4T5acC6d9Zk+OJWjKdQEUdgaoGDE3DMXYYzmmj8R7MR3HaibxsNu5NewnWNuGaNR5behK+3BIsCdHErF1I60tbUV0OIpfOJFBeg7+kCsXrJ3LhVHRfgGBZzcdPaFFxThiONTXxtDr0oIbvUD5ac3s3L4yCbUg6utdHsK6px9dQXFgSSv2YGuXq6nDu9XGfnSR6SweByvpTfSz2oem4dx359ONER6K3d57qHFZcDiIXTAXA0DTc27NRFAUUBffOI+jNbShOO87pY/AeKsBfWgWqgjUlHsf44Rj+AI4xQ3B/kE2wphGlsg5bVgaOEZkEqhtAgc59uWg1jWBRsaUmYMtIOj2UdINgQyuGL3BarYauo//b1z7JmpGEc/oYPHtyMLz+M76G4sKRUOrHtNaOrjtfls++fDt1XEsHGN1f8ljTE7GPGITW0oFjzBAUqwU1Lhq9ue204wyfH8Xl6Ao4w8DQdIK1XYERtXw2nXuOAqC3dqC3dgCgOOxYEmJwjh+OY8Tgrq9FuQjWNKJGR2KJicY1fdypoFPtdrB0jWQxvP6P+8IM0H0BVMe/tQwNA93t6XodPknXMQLBzzxfS1oiUctnESiqwJcnndyhJqHUj/kLy3BNH4MlOrLbYwx/oOuN10M/jCUpDmtSHHqbG8fYLHSPF0uE81OhFKiswzVzHNb0pK4+J38A75ETKDYrUctm0XW/ndMaZIamYbi9dO7N+bgfia6WjDU5Hq2tA/f2bPSW9tN+xpIQ+9nF/nvL0KLiGD0Ea0by6ecdDOLZm4PW0Hr64SnxRC2bRaCyns6dR2RIQBhIKPVjgYp6PHuPEbFw6qdbEIAR1PBk5+MrLOvxcfzFlTjGDMO96yjRy2fhyztJoLLuU8cFaxrxnygnasUc3Nuzu97wuo4aE3kqjz5VQ6ePQFkNzmljcLe0Q1BDiXBi+AMEm9vQ2ztxjB+G92Be12NFudDaOnv/Img6ngN5kJ3/b08M6KcHjhobxf9v787joyrvPY5/njNnMslkMpOZ7EAg7GBYJW6AFgGraBWLu1K6KGqrt5sXr2199ba32qLe9r5utdXW9lq1Lu1FVMrFBSuCiiAIKCRACFkh+zKZzD5zznP/mBAISRBwYSTP+y8yM+fMmcnMN8/zO4fn57joHGQ4QqSsCi09DZmehukPwgCjKuXTp0LpdGYYBN/7CCMYxn7WRCweF8KqQ9zA8PkJ7Sgn9H4ZHKO2AokpltHZBbE40jCItwxQ+DVMAhu2kzp5DOnnTQYEMhYD3UJwcykyEsMMRxLF5UPTRdMksPFD0mdOIWPBTGQ8jjRM4UbPfQAAEHtJREFUQlvKMDv9BNZvw37upMR9pomMxAhs2I6Mx4m3dyYucASQEsMf7DtN634OjuMaUS3DjpZiRVp1HPPOSuzWlATe2kq8vvVjtlY+LaJozrVfkEttlZMmBJojDT3XjUhLRUZixFs7EnWd4zl9btEQKVZkOIJIT0MGwsesQSEAq54YnZkmZjSemAZJ2X2lt9Z3WqRpCJsVYdEwI1GIHXG/RUPYUhAiUTfq2Va39N6PReseAZ3kVepCgG7pNQOUksPHrnwuVCgpipJU1H/IVRQlqahQUhQlqahQUhQlqahQUhQlqahQUhQlqahQUhQlqahQUhQlqahQUhQlqahQUhQlqahQUhQlqahQUhQlqahQUhQlqahQUhQlqaj1lAYJN1AMeISgCyiTkqZTfEyK0p9BFUpCCGbPmMyowiGs+uc7dPj8pOg6F59/FnnZHtZs2Ex904kv5iWEYPTwIcwumcLwglyCoQgbtuzgg9JyjM+qA+1xsgHXCMESIcgDrEIQB7xS8oKU/I+UDNDPo49ZQL2AiIQCAR8ctejNGcBSLTH4NoEokloJa6Sk5gSP2wLcLASNUrLqBLc9xAlcBEwQgkelRPUk+WIYVNM3i0Vj3nkzuP3GhXgynVgsFm68fD6/+MFSsrPctHV0fvxO+mHVda6cfz4XzSohPS2Ns6dO5NGf38Vlc85NdO84RazAbUKwTAhGCEGaEOhAKpAnBLcJjR8JwcArePfe13VCkC1hNjCmn/Vtc4VgNPC8afKsabLalKQCjwlBxgkeuwCyhcD5Cd6/64RgnqYxWwjSTnovyudtcI2USIxqNCHQLRaumDuTO5cs4vV33ufhp1YQiR57WdiBRGMxHnl6ZeLf8Rg5nkyeevAnzJ9Zwmtvbznp/X5SU4EbhCBViD4RIgBdwFcQvCMla46xn1RgEompny4lk4Xgw34eJ4AA8AFwaEXr7VJysaYxVEr2kPgrOAMYK6BBwkYg0v1YO3CBEOSQmF5aGHBp7+PylJRskJJfadon2o/y+RpUoXSIEII550zj64sWsK10H8v/8CyBftpWF48pYnbJFPSjOsy2tntZ9eZGQuFIz23haJQUq06OO5OZ0yfhyXRSWdtAfID21p+HOULg4thfbJsQXCQEr0k5YBfYYcBiIcgHLtYE5yIIAULKgXpO9hhP4kPW2H0c3xOCoQg2IrlQg3kSfiolNuC3mqBRwk7gOk1jOnB0gyMNmCug6KhXFQNek5IjOr4R4XA4Kl8cgzKUPK4M7vzaVSAlL7z6Fu2dvn4fl5FuZ8TQPKx677cpRdfRtN4zXyFg8RVf5offuhar1crWnbv52yv/PKU1pYLuUeGxCGCIEGjHCKUKYB3QADxlSoo0wQOm2W8gTQRe7n5v7EA78BPTxEui5jRVCO4xTRqBDRKWaxqTpGQ4YJGC+6RJGFgrJY9p/VcX/AjajrrNQAXQ6WJQhlI4EmPl6+s5d1oxdyxeRGlFNQca+7ahLq+p47nV/+zzxQ6GI4QjkV63SQkvrt3A1l17OLN4HN++8UruuGkRv/jdk6ds+tbCgN2zT+hx2cAU4ICUFJMoYmcA3n4euxdYapoYwNnA9zWNHd33jRSCEcC/axoGiWL2MCALGCsEZcieqVwXiTA8mkliSrjzqNsl0Hesq3wRDcpQCoRCPPPyWjZs+Yjld93Kv916E/c89BiBUO+P9awzJ3Pn4kXYUqy9bq+oOciyB35Ph8/f6/YOn58On5+deyuZeeYkZkwaT7bbxcGTOKP3aXjbNLlK03AdY7QUA9ZJecxRxgIEs4SgTEoWiESgFAvBu/10+DCBIIlRyyagDfgq8DyJ6dQe4F7TJHTENhFgApBPYuR2aK99O9UlPrC3C8GMo15TVEp+LSW7j/E6lC+GQRlKAKaUbHh/B3/639X8y5Krufmar/C7Z1b2mm6tWb+Jte9u7bOtlLLX6EfTBBeUTMVuT2V/zUEK83OZOHoE1Qca8QdDfbb/vGwFXpKSGxFY+8klE3jTlLzxMe2D/oFkmoSHpOQOAe+a8O5xjMFCwHOm5AeaxmrTpFRKlgpBMYkCtyBx2j4GbJKS+zWNYVJST6IWNRn6FNTjwO+kROvnmE/NeFT5tA2qUJISItEogWAI0zSJxQ2eWfUGo4cP5frLLmTn3v2s27y95/GGYWIY0Y/dr26xMLZoGDctvIgMux2A0opqHnz8OTq7Ap/Z6/k4EeC/paQLk+sRZAqBhcOjmdWm5GFp8nEXQngAvxCEpcQBVA4QSPHu/R7pbSTfRDAXWAU8bJrcqgmWkDgj2CEly7unY3+X8JDQ6BCy5yxef0FzIrUjo/uYTu3VYsqJGHR936y6jsWiEYnGkN1/bXXdglXXicXiJ322TNMEtpQUnA47hmHS2eUnliR96DVgCHBm9+n2ThJ1mWoYsLh9JBvgIFFDygWaB9hOI3E9U+So21NIhMKhMLEBru6fuzgcPIJEcTyDRIH8UJB8kgK26H7+KMdXX1NOvUEXSoqiJLdBdUW3oijJT4WSoihJRYWSoihJRYWSoihJRYWSoihJRYWSoihJRYWSoihJRYWSoihJRYWSoihJRYWSoihJRYWSoihJRYWSoihJRYWSoihJZVCtpzTYWHWdy+fOZOSwAiSScDhK1YEGNu0oo8N3vN3eBnbj5fNpafey9t2tzJ9ZQpu3k+1l+457+xxPJl+eXcLf16z7TJd5ycp0cdaU8YwrKkQTgur6Rj7YWU5dY/Nn9pzKyVMjpdNYilVnwQXnkJXppL65jWA4whXzZvHLu5bichxPt7eBCQETR49gWF4OAE6HHXuq7ZjbFObncPUlc3p+1i0WPC7nZ9obb9rEMfz6R99h/swS6ptaqWts4YwxI5k/q+Qze07lk1EjpdOYEAJTSjZuL2X1uo0IYMWrb7H6j8sZMTQffzBEa0cnHlcGmU4HH+6pAAljioZRmJ9Dq9fH7n3VxLoXvrOlWCkeW4TbmUHNwSaEED2Bsn33PkKhw8u7OR12Jo4egcNup765labWdi6dcx4lkydQW99EfXMr7V4fb23eQbx7lCSEYNzIQgpyPHQFguzZX0sgFEYTgpHDCmjp8FJYkEdBThYNLW3sqazBMEzGjBjKkJwsNm4v7bVIX6bTwV03X8d720p5YuUrPS2xNE3DYkn8PXY50sl0OugKBCkalk/VgUY6OrvIdrsYN7IQgN0V1b3WYx+al8OowgJCkQi7K2oJhEKk2WwUDsmlobmNM8YUYU9NoaK2ngMNzWpxuROkQmkQkdDTmcWUJrdcexnRaAyX00H1gUbKKqq56pIvcUHJNMoqqhgzYhiVdfU8+sxL6LqFZbfcQH6Oh8q6BhbOm834UcOprK0HYMmVF7O/5iB/XbWWEUPy+cl3FtPa4aO1w8vZUybw4hvvUDy2iLwsN9MnjkFKSXpaKvfeuYRv3v0rItEYt1x7OWcWj2VvVS25Hje6xcKDjz+LLxDku1+/GsM08Pr8BEMRvnX1Al54bT0vrn2baRPHMHP6JLbs2tsrlKafMRZ7aiorX9/Qq0efaZqYZmJdy+KxI/nm1Qto9/qIRGP89eXXGZqbze03LKSusQWrbuFrC7/M/Y8+zYHGFuaeO52rL5nD/tp6PJlOrpwv+c8/PU+W28n9P7yFvZV1+ANBUm02vrFoAQ/96Xl27av6/H7JpwEVSqc5TROcM3UithQrToed88+ayrbScmoONmHVrXhcGdz7X3+mzetjxJA8rr90Ht/52W+ob2ol05nBE8vvYc36TQwvyGXCqOHc8fPf0OELkO12suKR+3qeJ8VqRdctaEJwyzWXsXt/DY88vZK4YaAJDcM0eeeDnURjcf74t38gSUz/UlNSEEIwftRwFs6fxdIfP0h9Syv21FTuXnoDV10yh7+sfIWMdDs7yyt5+OkXMAyDK+efz+ySKbyyfjNr1m/mzfe2EQ73Xoi3aGg+9c2t+AKJlcMz0u1MnTCaVFsKoXCEbWX7sFg0xhUVcvcDj7J1115sNis/vv1rvLdjF8+vfhNN01h2y/VcPncWK159i2svnctzq9/g7S0f4cywc++3lzBrxmTKq+pwORy8uWkb6zdvR7fo3HP7TZw7/QwVSidIhdJpTiBIT0slP8dDKBThiRWvsGP3Prq6v6gbt5fR5vUhpWT8yELcrgxuve4KTCkRJIrEQ3KzKR5bRFlFNR2dfiTQ5vXx4e6+ndmcGemMLCzg5b+801O8NmTvZfv7m85Mmzia8qo6mtrakRICoTBbd5XzlQvPQwhB3DDYVV7ZM9VrafeSnpaKVdfp9AcIhvp2fTMME6uuc6hklZFuZ8ak8QzJy2Z8USHfu++3ANQ2NLGrogrDNHHY05g0bhSZGQ7GjChEAKOHD6GhtZ38bA/jRxZy2ZyZzDnnTCyaRtGwAooONFJeVUdnl5+KmoMYpsQwY3T5g7gcjpP6vQ1mKpROc4Zp8uam7axet7Hf+6PRw91aDCmpb2rlr6tex+ieBj310ms0trZTPLYI/ahOwbKfNkeHbjvR4nXcMBFC9AosTRM90ywpwTQP3yul7FXT6s/u/TVce+mF5HrcVAUbqG9u5bdPrmD4kFx+9t2be7aNReM9SSmlJByJsHrdRsqr67r3JPAHQ2Q6HXR2BVjx6jpaOzp7jsvb5Sc704UpZa/35MjpsnL81Nm3QUweNWbZW1mLMyOdFF2nsq6ByroGGlvbiUSi7NxbSfHYInKy3ADkuDOZMWl8n336/EH21RzgolklPcXkQ1/+SDSGVdfRLX0/dttLy5kwanjP2TyHPY1ZMybz/ke7+w2/I7kc6RTkZvUJqNKKKipqD3LH4q+Sn+Ppfs3AEWF29J79gTD7qg8wbmQhtfXNVNY1UNvQRJc/QEubl+Z2L0Pzcqg+2EhlXQMNzW34A6eut9/pSI2UlB4HG1t47NmX+Y/v30xdQzNWXceQJvc98iRbdu7hvR2lPPzT71Jb30x6Wip7K2v7fKmllDz+t9X86PabePz+u2lu7SDVlsKyB35P6b4qvrFoAb/619vYsOVDKmoO9my3v7aeP6/4P5Yvu43a+mayMp3U1Dfx4toNxzxmIQSXXXgeF5w1lR/88pFe07hgKMIDf3iWOxZ/lcfvu5s2byfBUIS8bDd1Dc109dMoNBSJ8PRLr/G9b1zD4/cvo93bRZbbyZMrX+Wt93fwxIo13HbDQi4+/2wi0Si2lBQefvoFotFP0ghKOZJqsXQaE0LgdjoIhSOEIn2bamY6HUSjcYLhw19kAXgyneTleIhF4zS3d+DrCiABq24hN8uN2+ngQFMrhpE4ixUIhcnMcBCLx3tan6el2sjNcuNy2KlvbuuZ7uRmucn1uGhs68Dr8+N2ZtDa7kV2H2+220WOx4WvK0BzeyfRWAwBuF0ZBENhwt2diW1WK+npqXg7/eTnePC4nJTtr+41xTvEatXJznSR5XZhGAYdPj+dvi5CkSg2qxVHehrtnT6OHJClp6WSm+XGnmajtaOTNq+vp57lzEgnL8uNxaLR0taJ1+dDCI1Mp4OOzi6M7ilnRnqiMemh+p1yfFQoKYqSVFRNSVGUpKJCSVGUpKJCSVGUpKJCSVGUpKJCSVGUpKJCSVGUpKJCSVGUpKJCSVGUpPL/hgpVlJqzj9UAAAAASUVORK5CYII=)\n",
        ">>- 초록 2개, 빨강 1개로 다수결\n",
        ">>- 동률인 경우 더 가까운것 or 랜덤으로 선택"
      ],
      "metadata": {
        "id": "4_EEOgOfNeVr"
      }
    },
    {
      "cell_type": "markdown",
      "source": [
        ">>### (8) 누락된 클래스값 대체 - 최빈값"
      ],
      "metadata": {
        "id": "JS0DCs9GP1lT"
      }
    },
    {
      "cell_type": "code",
      "source": [
        "# 2개의 특성행렬 합치기\n",
        "# 누락된 값을 특성에서 가장 자주 등장하는 값으로 채우기\n",
        "\n",
        "from sklearn.impute import SimpleImputer\n",
        "\n",
        "# SimpleImputer는 결측값(missing value)을 대체할 값으로 채워주는 클래스\n",
        "\n",
        "\"\"\"\n",
        "strategy 들어갈수 있는 값 총 3개\n",
        "mean : 결측값을 해당 특성의 평균값으로 대체(수치형데이터)\n",
        "median : 결측값을 해당 특성의 중앙값으로 대체(수치형데이터)\n",
        "most_frequent : 최빈값으로 대체(범주형데이터)\n",
        "\"\"\"\n",
        "\n",
        "x_complete = np.vstack((x_with_nan,x))\n",
        "\n",
        "imputer = SimpleImputer(strategy='most_frequent')\n",
        "data_imputer = imputer.fit_transform(x_complete)\n",
        "print(data_imputer)\n"
      ],
      "metadata": {
        "colab": {
          "base_uri": "https://localhost:8080/"
        },
        "id": "gq3EWVuzMenR",
        "outputId": "b92de274-c0f2-4183-bfe5-f8e32e2c0806"
      },
      "execution_count": null,
      "outputs": [
        {
          "output_type": "stream",
          "name": "stdout",
          "text": [
            "[[ 0.    0.87  1.31]\n",
            " [ 0.   -0.67 -0.22]\n",
            " [ 0.    2.1   1.45]\n",
            " [ 1.    1.18  1.33]\n",
            " [ 0.    1.22  1.27]\n",
            " [ 1.   -0.2  -1.15]]\n"
          ]
        }
      ]
    },
    {
      "cell_type": "code",
      "source": [
        "#텍스트 정제 \n",
        "\n",
        "import re\n",
        "\n",
        "\n",
        "#텍스트 데이터 생성 \n",
        "text_data = [\"모듈은 정규 표현식 사용하여 문자열 패턴 찾고 조작하는데 사용되는 파이썬 내장모듈.!!\",\n",
        "             \"정규 표현식은 무자열 내의 특정 패턴 문자열 찾거나 대체하는데 유용함.\",\n",
        "             \"이메일주소, 전화번호 같은 특정패턴 찾거나 HTML 태그 제거 작업 수행시 유용.\"]\n",
        "\n",
        "#공백문자 제거\n",
        "strip_whitespace = [string.strip() for string in text_data]\n",
        "print(strip_whitespace)"
      ],
      "metadata": {
        "colab": {
          "base_uri": "https://localhost:8080/"
        },
        "id": "iJ8SGFMhQdpv",
        "outputId": "7b1898ea-a8e1-440c-f5b9-954c428a79d6"
      },
      "execution_count": null,
      "outputs": [
        {
          "output_type": "stream",
          "name": "stdout",
          "text": [
            "['모듈은 정규 표현식 사용하여 문자열 패턴 찾고 조작하는데 사용되는 파이썬 내장모듈.!!', '정규 표현식은 무자열 내의 특정 패턴 문자열 찾거나 대체하는데 유용함.', '이메일주소, 전화번호 같은 특정패턴 찾거나 HTML 태그 제거 작업 수행시 유용.']\n"
          ]
        }
      ]
    },
    {
      "cell_type": "code",
      "source": [
        "#마침표제거\n",
        "remove_periods = [string.replace(\".\",\"\") for string in strip_whitespace]\n",
        "print(remove_periods)"
      ],
      "metadata": {
        "colab": {
          "base_uri": "https://localhost:8080/"
        },
        "id": "irq9KHmwSHHP",
        "outputId": "313c208b-c5b9-46bc-9c12-80e00c883e9e"
      },
      "execution_count": null,
      "outputs": [
        {
          "output_type": "stream",
          "name": "stdout",
          "text": [
            "['모듈은 정규 표현식 사용하여 문자열 패턴 찾고 조작하는데 사용되는 파이썬 내장모듈!!', '정규 표현식은 무자열 내의 특정 패턴 문자열 찾거나 대체하는데 유용함', '이메일주소, 전화번호 같은 특정패턴 찾거나 HTML 태그 제거 작업 수행시 유용']\n"
          ]
        }
      ]
    },
    {
      "cell_type": "code",
      "source": [
        "#구두점 삭제 \n",
        "\n",
        "#구두점 문자로 이루어진 딕셔너리 만들기\n",
        "import sys\n",
        "import unicodedata\n",
        "\n",
        "punctation = dict.fromkeys( i for i in range(sys.maxunicode) if unicodedata.category(chr(i)).startswith('P'))\n",
        "\n",
        "#문자열의 구두점 삭제\n",
        "data = [string.translate(punctation) for string in text_data]\n",
        "print(data)"
      ],
      "metadata": {
        "colab": {
          "base_uri": "https://localhost:8080/"
        },
        "id": "HmjJCdF8SfYn",
        "outputId": "e5724acf-45d8-47f3-e4f9-4271843764dc"
      },
      "execution_count": null,
      "outputs": [
        {
          "output_type": "stream",
          "name": "stdout",
          "text": [
            "['모듈은 정규 표현식 사용하여 문자열 패턴 찾고 조작하는데 사용되는 파이썬 내장모듈', '정규 표현식은 무자열 내의 특정 패턴 문자열 찾거나 대체하는데 유용함', '이메일주소 전화번호 같은 특정패턴 찾거나 HTML 태그 제거 작업 수행시 유용']\n"
          ]
        }
      ]
    },
    {
      "cell_type": "markdown",
      "source": [
        ">## 6) 텍스트 데이터 처리 실습"
      ],
      "metadata": {
        "id": "7brl6pNmb4tC"
      }
    },
    {
      "cell_type": "markdown",
      "source": [
        ">>### (1) 텍스트 토큰화"
      ],
      "metadata": {
        "id": "heZoy3b7Y5bg"
      }
    },
    {
      "cell_type": "code",
      "source": [
        "from nltk.tokenize import sent_tokenize\n",
        "from nltk.tokenize import word_tokenize\n",
        "import nltk\n",
        "\n",
        "#구두점 데이터 다운로드\n",
        "nltk.download('punkt')"
      ],
      "metadata": {
        "colab": {
          "base_uri": "https://localhost:8080/"
        },
        "id": "YiVvVNPqY8Vj",
        "outputId": "7c3266d2-f5a8-4333-eb38-f9d9ff1ca7e8"
      },
      "execution_count": null,
      "outputs": [
        {
          "output_type": "stream",
          "name": "stderr",
          "text": [
            "[nltk_data] Downloading package punkt to /root/nltk_data...\n",
            "[nltk_data]   Unzipping tokenizers/punkt.zip.\n"
          ]
        },
        {
          "output_type": "execute_result",
          "data": {
            "text/plain": [
              "True"
            ]
          },
          "metadata": {},
          "execution_count": 69
        }
      ]
    },
    {
      "cell_type": "code",
      "source": [
        "# 텍스트 토큰화\n",
        "string = \"모듈은 정규 표현식을 사용하여 문자열에서 패턴을 찾고 조작하는데 사용되는 파이썬 내장 모듈입니다.\"\n",
        "\n",
        "word_data = word_tokenize(string)\n",
        "print(word_data)"
      ],
      "metadata": {
        "colab": {
          "base_uri": "https://localhost:8080/"
        },
        "id": "ApS-RiwAZFvR",
        "outputId": "471302fe-13a6-43db-f98f-2bcaa5a3fd91"
      },
      "execution_count": null,
      "outputs": [
        {
          "output_type": "stream",
          "name": "stdout",
          "text": [
            "['모듈은', '정규', '표현식을', '사용하여', '문자열에서', '패턴을', '찾고', '조작하는데', '사용되는', '파이썬', '내장', '모듈입니다', '.']\n"
          ]
        }
      ]
    },
    {
      "cell_type": "markdown",
      "source": [
        ">>### (2) 불용어 삭제\n",
        ">>- 유용한 정보 없는 단어\n",
        ">>- NLTK : 불용어 리스트 179개\n",
        ">>- 사이킷런 : 불용어 리스트 318개 / 인덱스 사용불가"
      ],
      "metadata": {
        "id": "tyRJ8rU3Zagy"
      }
    },
    {
      "cell_type": "code",
      "source": [
        "# 불용어 삭제\n",
        "from nltk.corpus import stopwords\n",
        "\n",
        "# 불용어 데이터 다운로드\n",
        "nltk.download('stopwords')"
      ],
      "metadata": {
        "colab": {
          "base_uri": "https://localhost:8080/"
        },
        "id": "5XZzn3OHZTPz",
        "outputId": "6092bfaa-1443-42d1-9ec0-47dbee7659b9"
      },
      "execution_count": null,
      "outputs": [
        {
          "output_type": "stream",
          "name": "stderr",
          "text": [
            "[nltk_data] Downloading package stopwords to /root/nltk_data...\n",
            "[nltk_data]   Unzipping corpora/stopwords.zip.\n"
          ]
        },
        {
          "output_type": "execute_result",
          "data": {
            "text/plain": [
              "True"
            ]
          },
          "metadata": {},
          "execution_count": 72
        }
      ]
    },
    {
      "cell_type": "code",
      "source": [
        "# 단어토큰 생성\n",
        "tokenized_words = ['i', 'am', 'to', 'go', 'the', 'store','and','park']\n",
        "\n",
        "stop_words = stopwords.words('english')\n",
        "\n",
        "#불용어 삭제\n",
        "filtered_words = [word for word in tokenized_words if word not in stop_words]\n",
        "\n",
        "#불용어 확인\n",
        "stop_data = stop_words[:5]\n",
        "print(stop_words)\n",
        "print(\"불용어리스트:\", stop_data)\n",
        "print(\"불용어 삭제된 결과:\", filtered_words)"
      ],
      "metadata": {
        "colab": {
          "base_uri": "https://localhost:8080/"
        },
        "id": "ghDnyQg8Z7Gq",
        "outputId": "f7a9e2e1-eb67-41bb-bbbb-ace58bcf127d"
      },
      "execution_count": null,
      "outputs": [
        {
          "output_type": "stream",
          "name": "stdout",
          "text": [
            "['i', 'me', 'my', 'myself', 'we', 'our', 'ours', 'ourselves', 'you', \"you're\", \"you've\", \"you'll\", \"you'd\", 'your', 'yours', 'yourself', 'yourselves', 'he', 'him', 'his', 'himself', 'she', \"she's\", 'her', 'hers', 'herself', 'it', \"it's\", 'its', 'itself', 'they', 'them', 'their', 'theirs', 'themselves', 'what', 'which', 'who', 'whom', 'this', 'that', \"that'll\", 'these', 'those', 'am', 'is', 'are', 'was', 'were', 'be', 'been', 'being', 'have', 'has', 'had', 'having', 'do', 'does', 'did', 'doing', 'a', 'an', 'the', 'and', 'but', 'if', 'or', 'because', 'as', 'until', 'while', 'of', 'at', 'by', 'for', 'with', 'about', 'against', 'between', 'into', 'through', 'during', 'before', 'after', 'above', 'below', 'to', 'from', 'up', 'down', 'in', 'out', 'on', 'off', 'over', 'under', 'again', 'further', 'then', 'once', 'here', 'there', 'when', 'where', 'why', 'how', 'all', 'any', 'both', 'each', 'few', 'more', 'most', 'other', 'some', 'such', 'no', 'nor', 'not', 'only', 'own', 'same', 'so', 'than', 'too', 'very', 's', 't', 'can', 'will', 'just', 'don', \"don't\", 'should', \"should've\", 'now', 'd', 'll', 'm', 'o', 're', 've', 'y', 'ain', 'aren', \"aren't\", 'couldn', \"couldn't\", 'didn', \"didn't\", 'doesn', \"doesn't\", 'hadn', \"hadn't\", 'hasn', \"hasn't\", 'haven', \"haven't\", 'isn', \"isn't\", 'ma', 'mightn', \"mightn't\", 'mustn', \"mustn't\", 'needn', \"needn't\", 'shan', \"shan't\", 'shouldn', \"shouldn't\", 'wasn', \"wasn't\", 'weren', \"weren't\", 'won', \"won't\", 'wouldn', \"wouldn't\"]\n",
            "불용어리스트: ['i', 'me', 'my', 'myself', 'we']\n",
            "불용어 삭제된 결과: ['go', 'store', 'park']\n"
          ]
        }
      ]
    },
    {
      "cell_type": "markdown",
      "source": [
        ">>### (3) 어간추출\n",
        ">>- 단어의 어간 구분하여 어미만 제거"
      ],
      "metadata": {
        "id": "vGrBe0WDbzmb"
      }
    },
    {
      "cell_type": "code",
      "source": [
        "from nltk.stem.porter import PorterStemmer\n",
        "\n",
        "# 단어 토큰 생성\n",
        "tokenized_words_temp = ['i', 'am', 'humbled', 'by', 'traditional', 'meeting']\n",
        "\n",
        "# 어간 추출기 생성\n",
        "porter = PorterStemmer()\n",
        "word_list_temp = []\n",
        "\n",
        "#여간 추출기 적용\n",
        "for word in tokenized_words_temp:\n",
        "  word_list_temp.append(porter.stem(word))\n",
        "\n",
        "print(word_list_temp)"
      ],
      "metadata": {
        "colab": {
          "base_uri": "https://localhost:8080/"
        },
        "id": "ZEKMV51Yb9lk",
        "outputId": "99363564-e558-4b0e-8100-5eaa406dd0d2"
      },
      "execution_count": null,
      "outputs": [
        {
          "output_type": "stream",
          "name": "stdout",
          "text": [
            "['i', 'am', 'humbl', 'by', 'tradit', 'meet']\n"
          ]
        }
      ]
    },
    {
      "cell_type": "markdown",
      "source": [
        ">>### (4) 품사태깅\n",
        ">>- NNP : 고유명사, 단수\n",
        ">>- NN : 명사, 단수/불가산명사\n",
        ">>- RB : 부사\n",
        ">>- VBD : 동사, 과거형\n",
        ">>- VBG : 동사, 동명사, 현재분사\n",
        ">>- JJ : 형용사\n",
        ">>- PRP : 인칭대명사"
      ],
      "metadata": {
        "id": "rtZJ3sE1c5ia"
      }
    },
    {
      "cell_type": "code",
      "source": [
        "import nltk\n",
        "from nltk import pos_tag\n",
        "from nltk import word_tokenize\n",
        "\n",
        "#태거 다운로드\n",
        "nltk.download(\"averaged_perceptron_tagger\")\n",
        "\n",
        "#샘플 텍스트 데이터\n",
        "text_data_tagger = \"Jihye loves outdoor running\"\n",
        "\n",
        "#사전 훈련된 품사 태깅 사용\n",
        "text_tagged = pos_tag(word_tokenize(text_data_tagger))\n",
        "print(text_tagged)"
      ],
      "metadata": {
        "colab": {
          "base_uri": "https://localhost:8080/"
        },
        "id": "XU5oA5EbdMTt",
        "outputId": "8e28a212-d9ac-47ec-9d16-ea7044f57112"
      },
      "execution_count": null,
      "outputs": [
        {
          "output_type": "stream",
          "name": "stdout",
          "text": [
            "[('Jihye', 'NNP'), ('loves', 'VBZ'), ('outdoor', 'RP'), ('running', 'VBG')]\n"
          ]
        },
        {
          "output_type": "stream",
          "name": "stderr",
          "text": [
            "[nltk_data] Downloading package averaged_perceptron_tagger to\n",
            "[nltk_data]     /root/nltk_data...\n",
            "[nltk_data]   Package averaged_perceptron_tagger is already up-to-\n",
            "[nltk_data]       date!\n"
          ]
        }
      ]
    },
    {
      "cell_type": "markdown",
      "source": [
        ">>### (5) 단어 중요도 가중치 부여\n",
        ">>- tf : 단어빈도 \n",
        ">>- df : 문서빈도"
      ],
      "metadata": {
        "id": "9Z1BfkxleQws"
      }
    },
    {
      "cell_type": "code",
      "source": [
        "import numpy as np\n",
        "from sklearn.feature_extraction.text import TfidfVectorizer\n",
        "\n",
        "text_data = np.array((['I Love Korea. Korea !',\n",
        "                       'USA is the best',\n",
        "                       'Germany runs high']))\n",
        "\n",
        "#tf-idf 특성 행렬만들기\n",
        "tfidf = TfidfVectorizer()\n",
        "feature_matrix = tfidf.fit_transform(text_data)\n",
        "\n",
        "#tf-idf 특성 행렬 확인\n",
        "feature_matrix\n",
        "print(feature_matrix)\n",
        "\n",
        "#tf-idf 특성 행렬 밀집 배열 확인\n",
        "feature_matrix.toarray()\n",
        "\n",
        "#특성 이름 확인\n",
        "tf = tfidf.vocabulary_\n",
        "print(\"특성확인\", tf)"
      ],
      "metadata": {
        "colab": {
          "base_uri": "https://localhost:8080/"
        },
        "id": "qXeGqcxldou7",
        "outputId": "54945837-8e72-4d0a-a45f-87f1093a35a7"
      },
      "execution_count": null,
      "outputs": [
        {
          "output_type": "stream",
          "name": "stdout",
          "text": [
            "  (0, 4)\t0.8944271909999159\n",
            "  (0, 5)\t0.4472135954999579\n",
            "  (1, 0)\t0.5\n",
            "  (1, 7)\t0.5\n",
            "  (1, 3)\t0.5\n",
            "  (1, 8)\t0.5\n",
            "  (2, 2)\t0.5773502691896257\n",
            "  (2, 6)\t0.5773502691896257\n",
            "  (2, 1)\t0.5773502691896257\n",
            "특성확인 {'love': 5, 'korea': 4, 'usa': 8, 'is': 3, 'the': 7, 'best': 0, 'germany': 1, 'runs': 6, 'high': 2}\n"
          ]
        }
      ]
    },
    {
      "cell_type": "markdown",
      "source": [
        ">>### (6) Word Cloud 그리기 \n",
        ">>- 단어 뭉치 가시화\n",
        ">>- 빈도수/중요도 등 가중치에 따라 색/크기 차이로 표현"
      ],
      "metadata": {
        "id": "KOkOPt3LluZs"
      }
    },
    {
      "cell_type": "code",
      "source": [
        "pip install pygame"
      ],
      "metadata": {
        "colab": {
          "base_uri": "https://localhost:8080/"
        },
        "id": "3y7gArp6mcyE",
        "outputId": "7a3b5c10-dc09-4ff2-d5e4-931b6994c2fc"
      },
      "execution_count": null,
      "outputs": [
        {
          "output_type": "stream",
          "name": "stdout",
          "text": [
            "Looking in indexes: https://pypi.org/simple, https://us-python.pkg.dev/colab-wheels/public/simple/\n",
            "Requirement already satisfied: pygame in /usr/local/lib/python3.10/dist-packages (2.3.0)\n"
          ]
        }
      ]
    },
    {
      "cell_type": "code",
      "source": [
        "pip install pytagcloud"
      ],
      "metadata": {
        "colab": {
          "base_uri": "https://localhost:8080/"
        },
        "id": "n56pr8UXmj2_",
        "outputId": "69a8a847-4c3e-4529-8f20-22b2914e6d3f"
      },
      "execution_count": null,
      "outputs": [
        {
          "output_type": "stream",
          "name": "stdout",
          "text": [
            "Looking in indexes: https://pypi.org/simple, https://us-python.pkg.dev/colab-wheels/public/simple/\n",
            "Collecting pytagcloud\n",
            "  Downloading pytagcloud-0.3.5.tar.gz (754 kB)\n",
            "\u001b[2K     \u001b[90m━━━━━━━━━━━━━━━━━━━━━━━━━━━━━━━━━━━━━━━\u001b[0m \u001b[32m754.7/754.7 kB\u001b[0m \u001b[31m9.7 MB/s\u001b[0m eta \u001b[36m0:00:00\u001b[0m\n",
            "\u001b[?25h  Preparing metadata (setup.py) ... \u001b[?25l\u001b[?25hdone\n",
            "Building wheels for collected packages: pytagcloud\n",
            "  Building wheel for pytagcloud (setup.py) ... \u001b[?25l\u001b[?25hdone\n",
            "  Created wheel for pytagcloud: filename=pytagcloud-0.3.5-py3-none-any.whl size=759867 sha256=7ee5c08c8773f78f83ec6b035cf8c771a49d07e4f42e1f83e2dfa9b8662437ed\n",
            "  Stored in directory: /root/.cache/pip/wheels/2c/4b/2f/f65774b96585b1dd4ac53d4425a61d5373cc1eb4afdf55be82\n",
            "Successfully built pytagcloud\n",
            "Installing collected packages: pytagcloud\n",
            "Successfully installed pytagcloud-0.3.5\n"
          ]
        }
      ]
    },
    {
      "cell_type": "code",
      "source": [
        "pip install pycopy-webbrowser"
      ],
      "metadata": {
        "colab": {
          "base_uri": "https://localhost:8080/"
        },
        "id": "mASBqd9jmlCi",
        "outputId": "61e97a33-815d-4282-97f0-209d57d48827"
      },
      "execution_count": null,
      "outputs": [
        {
          "output_type": "stream",
          "name": "stdout",
          "text": [
            "Looking in indexes: https://pypi.org/simple, https://us-python.pkg.dev/colab-wheels/public/simple/\n",
            "Collecting pycopy-webbrowser\n",
            "  Downloading pycopy-webbrowser-0.0.0.tar.gz (631 bytes)\n",
            "\u001b[31mERROR: pycopy-webbrowser from https://files.pythonhosted.org/packages/40/6f/3534aa5470f69aede4ec969a4f64981892e5bd838ea8e148d8d7ee52f1bc/pycopy-webbrowser-0.0.0.tar.gz does not appear to be a Python project: neither 'setup.py' nor 'pyproject.toml' found.\u001b[0m\u001b[31m\n",
            "\u001b[0m"
          ]
        }
      ]
    },
    {
      "cell_type": "code",
      "source": [
        "!pip install pygame\n",
        "!pip install simplejson"
      ],
      "metadata": {
        "colab": {
          "base_uri": "https://localhost:8080/"
        },
        "id": "hbTMD152mv5F",
        "outputId": "ba20097c-958d-40cf-bd66-2c418642526a"
      },
      "execution_count": null,
      "outputs": [
        {
          "output_type": "stream",
          "name": "stdout",
          "text": [
            "Looking in indexes: https://pypi.org/simple, https://us-python.pkg.dev/colab-wheels/public/simple/\n",
            "Requirement already satisfied: pygame in /usr/local/lib/python3.10/dist-packages (2.3.0)\n",
            "Looking in indexes: https://pypi.org/simple, https://us-python.pkg.dev/colab-wheels/public/simple/\n",
            "Collecting simplejson\n",
            "  Downloading simplejson-3.19.1-cp310-cp310-manylinux_2_5_x86_64.manylinux1_x86_64.manylinux_2_17_x86_64.manylinux2014_x86_64.whl (137 kB)\n",
            "\u001b[2K     \u001b[90m━━━━━━━━━━━━━━━━━━━━━━━━━━━━━━━━━━━━━━━\u001b[0m \u001b[32m137.9/137.9 kB\u001b[0m \u001b[31m4.7 MB/s\u001b[0m eta \u001b[36m0:00:00\u001b[0m\n",
            "\u001b[?25hInstalling collected packages: simplejson\n",
            "Successfully installed simplejson-3.19.1\n"
          ]
        }
      ]
    },
    {
      "cell_type": "code",
      "source": [
        "import pytagcloud\n",
        "import webbrowser\n",
        "\n",
        "tag = [('Hello',100),\n",
        "       ('World',80),\n",
        "       ('Python',120),\n",
        "       ('AI',150),\n",
        "       ('DB',40),\n",
        "       ('Kaggle',55)]\n",
        "\n",
        "#태그화 \n",
        "tag_list = pytagcloud.make_tags(tag, maxsize=50)\n",
        "pytagcloud.create_tag_image(tag_list, 'word_cloud.jpg', size=(900,600), rectangular=False)\n",
        "\n",
        "webbrowser.open('word_cloud.jpg')"
      ],
      "metadata": {
        "colab": {
          "base_uri": "https://localhost:8080/"
        },
        "id": "tz-ZP8czfG_c",
        "outputId": "fe34e018-faad-4159-a0b2-90f75e236a56"
      },
      "execution_count": null,
      "outputs": [
        {
          "output_type": "execute_result",
          "data": {
            "text/plain": [
              "False"
            ]
          },
          "metadata": {},
          "execution_count": 95
        }
      ]
    },
    {
      "cell_type": "code",
      "source": [
        "from IPython.display import Image\n",
        "Image('word_cloud.jpg')"
      ],
      "metadata": {
        "colab": {
          "base_uri": "https://localhost:8080/",
          "height": 618
        },
        "id": "CIK8HMunmLlL",
        "outputId": "821a5fe4-806d-4ba2-f8a9-990102e5a0f6"
      },
      "execution_count": null,
      "outputs": [
        {
          "output_type": "execute_result",
          "data": {
            "image/jpeg": "[encoded data removed]",
            "text/plain": [
              "<IPython.core.display.Image object>"
            ]
          },
          "metadata": {},
          "execution_count": 96
        }
      ]
    },
    {
      "cell_type": "markdown",
      "source": [
        ">## 7) 날씨 시간 데이터 처리"
      ],
      "metadata": {
        "id": "Q9EvmkALrIIz"
      }
    },
    {
      "cell_type": "markdown",
      "source": [
        ">>### (1) 날짜 시간 데이터 전처리\n",
        ">>- 날짜 시간 나타내는 문자열을 시계열로 전환\n",
        ">>![image.png](data:image/png;base64,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)"
      ],
      "metadata": {
        "id": "a05FvfTCqE-7"
      }
    },
    {
      "cell_type": "code",
      "source": [
        "import numpy as np\n",
        "import pandas as pd\n",
        "\n",
        "#날짜 시간 문자열 데이터\n",
        "date_strings = np.array(['03-04-2023 11:35 PM',\n",
        "                         '05-04-2023 11:00 PM',\n",
        "                         '07-04-2023 02:00 AM'])\n",
        "\n",
        "#Time Stamp 객체로 변경\n",
        "for date in date_strings:\n",
        "  temp=pd.to_datetime(date,format='%d-%m-%Y %I:%M %p')\n",
        "  print(temp)\n",
        "\n",
        "for date in date_strings:\n",
        "  temp_value = pd.to_datetime(date, format= '%d-%m-%Y %I:%M %p', errors='ignore')\n",
        "  print(temp_value)"
      ],
      "metadata": {
        "id": "G1MkI1pim821",
        "colab": {
          "base_uri": "https://localhost:8080/"
        },
        "outputId": "0e8cf7e5-2495-4354-dc22-a51f2cbcaecd"
      },
      "execution_count": null,
      "outputs": [
        {
          "output_type": "stream",
          "name": "stdout",
          "text": [
            "2023-04-03 23:35:00\n",
            "2023-04-05 23:00:00\n",
            "2023-04-07 02:00:00\n",
            "2023-04-03 23:35:00\n",
            "2023-04-05 23:00:00\n",
            "2023-04-07 02:00:00\n"
          ]
        }
      ]
    },
    {
      "cell_type": "markdown",
      "source": [
        ">>### (2) 시간대데이터 처리\n",
        ">>- 시간대 정보 추가하거나 변환 가능\n",
        ">>- 판다스에 시간대 없어서, tz매개변수 사용하여 시간대 추가"
      ],
      "metadata": {
        "id": "eH3zJihxrAEn"
      }
    },
    {
      "cell_type": "code",
      "source": [
        "import pandas as pd\n",
        "\n",
        "#datetime 만들기\n",
        "pd.Timestamp('2023-01-01 06:00:00', tz='Europe/London')\n",
        "date = pd.Timestamp('2023-04-20 07:00:00')\n",
        "print(date)"
      ],
      "metadata": {
        "colab": {
          "base_uri": "https://localhost:8080/"
        },
        "id": "5mHJNYa0q4_1",
        "outputId": "5ce324c4-ebd7-46fc-c1e4-b69ecc5669a8"
      },
      "execution_count": null,
      "outputs": [
        {
          "output_type": "stream",
          "name": "stdout",
          "text": [
            "2023-04-20 07:00:00\n"
          ]
        }
      ]
    },
    {
      "cell_type": "code",
      "source": [
        "#시간대지정\n",
        "date_in_london = date.tz_localize('Europe/London')\n",
        "print(date_in_london)"
      ],
      "metadata": {
        "colab": {
          "base_uri": "https://localhost:8080/"
        },
        "id": "gIUrl99rrju1",
        "outputId": "7cc7aebe-c63f-4db2-fcd5-93f20ebcf245"
      },
      "execution_count": null,
      "outputs": [
        {
          "output_type": "stream",
          "name": "stdout",
          "text": [
            "2023-04-20 07:00:00+01:00\n"
          ]
        }
      ]
    },
    {
      "cell_type": "code",
      "source": [
        "#시간대 변환\n",
        "date_in_london.tz_convert('Africa/Abidjan')"
      ],
      "metadata": {
        "colab": {
          "base_uri": "https://localhost:8080/"
        },
        "id": "6YnNZXoqrsuN",
        "outputId": "01fd0095-75b1-4ba4-ae5d-6e9f47b52f08"
      },
      "execution_count": null,
      "outputs": [
        {
          "output_type": "execute_result",
          "data": {
            "text/plain": [
              "Timestamp('2023-04-20 06:00:00+0000', tz='Africa/Abidjan')"
            ]
          },
          "metadata": {},
          "execution_count": 106
        }
      ]
    },
    {
      "cell_type": "code",
      "source": [
        "#3개의 날짜 생성\n",
        "dates = pd.Series(pd.date_range('2/2/2023', periods=3, freq='M'))\n",
        "\n",
        "#시간대 지정\n",
        "temp = dates.dt.tz_localize('Africa/Abidjan')\n",
        "print(temp)"
      ],
      "metadata": {
        "colab": {
          "base_uri": "https://localhost:8080/"
        },
        "id": "WBTZ5r6prvop",
        "outputId": "3d5ea8a8-49a9-4fd7-c465-d28cdfd135ce"
      },
      "execution_count": null,
      "outputs": [
        {
          "output_type": "stream",
          "name": "stdout",
          "text": [
            "0   2023-02-28 00:00:00+00:00\n",
            "1   2023-03-31 00:00:00+00:00\n",
            "2   2023-04-30 00:00:00+00:00\n",
            "dtype: datetime64[ns, Africa/Abidjan]\n"
          ]
        }
      ]
    },
    {
      "cell_type": "code",
      "source": [
        "import pytz\n",
        "from pytz import all_timezones\n",
        "\n",
        "#두개의 시간대 확인\n",
        "all_timezones[0:2]"
      ],
      "metadata": {
        "colab": {
          "base_uri": "https://localhost:8080/"
        },
        "id": "oW7_j85xsIn9",
        "outputId": "e3b12e99-a4f7-4b67-8741-d465e49e7d29"
      },
      "execution_count": null,
      "outputs": [
        {
          "output_type": "execute_result",
          "data": {
            "text/plain": [
              "['Africa/Abidjan', 'Africa/Accra']"
            ]
          },
          "metadata": {},
          "execution_count": 108
        }
      ]
    },
    {
      "cell_type": "code",
      "source": [
        "dates.dt.tz_localize('dateutil/Asia/Seoul')"
      ],
      "metadata": {
        "colab": {
          "base_uri": "https://localhost:8080/"
        },
        "id": "54Je0F9wsmBw",
        "outputId": "7146644d-57b1-4761-fdba-97860a9832fd"
      },
      "execution_count": null,
      "outputs": [
        {
          "output_type": "execute_result",
          "data": {
            "text/plain": [
              "0   2023-02-28 00:00:00+09:00\n",
              "1   2023-03-31 00:00:00+09:00\n",
              "2   2023-04-30 00:00:00+09:00\n",
              "dtype: datetime64[ns, tzfile('/usr/share/zoneinfo/Asia/Seoul')]"
            ]
          },
          "metadata": {},
          "execution_count": 109
        }
      ]
    },
    {
      "cell_type": "code",
      "source": [
        "tz=pytz.timezone('Asia/Seoul')\n",
        "temp01 = dates.dt.tz_localize(tz)\n",
        "print(temp01)"
      ],
      "metadata": {
        "colab": {
          "base_uri": "https://localhost:8080/"
        },
        "id": "_aXHpp-fsp-8",
        "outputId": "985d3d7c-8867-49cc-bf48-c248cd82af63"
      },
      "execution_count": null,
      "outputs": [
        {
          "output_type": "stream",
          "name": "stdout",
          "text": [
            "0   2023-02-28 00:00:00+09:00\n",
            "1   2023-03-31 00:00:00+09:00\n",
            "2   2023-04-30 00:00:00+09:00\n",
            "dtype: datetime64[ns, Asia/Seoul]\n"
          ]
        }
      ]
    },
    {
      "cell_type": "markdown",
      "source": [
        ">>### (3) 날짜 및 시간 선택하기\n",
        ">>- 시작과 마지막 날짜 사용해 불리언 조건으로 날짜 벡터에서 1개 이상의 원소 선택"
      ],
      "metadata": {
        "id": "h57kF1Fftcg-"
      }
    },
    {
      "cell_type": "code",
      "source": [
        "import pandas as pd\n",
        "dateframe = pd.DataFrame()\n",
        "\n",
        "#datetime 만들기\n",
        "dateframe['date'] = pd.date_range('1/1/2023', periods=1000, freq='H')\n",
        "\n",
        "#periods 개수\n",
        "#두 datetime 사이 샘플 선택\n",
        "dateframe[(dateframe['date']>'2023-1-1 01:00:00') &\n",
        "          (dateframe['date']<='2023-1-1 04:00:00')]\n",
        "\n",
        "#새로운 datetime 만들기\n",
        "dateframe = dateframe.set_index(dateframe['date'])\n",
        "temp = dateframe.loc['2023-1-1 01:00:00' : '2023-1-1 04:00:00']\n",
        "print(temp)"
      ],
      "metadata": {
        "colab": {
          "base_uri": "https://localhost:8080/"
        },
        "id": "cGx5EEURteJM",
        "outputId": "88f8676d-31e8-4cd0-8aaa-e6656559803a"
      },
      "execution_count": null,
      "outputs": [
        {
          "output_type": "stream",
          "name": "stdout",
          "text": [
            "                                   date\n",
            "date                                   \n",
            "2023-01-01 01:00:00 2023-01-01 01:00:00\n",
            "2023-01-01 02:00:00 2023-01-01 02:00:00\n",
            "2023-01-01 03:00:00 2023-01-01 03:00:00\n",
            "2023-01-01 04:00:00 2023-01-01 04:00:00\n"
          ]
        }
      ]
    },
    {
      "cell_type": "markdown",
      "source": [
        ">>### (4) 날짜 시간을 여러 특성으로 분할\n",
        ">>- 날짜 시간을 연월일시분에 해당하는 특성으로 만들 수 있음"
      ],
      "metadata": {
        "id": "rxDjrHPOOs0q"
      }
    },
    {
      "cell_type": "code",
      "source": [
        "import pandas as pd\n",
        "\n",
        "dateframe = pd.DataFrame()\n",
        "\n",
        "#5개 날짜 만듦\n",
        "dateframe['date'] = pd.date_range('1/1/2023', periods=5, freq='w')\n",
        "\n",
        "#연원일시분에 대한 특성 만들기\n",
        "dateframe['year'] = dateframe['date'].dt.year\n",
        "dateframe['month'] = dateframe['date'].dt.month\n",
        "dateframe['day'] = dateframe['date'].dt.day\n",
        "dateframe['hour'] = dateframe['date'].dt.hour\n",
        "dateframe['minute'] = dateframe['date'].dt.minute\n",
        "\n",
        "#3개 행 확인\n",
        "print(dateframe.head(3))"
      ],
      "metadata": {
        "id": "W4ux-sdZuPbU",
        "colab": {
          "base_uri": "https://localhost:8080/"
        },
        "outputId": "2184534c-23ad-4ec4-a33f-6d37b05698f9"
      },
      "execution_count": 5,
      "outputs": [
        {
          "output_type": "stream",
          "name": "stdout",
          "text": [
            "        date  year  month  day  hour  minute\n",
            "0 2023-01-01  2023      1    1     0       0\n",
            "1 2023-01-08  2023      1    8     0       0\n",
            "2 2023-01-15  2023      1   15     0       0\n"
          ]
        }
      ]
    },
    {
      "cell_type": "markdown",
      "source": [
        ">>### (5) 날짜 간의 차이 계산\n",
        ">>- 두 지점 시간 변화 차이를 계산함"
      ],
      "metadata": {
        "id": "B8H1csY6QCYh"
      }
    },
    {
      "cell_type": "code",
      "source": [
        "import pandas as pd\n",
        "\n",
        "dateframe = pd.DataFrame()\n",
        "\n",
        "# 두 datetime 특성 만들기\n",
        "dateframe['Arrived'] = [pd.Timestamp('01-01-2023'), pd.Timestamp('01-04-2023')]\n",
        "dateframe['Left'] = [pd.Timestamp('01-01-2023'), pd.Timestamp('01-06-2023')]\n",
        "\n",
        "print(dateframe['Arrived'])\n",
        "print(dateframe['Left'])\n",
        "\n",
        "#특성 사이 차이 계산\n",
        "dateframe['Left'] - dateframe['Arrived']\n",
        "\n",
        "#특성 간의 기간 계산\n",
        "pd.Series(delta.days for delta in (dateframe['Left'] - dateframe['Arrived']))"
      ],
      "metadata": {
        "colab": {
          "base_uri": "https://localhost:8080/"
        },
        "id": "2q_SePaBPZpW",
        "outputId": "f9c57d4e-c876-4993-8b50-510ca4db80ee"
      },
      "execution_count": 14,
      "outputs": [
        {
          "output_type": "stream",
          "name": "stdout",
          "text": [
            "0   2023-01-01\n",
            "1   2023-01-04\n",
            "Name: Arrived, dtype: datetime64[ns]\n",
            "0   2023-01-01\n",
            "1   2023-01-06\n",
            "Name: Left, dtype: datetime64[ns]\n"
          ]
        },
        {
          "output_type": "execute_result",
          "data": {
            "text/plain": [
              "0    0\n",
              "1    2\n",
              "dtype: int64"
            ]
          },
          "metadata": {},
          "execution_count": 14
        }
      ]
    },
    {
      "cell_type": "markdown",
      "source": [
        ">>### (6) 시차특성\n",
        ">>- 판다스 shift 사용해 n기간만큼 차이나는 시차 특성 만들 수 있음"
      ],
      "metadata": {
        "id": "SFwmotT0RKZN"
      }
    },
    {
      "cell_type": "code",
      "source": [
        "import pandas as pd\n",
        "\n",
        "dateframe = pd.DataFrame()\n",
        "\n",
        "#날짜 만들기\n",
        "dateframe['dates'] = pd.date_range(\"1/1/2023\", periods=5, freq='D')\n",
        "dateframe['stock_price'] = [1.1, 2.2, 3.3, 4.4, 5.5]\n",
        "\n",
        "#한 행 뒤 값 가져오기\n",
        "dateframe[\"Previous days stock price\"] = dateframe[\"stock_price\"].shift(1)\n",
        "print(dateframe)"
      ],
      "metadata": {
        "colab": {
          "base_uri": "https://localhost:8080/"
        },
        "id": "aIxeAsBKRQvn",
        "outputId": "48768622-31b7-4de7-bf4d-a8af8477ae94"
      },
      "execution_count": 16,
      "outputs": [
        {
          "output_type": "stream",
          "name": "stdout",
          "text": [
            "       dates  stock_price  Previous days stock price\n",
            "0 2023-01-01          1.1                        NaN\n",
            "1 2023-01-02          2.2                        1.1\n",
            "2 2023-01-03          3.3                        2.2\n",
            "3 2023-01-04          4.4                        3.3\n",
            "4 2023-01-05          5.5                        4.4\n"
          ]
        }
      ]
    },
    {
      "cell_type": "markdown",
      "source": [
        ">>### (7) 이동 시간 윈도 사용\n",
        ">>- 시계열 데이터에서 일정 시간 간격으로 통계 계산 가능\n",
        ">>- mean(1월, 2월, 3월)\n",
        ">>- 3달의 크기 시간 윈도가 각 단계마다 윈도 평균 계산하면서 샘플 위를 이동함\n",
        ">>- rolling() : window 매개변수에서 윈도 크기 지정\n",
        ">>- 시간윈도 max(), mean(), count(), corr() 간편 계산 가능\n",
        ">>- ewm() 높은 가중치 두지만 전체기간 통계 계산"
      ],
      "metadata": {
        "id": "C9dxi9FBRs9k"
      }
    },
    {
      "cell_type": "code",
      "source": [
        "import pandas as pd\n",
        "\n",
        "#datetime생성\n",
        "time_index = pd.date_range(\"01/01/2023\", periods=5, freq='M')\n",
        "\n",
        "dateframe = pd.DataFrame(index=time_index)\n",
        "\n",
        "#특성생성\n",
        "dateframe['Stock_Price'] = [1,2,3,4,5] \n",
        "\n",
        "#이동평균계산\n",
        "dateframe.rolling(window=2).mean()  \n",
        "\n",
        "dateframe.ewm(alpha=0.5).mean()\n",
        "print(dateframe)"
      ],
      "metadata": {
        "colab": {
          "base_uri": "https://localhost:8080/"
        },
        "id": "RT9HoDwNRl4c",
        "outputId": "de007237-bea3-47b5-df84-d959a066a191"
      },
      "execution_count": 18,
      "outputs": [
        {
          "output_type": "stream",
          "name": "stdout",
          "text": [
            "            Stock_Price\n",
            "2023-01-31            1\n",
            "2023-02-28            2\n",
            "2023-03-31            3\n",
            "2023-04-30            4\n",
            "2023-05-31            5\n"
          ]
        }
      ]
    },
    {
      "cell_type": "markdown",
      "source": [
        ">>### (8) 시계열 데이터 누락된 값 처리\n",
        ">>- 보간 방법 사용하여 누락된 값 채우기\n",
        ">>- 시간 일정하고 데이터 노이즈 변동 심하지 않을때 사용하기 좋음\n",
        ">>- 비선형 : interpolate의 method\n",
        ">>- 누락값 큰 경우 : limit 로 보간 개수 제한\n",
        ">>- limit_direction : 데이터 앞쪽, 뒤쪽 보간 위치 지정 가능\n",
        ">>- 누락값 : 마지막값으로 대체 가능 / 최초값으로 대체 가능 "
      ],
      "metadata": {
        "id": "oxhMR3UOSuGW"
      }
    },
    {
      "cell_type": "code",
      "source": [
        "import pandas as pd\n",
        "import numpy as np\n",
        "\n",
        "time_index = pd.date_range('01/01/2023', periods=5, freq='M')\n",
        "dateframe = pd.DataFrame(index=time_index)\n",
        "\n",
        "print(dateframe)"
      ],
      "metadata": {
        "colab": {
          "base_uri": "https://localhost:8080/"
        },
        "id": "8IdhyGQeSioH",
        "outputId": "8a310d88-3364-4a2b-a3ad-b05cdd427924"
      },
      "execution_count": 19,
      "outputs": [
        {
          "output_type": "stream",
          "name": "stdout",
          "text": [
            "Empty DataFrame\n",
            "Columns: []\n",
            "Index: [2023-01-31 00:00:00, 2023-02-28 00:00:00, 2023-03-31 00:00:00, 2023-04-30 00:00:00, 2023-05-31 00:00:00]\n"
          ]
        }
      ]
    },
    {
      "cell_type": "code",
      "source": [
        "#누락값 있는 데이터 생성 \n",
        "dateframe['Sales'] = [1.0, 2.0, np.nan, np.nan, 5.0]\n",
        "\n",
        "#누락값 보간\n",
        "dateframe.interpolate()\n",
        "\n",
        "#앞쪽으로 채우기\n",
        "dateframe.ffill()\n",
        "\n",
        "#뒤쪽으로 채우기\n",
        "dateframe.bfill()\n",
        "\n",
        "#비선형 보간 방법\n",
        "dateframe.interpolate(method=\"quadratic\")\n",
        "\n",
        "print(dateframe.interpolate(limit=1, limit_direction=\"forward\"))\n",
        "print(dateframe.interpolate(limit=2, limit_direction=\"backward\"))"
      ],
      "metadata": {
        "colab": {
          "base_uri": "https://localhost:8080/"
        },
        "id": "rtDobTjHTY-_",
        "outputId": "775606fc-859c-473d-ac5f-152d333b5aff"
      },
      "execution_count": 21,
      "outputs": [
        {
          "output_type": "stream",
          "name": "stdout",
          "text": [
            "            Sales\n",
            "2023-01-31    1.0\n",
            "2023-02-28    2.0\n",
            "2023-03-31    3.0\n",
            "2023-04-30    NaN\n",
            "2023-05-31    5.0\n",
            "            Sales\n",
            "2023-01-31    1.0\n",
            "2023-02-28    2.0\n",
            "2023-03-31    3.0\n",
            "2023-04-30    4.0\n",
            "2023-05-31    5.0\n"
          ]
        }
      ]
    },
    {
      "cell_type": "code",
      "source": [],
      "metadata": {
        "id": "hYsmsPf8T6Ch"
      },
      "execution_count": null,
      "outputs": []
    }
  ]
}