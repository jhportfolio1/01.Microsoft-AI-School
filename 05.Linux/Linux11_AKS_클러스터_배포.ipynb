{
  "nbformat": 4,
  "nbformat_minor": 0,
  "metadata": {
    "colab": {
      "provenance": [],
      "toc_visible": true,
      "authorship_tag": "ABX9TyP2fjvgPZF7CIEEDXbSpj/4",
      "include_colab_link": true
    },
    "kernelspec": {
      "name": "python3",
      "display_name": "Python 3"
    },
    "language_info": {
      "name": "python"
    }
  },
  "cells": [
    {
      "cell_type": "markdown",
      "metadata": {
        "id": "view-in-github",
        "colab_type": "text"
      },
      "source": [
        "<a href=\"https://colab.research.google.com/github/jhportfolio1/MsAiSchool_05_Linux/blob/main/Linux11_AKS_%ED%81%B4%EB%9F%AC%EC%8A%A4%ED%84%B0_%EB%B0%B0%ED%8F%AC.ipynb\" target=\"_parent\"><img src=\"https://colab.research.google.com/assets/colab-badge.svg\" alt=\"Open In Colab\"/></a>"
      ]
    },
    {
      "cell_type": "markdown",
      "source": [
        "# 1. Azure 추가 개념"
      ],
      "metadata": {
        "id": "N2NtcmMoO-8N"
      }
    },
    {
      "cell_type": "markdown",
      "source": [
        ">## 1) Active Directory (AD)\n",
        "- 데이터베이스이자, 서비스 집합"
      ],
      "metadata": {
        "id": "ooXq74sI66Wb"
      }
    },
    {
      "cell_type": "markdown",
      "source": [
        "- 데이터베이스(=디렉토리) : 한경에 대한 정보\n",
        "> 사용자와 컴퓨터 목록, 등"
      ],
      "metadata": {
        "id": "EyOfRUa26-YN"
      }
    },
    {
      "cell_type": "markdown",
      "source": [
        ">## 2) Azure Active Directory (AAD)\n",
        "![image.png](data:image/png;base64,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)"
      ],
      "metadata": {
        "id": "i_IadqXW7Kg0"
      }
    },
    {
      "cell_type": "markdown",
      "source": [
        ">## 3) Virtual Machine Scale Set (VMSS)\n",
        "- 자동으로 가상머신 수를 조정함\n",
        "- 트래픽 조정(Scale out) : 부하분산기(Load Balacner)를 통해 조정 "
      ],
      "metadata": {
        "id": "8LqdeKZvPF_k"
      }
    },
    {
      "cell_type": "markdown",
      "source": [
        "#3. Azrue Kubernetes Service (AKS) 클러스터 배포"
      ],
      "metadata": {
        "id": "ljtoZ0p5ENfe"
      }
    },
    {
      "cell_type": "markdown",
      "source": [
        "- 쿠버네티스 클러스터 만들기"
      ],
      "metadata": {
        "id": "wGQauwcjEXS-"
      }
    },
    {
      "cell_type": "code",
      "source": [
        "az aks create \\\n",
        "    --resource-group myResourceGroup \\\n",
        "    --name myAKSCluster \\\n",
        "    --node-count 2 \\\n",
        "    --generate-ssh-keys \\\n",
        "    --attach-acr <acrName>"
      ],
      "metadata": {
        "id": "Wt-zkDoUEWDj"
      },
      "execution_count": null,
      "outputs": []
    },
    {
      "cell_type": "code",
      "source": [
        "az aks create \\\n",
        "    --resource-group RG97 \\\n",
        "    --name labuser97aks \\\n",
        "    --node-count 2 \\\n",
        "    --generate-ssh-keys \\\n",
        "    --attach-acr labuseracr.azurecr.io"
      ],
      "metadata": {
        "id": "eV22xICyEdwI"
      },
      "execution_count": null,
      "outputs": []
    },
    {
      "cell_type": "code",
      "source": [
        "az aks create \\\n",
        "    --resource-group RG97 \\\n",
        "    --name labuser97aks2 \\\n",
        "    --node-count 2 \\\n",
        "    --generate-ssh-keys \\\n",
        "    --attach-acr labuseracr.azurecr.io\n",
        "    --location westus3"
      ],
      "metadata": {
        "id": "Mau5KfNeKa7v"
      },
      "execution_count": null,
      "outputs": []
    },
    {
      "cell_type": "markdown",
      "source": [
        "![image.png](data:image/png;base64,iVBORw0KGgoAAAANSUhEUgAAA6wAAADKCAYAAAChfs2eAAAcv0lEQVR4nO3dPa7kupkA0OrGjYya6EXGW8RsoSNv5SWznEm8FUe1hVmE4cjRA5z2BIau9XT5K5ISpToHaHR3SSI/UpRKX+nv2/P5/PkAAACAyXw/OwAAAAAIkbACcAmv1+vsEACAg31JWP/0t68zhT47Q0kcf/rbf/6MqKO1L1LLl8S+p/5Z1l/Kuu3beLfTatfvUe2fqZ//+39+PzuE6ZT0iX7rJ9SXe/v39Xp9Jqvrf1/BlWJtMaqd63Jj/wbg3j7ODqCnP/3t8fjXX86OIqwkEV7HPnNbegu1df1ZqB9mSg6BcV6v1+PHjx/JfwMA9/XlDOu7JEl77e2ff/0lvmwoYfvXXyRlMXdN5nudMfjv//n98X//+19dyno3+m0s/QsA1LrVGdY7WJLUOyZkAL1c+eyqs8Nl1peBbz8D4H18SVhTZ6/WZ/xCl6/GpueWz5Wx/mzP9JJppfb0T23ZPe5Tren/3CW5reWvy+vVR3s/C9WdWz4Xe8n4LIkvdQC73Pu3PkMVOpMaO7u6vXdwW07IMk9JPcv/12WFlolNS0m1KdaO2Oe5GFJtLVl2mVZ7lju3flL1l8aXq791/ZXUv2d8/vjxoznB2yY567JiCVBNfanyQ/Nup9csvyeGpc71PKkYauKLJZM15cds1/323wC8h+IzrLl7LFv/H/vs8Ugf+JdML62/xZn3oJYmnHvj61X+mZfytq6f1PIl46/F+iB/T1KSSzhLEoi99cSmxdq0tbeNofa1XCqdKn/7/217cu2r+UGgRzzb+mNltMZTqqT922SrRixBXD4LJU81deXK3zNvbYJeUkaqzNS8pf23t/xS66Tb2WmA91KcsOYOxGP3YK7/jk0vrWOv0vpnLT+npI7e8eWSv5r1e8T9uq3tP/MS7fWBeyrhiiUce8+21ao5q7ZO1HJ1hZK6bUKWKr+Hmn6vPdtZEmOufS39m4sj17+p6XuFYlmSldqEZW9i1Lv8mnJbk9VQGaXJ5DLv8nlrcpgrHwBy3MN6EyMTvnVCWXI59N46cuXd9WFLRyhNHkY9sMnrYtJm75+R8a2T25KxtyfZKT1jujeJypWfKnd99visBK4k/pHlA0CKhHUi27PSpXL3a/aKbV1u6IwlbVrOONRczrl8VlNGq9Zyc2f0rqx0/ZxpdH9vL1/O1VeTtJbcMxqbr0TpPam5pHW93NGJa+s9ty3llyy7vQTZ2VmA9/LltTZ7bRMkZ8P2Wd8XOWP/LXH1TIi9vud8d0sCj7S9/HVEshm6LzZ1z+hV1+dyCfO6PUecnTsiASq5D3e5BNcZSQD4j24J65LELH+29y6emdCOrr+1/FgCODIprH3oUsoR8be6wg8qI86uHrF8Tux+xtrEruZ+yaMTtiWGUfWuy0/1wYgYcusv1v+lzj6bfOTZulAy2pqcxhLc0nJblz+7fADur+slwakEoMcrTVrK6FH/yPJDSV9Lwrt9qFAqvtwZ05LYRsRfquSMb0v798YR6/ujhRKKbfIXShrWD/RpTSpiMfRS8qCj1le/xNQ+3CgX1/qz0gdulUxvkVt/ob4tHTO5srcJT+1ls6GEKfS6lNByvcpPTYstX6O1jNType1LvTanRxsBeF/fns/nz8cj/1CdlBnPVgEcZWQynjtjetXLf/dw7yIAvJ/PhBUAAABm0u0eVgAAAOhJwgoAAMCUvIeV2yt9oErsgSGhMtbTY0+7LL3Xbvvwl9C/AQDgHX08Hg6Mub9QArpNOmP/D20f26d8bnllAwAAtPv+ePznkfMOsnkX69cshBLS2LsDS/gBCAAA+vi8JNhliPBHR2wH66R5+xkAALy7L/ewrs8svVPiuiTqpfcx1tzjmFs+d8npnvhq4y+xHhet8dW0v6TsWdT+4LPty+2/AQDgnQUfunS1s62pA/vcpZ25xCk2reYex5L/l6iJLxdjaWJUk0jt7b8SPfqvNNazrBPz2WIDAIAzBBPWq51hzcVZ2o6aZDCXWOSSqz2JSU186/lz9edi2C4f+xGgZ//lyq5dvuQMeGjepX+c7QQAgON9SVid3QkrPYs7a9+9e8KVOwMemrfm8utcmQAAQL3PhHX2hOtspWdxZ+3H2eI520yX3m5jmSk2AAA40/fH41F8aSh5d7yEdNueM9q2rfPIhO5O6xIAAK7k8z2sxMUS0NArSUqX75lw5eLLTa+pY0/cPdq/rr93shqLDwAAOFfwoUt8FUpqtpdwhqbFli95iFGv+EpjjOlxBr5H+0f+sBKKL5Xw+5EHAADG+/Z8Pn+eHQTzOzNhcz8nAAC8JwkrAAAAU/p+dgAAAAAQImEFAABgShLWi9nzcKYrPPF2/QTg0BN7Q39qyh4p9sqfK/Q7AADM7OPx8FAbzhUaf+vPQmNTMggAAPf3+R7W2rNWcBY/sAAAwHv4fA/rkgBIBngHvcb58iOPS4EBAKC/j+0Hy9nW5d/vYEle1olG6BLVtfX07XKx/kuV36rkPamx+nOX5LaWvy6vtQ9iiWbNe2Jj7S1dfjvfurztvwEAgP2+JKyPx/XOtqYSg22SFJq+lBFL4koSuljCUlJ+q9KEc2/9vcofNZ5q6iqdd0+s66T8CtsNAADMLpiwXu0May7Oknak5mnth1AC0zOx2dO+1vpzyWmo/FhduR8VamJJqWnvVcY+AADc2ZeE1dmhsNbLO498tUpvJZeJt9afu0R3+Wxv/all3/EyeAAAuILPhNUBe1zJPY85I/u1R3w52/syQ2dUz1J6T2ouaV0vV9OebdkuCwYAgD6+Px7/OeB3gE3OMk56JsRHPZyoJO4R7QMAAPb5fA8r48QSoCOTom1dtQ9dSpmhfaVCsc4YJwAAEHnoEn8USnJqL/uMlXFUfKlXypQ8STkXe0v7Wvumdv3k+qa2fgAAYIxvz+fz59lBAAAAwNb3swMAAACAEAkrAAAAU5KwAgAAMCUJ60B3e/psS3ter9cf/uytN/ZvAADgfj4ej7pXnECt0Pgy5gAAgJzP97DuOfMFAAAAo3y+h3U52+XMF721jKflRxSXAgMAwPv52H6wnG1d/v0OliR9nQiF2j56ekmca6HLbEPTcpfk5tofSxaPGB9LXKEfVCSuAABwb18S1sfjemdbU4nLNhELTV/KSCV5e/6/jTE2/574QmXkktSU1PK9x8PectaJ9RXGJQAA0CaYsF7tDGsuzpJ2pOYJJUjrxCk1vWT5XHyxBC2VSNYmdketa8kmAABQ6kvCKqEYw+WrxhYAAFDnM2G92lnVq3n3fm1JVrdni10WDAAA78F7WBnO+AIAAPb4fA8rcaEHN4XO+G2np5bfzlNb/3r5XHwAAABXFHzoEl/lXnsTmp5LWmsSytzyqfhyT0reG0PtU4hD5QEAAMR8ez6fP88OAgAAALa+nx0AAAAAhEhYAQAAmJKEFQAAgClJWG+kx4OVRmiNa9Z2Ldbxxf4NAADU+/54OLAGAABgPp/vYX29XhJXAAAApvH5HtblnZiv18v7MZneLON0+ZHHpcAAANDfx/aD5Wzr8u93sm53KCFaJyLracu8sem55UvK2CZBsWm5OlLxpaTqL5neWv+2nJryU/Ovf6hZK41vO1ZSZQIAAHW+JKyPx/XOtqYSg20SGJq+lJFKNLZ90fv/sc9K5i1ZX6n6S/ovVX9JW1rqT5VbWl9KzbooKecq2w0AAMwumLBe7QxrLs7c9G2CsU1yQwnINjFJ1VGyfKqM1vWQq39P+bV9npq/JbGMfb5tX21Ce5WxDwAAd/YlYXV2KOzsV7OcuXzuMvEjLiPPjcuR7QMAAM7xmbA6YE9r7Zfe92zWJmi94o+Nk9z0VrlLbUvO+KYu2W2JP3S23Q8/AADQ7vM9rHsvDb2D0CXAhK0vsd0zvbXu0etmZPwAAECdz/ewvrslSUndD7lVmtS0Lt+qtf7cfEcmd6G2lLYv9QApAABgPsGHLr2bkjPMsUSpVMvyqSQt9bCo1LQe9fcoe4+SttfEcHT8AABAmW/P5/Pn2UHMQMJyX73e/woAABxLwgoAAMCUvp8dAAAAAIRIWAEAAJiShLXCWU/LvdNTbPe05U7tZyxjBQDgXj7fwwoAAAAz+XwP6/IOUoCr8hRoAIB7+bwkeHkPqaQVAACAGXxsP1gnre90tiL1Htb1tNA7PXPTc+WXztPyPtHW+l+v15cfNHqOj9r4QrFt523p/1h5o9Zva/+Wjt/QPKX9l4svF/sR4yvUltL4AACYz5eE9fFIH8jOKHVWOHfWeJmeOmDP9Uduek1CEJsnNX9r+1pi7GFP3TWx9Cp/5PqtbVNN/SXJ4956YtNmGl9H1wUAQD/BhPVqZ1hzcbZOb5UrP5cI58pobV9J/SXl7FVSbiiWlqQjl7yEyo/VdXb/7jnbvqeu0mR1mXd91vTM8VW6fgEAmM+XhPVdD+JG37t79r3BZ9efMzK+ksvcW+s/u39L6x95lhwAAHr7TFivdla1p9jlilcpf/b6c46Ib3v5dM+ze2f3b2n9I3+Mesf9BgAA4308Hu97VpX3c7X7s3t5t/YCAHAPn+9h5TyxB0MddZbu7PpLbGOpfehSyuj29yy/98OSesi17+z2h+qXwAMAXEPwoUvvJnRAG3voTurVGLHpJeXH5unh7PpHxJdaL6Xl187TM/6a8nvUH+qfVGy9YiidPlpu2wUAYE7fns/nz7ODAAAAgK3vZwcAAAAAIRJWAAAApiRhBQAAYEqfCes///7XL3/WUtO38+Y+3zvfEWLtX0/PLX+mPX1+dswhNf0/S/wlceTGV2sdrX0x4za7p67WfdLeekebKaae6yU130xtXtg/7avD/im9zNX3TyOM7pPZ+3H2+O6idz+fvd7Orj9lb2wfy8K//PpbsNBffv0tO/0u7tYe5jLz+Jp55waMZ/8EwKxcElxp1i/0GjMfmDwe6fhmjnsGe/vnl19/K17W+GEk4+u+7J+MH+B9teyfkwlrrtCRO1e/qAIAALy3j8fjkbzst2R6b6lLkNcxlcxfEnPsfqnel0Gnyt4m6C2/ROdiiM1T0vbQ9O3ny/9TbUzFkGrDnvjXl7an6s+tn1gZufFTOr5K+ienZf22lp9bbm3P+D9r/JTIjbEe7d8TV0n5PbaPUvZP4fjsn+yfctOvsH/aW3dsPMdiGHGGeu/xWenxZ+v4bt0/t+5/SuOL5Qtn7f+2y6amtez/9vZfbvz3+n5u6b+SNmyXKd2ua8r/WAcX+yIvmd7rjGjNxt8rgd4OjBFS8fdcsSPiK/l/qC2pNvZuX2v8JfHFYs6Nn5LxdXb/jFS6Q04tc0b/tJaR+vzI7b9H//bonxb2T/ZPo9g/jd8/tfbPmePvCu0/Yv9SGl9obJ65/8vN22P/N/r7sbX+lv6riW1d74jjlz9cEvzLr/++TyTW2anpy7T1n5bAcp+v4wjFdHTCl5KLP2RE7Kk+SdW3J/49y7ess9xyqfpL4xs1nlr796jye25Te9ZXTo8dbk19WzXLhJKpUUrK37P992b/FK7f/ml/OXvZP/XdP7Wu35HjL1R+6bRYLLmEt2f7c+WX1N+yjmM/Dsam19bfuv9rHb97+7enlu/n0d8f23Ufy/967J8/Qh8ujUkNgNG/cIWmX1kuOV0n33d09fXHfrnxfffxX9K+0duH7S9N/7wv+6fz90+za23/2fv3s9ff2f139vJnu3L86/1TMGFdz3RU0lpSX+nyM51dXZT+Yjvqi/HsPsnVfXZ8pLWun9z4bh3/s4+fVPtil+f0Mrr8Hs5ef/ZP12b/1ObM/dPsStqfO/4cve5rrwg4Wmv9Pc8AL58dVf8Mzo6/1/75+1JYrrIj9L7M44qW0+nv3g+9zXzJ+DvJje+7j/+7t4997J/mYP80pn3G931tx8tdtw3ON917WGPXVoc2gtSvXDPJxX/E5SKtv260fOGUtP+IXyD/+fe/fv7ZXnd/5hfq6Ppby6+dt+SzmukldY4Y371c/Qv8iP6xf7J/2lu+/VObI8pKje895c58nBc6u7pn3KXmXdeTK79H/Tnr9du7/UfE31L/6O0zJ1f/2f3Xc//8h9fabOU2iFE7jNCGH0tkryIV/xXato2xNr4Z2piqr7V9rWX0qP/M8mvq3tY/y9go2cn3KHv5LDe910FZj/JH9k8P9k9l5ds/5eve1j/L2Lj6/ik2b0lbZhwfrT+K9dz+zhzDSz/U7L9q629ZvnT9pfq4tn9rts8e23Ku/hn2YXutY//2fD5/nhxPs7N2ZBxn/WvWnmWNC/ZKfZkYVzwe9k+cZ/b9k/F9f1dNhriWWySsAAAA3M9097ACAADA4yFhBQAAYFJFCWuvm/tneEjH6CcC7rV+gt7yp3R6LOYZ+nsmo/vjrPWQq/fIuEq2r9D4Psodt4mWp01eTSr+s/eDV+/bs521n7yTPcc3R/bLlddByXfXrH255/hxRExnbuO+H9qctW6/PCWYc8UeSrB8npsOV2C8AnA12++uK32XOX7kLlwSDG8gdMb+Hb37F/TV23/1+OFMtp96ocRuttd68W/G971JWCeW2/hsnDwe8RdHGx8A1Bp1u4hEbx6OD7iaz0uCS96jtPd9p7Hr5bdltLxP9Yj3QMXia73kIvcS6j0v6a5Vu/5D89RMb1k2Fl/M6PHXq/yR7xNej6GjDxxK+ye1fKgvt9vgWqzsVFml66d2e4y9wLs2/pbtaz1Pa/tzdafqL40pF2us7hHbXy6OXuO7tf9jZbSOv9b4csu39l9J/CXl7+3fXP3beWL7j5H7/3UdubJT2+OiZ3yx76H1+C3Z/+fGaO/4W45Ra/YvueVL4ixd76nyjxifIe/+/bBdLlb/qPwpF39J+3od33ws/yjdIcT+n5La8fQov3TgtiiNb2+9sQOJ0uktycee9b/9rHZ6y7Kxz2JGj78e5bfUP7uS/mnRY/uvWR97trVQH6y/aHpvfyPbn6t7T/0ty529/fUY3z3iS9Xfe/z1/H9r/+Xi77X/bzlwzu0/Ztn/l7axZ3y9jmdGfb/3MGL/XKPk+PEKxyfv+P0wOj9r3X/mpvc8voleErxdeOTgDAW73sByRm84rfGV+uXX35LlpqYv09Z/aupN2TtQU9Nz/ZeLqec6P2L9puLtUf96/tT6uFMinLL3Sy1k22e9+691++sRU+/xOdsYG739tUrVXxrf3j4vWa61/44eDy3JwLJ8af/Wbr8lifDR4y8WR+zz2vi2B8CpZfd+R5UmIyUx9NRaf2z5Wrnjx9r6jx6fI83c/tb988hle5Rfc3zzsfwn9evLFdxt48n9Wt478Rjdf7mD29T4u8P4zLnT+D3aHcbH7Ou/Zful3Zn75yOWbzHD+Lty/y315w7aZ4ijpVz+bc/xo/471+z7/6PK/7yHdX02bP3/K4idTj4rjh473SOT1iP6r/SMaWz8XXl8lrhbe4525fExy/4rpXX7LdFz/3k3I/ujx/g7e32duf3fpf9yxxutcn0ycrsflQSfvd72qt3PztDOd/1+GH18cKXyv1wSnLpsgLBQf9VeQ94y/U5y48/4jCvZmd99Rz9ifGzLM/bi9vR/6/7zDt69/b3M+P1wlf3HqH5bxvL2z7ZPjPcxZh1vpXw/sPj+eJw/oGcfkKXxre/RuJPYF9n61+yW6Wcn7GePv1z/HOnsfcEeR8S8rKMz9ktnj4/W7bemnvXfRzl7+1/HEBpjZ6//nLPja63niPWf2n+c3X+5WEbHN3pba42/dXyMWv4os4zPd/5+uLOa8fXlHtZ1IaMDS30p19Sf2sn2akdLfLVlb+vITR9R/7b/cmOkZXpr2aVGjb8eZRy1DV5R7pf/0X23PkMwQo/tb7SW7fcoPbe/koSxZ/25+Uf2cY/vzx7x7e2/0rrPOv4o2X/Msg2tYxnxHRyz5/inRmv8Pbbtlv1LaPmWhHsbw54yrnZ8ctXvh9H5TWn5ufhj03se33x7Pp8/axoH8G6u/mXNvPxaf3/2HwBtJKwAAABMKfoeVgAAADiThBUAAIApNSWse26EXz8JcU+Znpxab3T8V++fs12l/64SZ4vc/qlH+Wcpqfsd1jEAcC0fR1bm4RLArOyfAADmM90lwQ4YAc5h/wsAzGa6hJV7cGlhG/0HAACbS4JzL7Xd+9Ld9XIldez9lb/lxc4l70lLlZ9bfv0S8ZIyRpzpaIm/dJ5lvtrxEeuv9b9bxl/JWIuVn4uvR4yl8ZbGt/285T2Apdvv6O2vZfnU9CPaV6Jm/7udp0f7lump7TpWfq+xDwCw9Zmwxg7AU/8vtU08RsjFW7NsSXmhhKq2zF7xl2iNv0cbW5zZP3vL6BFHj/ha11PJ9ntmfKU/eMSmj27fnjbUbH892tc7PvcDAwC9fH88wgcX61/MY9NnkYt/j5r21h74b42IP1f3uvxc/LGDz6OS1VBdNf0TmjeX0Ozp/6OS1W18ufaNiLUmvpwRY2Zd5oj10nP73LP/XeZZ/z1KSftn+j4AAO7lD2dYr6w1OS1N3kbU32P5Vj3id9C6X67/zh7fo41u39W3z5zZ4wMA2OszYZ31QLZUa/zrs2215cUuydtT/xl6xT9z0rqOb8Y4c3Hl4s21r2V8j9Zz+wm17+rbZ06P9gEAzMpTgjd++fW37pfjvouR/VZ7yesVHTHu7j6+794+AIB38/3xiB8o5+6Rm0Uu/pyz21IT/95YWxK+mvhGJQtLucufPclq6uzjLAlxKJbS/k89gGeks/vvjPb1rDfXf6Prb40PAGCkP1wSHDoAjk2f7SxGLv5Ry6aWb00Kex4Qph6SUhJ/TXw92h6bb5Ta/hkp1H9nju9YObn9w95y15+VlFO776otv6SOVrn+S9Vf2r6e60iyCgAc5dvz+fx5dhCUedezGq3tvvuB9t3bBwDA+5KwAgAAMCUPXQIAAGBKElYAAACmdFjC+nq9vvwJzTM6hh7zAAAAMN5HfpZ2r9fr8ePHj+LPAQAAwCXBGxJoAACAOZyasEoOAQAAiDnstTapy39j942u59/Osy1rKX893zJPSfmpOFNlh9qxzCshBwAA2K/oHtbUg4hKk7J1wrddZp1Y1iaRuc9Kyi+xXTb1fw9uAgAAaFeUsPY6U7g3caxJikdJlb1tz/ZsLAAAAPUOeUrw1p5LZiWAAAAA7+WUhPXxqEtaY5f/AgAAcF+HPCX47snl9hLgu7cXAADgCN7D2smStLY+HTiX7EqGAQCAd3HIJcGxhxCFnhYcenVMaPk998GWvJpmjyUOr7EBAADo57D3sN5d7j2xAAAA1JGwAgAAMCX3sAIAADCl6oTVQ38AAAA4wiEPXSp54NJRWp/iCwAAwDEOSVgfj68JqsQRAACAlNPuYY296uaIegEAAJifhy4BAAAwpSkS1tCZ1vVny79fr9fnn9C8semldeWWX0/z8CkAAICxDruHdav2Htbt/LX/71m+ZBUAAGC8wxLWbZJXey9pbv7We1NTy2+T17PuvwUAAHgnnhIMAADAlN7uKcEAAABcwxQPXZrdNrmWaAMAAIz38Y9//CM5w5///OeDQpnbOmltOTucuxTapdIAAAD/dtpTgtdmvzx4SSIlkgAAAMf59vvvv/9MzbA9w/quZwBbn3IMAABAneqEFQAAAI7w7fl8JhNWAAAAOIOnBAMAADAlCSsAAABTkrACAAAwJQkrAAAAU5KwAgAAMCUJKwAAAFOSsAIAADAlCSsAAABTkrACAAAwJQkrAAAAU5KwAgAAMCUJKwAAAFOSsAIAADAlCSsAAABTkrACAAAwJQkrAAAAU5KwAgAAMCUJKwAAAFOSsAIAADAlCSsAAABTkrACAAAwJQkrAAAAU5KwAgAAMCUJKwAAAFP6fwElyUgPXH0QAAAAAElFTkSuQmCC)"
      ],
      "metadata": {
        "id": "vKZxmj1DEtHC"
      }
    },
    {
      "cell_type": "markdown",
      "source": [
        "- 클러스터 연결"
      ],
      "metadata": {
        "id": "wtVUFs8fICLo"
      }
    },
    {
      "cell_type": "code",
      "source": [
        "az aks get-credentials --resource-group RG97 --name labuser97aks2"
      ],
      "metadata": {
        "id": "C7tDTzWREtTL"
      },
      "execution_count": null,
      "outputs": []
    },
    {
      "cell_type": "markdown",
      "source": [
        "![image.png](data:image/png;base64,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)"
      ],
      "metadata": {
        "id": "xBdoMxXkRlR_"
      }
    },
    {
      "cell_type": "markdown",
      "source": [
        "- 쿠버네티스 CLI 설치"
      ],
      "metadata": {
        "id": "qiBsT7oqUqMt"
      }
    },
    {
      "cell_type": "code",
      "source": [
        "az aks install-cli"
      ],
      "metadata": {
        "id": "Qu00u7yBRldj"
      },
      "execution_count": null,
      "outputs": []
    },
    {
      "cell_type": "markdown",
      "source": [
        "- 클러스터 연결 확인 "
      ],
      "metadata": {
        "id": "r_tNs2euUvWQ"
      }
    },
    {
      "cell_type": "code",
      "source": [
        "kubectl get nodes"
      ],
      "metadata": {
        "id": "fR4Xx37-Ux4G"
      },
      "execution_count": null,
      "outputs": []
    }
  ]
}