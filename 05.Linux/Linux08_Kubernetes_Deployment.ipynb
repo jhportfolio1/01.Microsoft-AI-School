{
  "nbformat": 4,
  "nbformat_minor": 0,
  "metadata": {
    "colab": {
      "provenance": [],
      "authorship_tag": "ABX9TyNHcceVmik3tkyKMdWE/QfH",
      "include_colab_link": true
    },
    "kernelspec": {
      "name": "python3",
      "display_name": "Python 3"
    },
    "language_info": {
      "name": "python"
    }
  },
  "cells": [
    {
      "cell_type": "markdown",
      "metadata": {
        "id": "view-in-github",
        "colab_type": "text"
      },
      "source": [
        "<a href=\"https://colab.research.google.com/github/jhportfolio1/MsAiSchool_05_Linux/blob/main/Linux08_Kubernetes_Deployment.ipynb\" target=\"_parent\"><img src=\"https://colab.research.google.com/assets/colab-badge.svg\" alt=\"Open In Colab\"/></a>"
      ]
    },
    {
      "cell_type": "markdown",
      "source": [
        "# 1. Deployment"
      ],
      "metadata": {
        "id": "r5zSQGJyjXWf"
      }
    },
    {
      "cell_type": "markdown",
      "source": [
        "># 1) 디플로이먼트 개념\n",
        "- Pod 와 Replicaset에 대한 관리를 제공하는 단위\n",
        "- 관리 : 셀프핸들링, 스케일링, 롤아웃 같은 기능 포함\n",
        "- Pod를 감싼 개념"
      ],
      "metadata": {
        "id": "LDKwDfVXjsD3"
      }
    },
    {
      "cell_type": "markdown",
      "source": [
        ">## 2) 디플로이먼트 생성"
      ],
      "metadata": {
        "id": "EPLQ_tY_j2lQ"
      }
    },
    {
      "cell_type": "markdown",
      "source": [
        "- Vi editor에서 작성"
      ],
      "metadata": {
        "id": "Orvf50-ljbFe"
      }
    },
    {
      "cell_type": "code",
      "source": [
        "vi deployment.yaml"
      ],
      "metadata": {
        "id": "I2EC1bpDjYs5"
      },
      "execution_count": null,
      "outputs": []
    },
    {
      "cell_type": "code",
      "source": [
        "apiVersion: apps/v1         #쿠버네티스 리소스의 API 버전\n",
        "kind: datemetadata:         #쿠버네티스 리소스 네임\n",
        "  name: nginx-deployment    #메타데이터 : name, namespace, labels, annotations 포함\n",
        "  labels:\n",
        "  app: nginx\n",
        "spec:                       #메인파트 : 리소스의 desired state 명시\n",
        "  replicas: 3               #동일한 template의 pod 3개 복제본으로 생성\n",
        "  selector:\n",
        "    matchLabels:\n",
        "      app: nginx\n",
        "  template:                 #pod의 template\n",
        "    metadata:\n",
        "      labels:\n",
        "        app: nginx\n",
        "    spec:\n",
        "    containers:\n",
        "      name: nginx          #container 이름\n",
        "      image: nginx:1.14.2  #웹서버\n",
        "      ports:\n",
        "        containerPort: 80   #포트넘버"
      ],
      "metadata": {
        "id": "wrvo52Eqjcsw"
      },
      "execution_count": null,
      "outputs": []
    },
    {
      "cell_type": "code",
      "source": [
        ":wq"
      ],
      "metadata": {
        "id": "RmXBE0gtjfBh"
      },
      "execution_count": null,
      "outputs": []
    },
    {
      "cell_type": "markdown",
      "source": [
        "- 확인"
      ],
      "metadata": {
        "id": "SYcn4RK1jfaG"
      }
    },
    {
      "cell_type": "code",
      "source": [
        "cat deployment.yaml"
      ],
      "metadata": {
        "id": "s0KHWXDpjgdG"
      },
      "execution_count": null,
      "outputs": []
    },
    {
      "cell_type": "markdown",
      "source": [
        "- 콘테이너 생성"
      ],
      "metadata": {
        "id": "8zS9P73CjiVu"
      }
    },
    {
      "cell_type": "code",
      "source": [
        "kubectl apply -f deployment.yaml"
      ],
      "metadata": {
        "id": "2QdiML1fjhc7"
      },
      "execution_count": null,
      "outputs": []
    },
    {
      "cell_type": "markdown",
      "source": [
        ">## 3) 스케일링"
      ],
      "metadata": {
        "id": "HejR1SnIkS2Z"
      }
    },
    {
      "cell_type": "code",
      "source": [
        "kubectl scale deployment/nginx-deployment --replicas=5"
      ],
      "metadata": {
        "id": "eNkkt1v6kUjr"
      },
      "execution_count": null,
      "outputs": []
    },
    {
      "cell_type": "markdown",
      "source": [
        ">## 4) 강제 삭제"
      ],
      "metadata": {
        "id": "o6Bosef_ldRM"
      }
    },
    {
      "cell_type": "markdown",
      "source": [
        "- POD 삭제"
      ],
      "metadata": {
        "id": "kdiF2UBmmrco"
      }
    },
    {
      "cell_type": "code",
      "source": [
        "#kubectl delete pod <pod-name>\n",
        "kubectl delete pod n"
      ],
      "metadata": {
        "id": "hFTbUnBOlvnm"
      },
      "execution_count": null,
      "outputs": []
    },
    {
      "cell_type": "markdown",
      "source": [
        "- Deployment Auto-healing"
      ],
      "metadata": {
        "id": "ai-9mPgXmQIw"
      }
    },
    {
      "cell_type": "code",
      "source": [
        "#기존 pod이 삭제되고, 동일한 pod이 새로 하나 생성된 것 확인\n",
        "kubectl get pod"
      ],
      "metadata": {
        "id": "QTuhUxnlmQ9d"
      },
      "execution_count": null,
      "outputs": []
    },
    {
      "cell_type": "markdown",
      "source": [
        "- Deployment 삭제"
      ],
      "metadata": {
        "id": "wxwIUsFcmuId"
      }
    },
    {
      "cell_type": "code",
      "source": [
        "kubectl delete deployment nginx-deployment "
      ],
      "metadata": {
        "id": "9RzvKK48mni7"
      },
      "execution_count": null,
      "outputs": []
    }
  ]
}