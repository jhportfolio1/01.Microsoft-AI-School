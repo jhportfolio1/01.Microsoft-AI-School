{
  "nbformat": 4,
  "nbformat_minor": 0,
  "metadata": {
    "colab": {
      "provenance": [],
      "toc_visible": true,
      "authorship_tag": "ABX9TyOilg0h4FY3ZVRuInFjSeKy",
      "include_colab_link": true
    },
    "kernelspec": {
      "name": "python3",
      "display_name": "Python 3"
    },
    "language_info": {
      "name": "python"
    }
  },
  "cells": [
    {
      "cell_type": "markdown",
      "metadata": {
        "id": "view-in-github",
        "colab_type": "text"
      },
      "source": [
        "<a href=\"https://colab.research.google.com/github/jhportfolio1/MsAiSchool_05_Linux/blob/main/Linux07_POD.ipynb\" target=\"_parent\"><img src=\"https://colab.research.google.com/assets/colab-badge.svg\" alt=\"Open In Colab\"/></a>"
      ]
    },
    {
      "cell_type": "markdown",
      "source": [
        "# 1. POD basic"
      ],
      "metadata": {
        "id": "36Nm8YtYSTlS"
      }
    },
    {
      "cell_type": "markdown",
      "source": [
        ">## 1) 개념\n",
        "- POD : 쿠버네티스에서 생성/관리/배포 가능한 가장 작은 컴퓨팅 단위\n",
        "- 쿠버네티스 Pod 단위로 스케줄링/로드밸렁신/스케일링 함\n",
        "- Pod는 Container를 감싼 개념"
      ],
      "metadata": {
        "id": "raLOpIV1SdPJ"
      }
    },
    {
      "cell_type": "markdown",
      "source": [
        ">## 2) 실습 (in VI Editor)"
      ],
      "metadata": {
        "id": "ANqctC-YSuW0"
      }
    },
    {
      "cell_type": "markdown",
      "source": [
        "- VI 에디터 .txt 에서 생성"
      ],
      "metadata": {
        "id": "YHTVHGd-Uk1V"
      }
    },
    {
      "cell_type": "code",
      "source": [
        "vi pod.yaml"
      ],
      "metadata": {
        "id": "5n-rttTrViuI"
      },
      "execution_count": null,
      "outputs": []
    },
    {
      "cell_type": "code",
      "source": [
        "apiVersion: v1    #쿠버네티스 리소스의 API 버전\n",
        "kind : Pod        #쿠버네티스 리소스 이름\n",
        "metadata:         #메타데이터\n",
        "  name: counter\n",
        "spec:             #메인파트 : 리소스의 desired state를 명시 \n",
        "  name: count     #컨테이너 이름 \n",
        "  image: busybox    #일정, 시간 (컨테이너 이미지)\n",
        "  args: [/bin/sh, -c, 'i=0; while true; do echo \"$i: $(date)\"; i=$((i+1)); sleep 1; done']    #실행옵션\n"
      ],
      "metadata": {
        "id": "2aQN1tDOSVzF"
      },
      "execution_count": null,
      "outputs": []
    },
    {
      "cell_type": "code",
      "source": [
        "esc / :wq"
      ],
      "metadata": {
        "id": "4P6VE7jwVcGd"
      },
      "execution_count": null,
      "outputs": []
    },
    {
      "cell_type": "markdown",
      "source": [
        "- 적용"
      ],
      "metadata": {
        "id": "gxvfOguDVgS5"
      }
    },
    {
      "cell_type": "code",
      "source": [
        "cat pod.yaml"
      ],
      "metadata": {
        "id": "S6kjV2s2VluU"
      },
      "execution_count": null,
      "outputs": []
    },
    {
      "cell_type": "code",
      "source": [
        "kubectl apply -f pod.yaml"
      ],
      "metadata": {
        "id": "hdM4szpfVhss"
      },
      "execution_count": null,
      "outputs": []
    },
    {
      "cell_type": "markdown",
      "source": [
        "- pod 조회"
      ],
      "metadata": {
        "id": "XKdR4JrTaJTh"
      }
    },
    {
      "cell_type": "code",
      "source": [
        "kubectl get pod"
      ],
      "metadata": {
        "id": "FSy5qKpMVp4N"
      },
      "execution_count": null,
      "outputs": []
    },
    {
      "cell_type": "markdown",
      "source": [
        "- 쿠베시스템 namespace의 pod 조회"
      ],
      "metadata": {
        "id": "PdHftB5IW8sw"
      }
    },
    {
      "cell_type": "code",
      "source": [
        "kubectl get pod -n kube-system"
      ],
      "metadata": {
        "id": "6NWUOsJzW1dO"
      },
      "execution_count": null,
      "outputs": []
    },
    {
      "cell_type": "markdown",
      "source": [
        "- 모든 namespace의 pod 조회"
      ],
      "metadata": {
        "id": "fcBT49wxaTgq"
      }
    },
    {
      "cell_type": "code",
      "source": [
        "kubectl get pod -A"
      ],
      "metadata": {
        "id": "dVACjyzkaZx3"
      },
      "execution_count": null,
      "outputs": []
    },
    {
      "cell_type": "markdown",
      "source": [
        "- 지정된 pod만 확인"
      ],
      "metadata": {
        "id": "9aVtbbOOXVkb"
      }
    },
    {
      "cell_type": "code",
      "source": [
        "kubectl get pod counter  #pod 이름 명시"
      ],
      "metadata": {
        "id": "UZL2u_S8XQYl"
      },
      "execution_count": null,
      "outputs": []
    },
    {
      "cell_type": "markdown",
      "source": [
        "- 각 pod에 대한 상세한 내용/옵션 확인"
      ],
      "metadata": {
        "id": "0G1ejXKCYE5I"
      }
    },
    {
      "cell_type": "code",
      "source": [
        "kubectl describe pod counter "
      ],
      "metadata": {
        "id": "JDdnSOjFX00X"
      },
      "execution_count": null,
      "outputs": []
    },
    {
      "cell_type": "markdown",
      "source": [
        "- pod에 대한 덜상세한 내용/옵션 확인"
      ],
      "metadata": {
        "id": "FgdLxTfBYLjY"
      }
    },
    {
      "cell_type": "code",
      "source": [
        "kubectl get pod -o wide"
      ],
      "metadata": {
        "id": "FO2hiSgnYIFL"
      },
      "execution_count": null,
      "outputs": []
    },
    {
      "cell_type": "markdown",
      "source": [
        "- pod의 변경상태 확인"
      ],
      "metadata": {
        "id": "oh1Rc9FlY9iJ"
      }
    },
    {
      "cell_type": "code",
      "source": [
        "kubectl get pod -w"
      ],
      "metadata": {
        "id": "VvOf39ZZYpHR"
      },
      "execution_count": null,
      "outputs": []
    },
    {
      "cell_type": "markdown",
      "source": [
        "- counter 콘테이너 하고 있는 것 확인"
      ],
      "metadata": {
        "id": "Ps8QWaXjZbr9"
      }
    },
    {
      "cell_type": "code",
      "source": [
        "kubectl logs counter"
      ],
      "metadata": {
        "id": "p2wk_efzZWO6"
      },
      "execution_count": null,
      "outputs": []
    },
    {
      "cell_type": "markdown",
      "source": [
        "- pod 접속"
      ],
      "metadata": {
        "id": "M7lv0oB7alD0"
      }
    },
    {
      "cell_type": "code",
      "source": [
        "kubectl exec -it counter /bin/bash    "
      ],
      "metadata": {
        "id": "j9c7r9Hdah7y"
      },
      "execution_count": null,
      "outputs": []
    },
    {
      "cell_type": "code",
      "source": [
        "#bin/bash 안되면 bin/sh 로 진행\n",
        "kubectl exec -it counter /bin/sh"
      ],
      "metadata": {
        "id": "Megb581gaznh"
      },
      "execution_count": null,
      "outputs": []
    },
    {
      "cell_type": "markdown",
      "source": [
        ">## 3) 삭제"
      ],
      "metadata": {
        "id": "rAribrO3eqZq"
      }
    },
    {
      "cell_type": "markdown",
      "source": [
        "- 삭제명령"
      ],
      "metadata": {
        "id": "QLU_Andgetgg"
      }
    },
    {
      "cell_type": "code",
      "source": [
        "cd docker-practice/"
      ],
      "metadata": {
        "id": "xkr2r8mLe8KV"
      },
      "execution_count": null,
      "outputs": []
    },
    {
      "cell_type": "code",
      "source": [
        "kubectl delete -f pod.yaml"
      ],
      "metadata": {
        "id": "39_PF4dBetHU"
      },
      "execution_count": null,
      "outputs": []
    }
  ]
}
