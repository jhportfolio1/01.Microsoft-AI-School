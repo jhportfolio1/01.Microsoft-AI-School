{
  "nbformat": 4,
  "nbformat_minor": 0,
  "metadata": {
    "colab": {
      "provenance": [],
      "authorship_tag": "ABX9TyNNDqKaaImENLa2OHlRpZ7Y",
      "include_colab_link": true
    },
    "kernelspec": {
      "name": "python3",
      "display_name": "Python 3"
    },
    "language_info": {
      "name": "python"
    }
  },
  "cells": [
    {
      "cell_type": "markdown",
      "metadata": {
        "id": "view-in-github",
        "colab_type": "text"
      },
      "source": [
        "<a href=\"https://colab.research.google.com/github/jhportfolio1/MsAiSchool_05_Linux/blob/main/Linux01_Basic.ipynb\" target=\"_parent\"><img src=\"https://colab.research.google.com/assets/colab-badge.svg\" alt=\"Open In Colab\"/></a>"
      ]
    },
    {
      "cell_type": "markdown",
      "source": [
        "#코드 규칙(기본)\n",
        "###파이썬은 알파벳 대소문자를 구분한다.\n",
        "###모든 코드는 알파벳으로 시작해야 한다.(숫자나 특수문자 불가)"
      ],
      "metadata": {
        "id": "rgZCSMwaQjSY"
      }
    },
    {
      "cell_type": "code",
      "execution_count": null,
      "metadata": {
        "colab": {
          "base_uri": "https://localhost:8080/"
        },
        "id": "x7Yte71tPjNd",
        "outputId": "277af571-ba93-41eb-baf1-8bb43556029b"
      },
      "outputs": [
        {
          "output_type": "stream",
          "name": "stdout",
          "text": [
            "1\n"
          ]
        }
      ],
      "source": [
        "friend = 1\n",
        "Friend = 10\n",
        "print(friend)\n",
        "\n"
      ]
    },
    {
      "cell_type": "markdown",
      "source": [
        "###예약어는 사용할 수 없다.\n",
        "for = 1"
      ],
      "metadata": {
        "id": "uZ3nDKa2Q2yP"
      }
    },
    {
      "cell_type": "code",
      "source": [
        " File \"<ipython-input-11-0506ebf6d873>\", line 2\n",
        "    for = 1\n",
        "        ^\n",
        "SyntaxError: invalid syntax"
      ],
      "metadata": {
        "colab": {
          "base_uri": "https://localhost:8080/",
          "height": 137
        },
        "id": "q80oNYonQME4",
        "outputId": "0c15190b-b7f6-44da-f66d-d4df546d5242"
      },
      "execution_count": null,
      "outputs": [
        {
          "output_type": "error",
          "ename": "SyntaxError",
          "evalue": "ignored",
          "traceback": [
            "\u001b[0;36m  File \u001b[0;32m\"<ipython-input-3-096abb00cb33>\"\u001b[0;36m, line \u001b[0;32m1\u001b[0m\n\u001b[0;31m    File \"<ipython-input-11-0506ebf6d873>\", line 2\u001b[0m\n\u001b[0m         ^\u001b[0m\n\u001b[0;31mSyntaxError\u001b[0m\u001b[0;31m:\u001b[0m invalid syntax\n"
          ]
        }
      ]
    },
    {
      "cell_type": "markdown",
      "source": [
        "#숫자형"
      ],
      "metadata": {
        "id": "NuQH7KnARNSJ"
      }
    },
    {
      "cell_type": "code",
      "source": [
        "year = 2023\n",
        "month = 4\n",
        "print(year, month)"
      ],
      "metadata": {
        "colab": {
          "base_uri": "https://localhost:8080/"
        },
        "id": "-g9XbrlzRMIt",
        "outputId": "b51e5c1d-3697-4c5e-d6e4-793c192ff888"
      },
      "execution_count": null,
      "outputs": [
        {
          "output_type": "stream",
          "name": "stdout",
          "text": [
            "2023 4\n"
          ]
        }
      ]
    },
    {
      "cell_type": "markdown",
      "source": [
        "### year = 'Test' 를 넣어본다면?"
      ],
      "metadata": {
        "id": "RNnpnNlcRakE"
      }
    },
    {
      "cell_type": "code",
      "source": [
        "year = 2023\n",
        "print(type(year))  # type() 함수 : 데이터의 타입을 확인하는 함수"
      ],
      "metadata": {
        "colab": {
          "base_uri": "https://localhost:8080/"
        },
        "id": "TyoFy1c1RYF3",
        "outputId": "f05f398c-2c5a-4b06-e431-98cefe98d3f0"
      },
      "execution_count": null,
      "outputs": [
        {
          "output_type": "stream",
          "name": "stdout",
          "text": [
            "<class 'int'>\n"
          ]
        }
      ]
    },
    {
      "cell_type": "markdown",
      "source": [
        "type() 함수 안에 'year'을 넣어서 타입이 'in't 라고 확인되었음"
      ],
      "metadata": {
        "id": "e-b7sH82Ruc-"
      }
    },
    {
      "cell_type": "code",
      "source": [
        "year = 2023\n",
        "print(type(year))\n",
        "year = '이천이십삼년'\n",
        "print(type(year))"
      ],
      "metadata": {
        "colab": {
          "base_uri": "https://localhost:8080/"
        },
        "id": "OKTPpfwvRth0",
        "outputId": "3df078db-2f71-442a-ad71-1db7bc6a82b3"
      },
      "execution_count": null,
      "outputs": [
        {
          "output_type": "stream",
          "name": "stdout",
          "text": [
            "<class 'int'>\n",
            "<class 'str'>\n"
          ]
        }
      ]
    },
    {
      "cell_type": "markdown",
      "source": [
        "*   class 'int' 는 정수가 출력되었다는 말이다.\n",
        "*   class 'str' 은 문자가 출력되었다는 말이다."
      ],
      "metadata": {
        "id": "9ZuUl9eFTpEx"
      }
    },
    {
      "cell_type": "markdown",
      "source": [
        "# 8진수\n",
        "### 정수 앞에 0o를 붙이면 8진수를 만들 수 있다."
      ],
      "metadata": {
        "id": "jq7OCtp3SdgT"
      }
    },
    {
      "cell_type": "code",
      "source": [
        "print (0o10)"
      ],
      "metadata": {
        "colab": {
          "base_uri": "https://localhost:8080/"
        },
        "id": "N9grrRgGSbp5",
        "outputId": "3669be2a-085c-48a4-c237-eec5528e98ca"
      },
      "execution_count": null,
      "outputs": [
        {
          "output_type": "stream",
          "name": "stdout",
          "text": [
            "8\n"
          ]
        }
      ]
    },
    {
      "cell_type": "markdown",
      "source": [
        "### 정수 앞에 0b를 붙이면 2진수를 만들 수 있다."
      ],
      "metadata": {
        "id": "GVQEu_6MSwfx"
      }
    },
    {
      "cell_type": "code",
      "source": [
        "print (0b10)"
      ],
      "metadata": {
        "colab": {
          "base_uri": "https://localhost:8080/"
        },
        "id": "tZtnOROASkm5",
        "outputId": "2fbf045d-9daf-43dc-f637-de004b974d70"
      },
      "execution_count": null,
      "outputs": [
        {
          "output_type": "stream",
          "name": "stdout",
          "text": [
            "2\n"
          ]
        }
      ]
    },
    {
      "cell_type": "markdown",
      "source": [
        "### 정수 앞에 0x를 붙이면 16진수를 만들 수 있다."
      ],
      "metadata": {
        "id": "-sjhKEEhS6OF"
      }
    },
    {
      "cell_type": "code",
      "source": [
        "print (0x10)"
      ],
      "metadata": {
        "colab": {
          "base_uri": "https://localhost:8080/"
        },
        "id": "2P1bpPk6Suv5",
        "outputId": "1dbb8fcf-33c7-4e7b-bc1c-7c5c5f3d67db"
      },
      "execution_count": null,
      "outputs": [
        {
          "output_type": "stream",
          "name": "stdout",
          "text": [
            "16\n"
          ]
        }
      ]
    },
    {
      "cell_type": "markdown",
      "source": [
        "### 10진수를 받아서 각 진수로 변환하는 방법 (결과가 문자형)"
      ],
      "metadata": {
        "id": "ZqAwLsBZTkex"
      }
    },
    {
      "cell_type": "code",
      "source": [
        "print(type(1))"
      ],
      "metadata": {
        "colab": {
          "base_uri": "https://localhost:8080/"
        },
        "id": "98Oa7yMLTAnp",
        "outputId": "3d9e7ceb-316c-4617-976c-20d6d514c66f"
      },
      "execution_count": null,
      "outputs": [
        {
          "output_type": "stream",
          "name": "stdout",
          "text": [
            "<class 'int'>\n"
          ]
        }
      ]
    },
    {
      "cell_type": "code",
      "source": [
        "print(oct(38)) #10진수 38을 8진수로 변환\n",
        "print(hex(38)) #10진수 38을 16진수로 변환\n",
        "print(bin(38)) #10진수 38을 2진수로 변환"
      ],
      "metadata": {
        "colab": {
          "base_uri": "https://localhost:8080/"
        },
        "id": "5YZO73GeTnHv",
        "outputId": "e4b24f1b-7826-43b0-e3b5-eddd77c933f7"
      },
      "execution_count": null,
      "outputs": [
        {
          "output_type": "stream",
          "name": "stdout",
          "text": [
            "0o46\n",
            "0x26\n",
            "0b100110\n"
          ]
        }
      ]
    },
    {
      "cell_type": "markdown",
      "source": [
        "#파이썬의 정수 타입"
      ],
      "metadata": {
        "id": "wqfgSb5tUUh4"
      }
    },
    {
      "cell_type": "code",
      "source": [
        "print(type(1))       #int\n",
        "print(type(2**31))    #2의 31승 -> int 타입으로 나옴"
      ],
      "metadata": {
        "colab": {
          "base_uri": "https://localhost:8080/"
        },
        "id": "wA1TpjZXUdTh",
        "outputId": "0a17d8f8-4195-4a82-964b-23abd420c965"
      },
      "execution_count": null,
      "outputs": [
        {
          "output_type": "stream",
          "name": "stdout",
          "text": [
            "<class 'int'>\n",
            "<class 'int'>\n"
          ]
        }
      ]
    },
    {
      "cell_type": "markdown",
      "source": [
        "# 실수의 표현"
      ],
      "metadata": {
        "id": "wvP8LcKcVQP_"
      }
    },
    {
      "cell_type": "code",
      "source": [
        "print(type(3.14))   #실수"
      ],
      "metadata": {
        "colab": {
          "base_uri": "https://localhost:8080/"
        },
        "id": "UDWwcQK-VR1-",
        "outputId": "c07f9491-771d-4af6-f32c-9479e2be8ba6"
      },
      "execution_count": null,
      "outputs": [
        {
          "output_type": "stream",
          "name": "stdout",
          "text": [
            "<class 'float'>\n"
          ]
        }
      ]
    },
    {
      "cell_type": "code",
      "source": [
        "type(3.14)"
      ],
      "metadata": {
        "colab": {
          "base_uri": "https://localhost:8080/"
        },
        "id": "cSXuUbp9VVCe",
        "outputId": "e42b5de4-4a92-4f74-d35f-340f68092add"
      },
      "execution_count": null,
      "outputs": [
        {
          "output_type": "execute_result",
          "data": {
            "text/plain": [
              "float"
            ]
          },
          "metadata": {},
          "execution_count": 23
        }
      ]
    },
    {
      "cell_type": "markdown",
      "source": [
        "print() 없이 사용할 경우, 실제에서는 오류 발생함"
      ],
      "metadata": {
        "id": "aqf5vqQPVbeN"
      }
    },
    {
      "cell_type": "code",
      "source": [
        "print(type(3.14))   #실수\n",
        "print(type(3 -4j))  #복소수"
      ],
      "metadata": {
        "colab": {
          "base_uri": "https://localhost:8080/"
        },
        "id": "8EfqnlxlVaU_",
        "outputId": "ea3dfcbb-12a8-4ac6-c675-1d4b05d94a0a"
      },
      "execution_count": null,
      "outputs": [
        {
          "output_type": "stream",
          "name": "stdout",
          "text": [
            "<class 'float'>\n",
            "<class 'complex'>\n"
          ]
        }
      ]
    },
    {
      "cell_type": "code",
      "source": [
        "print(type(3.14))\n",
        "print(type(314e-2))"
      ],
      "metadata": {
        "colab": {
          "base_uri": "https://localhost:8080/"
        },
        "id": "_ScoP8cCV9nz",
        "outputId": "4431a3ff-1895-4384-f8b9-1392f8763bdb"
      },
      "execution_count": null,
      "outputs": [
        {
          "output_type": "stream",
          "name": "stdout",
          "text": [
            "<class 'float'>\n",
            "<class 'float'>\n"
          ]
        }
      ]
    },
    {
      "cell_type": "markdown",
      "source": [
        "3.14 = 314e-2"
      ],
      "metadata": {
        "id": "v6XjQew2WIq9"
      }
    },
    {
      "cell_type": "code",
      "source": [
        "x = 3 - 4j\n",
        "print(x.imag)          #imag는 허수부\n",
        "print(x.real)          #real은 실수부\n",
        "print(x.conjugate())   #conjage는 전체를 확인"
      ],
      "metadata": {
        "colab": {
          "base_uri": "https://localhost:8080/"
        },
        "id": "HPVOnU5UWH0w",
        "outputId": "17ed3201-88de-4ec2-8b08-1b1380c8c96b"
      },
      "execution_count": null,
      "outputs": [
        {
          "output_type": "stream",
          "name": "stdout",
          "text": [
            "-4.0\n",
            "3.0\n",
            "(3+4j)\n"
          ]
        }
      ]
    },
    {
      "cell_type": "markdown",
      "source": [
        "# 원의 넓이와 삼각형 넓이 구하기"
      ],
      "metadata": {
        "id": "3dGD9GuIXYad"
      }
    },
    {
      "cell_type": "markdown",
      "source": [
        "### 1) 원의 넓이 구하기"
      ],
      "metadata": {
        "id": "XhV62K0JXrkN"
      }
    },
    {
      "cell_type": "code",
      "source": [
        "r = 2\n",
        "circle_area = (r ** 2) * 3.14\n",
        "print(circle_area)"
      ],
      "metadata": {
        "colab": {
          "base_uri": "https://localhost:8080/"
        },
        "id": "Zcj0z0fQWZ3E",
        "outputId": "5f1be385-98cc-4934-9583-e07452269388"
      },
      "execution_count": null,
      "outputs": [
        {
          "output_type": "stream",
          "name": "stdout",
          "text": [
            "12.56\n"
          ]
        }
      ]
    },
    {
      "cell_type": "markdown",
      "source": [
        "### 2) 삼각형 넓이 구하기"
      ],
      "metadata": {
        "id": "Z0RuiiIzXuon"
      }
    },
    {
      "cell_type": "code",
      "source": [
        "x = 3\n",
        "y = 4\n",
        "triangle_area = x * y / 2\n",
        "print(triangle_area)"
      ],
      "metadata": {
        "colab": {
          "base_uri": "https://localhost:8080/"
        },
        "id": "ORgGTRx3XkTE",
        "outputId": "91901551-4b28-4659-e06c-ec4fe677d967"
      },
      "execution_count": null,
      "outputs": [
        {
          "output_type": "stream",
          "name": "stdout",
          "text": [
            "6.0\n"
          ]
        }
      ]
    },
    {
      "cell_type": "markdown",
      "source": [
        "# 문자형 실습"
      ],
      "metadata": {
        "id": "wHcUoKenpRj_"
      }
    },
    {
      "cell_type": "code",
      "source": [
        "print ('Hello World')\n",
        "print (\"Hello World\")"
      ],
      "metadata": {
        "colab": {
          "base_uri": "https://localhost:8080/"
        },
        "id": "x3EH4CmRX4Pg",
        "outputId": "0583e1d2-b9b3-43a5-f9b8-deda39a24f1f"
      },
      "execution_count": null,
      "outputs": [
        {
          "output_type": "stream",
          "name": "stdout",
          "text": [
            "Hello World\n",
            "Hello World\n"
          ]
        }
      ]
    },
    {
      "cell_type": "markdown",
      "source": [
        "' ' / \" \" 문자형에서 동일하게 작용한다"
      ],
      "metadata": {
        "id": "SqVAsYeNpbO-"
      }
    },
    {
      "cell_type": "code",
      "source": [
        "print(\"Welcome to 'Python World'\")"
      ],
      "metadata": {
        "colab": {
          "base_uri": "https://localhost:8080/"
        },
        "id": "hxg6Nl8mpW0s",
        "outputId": "1a021ec1-e203-496f-ac71-c999233f53db"
      },
      "execution_count": null,
      "outputs": [
        {
          "output_type": "stream",
          "name": "stdout",
          "text": [
            "Welcome to 'Python World'\n"
          ]
        }
      ]
    },
    {
      "cell_type": "markdown",
      "source": [
        "강조하고 싶은 경우 \" \" 안에 ' ' 넣어서 표현 할 수 있다"
      ],
      "metadata": {
        "id": "aM19SRSVpqrg"
      }
    },
    {
      "cell_type": "code",
      "source": [
        "print('''\n",
        "여호와는 나의 목자시니\n",
        "내가 부족함이 없으리로다\n",
        "            - 시편 23편\n",
        "''')"
      ],
      "metadata": {
        "colab": {
          "base_uri": "https://localhost:8080/"
        },
        "id": "r_uJZlbMprPk",
        "outputId": "4162c267-c63c-41f8-82f4-b6637d89a53d"
      },
      "execution_count": null,
      "outputs": [
        {
          "output_type": "stream",
          "name": "stdout",
          "text": [
            "\n",
            "여호와는 나의 목자시니\n",
            "내가 부족함이 없으리로다\n",
            "            - 시편 23편\n",
            "\n"
          ]
        }
      ]
    },
    {
      "cell_type": "markdown",
      "source": [
        "긴 문장을 사용하고 싶은 경우 ''' ___ ''' 사이에 입력하면 된다. (single quatation 3개씩)"
      ],
      "metadata": {
        "id": "fuzYGpzdp60W"
      }
    },
    {
      "cell_type": "code",
      "source": [
        "print('＼t탭＼n다음줄')"
      ],
      "metadata": {
        "colab": {
          "base_uri": "https://localhost:8080/"
        },
        "id": "NeJ_NcRppw0n",
        "outputId": "d617ec95-b1ad-4b26-c1f1-9d5e938e5e48"
      },
      "execution_count": null,
      "outputs": [
        {
          "output_type": "stream",
          "name": "stdout",
          "text": [
            "＼t탭＼n다음줄\n"
          ]
        }
      ]
    },
    {
      "cell_type": "code",
      "source": [
        "'py' 'thon'\n",
        "print('py' 'thon')"
      ],
      "metadata": {
        "colab": {
          "base_uri": "https://localhost:8080/"
        },
        "id": "HqH_S9W9qT9u",
        "outputId": "d7d7ca75-4296-4268-ccc2-92c5e72a4e19"
      },
      "execution_count": null,
      "outputs": [
        {
          "output_type": "stream",
          "name": "stdout",
          "text": [
            "python\n"
          ]
        }
      ]
    },
    {
      "cell_type": "markdown",
      "source": [
        "아무 말이 없으면 붙여서 출력한다."
      ],
      "metadata": {
        "id": "1coGHW5nqeB_"
      }
    },
    {
      "cell_type": "code",
      "source": [
        "print('py' + 'thon')  # +로 붙여서 쓰면 더 좋다."
      ],
      "metadata": {
        "colab": {
          "base_uri": "https://localhost:8080/"
        },
        "id": "5fgMxbpNqgz-",
        "outputId": "89fbeeb9-0d61-4828-b52a-3277834c4c6a"
      },
      "execution_count": null,
      "outputs": [
        {
          "output_type": "stream",
          "name": "stdout",
          "text": [
            "python\n"
          ]
        }
      ]
    },
    {
      "cell_type": "code",
      "source": [
        "print('py'*3)    # py를 3번 연속쓴다."
      ],
      "metadata": {
        "colab": {
          "base_uri": "https://localhost:8080/"
        },
        "id": "u1WJ1IrkqrvO",
        "outputId": "d1f1d2a6-1f1b-4727-db4c-d2eeb7af1cc0"
      },
      "execution_count": null,
      "outputs": [
        {
          "output_type": "stream",
          "name": "stdout",
          "text": [
            "pypypy\n"
          ]
        }
      ]
    },
    {
      "cell_type": "code",
      "source": [
        "a = 'python'"
      ],
      "metadata": {
        "id": "KFfYHqShrHMP"
      },
      "execution_count": null,
      "outputs": []
    },
    {
      "cell_type": "code",
      "source": [
        "print(a[0])\n",
        "print(a[0+1])"
      ],
      "metadata": {
        "colab": {
          "base_uri": "https://localhost:8080/"
        },
        "id": "NvxLPLpJr0Rd",
        "outputId": "49007ef5-94fb-4789-ae99-67a272c0acd0"
      },
      "execution_count": null,
      "outputs": [
        {
          "output_type": "stream",
          "name": "stdout",
          "text": [
            "p\n",
            "y\n"
          ]
        }
      ]
    },
    {
      "cell_type": "code",
      "source": [
        "a[0] = 'A'"
      ],
      "metadata": {
        "colab": {
          "base_uri": "https://localhost:8080/",
          "height": 174
        },
        "id": "CdZR_QFQr48x",
        "outputId": "22b1bdfb-693b-4b89-8f20-ced5a882ae21"
      },
      "execution_count": null,
      "outputs": [
        {
          "output_type": "error",
          "ename": "TypeError",
          "evalue": "ignored",
          "traceback": [
            "\u001b[0;31m---------------------------------------------------------------------------\u001b[0m",
            "\u001b[0;31mTypeError\u001b[0m                                 Traceback (most recent call last)",
            "\u001b[0;32m<ipython-input-48-f3c0c36c87dc>\u001b[0m in \u001b[0;36m<cell line: 1>\u001b[0;34m()\u001b[0m\n\u001b[0;32m----> 1\u001b[0;31m \u001b[0ma\u001b[0m\u001b[0;34m[\u001b[0m\u001b[0;36m0\u001b[0m\u001b[0;34m]\u001b[0m \u001b[0;34m=\u001b[0m \u001b[0;34m'A'\u001b[0m\u001b[0;34m\u001b[0m\u001b[0;34m\u001b[0m\u001b[0m\n\u001b[0m",
            "\u001b[0;31mTypeError\u001b[0m: 'str' object does not support item assignment"
          ]
        }
      ]
    },
    {
      "cell_type": "markdown",
      "source": [
        "index 는 read-only 속성이라 수정은 불가능하다.\n",
        "그저 가져올 뿐!"
      ],
      "metadata": {
        "id": "4-xN3ZJUsGPk"
      }
    },
    {
      "cell_type": "markdown",
      "source": [
        "### slice를 이용하여, 문자를 원하는 만큼 가져올 수 있다"
      ],
      "metadata": {
        "id": "k3BnVfDcs7cE"
      }
    },
    {
      "cell_type": "code",
      "source": [
        "print(a[0])\n",
        "print(a[0:1])  \n",
        "print(a[0:4])\n",
        "print(a[:2])\n",
        "print(a[2:])\n",
        "print(a[-2:])\n",
        "print(a[:])\n",
        "print(a[::2]) "
      ],
      "metadata": {
        "colab": {
          "base_uri": "https://localhost:8080/"
        },
        "id": "0lY8LN3AsCxF",
        "outputId": "93d5b07a-8b1e-44ad-ca97-0aec8dd59de0"
      },
      "execution_count": null,
      "outputs": [
        {
          "output_type": "stream",
          "name": "stdout",
          "text": [
            "p\n",
            "p\n",
            "pyth\n",
            "py\n",
            "thon\n",
            "on\n",
            "python\n",
            "pto\n"
          ]
        }
      ]
    },
    {
      "cell_type": "markdown",
      "source": [
        "#데이터 타입의 변환"
      ],
      "metadata": {
        "id": "T-hOM63ZuMq4"
      }
    },
    {
      "cell_type": "code",
      "source": [
        "print(str(3.14))      #문자형으로 변환\n",
        "print(int(49.12))   #정수형으로 변환\n",
        "print(float(23))      #실수형으로 변환"
      ],
      "metadata": {
        "colab": {
          "base_uri": "https://localhost:8080/"
        },
        "id": "TwGb22R7tB5l",
        "outputId": "a356cc7f-78a7-47ae-d4a9-3a745f7c4dfb"
      },
      "execution_count": null,
      "outputs": [
        {
          "output_type": "stream",
          "name": "stdout",
          "text": [
            "3.14\n",
            "49\n",
            "23.0\n"
          ]
        }
      ]
    },
    {
      "cell_type": "code",
      "source": [],
      "metadata": {
        "id": "2cMf4jphuUTp"
      },
      "execution_count": null,
      "outputs": []
    }
  ]
}