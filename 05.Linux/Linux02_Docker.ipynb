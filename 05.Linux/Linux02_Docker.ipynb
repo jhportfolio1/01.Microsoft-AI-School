{
  "nbformat": 4,
  "nbformat_minor": 0,
  "metadata": {
    "colab": {
      "provenance": [],
      "toc_visible": true,
      "authorship_tag": "ABX9TyPSyFFETFy+jsp6twqX9f3o",
      "include_colab_link": true
    },
    "kernelspec": {
      "name": "python3",
      "display_name": "Python 3"
    },
    "language_info": {
      "name": "python"
    }
  },
  "cells": [
    {
      "cell_type": "markdown",
      "metadata": {
        "id": "view-in-github",
        "colab_type": "text"
      },
      "source": [
        "<a href=\"https://colab.research.google.com/github/jhportfolio1/MsAiSchool_05_Linux/blob/main/Linux02_Docker.ipynb\" target=\"_parent\"><img src=\"https://colab.research.google.com/assets/colab-badge.svg\" alt=\"Open In Colab\"/></a>"
      ]
    },
    {
      "cell_type": "markdown",
      "source": [
        "#1. Docker"
      ],
      "metadata": {
        "id": "TiV2HYIa0e3s"
      }
    },
    {
      "cell_type": "markdown",
      "source": [
        ">## 1) 도커 엔진 설치"
      ],
      "metadata": {
        "id": "NjMMVVJH0h0M"
      }
    },
    {
      "cell_type": "markdown",
      "source": [
        ">>### (1) CMD에서 패키지 업데이트 설치"
      ],
      "metadata": {
        "id": "K1VltfpoBCYY"
      }
    },
    {
      "cell_type": "code",
      "source": [
        " $sudo apt-get update\n",
        " $sudo apt-get install \\\n",
        "    ca-certificates \\\n",
        "    curl \\\n",
        "    gnupg"
      ],
      "metadata": {
        "id": "y5iFKZrWBTIX"
      },
      "execution_count": null,
      "outputs": []
    },
    {
      "cell_type": "markdown",
      "source": [
        ">>### (2) Docker 공식 GPG 키 추가"
      ],
      "metadata": {
        "id": "SSY1CyitBX5L"
      }
    },
    {
      "cell_type": "code",
      "source": [
        " $sudo install -m 0755 -d /etc/apt/keyrings\n",
        " $curl -fsSL https://download.docker.com/linux/ubuntu/gpg | sudo gpg --dearmor -o /etc/apt/keyrings/docker.gpg\n",
        " $sudo chmod a+r /etc/apt/keyrings/docker.gpg"
      ],
      "metadata": {
        "id": "2u5J7z96Ba3W"
      },
      "execution_count": null,
      "outputs": []
    },
    {
      "cell_type": "markdown",
      "source": [
        ">>### (3) 레포지토리 설정"
      ],
      "metadata": {
        "id": "-XPo4HItBdGO"
      }
    },
    {
      "cell_type": "code",
      "source": [
        " $echo \\\n",
        "  \"deb [arch=\"$(dpkg --print-architecture)\" signed-by=/etc/apt/keyrings/docker.gpg] https://download.docker.com/linux/ubuntu \\\n",
        "  \"$(. /etc/os-release && echo \"$VERSION_CODENAME\")\" stable\" | \\\n",
        "  sudo tee /etc/apt/sources.list.d/docker.list > /dev/null"
      ],
      "metadata": {
        "id": "2wgw8OlhBfrE"
      },
      "execution_count": null,
      "outputs": []
    },
    {
      "cell_type": "markdown",
      "source": [
        ">>### (4) 도커엔진 설치"
      ],
      "metadata": {
        "id": "nI8DXivFBjRT"
      }
    },
    {
      "cell_type": "markdown",
      "source": [
        "- 패키지 색인 업데이트"
      ],
      "metadata": {
        "id": "X6oxxzGZBleq"
      }
    },
    {
      "cell_type": "code",
      "source": [
        " $sudo apt-get update"
      ],
      "metadata": {
        "id": "gmupBc78Bk6f"
      },
      "execution_count": null,
      "outputs": []
    },
    {
      "cell_type": "markdown",
      "source": [
        "- Docker Engine, containerd 및 Docker Compose를 설치"
      ],
      "metadata": {
        "id": "H8k1iR0qBoc1"
      }
    },
    {
      "cell_type": "code",
      "source": [
        "$sudo apt-get install docker-ce docker-ce-cli containerd.io docker-buildx-plugin docker-compose-plugin"
      ],
      "metadata": {
        "id": "0pxa7roqBqVN"
      },
      "execution_count": null,
      "outputs": []
    },
    {
      "cell_type": "markdown",
      "source": [
        "- 이미지 를 실행하여 Docker 엔진 설치가 성공했는지 확인"
      ],
      "metadata": {
        "id": "IWvn7TmKBtmM"
      }
    },
    {
      "cell_type": "code",
      "source": [
        "$ sudo docker run hello-world"
      ],
      "metadata": {
        "id": "Z4R0ry2mBu_v"
      },
      "execution_count": null,
      "outputs": []
    },
    {
      "cell_type": "markdown",
      "source": [
        "![image.png](data:image/png;base64,iVBORw0KGgoAAAANSUhEUgAAAqUAAAG7CAYAAAD67OxEAAAgAElEQVR4nO3dT5Lkug3gYVVHrRzps8wVcuXTzHF8Gq/yAN74LBPhbc3ihZ711CQBECBBSb8voqI7MyUSpCgJqX/59Xq9fjYAAAAg0a/sAAAAAACSUvzp8/lkhwAAAB7qL0np3/5lL6Bnntn+9q+//rU+K01znu78fq1OzedR8Xl8Pp8/E9Lj/zONjiGq/BX6KlNk+6Wyrt7Xlviv3lYA6PGdHcBof/vXtv33H/X3zp/tn7fKKJWZGZ/H5/PZ3u938/8AAACjcfr+RJOA/vcftsRQe3S1J74dR1YAAMCVkZQalE6dlxLUyCOpWThK2o8vCAAA2KlO35cSsdY00pHG0tHI3vKP5bWm0Wglk6U6tPb5zv9GxtdKIv/P//1/27Zt23/++fe/vPeff/59e7/f7lP15yTsWFap7Np7pfm1n1ti7Cm/1cbzdNby93l629iaX+p/b93HMlvze8v31t+arxbveRzXyo/ow9H9AwBXICal2qSy95rLqPLvcHRyhD353P+/Oyao5x2qhTbptJRxjqX0+czyLYm1NsHx9plUh2feiP619qdHq/zWuF5l+UnjEwCeQjx9r0n0vNdctsrTXtNZi3OfdtSd6+d4asnx8SjpzPiOyed//vn3P//ONDtxLe+RKikBsCTR3vJryUZvQlOL35ukeeYfWbd3+Umk8t/vd/Uvovzje5HxA8ATdZ2+j3RM6Fqnzr11SOVlHmldKT7r6fxzAvBEUn89/cjX09sPANDpPn0faS+/lpyucFreez3oaJGnRHsS0z2G4+unkPrraf1xdoX2H68LvUK8AHBHS919/99/xCd9kWUdnx1aOw3fSqBHP3O0R+RRrP206BOPjD213VdXWm4kpgCQIyQp9TwSSUrKaknqrGQuu36trJ2oNxGrJQXS5z2XF/SUX0s2S+/VrjXUzn9Ho9sflVQel/eI8lv1tsYnADyJePq+dlPR+VeHao9jko58am5astzY1FP+jDIyytY47xStp+Clmz40RxBLj9ORXlt4y7fc2FI6BTzixiatFY7gjm6/d3ysWH72MgOADF+v1+snOwisgdOWAAAgC0kpAAAA0i11oxMAAACeiaQUAAAA6X7VLqiP/MWVEdOOjMNTx/43Ooaesq5+88Tou9ilsu7YfxHTeuaJmDeqfG8M2ePj7uMXwP2pftEJMm4SAgAA6Mfp+4myk9bs+nFdHGUDAIxGUgoAAIB04un7429C785H3DQPxvY+fLp3/tKD4UtljC5//7xUr+bh3BEP767Vfyy39PB8y/Kt/X54RPyt+Wb0X4tn/GjGijR2vQ94l+b19Flr/ESsnxHl196LYhmf52lG/vCAdvwBwAyqa0pLO8j9dSvR0r721C9pxTmrfIm1v6JPpZbacEx0LMu3djOSZ/lLevpvVv2tZSX1q6Z8ad7e+KNIsXrXz4jyR+sZj5b1DwDuQnX6vrUB1GwcNT/bWFPaAEf+DN/o8jWkI4Cl+GaR6jrHp9mBRvdvT//NGj/v97v6F1H+8b3I+KN4y+pZfislbFL8tQTznFSPUupLkl4AWULuvl/hcS4Y5+6PysFYI8dP7ZKTO2H8AngKd1IqXT8Y4a47myuIWL7Zyy+7fo3W6doV9MY1Y/ycL5VYsf96zdq+rj7+ADwDd9/D5Xz6j6M6Npw+jbNfFsEYBIBrmpKUena6tZ1M1I5n9aSgFt9K9hgt1//NasNVxk/tGsLR41M7vrLWB2n5rbYunEnLL3v92HGUFMAKvmsbRU/SeN7Anafp2WF7b+xoxeCNb7RSfJlJXel0n3QzXNSNOT1G1z96/GSUPzJpLyVAlvXz+Ll22Wau41LdPe0jgQRwR1+v1+snOwhcW2bCCaDfyl/GATwPSSkAAADScaMTAAAA0pGUAgAAIN1fklLPzQ1XfYD+ftf48c9T1sjPR4vog5F6+m/VtrSMesTW6uPPyxL/1dsKAHcU8otOV6f5acy7e2KbAQDAOm5z+j76t9QzjqSQFPrcof/4cgAAeKrbJKUAAAC4LtXp+9ZzKGvXv7V+r1n6Leee8kcdXar99vSI+lp1Sc8TPP7utyU+Tf9qYmjNe3x/5O+Tt9otxd5qn/Qc1tb8tZis40q7/Gufe/WWr22/Z/lo4+idFwAwh5iUSjtPaedb+uz4OqL8aKudQm313/m19bIDbf/2Lt9aHZnL05IQaqcd2R7L8h8RS+946+3j6P5tJcAAgHWIp++9O7fSzkS6ZnN2Qni++36lhHTb2v1RSwBnxdCzfGez/KyjNK+2jlZd1qTL+mUhsv+l8t/vd/Uvovzje5HxAwDW03X63kpKQEee0tVgJ4WWlRLsktXjAwBAo/v0vYWU9J1PBfYkiSse4cT1RY3/43WR0af+rzDuW+0HAGDbFrv7fj/tx5EfvXN/0XdYifbyBQAAhieltSRzfy8qiXryTm7v44yd/RWSjhXiG3mUtLV+eUUt3/ONi9Hlt+otlQ8AWI94+r5200HpBpvaY1daNy5ob2rwPhKm1+pHbvflkJkEZi0bLU982vGfKfLGIE350e3OKH/ldRoAnurr9Xr9ZAcBn5EJCXxWTtYBAFgJSSkAAADSLXWjEwAAAJ6JpBQAAADpvret75pEy3MHpfJbn9duSND+JGSpHMuvE0nxaT4fqdQ/kb9+Y/l8dZE/VQkAAGJ9j/4db6l86XNNkijdSav5rfBR8c+QXT8AAIDX5U7f137L2nL0s/SImOwkLvIRNTzyBgAAXM2v0clYdrLnpf2JVAAAAPQTH56/k67JnPE8xiuflpb6Z2afZfSj5brc2qUVxyPA58snvONPU3+rDp5HCgCAz29JqSaJkX4WULrh6Mo77Vr/HGn6b2QfrNbH1utyS78W1prH27+t+VvXDmvmBwAAOn9JSrVH1aQjU7W78jVlrayWbFhvhIr+mcqVf9FJ6rOI/vHM761/xvIFAOAJ/kxKM4/eSUcepfln8D5OaCSSHx/v8rnKlyoAAFb253NKn3Q62cobf+8RN8zh7XeWGwAAfr+yE9LVjzJdPf4nkK5xBgAA6xOfU1q65lPzepWkoBb/rPhq18yufB1oJKn9EctnL2P/65m3Ft/o+QEAwB+KPzO6bX9Nkko3Nkmvj1rll3bq0Qma95FB3vhntLFmhRvJpPZHPNLJe3mFdRm24vfGAwDAE329Xq+f7CCAXisdlQcAAP1ISgEAAJBOvKYUAAAAGI2kFAAAAOm+/v3vf/92+n7FnwjNqjui3tZNMLWbkFrTeOI5/3a8ZZ5a/Zb4Sr9dXzKi/ZG/T6/9xbKenzytxeeNv3cse8fveTpL27zjIyI+7fiz9O8+rXUeKYYes27SGzH+Ij4/T+NZ/tI0x2lbcXhuxu0dn73rqKd+7fpZK8u7f+5ZZ3vnb5V75Nm/3sH3tsm/1Y5+moEsbSgyl49Uf0R8M9o/ss9mPN0g6xfFvOO3NL31tXd8eOLTlL/68reWG13XyPEXsX3yLv/ae7No2mMtw/K5t/7Vc42R6/eM/evVmE7fr9wR2Y89yhax4Rktu/5R3u93SLtG9U9UfD1KbTo+Qkv6PDs+jcz+vYKV+yd7/Emx9Mxzjn9k/2fXP8PV47+aYlKatVLe0agkYxWjY1mprU+0ev+vHt8Vrd6nUnyR8a/eF7i2mWP5Kr4tE0uH8Lftfwmt5ZoT7TVhrTK815VIZUVcc+SpX9J7DVMphlmnCUt199QfMX4811NZY6yVL9VbKyN7/I2+5mn1+KwxWMZXz/htlVGrX2K57m3E+rGqyO2LdvtcK6OHFL+2fVEx1Mr2bp8zx++M7c9V158SU1Jac74GovV5afrWNROt6aJj18RrjV9Tn6b+1vRerfaVjppHr3Se9keMH8vyLsUjkcprkeL3XnOkHf+lmGqvo9fV0evXaFJ/SutfaZrW/Mf3IpavVIZnfGvmH7390cRXK793+2Ktf9QYluIfvf891rGzjgfr9vv83sjxG7X+SZ974l+NOyk9d8A5iantJFodl92h0k5N+9mZZoepqcO70mhisuzUPCuJt/3esdLT/lKi3iKNf89GxNv+7P631t3Su35J9VuTCE1MrSMb0vZRKv9Ypnf59iQr3vjP83u2P97lp6m/RbP8rdvnUkxXJbXDu/5o+s8zfqX5I/bv1vXTGv9qQo6USlobheMAy+jEiPo1G72VB4l3o53NGz/tv3b7t23+kZwrGR3v6uPv6ssP17b6+reaKUmptLM4Zv2a6Usijjb11F87khgVmyeOYyytmEbGpqnfW753p5P5ZcHbP972R/RftpW/8GWbsXxnHK2/q9HbR+S6wvq3muLd99ZD1+dTEb32w91ZO8UR9Ut9OeMowflvfz+CFL9UvzT/1RIkq9HLxyt7+WjqH7l+3X383d3qy3/19X+0p69f2dvXFYX8zOieyFmuv6t9Q/TE0OMuC91zlLi1fO5Oan/pc2vfPPkoSK3/Wtf8zeyf0fVrxo+n/tHrb8/6Yak/e/uzwvK3zn8sg/VHPgsojS9v/Kv1fymmK/nett8b0HP6ujVPqeNag6Z2YfJxupGD3lJ2bf7jwCwNEG37vfFpeJbPqP7zfu7dsbfqsB5NHzV2a7FY2i/NH7H8pfa3PteU71m/IuqXSOPHOz561l/t8pXK13w+Iv7I2LKXv3V+KcbZX3g99fcuH8v6M7r/esbPyO1rTxtW8vV6vX68hdypQwAAADBfSFIKAAAAeIRcUwoAAAB4kJQCAAAg3a9t2/68c/74d+a9m2vVu8E0bZ8Zy1XqWnV5jnT1NmeM8ci6pLLusHxGTOuZJ2LeFcoHcA3ftbt0Zz7WIFvpbt6ntB3PwJgGAKzuNqfv+aaN0UjqsCq2fwDuoJqUPnkHbH2OHAAAAHy+pQdt13754Dh96zml0vylus/vaR+uP1Kr7a3LH47/emJtza/pH6l+7+c12vb39q8mvshl0Or7Yx3W8XucT1OPJWZNGaP7b9T4iqq/Nd8K40+a19Nnnu239bPe8gE8w/e21Xemx9eWa0+P70nzSzRJ62ilHZDlOlzt/D31a5P6VpKkmb41vyd+zWvr+7PHTGlZnL+UaOOt3WTYO34069/o/ota/r2s/b3T9kFG/0WJ2H57tk/e/QOAe/nz9P37Xf7JK0nGhiQzId3rt/ST9yhGq36p7Nr82vKl+TVa03v7Vzt/1g7Punw0yUzPeqqtv1a+p/9GLn+JZv2p/UWUf3wvMv4o3rJ6lh/JJ4Ca7/MbtaM7LZHf3Gvx7P/H77z9P3L5zag/O37J3dvndff2rW7k+GT7DcDit6R022yJqXT9W4TzqTbLqd1ZWqdrZ9R7fs8ie2dhGWejjxxFu8PyGe0K7ctav7WiL4+ykOrVbL8BYNu27deVjlL0XmJgZb1mT7pGE/3u3r/n9l1pfXyCu4+/mWZtvwFc1/LPKdVuwEbtJLQ7pfOF+7Prt87f+vw4jTS/l1T/cbrjv9b5V7a3wXJ9XlT7spOuq7TPMv4i+0+7/mVeM91afldaDwHk+65tVKSN73EjXUogSjdwaOdv1VuKzUsqvxb7LK36Nf1fml9KTKVlNzoxtfTxjDHSS1o++7+teEe3b7XxHR3D6PZllD8yabdsv1tlSJ+14lhl/QUw19fr9frJDgJ4slUTagAAZiIpBQAAQLrlrykFAADA/ZGUAgAAIB1JKQAAANKRlAIAACAdSSkAAADSkZQCAAAgHUkpAAAA0pGUAgAAIB1JKQAAANKRlAIAACAdSSkAAADSkZQCAAAgHUkpAAAA0pGUAgAAIB1JKQAAANKRlAIAACAdSSkAAADSkZQCAAAg3a/P51P8oPZ+izRPT5nW+ve/VRxjGhHbzLau1K8AAOBevrMDiPL5fLb3+50dRtE5rpVjBQAAyMDpewAAAKQjKU3wfr+HngrnNDsAALga9en7Y6Iz4tRzb/nH+Wpl7KfLW3W05j2+v7+O7gOp/edEs1Z/7dIAqe1S/wAAAIz0vW26G5RKSV4UT/n7dNI8rc+l+kt1RPaBVH+pLu17nvIAAABm+bVtfyRd579dKVmJPP08uvxjmZn110j115LF3oT0XH6tPAAAgJlUp++5RnFtmqPEAAAAK1MlpRxFW9t+5LO2nKKWH+MAAACMwt33CUZcvznzkgMAAIBoYlJaS3aiEqBS+TNvulm9fkv/164VjVp+JL0AAGAU9en7kTfGZD+OaHT9Ut9J9Vv6v3QqnxubAADA6r5er9dPdhAAAAB4Nq4pBQAAQDqSUgAAAKQjKQUAAEC6X5/PZ6v9bZvtjmvuzp7vKn1eizPyl8HubmQbI8rW/FzxqLK95cNnVN9ffZmy/5yD7cN9fI/8TXsAAABAI/T0PQktMA7rVxv9gytj/AJcUwoAwDScRgbqVA/P37ZN9XD52ul/z4Pbz/Xur89ltOKT6vd+fpym9jv0nofzW+q3ft5aZvv7UctPu4ws/a8tvxWf1P5W2bVlXZrG+wMNrbpG9t/oH16IWr6ty4+k5Tdq/ZTK19bv3b5JMbTmb4lYv6319Gz/WuV61v/jtJ59ZO0z6/io7X8kln1gz/iybKMsOcSs7T/mUSWltZ1sz7zW+bftrwNQ+r/0WfTnpenPRvef97WlLmv8rX7UxCfVrynfy7P8PPP0lh3ZfxHrryV2a3w9dfSuHz3xj37tXWez12+NkcuvVY+lfE2dUXFZ9z/W8ktletvvGR+t+mZs/zGX6vR99MKOLK80GM/fyqz1Hz+3bmg0K6sUn6RUnja+EfV7tcobvaEp9YW00+/pv5HtsJbd84VwlNHla5afJwbNvNb6j59L8VuTx+hpJRHrj6d/vLTlj0pIpbKl/Y+kFpd1+2fZp0r1S8tXU5+WtP3HfOrT9716NqBWUgLaql8Tn3cD500AR/ffyvVvm7//nyxi+Y3u/6sv3+z+ufL2JcLq44ckp2315Ye5hiel2/b79R+zj7xK9bc+r506iIxPO//Incfezto319H1S3Gd34t0bPcddyCe5Te6/2cs35Fmjc+R9Weu3xEi4h25/t91uxIlu1/uvv2/mql33+/XgGTtdKT6e+I7Tz+ybSP6z3L6Inv5wYfll0Nav1Y5ffjE8THr9O2ofp25/wFmGJ6Ujl5Jaiv78ZqUloj49hgs1zdp6/XGp93o7q+vfNTKo3WUeJWkocdTll/NCsvvuH1ojbHS597thyRj+2zt/9b8Uf1T2/5Fjp/RiWlPXFL/jV5/euo/fh5Fc5T06dvSWaZeU3p8b1YdUv29n58P97fa5OmDiP47l2GZP2r59cYg9b+3/J4YNEnDKrTLr9ZGbf9Hxxe5fGeOjeN75/ilcqx1WOrvKdvCso5Eb79G72Mix0/kurNtv9+F7onp/F7t85n7b83nM2LEPF+v1+snO4irG510Yxw2ZBhJc/SFcQcP9j/92P6vh6QUAAAA6fiZUQAAAKQjKQUAAEA6klIAAACkIykFAABAOpJSAAAApCMpBQAAQDqSUgAAAKQjKQUAAEA6klIAAACkIykFAABAOpJSAAAApCMpBQAAQDqSUgAAAKQjKQUAAEA6klIAAACkIykFAABAOpJSAAAApCMpBQAAQLpfn89nq/3hf0b3R618S70ss/lGrzerLNNRcUSVG7H+RMTgGQPSfFnboBWsHBuAON/v9/vPF5/PZzu+BiA7rzOsR8/DMgcAP07f3wg7RQC92H7UcaQWmIOkFAj2fr+H7sTuvoO8e/sAAGXf2gmPO4qeb9T7/PsOu3TKs1T+Pq1Uf+tzqYzzTrD2mVRHK76ayPJrpxBb7bPEd+xDS3xS/d7Pj9NYx9cslvFbm2afLnr8a+P2jE9t3dbT4LPjG1W/l7T9LE2vuezEuv2trX/a2Evxl/4fuf/QrHscRQbmUCWl541Mz0Znn750FEQq3/u6FbM07TFubaJg6Z/R5Vv6whJj7f/SZ9Gfl6Y/845fr6jxqh3DEct8FzE+tf3fE+PM+EbV7zWyfzXlS+ufpezze6OXb+S6AsBPPH1fWkHP3zwt82s2AJajOtr4amV4Nz7e/tGI3kCO3CHu5bfaL9XfGi9S/T3jaySp/toO0POlyjL+vXraV4pvZCIQsf3odfXy9/K09Ucsw94DHsf5W/sP7/YJwDjq0/cjeTegV59/pOMGeGRi0lu/Jr47Lx8NKWG7e/tm1I8cEdsnz/KbsX0EoLdEUurdGHjmr52+mVX/DOdTa7OPvEr1tz5/wvKR7DvOUUf7s0ntm1H/3e39m/0FoMS7fYraf7TqX7HfgDsafvf9+VQJRyXyvN/vqaeurfX3xLfi+BqxA8tcbjPcvX1ZRl8qEbn+jdo+adufvX0EoEhKIzZqexmW65+0Gwbv/F7Z9UtGxyG1X6o/Ir6o8TWir6T1xxJf7VrR1ca/1L5WUjB7vRndf7OTwlr5x+URrbX+Sbz9rFl+x/jOMVr2MwDGU52+ly4cb9k3Aq15vDdmeOZv7ejPF/DX+iDixhJPH1vKjSxbU4dUf+/n59ORI8eXRCpbWraW+DRjszV/L8v4t7a/NO3M9Wd0/41at2eV36JZ/1q0fe/d/krrk2ZaAON9vV6vn9GVsNJjpIjxxTVjQJ+Vt++s18C1TElKAQAAgBZ+ZhQAAADpSEoBAACQzpSUjrgz9nhX5PlvVJ1S/dHlX8WMO+Uzyo4wYxxmllebnvVvjFXjAoBMqrvvR25Az4/nyLgo/VwnF8cD87D+AQC2TXmk1PPID9wHYwAAAIzCNaUFox/izak7oI71DwCeSXX6fgXSw6FHPzzaUn8rhtqpyVb5xwfFS+XXjH6WZy02Kfbj+yPbNzI+Td/WptG2f9T4z65f607rX6tva2Vrxt4xxqjxDwAzXSIpLf00nOX17Pot73nK643fW55UvuX1MTkb1b6R8Wn6tjWNpv098WuNqp/1r12+pS7pdWkZRo1/AJjpEqfvWxvI0gY08vSfVH5tA967QzyXXyvPE7+nPE35M4+8SO0bHZ80r7f/e8ZfdH+z/sWuf6WE0jq/tn+z108AsLjEkVJJ1A5wFOnIw+rxS64ev9fo9q/ev1eIb+X1T6o/Oz4AmOUWSenq3/T3IxO1OFePX3L1+D1qp18jrd6/V4hv1fVPM35W718AiHKJ0/ezjbimKvKUJnBnrH8A8EyhSWnGRr+2s4mKpVT++UYYbf21a9Vmx3+l8r31S8svOz7v/LX2zcL61+ZdPiPGT+/4J6kHMNptTt97TnlJ80o3BljqL51KjLyxolXnyuV7br6Q6o+4saNWRivRkabRlK+ZvzSvNYEY2f+Sp61/x9dR48daPwCs6Ov1ev1kBwEAAIBn45pSAAAApCMpBQAAQDqSUgAAAKRTJaWfz+cvf5HOZZ/rmfFg8tHtW9GqcWWa+RBza1m16Wcsx2MdI+/0v/tD5C3x1/rc0wd36L8R2+gIWevn3fdf3n7Njh924t33tYc7R93BeSxn5qN6ajFkxgEA+B3b5Dr2X7gTTt8DwAOQqABYnZiUPnFDNvrXXzilAAAYgf0XruwyD8+XHv48+uHQlvpbMdROrbTK3+fxtFEq/8gSX+uh4Nr5PW2T5h99+cmxzFL92s815WqXYfT6cX7QvBTniutna75avK1xXpp21Pqp6X9tHdK4Ka2/lu1D6ccJSvVYYpbK0PS/d/vliU/6TPO519X3XzXa7Ts/HnEd5qQ043qV0g7C8np2/Zb3POV54rfUJb3e/398v/b/ntc97Zs5Rnvap1XrQ2/9mevHzPpbfX2F9XOG1jpr3T6UYvcsf834lz73br+88a28ftTqW23/5ZG9f4CN6ZrSrIVp3Ridv5V5SOXX+qR3hT6XXyvPG7+2XG//aub3jqmRy1/SMz6i16HM9SO7fqn89/td/Yso//heZPyrsG4fNNu9EeunNiEcVX/LyuvH6vuvfd6edbdW9+zlDxv1kdKVv12sPsA03/IzSfVnx7e61fsnO77s+uETcaQKdav3z+r7L9yLKildOSHdtrWOLJTUToMdP89SO9VytHr/Zlu9f7Ljy65fo3W6+sk02wcJ/dm2ev+svP/C/Yin75+4kR7RZk4ZjHPu1yeOWfQprZeMH71z/7GNy8f+C1cW+pzSjEFbW1miYpF2Wpb6a9faZMTvmd9Sxoyd/l7H/jczoZD6x9v/XqPHV3b9UePruD6PKL9Vb+b4iHBc/7TX72WOv5W+dGSvH6vvvyJol/9KMT+Z+vT92Sor9bb5L6yW5pVuzLHUXzoVEn1heK3O0uvWhqa14bLEJ/VfBKm/R5L6p9X/vXV4+t86v1fG+I6UUf4qO0hp+7D/2+qT1cbfqO1P1vp59/1Xi2ZdmbH8Eefr9Xr9ZAcB9FrpqAfwRFyDDiAKSSkAAADShV5TCgAAAPRYLild5VoqiyvGDAAAsJKlTt/PvD7wWJflmqjjDUK18gAAAGCj/kWn0bKSutrDoXseKUNiCgAA0Ge50/crI+kEAAAYY4mkdLVkrzeWlZ4vCAAAcCXLnL5vaV3z2XoofK2MnqRztcQZAADgTpZPSjXXfB5vWJL+v78+l3dE8gkAADDX8kmpN0HU/B6zlPRylBQAAGCs5ZPSbeM5oAAAAHe3fFJaO30/s/5SnRw9BQAAiLNEUrryMz5LMdViXbUNAAAAq1vikVAjlR7TxOUAAAAAa1niSOm21Y+WlpJK65HV0o1Nx0dHRdx9z1FSAACAfl+v1+snO4ijKyZ3V4wZAABgJcslpQAAAHie219TCgAAgPWRlAIAACCdKin9fD5/+Yt0Lvtcz+g75Wv1Rpa/olXjuqqnjJuriujP1ZfJqG1YhFpMUbE+Yfn2sLSpp/137LOS0eMX/yPefa/57XmPFX7Oc2T7AGA0tlkA7oDT9wCgQNJ3b09fvk9vP9YgJqVPHKilZ5dG4pA/AADAXy3z8HzJ+eH31s9n1t+KofUTpbV593k8bZTKP7LE1/pRAu383rady++po2iNDncAABkSSURBVLd/jp/1lq/5vMXz4w/a/peWX61cSxxHUeNHs3w86663/yxl1GKS6vCMf+367YnP8lkrvohtiBRXqf2W7Wfth196Y9euf5ryW+ts7/qp0Rqf0uWD1rFtjW+F7fvTqJLSiF888iitYJbXs+u3vOcpzxO/pS7pdWkDUvt/z2tr+6xltqaVym5Np42ltXwkEWMlavn0jlHtjqcnPmn5rNJ/vX2nGX/S59712xvf6PXPq9V+67antG5H7b88+xdruZb10xN7z7yW8SMZtX0nMa1TXVP6fr//8mfZaUawbmwjY5TKrw2w3oT0XH6tPG/82nK9/auZ37OCavtfu0E5x+fdePSMH0udERu31davY0yjx88q/Td6J9U7/mdotX31nbd1+6nZL0T3/+jt6+h1KHre6DGVuf28o8ucvm9ZfQFrjmJkkurPjm+00e0f3X9XLz8b/be21ftv9e3Dk0UeYOjF8rW5RVJ6hW/TrcQ0M/7a6Y2j1fvXy/pN17qRGdl/EfFJNPG3TmeubJX+Q9mM5eOxyvbhquvfDOdLJ2b3D8vDRjx9v9IGYJYRKzaH7HFHpXHNjhH4w3n9GPGFh/VPJ+vyQ9iEPqc0Y2HXBllULNJKb6m/di1ZRvye+S1ljN5ojojPMr+3fO/yGU3bP8f1IbL8q+90R48vr6v37xXsfWy5vrD3aOusgymrjF9JdpxX778M4un7jIvyrbwxSvNKN1ZY6i+dYhndx6X4Wzv9c4ze+CJvTNGUb62jNb+mf0rTWZZva/n0xj468R85Ps/lR4yfWhl36D+v0eunp46I9W8kKb7931Y8Vxsf+3tZdXvnj9x+zIzhKb5er9dPdhAAANwRCQmgR1IKAACAdKHXlAIAAAA9SEoBAACQjqRUqfdia8t8I+/Iq5UdVefV7ia8S7xXacfoOK/SDxhDs/zvNEa4oxt3RVIKAACAdCSlAABcHHf14w5ISgEAAJBOfHj+LLUH09YeYn1+X3qwbe1ZcbXfLj7/Xq4UY6nsWv0932h759fEb/ns/Lm2/FZ80oOJtdO06raMr9p7R1H9J4lYfprPLXFY+k+KX1q2Eeun1C7P9kU7fqQYjkaM/94YNO3TLsOe+DVlS2W0aJe/powR21fN/K2YNbEdy4/+4QjAaomktLaR27bySuJ9XXuvpLVx1patiafFM78Uv1S+1D5N+RLv8uoZD574zu95+k/iXX6a15LM8RdRvpe3/yxlW96Lii8qsW5NP2r8zlj+GqO2r7XXntikeIBM6afvSytl6Zvd/lqzAW5Nf5wmgiWxLcUn0fSPV6sNMzb0mvZZjg5Iyz9iZ9vaqUjLJ7pPrcnA6uMvunyp7nNdUtIQGZ81+T4bsXwtcWmn98Q/chskLX9LOSVS+6R6vNsvafpz+ZmJPbBtCx0plewrcu1oZabR9d+9fVcnJaDaHdAoLL+1eZfP1Zfv1eOXSO27e/sBiyWSUu/OerXTNtEbmbu37+q0R4myklOOfrQdv/DOPg0csX5dfflmxz96+VvPZLB9xZOln77XOm40cC8Rp8+u4P1+M4YLnrL8gdWct0dsm5AtPSmt7aTPK8rxwvba9aal+TXlj+bZ6a4Q/2h7G/c/S0IiXRNW+9xT/rEM6fPs5eQdP1HX3Gnq6Fn+0TFors9cKWkesXwt83tl13+OY8RR0hHrX6Tj+icd1QVGW+b0fe3GltaOopV4nC/ern2uPXJVu/i+VraUSFtYbvyxxt9bd+kCeW8be0l1t77IaJZ/9Pjqaaunf70xtOr2rj9SPFHle0S0X1v28T3vOuqNofZZtMzt2ww924eeAzE99npW6i8829fr9frJDgLPtdJRJ8yXvfxXTWQwB8v/9yOgT+0HrIGkFAAAAOnSrykFAAAASEoBAACQzpyU7nfpRTnedXv+2z8fqVZvZPkrWjWuUe7WXmt7atNH3jCRacZ2InP+3vLZfs4jxTqyLVn9ZKm3J8arLP+IOFtlXKUfIqTffX+8qDrzcTBH2TdfAMBVsP0EEMV0pJSNDQAAdk/fdz69/RL65w9cU1ow+tl8TzoUD+BZ2H4C6KU+fZ99lFR6ntzo581Z6m/FUOvHVvn7PJ42SuUfWeJrPZReO39k21rxeWLo7T9v/2g/r9G03/LZ+XNt+ZY4pUt6ju9J9UvL1lu+pV29/T+jfLafbRHP8mztQ3u3TVHrnzXm8/uaurXtL5Uxetmt0P+1bVFU+VeRfk2pRmkFsLyeXb/lPU95nvgtdUmvzwlA6/89ry1tO79Xi0FTjiY+Tf+N6B8tTfs97dP2b4tn+XvbF1H+6vGx/Ywdn97ypPItryPWv944tfH2lGvZPnrK9r4e3f8zl+8qVKfvszvEmkycv9l4SOXX+qZ3g3ouv1aeN35tud7+1cwfPbY8ycOZFL839p7xNbO/MnZ0kevvXt7I8j0y2j+z/jtuPz3lacofvX2M5olP078jt3d36P+7ucSRUskqO5gazVG6TFL92fG1RCaINaP7Z+X+3bb144PP6st39e2n19XjX5lm/0D/r0VMSo/faM/vr/INYpU4avYVoxZnZvy10xtHV+jfbduGJafWI03WjdzK/RvRPqxt5fG3bWtvPyNcIf69/1fa72tJ+4ertefuxNP37/f7t7/9/bsaseKtdMrwrvbxST/jaOUv1HfE9vM+Sv1+1fWH/cM1hD4SKmNh1wZZVCzSSmmpv3atU0b8nvktZYzeqI0ecxnL51i+d/mtbsZOb69j/1tph5q902f72Xb18qPKHHUwanT7pXJm9j90bnFNqffCdmle6cJnS/2lUyCRF+a36iy9bm3oWzsOS3wjLxzXxuaJoVWHpv885ddi77lEoKf92vZF9q+0bljLaMUTVb5n/oj1Y9T41nja9nPF8kduY0cb2b+asq/Q/1devlZfr9frJzsIABhhtSOjQAbWA1wFSSkAAADS8TOjAAAASEdSCgAAgHTLJKVPv9tthfaPjmGFNgIAgDUtk5QCAADguUhK8SfuzgQAAFlISgEAAJAu/eH5x+sMWw+H7X1wbO35bOf3a+XXfvu7NE1PjBHtb9Xfemh+KRZL2aXYamUDAAC0pCelx+SplszUksAoEeX3xhTV/tb8pTos8bbqt8YCAABQsvzp+1KCY/mZxdK0UlLV+zOOI2jjG5kEtsom+QQAABHSj5RCtvqjlFaPDwAArO8RSel+ZPH475WsHG/t9D0AAIDF8qfvAQAAcH/LJ6XSNaHWcjTXZ650NLV2fesdj0besU0AAEBnmdP3rccO9T5uaUTdo1hjWDlpvuplEgAAIM/X6/X6yQ5ipJHJLAAAAGLcPikFAADA+pa/phQAAAD3R1IKAACAdCSlAAAASEdSCgAAgHQkpQAAAEhHUgoAAIB0JKUAAABIR1IKAACAdCSlAAAASEdSCgAAgHQkpQAAAEhHUgoAAIB0JKUAAABIR1IKAACAdCSlAAAASEdSCgAAgHQkpQAAAEhHUgoAAIB0vz6fz1b7ixRd3tXU2m/pl6f34QhR/a8ph+WH1UjbpVlj9urrRkT8d+6DiP0fnuH7/X7/+eLz+WzH1wAAAMAMnL6/EL4w5PL2P8sPQM3Vtw8j4+eI6nOQlAIAACDdt3bC4zcVyzei43y1MvbLBkqf1y4psFxqcP6WVSuvFtvx/f31uQzN/K0+1PRvqc2tviuVv0/b03c97dfG2Du+zvOe54+I/zhNaz7NMmiVXYu/1p+leVvx99Cuf574tXEcaduvXT+kui3bp+N7UfUfRbfPGoNl+UrxSevPjPFTqzsifk3d57pK72m376XPPWPEsv/1bB+l2K5+FBl6qqS0tAPSDhIpuewp00K7U2+9LrWh9v/za037Pf1rbU/PaRBP+1vvaeNv0dQVEX+Ndnxb2hDd/tG849da/vG9iPW7N4beeaOX7+z+j9w+Raw/1vrP71n70xJ/xPrpia+3Tk0cGjP2f7gX8fR9aYCcv3VFqA3CUl3eQSutAJb2RfSPdwW0JPvRK7u2/ZajA5b+i2jPjPFdM2L9ilzG0vo3evtQW9fPSUHLiDGy0ryjd+DZ2zcPafxoxm/WsteU4d3+rmDl2DCf+vT9VR1X0JHfxNHP239P7v8Z43t1d1/+d2/f3Y1efowP3MklktLjaTrvKYTj68j40M/Tf9J1TE8wY3x71r+R7r78796+u5ux/Gasj9nr/2rbHYzzqLvv3+/31FOzKzi390ltf5onjm8A44y4fA5oEZPSVQZl77c0aQftbV8tCVgpMdhjHLHc7tB/mePb23+WfvJep6q9fi2y/1YYH0+3wva/lzR+Vtm/9Zq1fliu4R7hKssDfqrT9xEXfkdePO6pt1S3N7YZdfTaN7Aj65vRf9Z5PYnx7PHdmlc68rnCTQ2e+HvKP9YRsfyjYxtdfmT7avG3lmH08m3VMXr8tOr21DFzfK6wDZBk7f9wPV+v1+snO4gWBrLf6hssjNe7E2T9AwDMsnxSCgAAgPt71I1OAAAAWJMpKeXmAgAAAIygSkr3O7fP//eI/MUX6LT6alQ/zvxlpCuVO6t8AACuQv0zo8e7CXkWIgAAACJxTemDcPc0AABYVXdSunKCw1FcAACAaxEfnh/1oF/peYeWz2vT7NNZyz/+rq9UfqvO0vy13z4+fz7jeZDS7zD3xCC1Tyrb2z9S/Nr4JNL4ObJ+LpUPAMATdP2ik9U5CZB+1k16bXnPU56FZ35NfK15azRltJK3KJ72SfNnx69NqrXl1eYBAODu1KfvjztZi9IOVtoBH5Pg2g66NyE9l18rz8ozv3fe2t8qNP1vmX+2Vvy9P0nYeg0AwBOpjpQezfxdaS0pHq4xxUja36ZfaZ0BAGA15qR029ZLTKV4VokT9yNdP7ttv59lYDwCAPA71XNKr4Bnp2J1POMXAIC64c8pLe2Ez3cat258qu3ES+/VrhXVzo8xpBvbVueJn3EGAICO+pFQu55TkKVH+kivW/O36i+dyh9xY5PWVY6M9T6WStO+VtlR/VOrI6J8a/zHMZg59gAAuJKv1+v1o534ake4AAAAcA2mpBQAAAAYYfg1pQAAAICEpBQAAADpSEoBAACQjqQUAAAA6UhKAQAAkI6kFAAAAOlISgEAAJCOpBQAAADpSEoBAACQjqQUAAAA6UhKAQAAkI6kFAAAAOlISgEAAJCOpBQAAADpSEoBAACQjqQUAAAA6UhKAQAAkI6kFAAAAOl+bdu2fT6f3/52x/+v7kqxria777Lr72WJu7R+9ZZ1d0/si1abrzBmpPGdobVviyp/FaVYRrcfiPb9+Xy29/v92we19wHYsT7hzlYe3+e4Vo51hKe3H9dyq9P3rGgArortF7JwBBWrqCalbCCBPmzggXW93++h6+jq6//o9gMe3/sAlZLQ4yAunQ44qp0u0JbRmxCX2nEud399nE6K/zhNrb88/ePVKr8W6/5e7fphbfu8/eutX6K9PEWqWxq/mnI9Y7zV/1L7Vhh/Uts9y/c4X2n8SeWP3D5ZLo+Stiujtp+e8aGJL6J/I/YPLZb6WzG0lndtXsv2ZRQOQmEV39vW3phvW3lHe9zhaTeulh155EpSivW4IZBibe3gNdOPvKbHW34rzlp559ee/o2oX8uSoPb0aWkaTfuscUckOjPHX89ri9b409RXe08br1bPfKPXjxnbD+lz73jx6qnP0m9R2xfgCf48ff9+v3/7tnb8rMa68Tqr7citO6Ze1kRDszGR4h+RcI/iXT7e+EaPD235PQnpzPgsZo8/a7IyMuHYy/cc+Zq5fdLw9NesRKi3f7PX/9p63ZuQnsuvlQc81ff5jdrRrRbvBiJ7Az8y/uMGaNSGJ7v/JFcfH5KVj3Iw/vxoX2792fFJNEeJAej8lpRumy0xrZ2KsMjcoc+I/3iKSzO9RUT8I60yPlqXE3iNKtei1b4nj78Iq48/jxWWn3b7uSppua4e/7at/cUaz/LrbjuQaOdTLd7Tpqud+ru7Un+PTExns7SP8TffrPEHvTut/z0Yf1hZ+nNKayvzSiv4HqPl+qbjNUlaK7V5l71TjRofe7ya5dfbvhE7Jm18tfatPv5q7RtdvuVa+JHj7+mk/h29f5DGh6X+2rWiq+/fto1xiXV811Yaz0bbepoq88JvKf7931Y8rfhHt02KX5sonac7xtj6zBtfT/3WGKwxesoecYp2RP+Piu34Xu/6H53ce5dv5vapFkNU/RHLb1QM2s8l0rxS31rq12zbrPF7ZY9dwOLr9Xr9ZAexuhkrNadUkInxBwDIRlIKAACAdOnXlAIAAAAkpQAAAEgnJqXaGw6u9ABkS6zeuEe1O6rclZbLLE9sMwAAq+NIKQAAANLdJim1HNFt3WXMXcj3xvIFAGBNt0lKEYfT2wAAYLZv7YS1hwvXrr/cp9F8Lj28WPOcUM3RL89R0lb7S/G22tBzpE6a3/J5K4ZaH0jLx/twbyk+zfg7xlBrA0dJAQBYkyopPe/Mzz/DVppmJ30ula9N+kZqxZc1v6V8S+KsSeail4lUnlR/aToSUAAArkV1+n70zl3zs27eeDxHSb3tt7ZPiktKEI/lS18WWuVoyq+Vp9XzZabnZyhJUgEAWJv69H0W6ZQs/DQJOwAAwEjLJ6Xb9vv1qdbrBbnjvm1P/EcdKc729OULAMAVLHH3vXSN5O79fneduoWMfgUAAJmWSEr3hGj/a93U0yqjZIWjpNqku9TWUrJYu+O8VH4t2dTWZZlfoq3zOK3UPk2dHCUFAGB9YafvpUcCaT7XlNuaNoPmCKP3cUml+aXXUoxSf5/vbh+5DKTyvf0HAADW9/V6vX4yA+BIFgAAANKTUgAAAGCJa0oBAADwbCSlAAAASEdSCgAAgHQkpQAAAEhHUgoAAIB0JKUAAABIR1IKAACAdCSlAAAASEdSCgAAgHQkpQAAAEhHUgoAAIB0JKUAAABIR1IKAACAdCSlAAAASEdSCgAAgHQkpQAAAEhHUgoAAIB0JKUAAABI9+vz+Wy1P1zLnZZZT1ss89ypr3beNrXmv2N/AQDW8r1t2/Z+v7PjAAAAwINx+h638fQvV972e+bnSCoAwIukFAAAAOm+tRMej4Scj6h8Pp/t/X43p9GWu78u1eGpvyc2zfx73aXp9/fPR5HO8x/fP7ff07ea+KX4rGWf59fG723fsS4pRmv9Uv94+69FM74002riq5VZ+v95uqcfpQYA+H1vW/nUWyvxsuwQNc4JWOv/PfVr5m9pzb8nXLXPNbFGtL83fu+y1Mzf8zqSVL6nf6LXhWje+FrtBAAg0q9t+2PHc/7blXZG5yNf+3sjeOvXzu+p//i6lnB6jI5fqs8Sm3WaWnxRpPKl/umJJTL+0rLyJogklwCAFalP31/ZyEfl7EpHTKPq95ISUE8CJpV/BVL8o/tvpNXjAwBg94ikNPuuZOkaxNGk+M/XvnouDTiWcxXWI7m1o/Sjkr/jF56eo6Sj49vLJukFAHhw932Q0g09kWWX6oq2X7pxtaRyFav33+rxAQCeTUxKR1zTZuGtv7YT1u6YNfOXbnyKtJe5/1mv+WzFn52g1JbvrPK948MSq6ddvUdJZy1fjpICALxUp+9LN/bM5K3fe2NWa/7WjTK1I1M9CYb3xpZa/KP6xvPFITqxl8rv6R9p+a4iKr7sbQAA4P6+Xq/XT3YQqONavXtgOQIA0EZSCgAAgHTc6AQAAIB0JKUAAABIJyalUXchZ9/lfRQR60rtKYmKb/V2jjDjsV5PL79V3hPHHACAI6UAAABYwG2SUs9vwVs+x72x/HPR/wDwXLdJSjEPp1cBAEA01cPzt+33X8EpvV+aRvO59GBuzcO/NUdXPEdJpQeHWz4/TxPxcPOR8Z2ns5avWcYSKT7N+DzGUGuDtPxrPwzQu35oaMeOJoZS3a3lo43fO/6OcQAAnkmVlJ53Fuef1SxNs5M+l8qvJQAzd16l+KTPW6+P70W0b2R8mrh6y9OSypPqL01niec8nxSfZf1oHXXWjA9N+Z5l611/a68BADhTnb4fnQDWfqYzMp7eo6Sl96UE7Bi/tLMv8SSko+Kz9k/E0V9NfNr6e+upJbit+Sz1v9/v6l9rHi3ttJHLRxpf1qPUAIBnUJ++zyKdcr26K7RPk9A/2cj2R4yP0cvn6csfABBj+aR0236/vq3nesCeo6SzaNqXqXYa+fj5lXmX/6wzCT3jQ7r+NYK3/dnrHwBgDUvcfS9dA7nbT2ve9cjMyu1bNa7Rzu3O7IOVxwcAAF5LJKX7jnb/67kpYtRR0lISULuju1RmLYk4XnOnVZp2dHxSXZb5Jdo6j9NK7dPUKU17HJ/a60ejEsfVE9De5XP8P0dJAQDbFnj6/rzzkXbempsfSvO1ph2lFLv0ujX/cZqI9o2Mr1bX+eafkctIKl9qn8feVusXF+v495TdKr/1RcJ6w1Qt/p7ls3qyDQCY7+v1ev1kBsCREqwu+0sRAABPkJ6UAgAAAEtcUwoAAIBnIykFAABAOpJSAAAApCMpBQAAQDqSUgAAAKQjKQUAAEA6klIAAACkIykFAABAOpJSAAAApCMpBQAAQLr/Dyrwe15GLS4hAAAAAElFTkSuQmCC)"
      ],
      "metadata": {
        "id": "09MNhakMB1Mw"
      }
    },
    {
      "cell_type": "markdown",
      "source": [
        ">## 2) 원하는 우분투 버전 설치"
      ],
      "metadata": {
        "id": "eUPVVBSEB8yu"
      }
    },
    {
      "cell_type": "markdown",
      "source": [
        "- docker pull ubuntu:원하는 버전"
      ],
      "metadata": {
        "id": "nuAapH7nCA5o"
      }
    },
    {
      "cell_type": "code",
      "source": [
        "$ docker pull ubuntu :18.04"
      ],
      "metadata": {
        "id": "rmpLn5uRB1af"
      },
      "execution_count": null,
      "outputs": []
    },
    {
      "cell_type": "markdown",
      "source": [
        "![image.png](data:image/png;base64,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)"
      ],
      "metadata": {
        "id": "KDCZ1AokCYPb"
      }
    },
    {
      "cell_type": "markdown",
      "source": [
        ">## 3) 도커 이미지 가져오기"
      ],
      "metadata": {
        "id": "Xgwi2BcuCNBd"
      }
    },
    {
      "cell_type": "code",
      "source": [
        "$ docker images"
      ],
      "metadata": {
        "id": "LdC3qu5nCO6F"
      },
      "execution_count": null,
      "outputs": []
    },
    {
      "cell_type": "markdown",
      "source": [
        "![image.png](data:image/png;base64,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)"
      ],
      "metadata": {
        "id": "1RhDpalkCauC"
      }
    },
    {
      "cell_type": "markdown",
      "source": [
        ">## 4) 도커 이미지 가져와서 실행"
      ],
      "metadata": {
        "id": "cNAAW6MqDcja"
      }
    },
    {
      "cell_type": "markdown",
      "source": [
        "- docker run --name 이름"
      ],
      "metadata": {
        "id": "HR6jv89ADfS4"
      }
    },
    {
      "cell_type": "code",
      "source": [
        "$ docker run --name demo1 -it  ubuntu:18.04 /bin/bash"
      ],
      "metadata": {
        "id": "TwpNUVfHDo2-"
      },
      "execution_count": null,
      "outputs": []
    },
    {
      "cell_type": "markdown",
      "source": [
        "![image.png](data:image/png;base64,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)"
      ],
      "metadata": {
        "id": "PsWhbDYaDpch"
      }
    },
    {
      "cell_type": "markdown",
      "source": [
        "- root@47936171319b:/# -> 18.04버전의 슈퍼버전(최고권한)으로 들어옴\n",
        "- it : interactive\n"
      ],
      "metadata": {
        "id": "Xkb7dkBWEN9p"
      }
    },
    {
      "cell_type": "markdown",
      "source": [
        ">## 5) 컨테이너 리스트 반환"
      ],
      "metadata": {
        "id": "OQZ_QypRCboK"
      }
    },
    {
      "cell_type": "markdown",
      "source": [
        "- docker ps"
      ],
      "metadata": {
        "id": "4O8VW0hjDA1b"
      }
    },
    {
      "cell_type": "code",
      "source": [
        "$ ps"
      ],
      "metadata": {
        "id": "anSTlb72CYbL"
      },
      "execution_count": null,
      "outputs": []
    },
    {
      "cell_type": "markdown",
      "source": [
        "![image.png](data:image/png;base64,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)"
      ],
      "metadata": {
        "id": "-K_k0kdkDD76"
      }
    },
    {
      "cell_type": "markdown",
      "source": [
        "- docker ps -a : 모든 작업 확인"
      ],
      "metadata": {
        "id": "oppIPQH4DL-l"
      }
    },
    {
      "cell_type": "code",
      "source": [
        "$ docker ps -a"
      ],
      "metadata": {
        "id": "YXwEWxLwDQrc"
      },
      "execution_count": null,
      "outputs": []
    },
    {
      "cell_type": "markdown",
      "source": [
        "![image.png](data:image/png;base64,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)"
      ],
      "metadata": {
        "id": "H8aASnjZDSXO"
      }
    },
    {
      "cell_type": "markdown",
      "source": [
        ">## 6) 도커 계속 실행시키기 \n",
        "- 도커 휘발성 강해서 계속 실행되어야 함"
      ],
      "metadata": {
        "id": "HI8MVS2TKK6S"
      }
    },
    {
      "cell_type": "markdown",
      "source": [
        ">>### (1) 계속 실행"
      ],
      "metadata": {
        "id": "xYQ8xOeoOzjF"
      }
    },
    {
      "cell_type": "code",
      "source": [
        "$ docker run -it -d --name demo2 ubuntu:18.04\n",
        "f586a3e57fcc3fb41bcad7103075b30c1745c39fd6ace69c5d4ee6c030613090"
      ],
      "metadata": {
        "id": "yo8mzwuoDTuj"
      },
      "execution_count": null,
      "outputs": []
    },
    {
      "cell_type": "markdown",
      "source": [
        "![image.png](data:image/png;base64,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)"
      ],
      "metadata": {
        "id": "tEdAz50bKcsz"
      }
    },
    {
      "cell_type": "code",
      "source": [
        "~$ docker ps"
      ],
      "metadata": {
        "id": "fkmiqbx4Kc32"
      },
      "execution_count": null,
      "outputs": []
    },
    {
      "cell_type": "markdown",
      "source": [
        "- 위 코드로 확인해보면 계속 실행되고 있는 것을 확인할 수 있음"
      ],
      "metadata": {
        "id": "7V0YUE8kKqAK"
      }
    },
    {
      "cell_type": "markdown",
      "source": [
        "![image.png](data:image/png;base64,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)"
      ],
      "metadata": {
        "id": "nSH_rRMkKvR8"
      }
    },
    {
      "cell_type": "markdown",
      "source": [
        "- 로그아웃 해도 계속 실행되며 메모리 차지하고 있음"
      ],
      "metadata": {
        "id": "yAbmHKKrMDBg"
      }
    },
    {
      "cell_type": "markdown",
      "source": [
        "![image.png](data:image/png;base64,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)"
      ],
      "metadata": {
        "id": "Aj34p5boMH6b"
      }
    },
    {
      "cell_type": "markdown",
      "source": [
        ">>### (2) 반복문 whild-done 으로 무한 반복 시키기"
      ],
      "metadata": {
        "id": "cGbsd4CbO2Km"
      }
    },
    {
      "cell_type": "code",
      "source": [
        "$ docker run --name demo3 -d busybox sh -c \"while true;do $(echo date);sleep 1;done\""
      ],
      "metadata": {
        "id": "vabL38IGO948"
      },
      "execution_count": null,
      "outputs": []
    },
    {
      "cell_type": "markdown",
      "source": [
        "- 1초에 한번씩 날짜 값을 찍는 반복문\n",
        "\n",
        "![image.png](data:image/png;base64,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)"
      ],
      "metadata": {
        "id": "Rwh-37i9O67d"
      }
    },
    {
      "cell_type": "code",
      "source": [
        "$ docker logs demo3"
      ],
      "metadata": {
        "id": "gDaqpOqCPsfR"
      },
      "execution_count": null,
      "outputs": []
    },
    {
      "cell_type": "markdown",
      "source": [
        "- 실행\n",
        "\n",
        "![image.png](data:image/png;base64,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)"
      ],
      "metadata": {
        "id": "6h6Af80EPlwC"
      }
    },
    {
      "cell_type": "markdown",
      "source": [
        "- 멈추기 : ctrl + c"
      ],
      "metadata": {
        "id": "yqRgWGtoQKlh"
      }
    },
    {
      "cell_type": "markdown",
      "source": [
        ">## 7) 도커 기록 확인하기"
      ],
      "metadata": {
        "id": "EbVnFklON3wR"
      }
    },
    {
      "cell_type": "code",
      "source": [
        "$ docker logs demo1"
      ],
      "metadata": {
        "id": "2P0Eatj9Ktpj"
      },
      "execution_count": null,
      "outputs": []
    },
    {
      "cell_type": "markdown",
      "source": [
        "![image.png](data:image/png;base64,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)"
      ],
      "metadata": {
        "id": "ffon2NKTN94X"
      }
    },
    {
      "cell_type": "markdown",
      "source": [
        ">## 8) 데모 버전 삭제하기"
      ],
      "metadata": {
        "id": "WOCfsKEAXwQp"
      }
    },
    {
      "cell_type": "markdown",
      "source": [
        "- 멈추고, 삭제"
      ],
      "metadata": {
        "id": "dbhG4U-AZt8N"
      }
    },
    {
      "cell_type": "code",
      "source": [
        "$ docker stop demo1\n",
        "$ docker rm demo1"
      ],
      "metadata": {
        "id": "LQrvejUzaLmR"
      },
      "execution_count": null,
      "outputs": []
    }
  ]
}