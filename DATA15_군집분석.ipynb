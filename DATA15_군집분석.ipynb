{
  "nbformat": 4,
  "nbformat_minor": 0,
  "metadata": {
    "colab": {
      "provenance": [],
      "toc_visible": true,
      "authorship_tag": "ABX9TyNd21n0deTZmh6/jcC0vqib",
      "include_colab_link": true
    },
    "kernelspec": {
      "name": "python3",
      "display_name": "Python 3"
    },
    "language_info": {
      "name": "python"
    }
  },
  "cells": [
    {
      "cell_type": "markdown",
      "metadata": {
        "id": "view-in-github",
        "colab_type": "text"
      },
      "source": [
        "<a href=\"https://colab.research.google.com/github/jhportfolio1/Microsoft-AI-School/blob/main/DATA15_%EA%B5%B0%EC%A7%91%EB%B6%84%EC%84%9D.ipynb\" target=\"_parent\"><img src=\"https://colab.research.google.com/assets/colab-badge.svg\" alt=\"Open In Colab\"/></a>"
      ]
    },
    {
      "cell_type": "markdown",
      "source": [
        "# 1. 군집분석의 개념 및 목적"
      ],
      "metadata": {
        "id": "yY4BM36sKcOK"
      }
    },
    {
      "cell_type": "markdown",
      "source": [
        ">## 1) 군집분석\n",
        ">- 비슷한 특정을 가진 개체들을 그룹으로 분류하는 분석 기법\n",
        ">- 데이터 내 패턴 및 유사성 파악하여 그룹간 차이 이해하는데 사용"
      ],
      "metadata": {
        "id": "e_4d0VFTKeK2"
      }
    },
    {
      "cell_type": "markdown",
      "source": [
        ">## 2) 군집분석 목적\n",
        ">- 데이터 탐색 및 시각화\n",
        ">- 성질 및 특성 파악\n",
        ">- 데이터 전처리 및 변수 선택 : 유사한 개체로 묶어 변수들간 상호작용, 노이즈요소 최소화 \n",
        ">- 예측 및 분류 "
      ],
      "metadata": {
        "id": "yvmwhUm0Kj7G"
      }
    },
    {
      "cell_type": "markdown",
      "source": [
        "# 2. 군집분석의 데이터 분류 이해\n"
      ],
      "metadata": {
        "id": "tl3X3NHPLlfU"
      }
    },
    {
      "cell_type": "markdown",
      "source": [
        ">## 1) 군집분석 순서\n",
        "- 데이터 준비\n",
        "- 거리 및 유사도 측정\n",
        "- 군집화 알고리즘 선택 : 계층적군집화, K-평균군집화, DBSCAN\n",
        "- 초기 군집 중심 설정\n",
        "- 군집화 수행\n",
        "- 군집 결과 해석"
      ],
      "metadata": {
        "id": "MhXFu7C5L5x2"
      }
    },
    {
      "cell_type": "markdown",
      "source": [
        ">## 2) 군집분석 알고리즘"
      ],
      "metadata": {
        "id": "jde678WTL94b"
      }
    },
    {
      "cell_type": "markdown",
      "source": [
        ">>### (1) 계층적 군집 분석"
      ],
      "metadata": {
        "id": "DleF_8OKMAcj"
      }
    },
    {
      "cell_type": "markdown",
      "source": [
        ">>>#### ① 개념\n",
        ">>- 데이터를 계층 구조로 분석\n",
        ">>- 계층적 트리구조 형성\n",
        ">>- 유사한 특성가진 그룹 형성\n",
        ">>- 계층적 관계 시각화하는 덴드로그램 통해 결과분석\n",
        ">>- 클러스터 수 사전에 정하지 않아도되는 유연함"
      ],
      "metadata": {
        "id": "boBafUt9MUM6"
      }
    },
    {
      "cell_type": "markdown",
      "source": [
        ">>>#### ② 장단점\n",
        ">>>- 장점 1: 계층적인 시각화로 데이터 구조 파악 가능\n",
        ">>>- 장점 2: 클러스터 수 사전적 정의 없는 유연함\n",
        ">>>- 장점 3: 다양한 유사도 척도 지원하여 다양한 데이터에 적용 가능\n",
        ">>>- 단점 1: 계산적인 복잡성 증가 가능\n",
        ">>>- 단점 2: 계층적 구조 시각화 위해 덴드로그램 사용시 해석 어려울 수 있음\n",
        ">>>- 단점 3: 계층적 구조 형성으로, 상위수준 클러스터 분류 잘못되면 하위 수준 클러스터에도 영향"
      ],
      "metadata": {
        "id": "Jf9cjf9MMXoF"
      }
    },
    {
      "cell_type": "markdown",
      "source": [
        ">>### (2) 비계층적 군집분석"
      ],
      "metadata": {
        "id": "tSo5dPZhMuzh"
      }
    },
    {
      "cell_type": "markdown",
      "source": [
        ">>>#### ① 개념\n",
        ">>>- 데이터를 사전에 정한 클러스터 수에 따라 분류\n",
        ">>>- 유사한 특성 가진 그룹을 형성하는 알고리즘 사용\n",
        ">>>- K-means 클러스터링"
      ],
      "metadata": {
        "id": "AEf2WovtMxTr"
      }
    },
    {
      "cell_type": "markdown",
      "source": [
        ">>>#### ② 장단점\n",
        ">>>- 장점 1: 클러스터수 설정하여 빠른 처리속도 및 대용량 데이터셋 처리가능\n",
        ">>>- 장점 2: 클러스터수 미리 정하여 해석 쉽고 명확함\n",
        ">>>- 단점 1: 올바른 클러스터 수 정해야함\n",
        ">>>- 단점 2: 중심점의 초기값에 따라 달라질 수 있어 초기화에 민감함\n",
        ">>>- 단점 3: 계층적인 관계를 직접 시각화하기 어려운 단점 있음"
      ],
      "metadata": {
        "id": "3i0x56UmM5A5"
      }
    },
    {
      "cell_type": "markdown",
      "source": [
        ">## 3) 군집분석 데이터 전처리"
      ],
      "metadata": {
        "id": "5rQCtMzbNQmm"
      }
    },
    {
      "cell_type": "markdown",
      "source": [
        ">>### (1) 변수 표준화 \n",
        ">>- 서로 다른 척도 가진 변수를 동일한 척도로 변환\n",
        ">>- 척도 차이 큰 경우, 변수 간 거리 계산에 영향주어 잘못된 클러스터링 결과 초래 가능\n",
        ">>- Z-score표준화 : 각 변수 평균, 표준편차 이용하여 나타내는 방법\n",
        ">>- 최소-최대 스케일링 : [0:1] 사이 변수값으로 선형변환"
      ],
      "metadata": {
        "id": "F0HXROQ2NUPP"
      }
    },
    {
      "cell_type": "markdown",
      "source": [
        ">>### (2) 결측치 처리\n",
        ">>- 군집 분석에 결측치 포함된 데이터 처리해야함\n",
        ">>- 삭제\n",
        ">>- 대체 : 평균, 중앙값, 최빈값 등 대표값이나 회귀모델로 대체\n",
        ">>- 예측 : KNN 사용해 결측치 예측"
      ],
      "metadata": {
        "id": "YyuLB4hHNr15"
      }
    },
    {
      "cell_type": "markdown",
      "source": [
        ">## 4) 군집분석 거리 및 유사도 측정 방법"
      ],
      "metadata": {
        "id": "LPO6qTWOOVuY"
      }
    },
    {
      "cell_type": "markdown",
      "source": [
        ">>### (1) 유클리디안 거리\n",
        ">>- 가장 일반적으로 사용되는 거리 측정 방법\n",
        ">>- 데이터 포인트 간의 직선거리 계산\n",
        ">>- 변수간 척도가 유사하고, 정규분포 따를때 적합"
      ],
      "metadata": {
        "id": "fT_R4zQKOcGm"
      }
    },
    {
      "cell_type": "markdown",
      "source": [
        ">>### (2) 맨하탄 거리\n",
        ">>- 데이터 포인트 간 가로.세로 이동거리 계산\n",
        ">>- 변수간 척도 다를때에도 사용가능"
      ],
      "metadata": {
        "id": "4DX6a46OOw-n"
      }
    },
    {
      "cell_type": "markdown",
      "source": [
        ">>### (3) 코사인 유사도\n",
        ">>- 거리가 아닌 유사도 측정 방법\n",
        ">>- 데이터 포인트 간의 각도 계산\n",
        ">>- 변수간 척도 다를때도 사용가능\n",
        ">>- 텍스트 데이터 같은 고차원 데이터에 사용"
      ],
      "metadata": {
        "id": "IXOP5I_hO64i"
      }
    },
    {
      "cell_type": "markdown",
      "source": [
        ">>### (4) 자카드 유사도\n",
        ">>- 이진데이터(0,1로 표현)에 사용되는 유사도 측정방법\n",
        ">>- 두 집한 간 공통 요소의 비율 계산"
      ],
      "metadata": {
        "id": "tU1iW5_qPU5m"
      }
    },
    {
      "cell_type": "markdown",
      "source": [
        ">>### (5) K-Means \n",
        ">>- 가장 일반적인 군집화 알고리즘\n",
        ">>- 사전에 정한 클러스터 개수(K)에 따라 데이터 그룹화\n",
        ">>- 가장 가까운 중심점과 거리를 기반으로 클러스터에 할당, 중심점을 업데이트 하는 과정 반복\n",
        ">>- 정규분포, 클러스터 크기 및 모양 유사할때 적합"
      ],
      "metadata": {
        "id": "XvMa2n6fQWQG"
      }
    },
    {
      "cell_type": "markdown",
      "source": [
        ">>### (6) 계층적 군집화\n",
        ">>- 데이터를 계층적 트리구조로 분석\n",
        ">>- 클러스터간 유사성 시각화 가능\n",
        ">>- 클러스터 수 사전에 정할 필요 없음 \n",
        ">>- 병합 군집화 : 각 데이터포인트를 개별 클러스터로 시작해 가까운 클러스터로 병합해가는 방식\n",
        ">>- 분할 군집화 : 모든 데이터를 하나의 클러스터로 시작해 클러스터를 분할해가는 방식"
      ],
      "metadata": {
        "id": "s1bqA83XQoTV"
      }
    },
    {
      "cell_type": "markdown",
      "source": [
        ">>### (7) DBSCAN\n",
        ">>- 밀도 기반 군집화 알고리즘\n",
        ">>- 밀집된 지역을 클러스터로 간주\n",
        ">>- 밀도에 기반해 클러스터 형성, 밀집되지 않은 영역 이상치로 처리\n",
        ">>- 비선형적이도 밀도 차이 있는 데이터에 적합"
      ],
      "metadata": {
        "id": "kUq6ah6vRMc_"
      }
    },
    {
      "cell_type": "markdown",
      "source": [
        ">>### (8) GMM (가우시안 믹스처 모델)\n",
        ">>- 가우시안 혼합모델 기반 확률적 군집화 방법\n",
        ">>- 데이터가 여러개 가우시안 분포 가지고 있다고 가정\n",
        ">>- 각 분포에 속할 확률 추정해서 군집\n",
        ">>- 정규분포, 소프트군집화를 원할때 적합"
      ],
      "metadata": {
        "id": "V5MX_aF5RYv6"
      }
    },
    {
      "cell_type": "markdown",
      "source": [
        ">## 5) 군집 수 결정방법"
      ],
      "metadata": {
        "id": "PHctk2vLRqD-"
      }
    },
    {
      "cell_type": "markdown",
      "source": [
        ">>### (1) 엘보우 방법\n",
        ">>- 군집수에 따른 응집도(클러스터 내 데이터간 유사도) 변화 살펴보는 방법\n",
        ">>- 군집 수 증가시킬수록 응집도 감소\n",
        ">>- 엘보우 : 응집도 변화가 감소하면서 급격히 완만해지는 지점\n",
        ">>- 엘보우 지점을 적정 군집수로 선택\n"
      ],
      "metadata": {
        "id": "273vgbk0Rss9"
      }
    },
    {
      "cell_type": "markdown",
      "source": [
        ">>### (2) 실루엣 분석\n",
        ">>- 군집내 응집력 및 군집간 분리도 종합적으로 평가\n",
        ">>- 실루엣 계수 1 : 가까울수록 군집간 분리도 높음\n",
        ">>- 실루엣 계수 0 : 응집력 강함"
      ],
      "metadata": {
        "id": "Q6gfWpGzR8DM"
      }
    },
    {
      "cell_type": "markdown",
      "source": [
        ">>### (3) Gap Statistic\n",
        ">>- 실제 데이터와 무작위 생성 데이터 비교 통해 군집 수 결정\n",
        ">>- 군집화 알고리즘 적용후 무작위 생성 데이터에 동일한 알고리즘 적용\n",
        ">>- 실제 데이터 응집도 - 무작위 데이터 응집도 사이의 차이 계산\n",
        ">>- Gap Statistic 최대가 되는 군집수 선택"
      ],
      "metadata": {
        "id": "RJslraQ6Wris"
      }
    },
    {
      "cell_type": "markdown",
      "source": [
        ">## 6) 군집분석 결과 시각화\n",
        ">- 산점도\n",
        ">- 클러스터 중심 시각화 : k-means 알고리즘 \n",
        ">- 계층적 군집 덴드로그램 : 트리형태\n",
        ">- 히트맵\n",
        ">- t-SNE : 고차원 데이터를 축소하여 시각화"
      ],
      "metadata": {
        "id": "6raPKZMmW5k9"
      }
    }
  ]
}