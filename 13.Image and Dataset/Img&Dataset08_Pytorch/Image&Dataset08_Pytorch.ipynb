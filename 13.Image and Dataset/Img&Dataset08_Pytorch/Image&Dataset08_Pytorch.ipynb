{
  "nbformat": 4,
  "nbformat_minor": 0,
  "metadata": {
    "colab": {
      "provenance": []
    },
    "kernelspec": {
      "name": "python3",
      "display_name": "Python 3"
    },
    "language_info": {
      "name": "python"
    }
  },
  "cells": [
    {
      "cell_type": "markdown",
      "source": [
        "# 1. Pytorch\n",
        "- 머신러닝 프로젝트를 위해 설계된 오픈 소스 라이브러리\n",
        "- 자동 차별화, 텐서계산, GPU 가속을 전문으로 함\n",
        "- 딥러닝, 최첨단ML앱에 매우 적합함\n",
        "- 커스텀 할 수 있어서 대중적임"
      ],
      "metadata": {
        "id": "EPCeQXkQlEtl"
      }
    },
    {
      "cell_type": "markdown",
      "source": [
        "# 2. Pytorch vs TensorFlow"
      ],
      "metadata": {
        "id": "mdJXHMQxlVn6"
      }
    },
    {
      "cell_type": "markdown",
      "source": [
        ">## 1) API\n",
        ">- API 제한 문제에서 Pytorch가 더 나음"
      ],
      "metadata": {
        "id": "_61zDyNyltZY"
      }
    },
    {
      "cell_type": "markdown",
      "source": [
        ">## 2) 계산 그래프 Computational Graph\n",
        ">- Pytorch : 동적 계산 그래프 사용, 각 코드 행 완료된 후에 계산 수행함, 디버깅 필수\n",
        ">- Tensorflow : 정적계산그래프 사용하여 리소스 할당, 일련의 계산에 대한 그래프 생성, 리소스 할당시 위치 표시자 데이터 사용하여 계산"
      ],
      "metadata": {
        "id": "V65l907Cl6lA"
      }
    },
    {
      "cell_type": "markdown",
      "source": [
        ">## 3) 분산 컴퓨팅\n",
        ">- 분산된 응용프로그램 원활하게 수행하기 위함\n",
        ">- Pytorch : XLA 등 타사 플러그인 사용\n",
        ">- Tensorflow : TPU(Tensor Programming Units)로 해결"
      ],
      "metadata": {
        "id": "T4VwLTz8mOUJ"
      }
    },
    {
      "cell_type": "markdown",
      "source": [
        "# 3. Pytorch 실습"
      ],
      "metadata": {
        "id": "Y4x_EQO5mzWu"
      }
    },
    {
      "cell_type": "code",
      "source": [
        "# 윈도우에 Pytorch 설치 준비\n",
        "\n",
        "# 가상환경 구축\n",
        "conda create -n 가상환경명 python=3.8\n",
        "\n",
        "# 가상환경 접속\n",
        "conda activate 가상환경명"
      ],
      "metadata": {
        "id": "CYwP9dUjnA5E"
      },
      "execution_count": null,
      "outputs": []
    },
    {
      "cell_type": "code",
      "source": [
        "# 코랩에 pytorch 설치\n",
        "!pip3 install torch\n",
        "!pip3 install torchvision"
      ],
      "metadata": {
        "colab": {
          "base_uri": "https://localhost:8080/"
        },
        "id": "q5qMg5KhnS9Y",
        "outputId": "86b32717-4f34-4a2e-a437-f8a149cf831c"
      },
      "execution_count": 4,
      "outputs": [
        {
          "output_type": "stream",
          "name": "stdout",
          "text": [
            "Looking in indexes: https://pypi.org/simple, https://us-python.pkg.dev/colab-wheels/public/simple/\n",
            "Requirement already satisfied: torch in /usr/local/lib/python3.10/dist-packages (2.0.1+cu118)\n",
            "Requirement already satisfied: filelock in /usr/local/lib/python3.10/dist-packages (from torch) (3.12.0)\n",
            "Requirement already satisfied: typing-extensions in /usr/local/lib/python3.10/dist-packages (from torch) (4.5.0)\n",
            "Requirement already satisfied: sympy in /usr/local/lib/python3.10/dist-packages (from torch) (1.11.1)\n",
            "Requirement already satisfied: networkx in /usr/local/lib/python3.10/dist-packages (from torch) (3.1)\n",
            "Requirement already satisfied: jinja2 in /usr/local/lib/python3.10/dist-packages (from torch) (3.1.2)\n",
            "Requirement already satisfied: triton==2.0.0 in /usr/local/lib/python3.10/dist-packages (from torch) (2.0.0)\n",
            "Requirement already satisfied: cmake in /usr/local/lib/python3.10/dist-packages (from triton==2.0.0->torch) (3.25.2)\n",
            "Requirement already satisfied: lit in /usr/local/lib/python3.10/dist-packages (from triton==2.0.0->torch) (16.0.5)\n",
            "Requirement already satisfied: MarkupSafe>=2.0 in /usr/local/lib/python3.10/dist-packages (from jinja2->torch) (2.1.2)\n",
            "Requirement already satisfied: mpmath>=0.19 in /usr/local/lib/python3.10/dist-packages (from sympy->torch) (1.3.0)\n",
            "Looking in indexes: https://pypi.org/simple, https://us-python.pkg.dev/colab-wheels/public/simple/\n",
            "Requirement already satisfied: torchvision in /usr/local/lib/python3.10/dist-packages (0.15.2+cu118)\n",
            "Requirement already satisfied: numpy in /usr/local/lib/python3.10/dist-packages (from torchvision) (1.22.4)\n",
            "Requirement already satisfied: requests in /usr/local/lib/python3.10/dist-packages (from torchvision) (2.27.1)\n",
            "Requirement already satisfied: torch==2.0.1 in /usr/local/lib/python3.10/dist-packages (from torchvision) (2.0.1+cu118)\n",
            "Requirement already satisfied: pillow!=8.3.*,>=5.3.0 in /usr/local/lib/python3.10/dist-packages (from torchvision) (8.4.0)\n",
            "Requirement already satisfied: filelock in /usr/local/lib/python3.10/dist-packages (from torch==2.0.1->torchvision) (3.12.0)\n",
            "Requirement already satisfied: typing-extensions in /usr/local/lib/python3.10/dist-packages (from torch==2.0.1->torchvision) (4.5.0)\n",
            "Requirement already satisfied: sympy in /usr/local/lib/python3.10/dist-packages (from torch==2.0.1->torchvision) (1.11.1)\n",
            "Requirement already satisfied: networkx in /usr/local/lib/python3.10/dist-packages (from torch==2.0.1->torchvision) (3.1)\n",
            "Requirement already satisfied: jinja2 in /usr/local/lib/python3.10/dist-packages (from torch==2.0.1->torchvision) (3.1.2)\n",
            "Requirement already satisfied: triton==2.0.0 in /usr/local/lib/python3.10/dist-packages (from torch==2.0.1->torchvision) (2.0.0)\n",
            "Requirement already satisfied: cmake in /usr/local/lib/python3.10/dist-packages (from triton==2.0.0->torch==2.0.1->torchvision) (3.25.2)\n",
            "Requirement already satisfied: lit in /usr/local/lib/python3.10/dist-packages (from triton==2.0.0->torch==2.0.1->torchvision) (16.0.5)\n",
            "Requirement already satisfied: urllib3<1.27,>=1.21.1 in /usr/local/lib/python3.10/dist-packages (from requests->torchvision) (1.26.15)\n",
            "Requirement already satisfied: certifi>=2017.4.17 in /usr/local/lib/python3.10/dist-packages (from requests->torchvision) (2022.12.7)\n",
            "Requirement already satisfied: charset-normalizer~=2.0.0 in /usr/local/lib/python3.10/dist-packages (from requests->torchvision) (2.0.12)\n",
            "Requirement already satisfied: idna<4,>=2.5 in /usr/local/lib/python3.10/dist-packages (from requests->torchvision) (3.4)\n",
            "Requirement already satisfied: MarkupSafe>=2.0 in /usr/local/lib/python3.10/dist-packages (from jinja2->torch==2.0.1->torchvision) (2.1.2)\n",
            "Requirement already satisfied: mpmath>=0.19 in /usr/local/lib/python3.10/dist-packages (from sympy->torch==2.0.1->torchvision) (1.3.0)\n"
          ]
        }
      ]
    },
    {
      "cell_type": "code",
      "source": [],
      "metadata": {
        "id": "SlX2Fv_KnUkL"
      },
      "execution_count": null,
      "outputs": []
    }
  ]
}