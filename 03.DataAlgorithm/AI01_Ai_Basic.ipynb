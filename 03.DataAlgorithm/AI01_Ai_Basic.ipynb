{
  "nbformat": 4,
  "nbformat_minor": 0,
  "metadata": {
    "colab": {
      "provenance": [],
      "authorship_tag": "ABX9TyMa9VLN70Yjci3uQWrJGfOb",
      "include_colab_link": true
    },
    "kernelspec": {
      "name": "python3",
      "display_name": "Python 3"
    },
    "language_info": {
      "name": "python"
    }
  },
  "cells": [
    {
      "cell_type": "markdown",
      "metadata": {
        "id": "view-in-github",
        "colab_type": "text"
      },
      "source": [
        "<a href=\"https://colab.research.google.com/github/jhportfolio1/MS-AI-School-AiBasic/blob/main/AI01_Ai_Basic.ipynb\" target=\"_parent\"><img src=\"https://colab.research.google.com/assets/colab-badge.svg\" alt=\"Open In Colab\"/></a>"
      ]
    },
    {
      "cell_type": "markdown",
      "source": [
        "#1. AI의 기초 "
      ],
      "metadata": {
        "id": "xPGeVVRo1lA6"
      }
    },
    {
      "cell_type": "markdown",
      "source": [
        "## 1) 머신러닝이란"
      ],
      "metadata": {
        "id": "jTNJwYhe1uHr"
      }
    },
    {
      "cell_type": "markdown",
      "source": [
        "- 인간이 개발한 알고리즘을 컴퓨터 언어를 통해 기계에게 학습 시키는 행위\n",
        "- 머신러닝 > 머신런 > 컴퓨터언어(데이터) > 알고리즘 > 개발"
      ],
      "metadata": {
        "id": "igKHCqQR1zH_"
      }
    },
    {
      "cell_type": "markdown",
      "source": [
        "## 2) 머신러닝 알고리즘"
      ],
      "metadata": {
        "id": "gozAQKrr2DFr"
      }
    },
    {
      "cell_type": "markdown",
      "source": [
        "### (1) supervised learning (지도학습) : 답을 가르쳐주는 것"
      ],
      "metadata": {
        "id": "vGnJmLbCH5pA"
      }
    },
    {
      "cell_type": "markdown",
      "source": [
        "- classification 인식 (라벨링이 필요한데, 돈이 제일 많이 듦)\n",
        "> 사진 등을 학습해 어떠한 물체인지 판단하는 것 / \n",
        "> 사진을 보고 고양이인가, 개인가? 판단 가능 \n",
        "\n",
        "- Regressiong 회귀\n",
        "> 어떤 값을 예측하는 것 / 키에 따른 신발 사이즈, 시간에 따른 커피 소비량 등 XY축을 기준으로 일정 패턴을 분석함"
      ],
      "metadata": {
        "id": "fHwR9ZU12E9o"
      }
    },
    {
      "cell_type": "markdown",
      "source": [
        "### (2) Unsupervised Learning(비지도학습)\n",
        "- 문제(Feature)만 제공하고 답 제공하지 않음\n",
        "- 패턴, 구조 발견 그룹화"
      ],
      "metadata": {
        "id": "UZmpqm0J2Z2g"
      }
    },
    {
      "cell_type": "markdown",
      "source": [
        "- anomaly\n",
        "> 페이크 뉴스를 잡아내는 용도로 사용됨\n",
        "- clustering(군집) "
      ],
      "metadata": {
        "id": "GXgXyTPE2e9X"
      }
    },
    {
      "cell_type": "markdown",
      "source": [
        "### (3) Reinforcement Learning(강화학습)\n",
        "- 보상제공, 인과관계 통해 강화됨\n",
        "- 강아지가 배변패드에 똥싸면 간식 받는다 인식 -> 배변패드에만 똥쌈\n",
        "- 대표사례 : 알파고, 넷플릭스 첫번째 화면, 보스턴 "
      ],
      "metadata": {
        "id": "GeiMmraSMWnt"
      }
    }
  ]
}