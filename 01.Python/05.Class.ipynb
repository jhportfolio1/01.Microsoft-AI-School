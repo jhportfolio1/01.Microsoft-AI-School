{
  "nbformat": 4,
  "nbformat_minor": 0,
  "metadata": {
    "colab": {
      "provenance": [],
      "authorship_tag": "ABX9TyN6TtnESvhuLnMPwuBJIa6c",
      "include_colab_link": true
    },
    "kernelspec": {
      "name": "python3",
      "display_name": "Python 3"
    },
    "language_info": {
      "name": "python"
    }
  },
  "cells": [
    {
      "cell_type": "markdown",
      "metadata": {
        "id": "view-in-github",
        "colab_type": "text"
      },
      "source": [
        "<a href=\"https://colab.research.google.com/github/jhportfolio1/python/blob/main/python_5_Class.ipynb\" target=\"_parent\"><img src=\"https://colab.research.google.com/assets/colab-badge.svg\" alt=\"Open In Colab\"/></a>"
      ]
    },
    {
      "cell_type": "markdown",
      "source": [
        "# 5. 클래스 *Class*"
      ],
      "metadata": {
        "id": "klbeCfNuF1ck"
      }
    },
    {
      "cell_type": "markdown",
      "source": [
        "## 1) 클래스의 사용법"
      ],
      "metadata": {
        "id": "EV950mXeF6-W"
      }
    },
    {
      "cell_type": "code",
      "execution_count": 1,
      "metadata": {
        "id": "hv8AqXeLFx9G"
      },
      "outputs": [],
      "source": [
        "class myClass:\n",
        "  pass"
      ]
    },
    {
      "cell_type": "markdown",
      "source": [
        "내용은 없지만, 주소도 가지고 자기 역할을 하고 있음"
      ],
      "metadata": {
        "id": "DfzBfENYG4wh"
      }
    },
    {
      "cell_type": "code",
      "source": [
        "print(id(myClass))"
      ],
      "metadata": {
        "colab": {
          "base_uri": "https://localhost:8080/"
        },
        "id": "917sNyu7F_ds",
        "outputId": "c087be23-2c84-46cb-d4d4-6152ed6d0c6c"
      },
      "execution_count": 2,
      "outputs": [
        {
          "output_type": "stream",
          "name": "stdout",
          "text": [
            "39525632\n"
          ]
        }
      ]
    },
    {
      "cell_type": "markdown",
      "source": [
        "###(1) 클래스 정의"
      ],
      "metadata": {
        "id": "MyMhR_JnMARZ"
      }
    },
    {
      "cell_type": "code",
      "source": [
        "class Person:\n",
        "  Name = 'Default Name'\n",
        "\n",
        "  def Print(self):\n",
        "    print('My Name is {0}'.format(self.Name))"
      ],
      "metadata": {
        "id": "Cdhej9hAG3EH"
      },
      "execution_count": 5,
      "outputs": []
    },
    {
      "cell_type": "markdown",
      "source": [
        "###(2) Instant 만들기"
      ],
      "metadata": {
        "id": "rupkCaC4MFT-"
      }
    },
    {
      "cell_type": "code",
      "source": [
        "p1 = Person()\n",
        "p1.Print()"
      ],
      "metadata": {
        "colab": {
          "base_uri": "https://localhost:8080/"
        },
        "id": "IlwLM7wAMHt4",
        "outputId": "04b6fa7e-fdf7-43c0-db5d-27db02c1dbfa"
      },
      "execution_count": 8,
      "outputs": [
        {
          "output_type": "stream",
          "name": "stdout",
          "text": [
            "My Name is Default Name\n"
          ]
        }
      ]
    },
    {
      "cell_type": "code",
      "source": [
        "p1.Name = '지혜'\n",
        "p1.Print()"
      ],
      "metadata": {
        "colab": {
          "base_uri": "https://localhost:8080/"
        },
        "id": "Yi71XIuuMWMI",
        "outputId": "c49aab74-3d14-4664-a72d-cf9683a98f8c"
      },
      "execution_count": 9,
      "outputs": [
        {
          "output_type": "stream",
          "name": "stdout",
          "text": [
            "My Name is 지혜\n"
          ]
        }
      ]
    },
    {
      "cell_type": "markdown",
      "source": [
        "###(3) 활용"
      ],
      "metadata": {
        "id": "U1CC8tw9NG1-"
      }
    },
    {
      "cell_type": "code",
      "source": [
        "p1 = Person()\n",
        "p2 = Person()"
      ],
      "metadata": {
        "id": "HZquvZFrMc60"
      },
      "execution_count": 10,
      "outputs": []
    },
    {
      "cell_type": "code",
      "source": [
        "p1.Name = '박서준'\n",
        "p2.Name = '박지혜'\n",
        "\n",
        "p1.Print()\n",
        "p2.Print()"
      ],
      "metadata": {
        "colab": {
          "base_uri": "https://localhost:8080/"
        },
        "id": "6aGyz4wRNF2I",
        "outputId": "616b3da4-66c8-4acb-9c35-77039449f60d"
      },
      "execution_count": 14,
      "outputs": [
        {
          "output_type": "stream",
          "name": "stdout",
          "text": [
            "My Name is 박서준\n",
            "My Name is 박지혜\n"
          ]
        }
      ]
    },
    {
      "cell_type": "markdown",
      "source": [
        "- 클래스 단위에 '타이틀'이라는 속성을 추가할 수 있음"
      ],
      "metadata": {
        "id": "IbzYD6-cOTrs"
      }
    },
    {
      "cell_type": "code",
      "source": [
        "Person.Title = 'New Title'"
      ],
      "metadata": {
        "id": "xrK29bkCNKyc"
      },
      "execution_count": 15,
      "outputs": []
    },
    {
      "cell_type": "markdown",
      "source": [
        "- instant(여기서는 p1, p2) 단위에도 속성을 추가할 수 있음[링크 텍스트](https://)"
      ],
      "metadata": {
        "id": "7qQOCvbbOag-"
      }
    },
    {
      "cell_type": "code",
      "source": [
        "p1.Age = 30"
      ],
      "metadata": {
        "id": "mYzPkC5NOf3v"
      },
      "execution_count": 18,
      "outputs": []
    },
    {
      "cell_type": "code",
      "source": [
        "print(p1.Age)"
      ],
      "metadata": {
        "colab": {
          "base_uri": "https://localhost:8080/"
        },
        "id": "C9iOsDO6OkrD",
        "outputId": "36d3f166-d4c1-4bb6-c487-d702a91112b0"
      },
      "execution_count": 20,
      "outputs": [
        {
          "output_type": "stream",
          "name": "stdout",
          "text": [
            "30\n"
          ]
        }
      ]
    },
    {
      "cell_type": "markdown",
      "source": [
        "- p1 instant에 나이 속성을 추가하자, 출력됨.\n",
        "이때 나이 속성 추가하지 않은 p2까지 출력한다면?"
      ],
      "metadata": {
        "id": "jsPrfV_jOr22"
      }
    },
    {
      "cell_type": "code",
      "source": [
        "print(p1.Age)\n",
        "print(p2.Age)"
      ],
      "metadata": {
        "colab": {
          "base_uri": "https://localhost:8080/",
          "height": 210
        },
        "id": "D4SMXfEsOpmj",
        "outputId": "ec3c7ee2-f188-4941-df19-be3b3ddde8d0"
      },
      "execution_count": 22,
      "outputs": [
        {
          "output_type": "stream",
          "name": "stdout",
          "text": [
            "30\n"
          ]
        },
        {
          "output_type": "error",
          "ename": "AttributeError",
          "evalue": "ignored",
          "traceback": [
            "\u001b[0;31m---------------------------------------------------------------------------\u001b[0m",
            "\u001b[0;31mAttributeError\u001b[0m                            Traceback (most recent call last)",
            "\u001b[0;32m<ipython-input-22-47cd04e06f4b>\u001b[0m in \u001b[0;36m<cell line: 2>\u001b[0;34m()\u001b[0m\n\u001b[1;32m      1\u001b[0m \u001b[0mprint\u001b[0m\u001b[0;34m(\u001b[0m\u001b[0mp1\u001b[0m\u001b[0;34m.\u001b[0m\u001b[0mAge\u001b[0m\u001b[0;34m)\u001b[0m\u001b[0;34m\u001b[0m\u001b[0;34m\u001b[0m\u001b[0m\n\u001b[0;32m----> 2\u001b[0;31m \u001b[0mprint\u001b[0m\u001b[0;34m(\u001b[0m\u001b[0mp2\u001b[0m\u001b[0;34m.\u001b[0m\u001b[0mAge\u001b[0m\u001b[0;34m)\u001b[0m\u001b[0;34m\u001b[0m\u001b[0;34m\u001b[0m\u001b[0m\n\u001b[0m",
            "\u001b[0;31mAttributeError\u001b[0m: 'Person' object has no attribute 'Age'"
          ]
        }
      ]
    },
    {
      "cell_type": "markdown",
      "source": [
        "p2에는 나이 속성이 없으므로, p1과 p2 동시 출력할 경우 에러남"
      ],
      "metadata": {
        "id": "E-vjTqXaO434"
      }
    },
    {
      "cell_type": "markdown",
      "source": [
        "## 2) 클래스의 상속"
      ],
      "metadata": {
        "id": "mQy0otmrPHVo"
      }
    },
    {
      "cell_type": "markdown",
      "source": [
        "### (1) 상속의 기본"
      ],
      "metadata": {
        "id": "k1KXCzaXPacy"
      }
    },
    {
      "cell_type": "markdown",
      "source": [
        "- 기능을 물려받는 것을 '상속'이라 표현함"
      ],
      "metadata": {
        "id": "SgWYf8tQPMZd"
      }
    },
    {
      "cell_type": "code",
      "source": [
        "class person:\n",
        "  pass"
      ],
      "metadata": {
        "id": "N5EATBlDO1Tr"
      },
      "execution_count": 23,
      "outputs": []
    },
    {
      "cell_type": "markdown",
      "source": [
        "사람으로 정의 후 아래 학생 클래스를 만든다. <br>\n",
        "여기서 사람(Person)은 부모클래스, 학생(Student)은 자식 클래스임"
      ],
      "metadata": {
        "id": "Ohl8t7oUPjhE"
      }
    },
    {
      "cell_type": "code",
      "source": [
        "class Student(Person):\n",
        "  pass"
      ],
      "metadata": {
        "id": "DiNJBsYBPfcP"
      },
      "execution_count": 24,
      "outputs": []
    },
    {
      "cell_type": "code",
      "source": [
        "class Bird:\n",
        "  pass"
      ],
      "metadata": {
        "id": "3h1rbWPSPip3"
      },
      "execution_count": 25,
      "outputs": []
    },
    {
      "cell_type": "markdown",
      "source": [
        "###(2) isinstance : 인스턴스 관계를 확인하는 함수"
      ],
      "metadata": {
        "id": "HHbvQYKlQe2Y"
      }
    },
    {
      "cell_type": "markdown",
      "source": [
        "- 대소문자를 구분한다."
      ],
      "metadata": {
        "id": "73-9ZdDPQpIL"
      }
    },
    {
      "cell_type": "code",
      "source": [
        "p = Person()\n",
        "s = Student()"
      ],
      "metadata": {
        "id": "tqk9KDZqPtpM"
      },
      "execution_count": 27,
      "outputs": []
    },
    {
      "cell_type": "code",
      "source": [
        "isinstance(p,person)  "
      ],
      "metadata": {
        "colab": {
          "base_uri": "https://localhost:8080/"
        },
        "id": "gKD1Y8yMQQ4z",
        "outputId": "6473eed8-32a9-44b5-d4df-ef0240d3e9c0"
      },
      "execution_count": 29,
      "outputs": [
        {
          "output_type": "execute_result",
          "data": {
            "text/plain": [
              "False"
            ]
          },
          "metadata": {},
          "execution_count": 29
        }
      ]
    },
    {
      "cell_type": "code",
      "source": [
        "isinstance(p,Person)"
      ],
      "metadata": {
        "colab": {
          "base_uri": "https://localhost:8080/"
        },
        "id": "fDmRzcEFQZH0",
        "outputId": "964ff2ef-4ccd-47fe-c333-05f346121539"
      },
      "execution_count": 30,
      "outputs": [
        {
          "output_type": "execute_result",
          "data": {
            "text/plain": [
              "True"
            ]
          },
          "metadata": {},
          "execution_count": 30
        }
      ]
    },
    {
      "cell_type": "code",
      "source": [
        "isinstance(p,Person)\n",
        "isinstance(s,Person)\n",
        "isinstance(s,object)"
      ],
      "metadata": {
        "colab": {
          "base_uri": "https://localhost:8080/"
        },
        "id": "hUZnJNTdQmge",
        "outputId": "42f46c2e-adc9-41cd-e104-6e5487c197f9"
      },
      "execution_count": 34,
      "outputs": [
        {
          "output_type": "execute_result",
          "data": {
            "text/plain": [
              "True"
            ]
          },
          "metadata": {},
          "execution_count": 34
        }
      ]
    },
    {
      "cell_type": "code",
      "source": [
        "isinstance(int,object)    #int 정수형"
      ],
      "metadata": {
        "colab": {
          "base_uri": "https://localhost:8080/"
        },
        "id": "av1XCnB6QzL-",
        "outputId": "3e3f16e6-58fc-45c9-dbc9-94bc8648de1b"
      },
      "execution_count": 37,
      "outputs": [
        {
          "output_type": "execute_result",
          "data": {
            "text/plain": [
              "True"
            ]
          },
          "metadata": {},
          "execution_count": 37
        }
      ]
    },
    {
      "cell_type": "markdown",
      "source": [
        "## 3) 생성자 소멸자 메소드"
      ],
      "metadata": {
        "id": "CECFkteBRkxy"
      }
    },
    {
      "cell_type": "markdown",
      "source": [
        "### (1) 생성자 메소드"
      ],
      "metadata": {
        "id": "lJA0NeodRr4R"
      }
    },
    {
      "cell_type": "markdown",
      "source": [
        "- 생성자 메소드 : instance를 만드는 순간 실행되는 메소드"
      ],
      "metadata": {
        "id": "8-yQEsCESX2N"
      }
    },
    {
      "cell_type": "markdown",
      "source": [
        "- 생성자 만들기"
      ],
      "metadata": {
        "id": "A7yu1F5tTMQ4"
      }
    },
    {
      "cell_type": "code",
      "source": [
        "class MyClass:\n",
        "  def __init__(self):\n",
        "    print('class is created')"
      ],
      "metadata": {
        "id": "d9ssTLjcRIQf"
      },
      "execution_count": 41,
      "outputs": []
    },
    {
      "cell_type": "markdown",
      "source": [
        "- instance 만들기"
      ],
      "metadata": {
        "id": "V8f9u1r1R9aH"
      }
    },
    {
      "cell_type": "code",
      "source": [
        "my = MyClass()"
      ],
      "metadata": {
        "colab": {
          "base_uri": "https://localhost:8080/"
        },
        "id": "SgqKgTzLR10F",
        "outputId": "e7e40ae4-a663-43af-854b-18235ea7b882"
      },
      "execution_count": 42,
      "outputs": [
        {
          "output_type": "stream",
          "name": "stdout",
          "text": [
            "class is created\n"
          ]
        }
      ]
    },
    {
      "cell_type": "markdown",
      "source": [
        "↑instance 만들자마자 class 바로 실행되는 것을 볼 수 있음"
      ],
      "metadata": {
        "id": "mhiSvnmmShMw"
      }
    },
    {
      "cell_type": "markdown",
      "source": [
        "- 생성자 메소드 응용"
      ],
      "metadata": {
        "id": "kQeitjrYTcnV"
      }
    },
    {
      "cell_type": "code",
      "source": [
        "class Person:\n",
        "  Name = ''\n",
        "  Age = 0\n",
        "  def __init__(self, name, age):\n",
        "    self.Name = name\n",
        "    self.Age = age\n",
        "  def PrintName(self):\n",
        "    print(self.Name)\n",
        "    print(self.Age)"
      ],
      "metadata": {
        "id": "AzoJl2tdSBWK"
      },
      "execution_count": 53,
      "outputs": []
    },
    {
      "cell_type": "markdown",
      "source": [
        "Person에 값 넣으면 name에 값이 들어감"
      ],
      "metadata": {
        "id": "gkhDBNFMTi3j"
      }
    },
    {
      "cell_type": "code",
      "source": [
        "p = Person('황비홍',40)\n",
        "p.PrintName()"
      ],
      "metadata": {
        "colab": {
          "base_uri": "https://localhost:8080/"
        },
        "id": "Qz19kPZ7TCmV",
        "outputId": "a85b05cd-80e9-415d-accc-3c2ed5dd95d7"
      },
      "execution_count": 55,
      "outputs": [
        {
          "output_type": "stream",
          "name": "stdout",
          "text": [
            "황비홍\n",
            "40\n"
          ]
        }
      ]
    },
    {
      "cell_type": "markdown",
      "source": [
        "## 2) 소멸자 메소드"
      ],
      "metadata": {
        "id": "GavY5K-8U0hW"
      }
    },
    {
      "cell_type": "code",
      "source": [
        "def __del(self):\n",
        "  print('{0} 이 문장은 사라집니다(소멸).'.format(self.Name))\n",
        "\n",
        "def PrintName(self):\n",
        "  print(self.Name)\n",
        "  print(self.Age)"
      ],
      "metadata": {
        "id": "sQIWzFeVThJo"
      },
      "execution_count": 58,
      "outputs": []
    },
    {
      "cell_type": "code",
      "source": [
        "p = Person('황비홍',40)\n",
        "p.PrintName()\n",
        "del p"
      ],
      "metadata": {
        "colab": {
          "base_uri": "https://localhost:8080/"
        },
        "id": "6rrSnzmcVOKb",
        "outputId": "68ebaaa5-f98f-4fc7-e7d0-561b8b2d6776"
      },
      "execution_count": 59,
      "outputs": [
        {
          "output_type": "stream",
          "name": "stdout",
          "text": [
            "황비홍\n",
            "40\n"
          ]
        }
      ]
    },
    {
      "cell_type": "markdown",
      "source": [
        "## 3) 정적(Static) 메소드"
      ],
      "metadata": {
        "id": "eyKxacacYl4z"
      }
    },
    {
      "cell_type": "code",
      "source": [
        "class CounterManager:\n",
        "  InsCount = 0\n",
        "\n",
        "  def __init__(self):\n",
        "    CounterManager.InsCount += 0\n",
        "\n",
        "  def PrintInstanceCount():\n",
        "    print('Instance Count:', CounterManager.InsCount)"
      ],
      "metadata": {
        "id": "WIHaC8qtVRKP"
      },
      "execution_count": 63,
      "outputs": []
    },
    {
      "cell_type": "code",
      "source": [
        "a = CounterManager()\n",
        "b = CounterManager()\n",
        "c = CounterManager()\n"
      ],
      "metadata": {
        "id": "cUzl6x07Y4w9"
      },
      "execution_count": 64,
      "outputs": []
    },
    {
      "cell_type": "code",
      "source": [
        "CounterManager.PrintInstanceCount()   #Class 직접 사용하는 것은 금기"
      ],
      "metadata": {
        "colab": {
          "base_uri": "https://localhost:8080/"
        },
        "id": "6A3uCr1VZXbs",
        "outputId": "c1d4473a-5553-4cef-e8da-1a1818271f03"
      },
      "execution_count": 67,
      "outputs": [
        {
          "output_type": "stream",
          "name": "stdout",
          "text": [
            "Instance Count: 0\n"
          ]
        }
      ]
    },
    {
      "cell_type": "markdown",
      "source": [
        "- 응용"
      ],
      "metadata": {
        "id": "-SM9ceZXakoe"
      }
    },
    {
      "cell_type": "code",
      "source": [
        "class CounterManager:\n",
        "  InsCount = 0\n",
        "\n",
        "  def __init__(self):\n",
        "    CounterManager.InsCount += 1\n",
        "  def PrintInstanceCount():           #정적 메소드로 전환\n",
        "    print('Instance Count:', CounterManager.InsCount)\n",
        "  \n",
        "  StaticCount = staticmethod(PrintInstanceCount)"
      ],
      "metadata": {
        "id": "9LintHy3ZaBZ"
      },
      "execution_count": 68,
      "outputs": []
    },
    {
      "cell_type": "code",
      "source": [
        "a = CounterManager()\n",
        "b = CounterManager()\n",
        "C = CounterManager()"
      ],
      "metadata": {
        "id": "K2-geSzpay91"
      },
      "execution_count": 69,
      "outputs": []
    },
    {
      "cell_type": "code",
      "source": [
        "p = CounterManager()\n",
        "print(p)"
      ],
      "metadata": {
        "colab": {
          "base_uri": "https://localhost:8080/"
        },
        "id": "h4lr3Yu_azL4",
        "outputId": "1ec99f0b-d18e-410b-c88b-84e52b82ed9a"
      },
      "execution_count": 75,
      "outputs": [
        {
          "output_type": "stream",
          "name": "stdout",
          "text": [
            "<__main__.CounterManager object at 0x7f609e295070>\n"
          ]
        }
      ]
    },
    {
      "cell_type": "code",
      "source": [
        "CounterManager.PrintInstanceCount() "
      ],
      "metadata": {
        "colab": {
          "base_uri": "https://localhost:8080/"
        },
        "id": "9bWyuPzUa1lU",
        "outputId": "723c196d-a3c5-4014-f486-38bc5f9c1302"
      },
      "execution_count": 71,
      "outputs": [
        {
          "output_type": "stream",
          "name": "stdout",
          "text": [
            "Instance Count: 3\n"
          ]
        }
      ]
    },
    {
      "cell_type": "markdown",
      "source": [
        "## 3) 상속의 심화"
      ],
      "metadata": {
        "id": "mDL1ubEYbjah"
      }
    },
    {
      "cell_type": "code",
      "source": [
        "class Person:\n",
        "\n",
        "  def __init__(self, name, phone):\n",
        "    self.Name = name\n",
        "    self.Phone = phone\n",
        "  \n",
        "  def PrintInfo(self):\n",
        "    print('Info(Name: {0}, Phone {1}'.format(self.Name, self.Phone))\n",
        "  \n",
        "  def PrintPersonData(self):\n",
        "    print('Person(Name: {0}, Phone {1}'.format(self.Name, self.Phone))"
      ],
      "metadata": {
        "id": "DfwbXQX-a4j0"
      },
      "execution_count": 87,
      "outputs": []
    },
    {
      "cell_type": "code",
      "source": [
        "class Student(Person):\n",
        "  pass"
      ],
      "metadata": {
        "id": "QXnb9UQ2bsIo"
      },
      "execution_count": 88,
      "outputs": []
    },
    {
      "cell_type": "code",
      "source": [
        "p = Person('박지혜','010-3808-6360')\n",
        "s = Student('박서준','010-0000-0000')"
      ],
      "metadata": {
        "id": "N-uAIi6JcF_Q"
      },
      "execution_count": 89,
      "outputs": []
    },
    {
      "cell_type": "code",
      "source": [
        "print(p.__dict__)\n",
        "print(s.__dict__)"
      ],
      "metadata": {
        "colab": {
          "base_uri": "https://localhost:8080/"
        },
        "id": "FINQIXGndBb8",
        "outputId": "94757bcb-cf8e-41ee-ea7d-a29eab68d8d3"
      },
      "execution_count": 90,
      "outputs": [
        {
          "output_type": "stream",
          "name": "stdout",
          "text": [
            "{'Name': '박지혜', 'Phone': '010-3808-6360'}\n",
            "{'Name': '박서준', 'Phone': '010-0000-0000'}\n"
          ]
        }
      ]
    },
    {
      "cell_type": "markdown",
      "source": [
        "- 응용"
      ],
      "metadata": {
        "id": "vR3tGlPJdk48"
      }
    },
    {
      "cell_type": "code",
      "source": [
        "class Student(Person):\n",
        "  def __init__(self, name, phone, subject, studentID):\n",
        "    self.Name = name\n",
        "    self.Phone = phone\n",
        "    self.Subject = subject\n",
        "    self.StudentID = studentID"
      ],
      "metadata": {
        "id": "l2Ij78QCdh8U"
      },
      "execution_count": 92,
      "outputs": []
    },
    {
      "cell_type": "markdown",
      "source": [
        "subject와 studentID가 추가되었으므로 's=Student'에도 항목을 더 추가해줘야 에러가 안남"
      ],
      "metadata": {
        "id": "ckJmd2eaeFww"
      }
    },
    {
      "cell_type": "code",
      "source": [
        "p = Person('박지혜','010-3808-6360')\n",
        "s = Student('박서준','010-0000-0000', '학생회장', '0001')"
      ],
      "metadata": {
        "id": "PePLEQC3d43L"
      },
      "execution_count": 94,
      "outputs": []
    },
    {
      "cell_type": "code",
      "source": [
        "s.PrintInfo()"
      ],
      "metadata": {
        "colab": {
          "base_uri": "https://localhost:8080/"
        },
        "id": "IDRLeL-Md_8j",
        "outputId": "40d5964e-8605-45fe-9a45-c25b84382d0d"
      },
      "execution_count": 96,
      "outputs": [
        {
          "output_type": "stream",
          "name": "stdout",
          "text": [
            "Info(Name: 박서준, Phone 010-0000-0000\n"
          ]
        }
      ]
    },
    {
      "cell_type": "markdown",
      "source": [
        "## 5) 상속관계 확인"
      ],
      "metadata": {
        "id": "o4TF066Nen4P"
      }
    },
    {
      "cell_type": "markdown",
      "source": [
        "- Student는 Person에게 상속관계인가?"
      ],
      "metadata": {
        "id": "2B1NXyFgev0z"
      }
    },
    {
      "cell_type": "code",
      "source": [
        "issubclass(Student, Person)"
      ],
      "metadata": {
        "colab": {
          "base_uri": "https://localhost:8080/"
        },
        "id": "bkb7bGIFeiw_",
        "outputId": "2d32dc23-d3dc-4833-992c-ac4dbbd1ea72"
      },
      "execution_count": 97,
      "outputs": [
        {
          "output_type": "execute_result",
          "data": {
            "text/plain": [
              "True"
            ]
          },
          "metadata": {},
          "execution_count": 97
        }
      ]
    },
    {
      "cell_type": "markdown",
      "source": [
        "- Persont은 Student의 상속관계인가?"
      ],
      "metadata": {
        "id": "FewvSuxZezW5"
      }
    },
    {
      "cell_type": "code",
      "source": [
        "issubclass(Person, Student)"
      ],
      "metadata": {
        "colab": {
          "base_uri": "https://localhost:8080/"
        },
        "id": "MD-pehKgevHk",
        "outputId": "2837e41a-57a0-4cc7-ee4f-ef78a6173eab"
      },
      "execution_count": 98,
      "outputs": [
        {
          "output_type": "execute_result",
          "data": {
            "text/plain": [
              "False"
            ]
          },
          "metadata": {},
          "execution_count": 98
        }
      ]
    },
    {
      "cell_type": "code",
      "source": [
        "class Student(Person):\n",
        "  def __init__(self, name, phone, subject, studentID):\n",
        "    self.Name = name\n",
        "    self.Phone = phone\n",
        "    self.Subject = subject\n",
        "    self.StudentID = studentID\n",
        "\n",
        "  def PrintStudentData(self):\n",
        "    print('Student(Name {0}, StudentID {1})'.format(self.Name, self.StudentID))\n",
        "  \n",
        "  def PrintPersonData(self):\n",
        "    print('{0}님의 전공은 {1}입니다.'.format(self.Name, self.Subject))"
      ],
      "metadata": {
        "id": "xkp-PmVee5iz"
      },
      "execution_count": 100,
      "outputs": []
    },
    {
      "cell_type": "code",
      "source": [
        "s = Student('민아','010-2222-2222','Computer', '0001')\n",
        "s.PrintStudentData()"
      ],
      "metadata": {
        "colab": {
          "base_uri": "https://localhost:8080/"
        },
        "id": "a4h2EB2cgOBD",
        "outputId": "d4e78ea7-e88f-4f8e-bf29-dc54a622b0b2"
      },
      "execution_count": 101,
      "outputs": [
        {
          "output_type": "stream",
          "name": "stdout",
          "text": [
            "Student(Name 민아, StudentID 0001)\n"
          ]
        }
      ]
    },
    {
      "cell_type": "markdown",
      "source": [
        "## 6) 다중상속"
      ],
      "metadata": {
        "id": "Qkqn7h3uzfXN"
      }
    },
    {
      "cell_type": "markdown",
      "source": [
        "- Tiger, Lion 각각의 상속 생성"
      ],
      "metadata": {
        "id": "vWgbG9faz6Ia"
      }
    },
    {
      "cell_type": "code",
      "source": [
        "class Tiger:\n",
        "  def Jump(self):\n",
        "    print('호랑이점프')"
      ],
      "metadata": {
        "id": "hxiKVY9hgUdH"
      },
      "execution_count": 102,
      "outputs": []
    },
    {
      "cell_type": "code",
      "source": [
        "class Lion:\n",
        "  def Bite(self):\n",
        "    print('사자물기')"
      ],
      "metadata": {
        "id": "V_H7idOjzjeB"
      },
      "execution_count": 103,
      "outputs": []
    },
    {
      "cell_type": "markdown",
      "source": [
        "- Tiger, Lion 양쪽에서 상속 받은 Liger 생성"
      ],
      "metadata": {
        "id": "TsHdUXv9z2qF"
      }
    },
    {
      "cell_type": "code",
      "source": [
        "class Liger(Tiger, Lion):\n",
        "  def Play(self):\n",
        "    print('라이거놀기')"
      ],
      "metadata": {
        "id": "zSG9ze-oztB3"
      },
      "execution_count": 104,
      "outputs": []
    },
    {
      "cell_type": "code",
      "source": [
        "l = Liger()\n",
        "print(l.Jump())\n",
        "print(l.Bite())\n",
        "print(l.Play())"
      ],
      "metadata": {
        "colab": {
          "base_uri": "https://localhost:8080/"
        },
        "id": "-H3ZKlHrzyT2",
        "outputId": "595def28-e6c5-4ed1-9a6d-86e87b917b56"
      },
      "execution_count": 106,
      "outputs": [
        {
          "output_type": "stream",
          "name": "stdout",
          "text": [
            "호랑이점프\n",
            "None\n",
            "사자물기\n",
            "None\n",
            "라이거놀기\n",
            "None\n"
          ]
        }
      ]
    },
    {
      "cell_type": "markdown",
      "source": [
        "※ none은 주피터의 오류인듯. 신경쓰지 말것!"
      ],
      "metadata": {
        "id": "_w9M7W7N0IKt"
      }
    },
    {
      "cell_type": "code",
      "source": [],
      "metadata": {
        "id": "vkMW0Vbp0FNy"
      },
      "execution_count": null,
      "outputs": []
    }
  ]
}
