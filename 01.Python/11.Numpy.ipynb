{
  "nbformat": 4,
  "nbformat_minor": 0,
  "metadata": {
    "colab": {
      "provenance": [],
      "authorship_tag": "ABX9TyNIXyd2ovFgg/amPNE7vtU4",
      "include_colab_link": true
    },
    "kernelspec": {
      "name": "python3",
      "display_name": "Python 3"
    },
    "language_info": {
      "name": "python"
    }
  },
  "cells": [
    {
      "cell_type": "markdown",
      "metadata": {
        "id": "view-in-github",
        "colab_type": "text"
      },
      "source": [
        "<a href=\"https://colab.research.google.com/github/jhportfolio1/python/blob/main/python_11_Numpy.ipynb\" target=\"_parent\"><img src=\"https://colab.research.google.com/assets/colab-badge.svg\" alt=\"Open In Colab\"/></a>"
      ]
    },
    {
      "cell_type": "markdown",
      "source": [
        "# 11. Numpy"
      ],
      "metadata": {
        "id": "zuEkOQ8SiIrA"
      }
    },
    {
      "cell_type": "code",
      "source": [],
      "metadata": {
        "id": "2Nm8catUa5mM"
      },
      "execution_count": null,
      "outputs": []
    },
    {
      "cell_type": "markdown",
      "source": [
        "- C언어로 개발된 파이썬에서 과학적 계산을 위한 핵심 라이브러리. 다차원 배열 객체와 배열과 함께 작동하는 도구들을 제공한다. 하지만 고수준의 데이터 분석기능을 제공하지는 않기때문에 Numpy 배열과 함께 Pandas와 같은 도구를 함께 사용한다. "
      ],
      "metadata": {
        "id": "upaBUMSFiXKU"
      }
    },
    {
      "cell_type": "code",
      "source": [
        "import numpy as np  # np = numpy"
      ],
      "metadata": {
        "id": "WeDUmXhCir1-"
      },
      "execution_count": null,
      "outputs": []
    },
    {
      "cell_type": "markdown",
      "source": [
        "## 1) Numpy 배열 만들기"
      ],
      "metadata": {
        "id": "jpi9wdR-jghT"
      }
    },
    {
      "cell_type": "code",
      "source": [
        "arr = np.array([1,2,3,4])\n",
        "print(arr)\n",
        "print(type(arr))"
      ],
      "metadata": {
        "colab": {
          "base_uri": "https://localhost:8080/"
        },
        "id": "b9ry8bBjjTdG",
        "outputId": "adf2d099-89ba-42ee-dc07-878ef9cdc3b3"
      },
      "execution_count": null,
      "outputs": [
        {
          "output_type": "stream",
          "name": "stdout",
          "text": [
            "[1 2 3 4]\n",
            "<class 'numpy.ndarray'>\n"
          ]
        }
      ]
    },
    {
      "cell_type": "markdown",
      "source": [
        "### (1) zeros. ones, empty를 이용해 배열을 생성한다"
      ],
      "metadata": {
        "id": "fapAK6jBlcuq"
      }
    },
    {
      "cell_type": "markdown",
      "source": [
        "- 0으로 채워진 배열을 만든다면?"
      ],
      "metadata": {
        "id": "RayzqU98mbrZ"
      }
    },
    {
      "cell_type": "code",
      "source": [
        "car = np.zeros((3,3))\n",
        "print(car)"
      ],
      "metadata": {
        "colab": {
          "base_uri": "https://localhost:8080/"
        },
        "id": "58GWW62EjI46",
        "outputId": "11ed45e9-fc25-408d-87d9-42536ac8094c"
      },
      "execution_count": null,
      "outputs": [
        {
          "output_type": "stream",
          "name": "stdout",
          "text": [
            "[[0. 0. 0.]\n",
            " [0. 0. 0.]\n",
            " [0. 0. 0.]]\n"
          ]
        }
      ]
    },
    {
      "cell_type": "markdown",
      "source": [
        "- 1로 채워진 배열을 만든다면?"
      ],
      "metadata": {
        "id": "g2l5Ay4vmUl2"
      }
    },
    {
      "cell_type": "code",
      "source": [
        "np.ones((2,2))"
      ],
      "metadata": {
        "colab": {
          "base_uri": "https://localhost:8080/"
        },
        "id": "beyZ-51Al-za",
        "outputId": "07430c65-3020-4550-fd0a-f4724fc74663"
      },
      "execution_count": null,
      "outputs": [
        {
          "output_type": "execute_result",
          "data": {
            "text/plain": [
              "array([[1., 1.],\n",
              "       [1., 1.]])"
            ]
          },
          "metadata": {},
          "execution_count": 11
        }
      ]
    },
    {
      "cell_type": "markdown",
      "source": [
        "- 4개 값이 각각 들어있는 배열을 만든다면?"
      ],
      "metadata": {
        "id": "-ExK7R1fmmx9"
      }
    },
    {
      "cell_type": "code",
      "source": [
        "np.empty((4,4))"
      ],
      "metadata": {
        "colab": {
          "base_uri": "https://localhost:8080/"
        },
        "id": "JrLOToHFmZDB",
        "outputId": "6b81e7c9-f0d5-4899-a94f-494d2b4d89a4"
      },
      "execution_count": null,
      "outputs": [
        {
          "output_type": "execute_result",
          "data": {
            "text/plain": [
              "array([[3.01629211e-316, 0.00000000e+000, 2.41907520e-312,\n",
              "        2.37663529e-312],\n",
              "       [2.22809558e-312, 2.46151512e-312, 6.79038654e-313,\n",
              "        2.35541533e-312],\n",
              "       [2.46151512e-312, 6.79038654e-313, 2.35541533e-312,\n",
              "        6.79038654e-313],\n",
              "       [2.14321575e-312, 2.22809558e-312, 2.14321575e-312,\n",
              "        6.94783862e-310]])"
            ]
          },
          "metadata": {},
          "execution_count": 12
        }
      ]
    },
    {
      "cell_type": "markdown",
      "source": [
        "- 메모리 속에 이전에 사용하던 값이 찌꺼기로 남아있어서 표현이 됨 -> 따라서 0 이나 1로 초기화 할 필요가 있음\n",
        "- 하지만 십만, 십만 배열 등은 초기화 과정만도 크기가 너무 큼\n",
        "- 그래서 지저분해도 배열 그대로 사용할 거면 찌꺼기 그대로 쓰는 경우 많음"
      ],
      "metadata": {
        "id": "HEEErs5-nBAd"
      }
    },
    {
      "cell_type": "markdown",
      "source": [
        "## 2) Arange() : 특정 범위의 변수 생성"
      ],
      "metadata": {
        "id": "cClOA8TYnj4y"
      }
    },
    {
      "cell_type": "markdown",
      "source": [
        "### (1) 1에서 10까지 변수를 만들어본다."
      ],
      "metadata": {
        "id": "xsl-Pf9Onz6W"
      }
    },
    {
      "cell_type": "code",
      "source": [
        "np.arange(10)"
      ],
      "metadata": {
        "colab": {
          "base_uri": "https://localhost:8080/"
        },
        "id": "Ip8ogVHgmufl",
        "outputId": "db4ca20a-d59a-49b3-8c61-4f6d0cb57ca9"
      },
      "execution_count": null,
      "outputs": [
        {
          "output_type": "execute_result",
          "data": {
            "text/plain": [
              "array([0, 1, 2, 3, 4, 5, 6, 7, 8, 9])"
            ]
          },
          "metadata": {},
          "execution_count": 19
        }
      ]
    },
    {
      "cell_type": "markdown",
      "source": [
        "- 초기값과 끝나는 지점을 설정하여, 10 앞에서 끝나게 한다. "
      ],
      "metadata": {
        "id": "c1D2Onu0n9gw"
      }
    },
    {
      "cell_type": "code",
      "source": [
        "np.arange(1,10)"
      ],
      "metadata": {
        "colab": {
          "base_uri": "https://localhost:8080/"
        },
        "id": "ukorrTCgoLEI",
        "outputId": "30bf7620-e839-49f9-97a1-1734f30c6795"
      },
      "execution_count": null,
      "outputs": [
        {
          "output_type": "execute_result",
          "data": {
            "text/plain": [
              "array([1, 2, 3, 4, 5, 6, 7, 8, 9])"
            ]
          },
          "metadata": {},
          "execution_count": 17
        }
      ]
    },
    {
      "cell_type": "markdown",
      "source": [
        "- 초기값 - 끝나는 지점 - 증가값 으로 설정하여 변수 생성 가능하다."
      ],
      "metadata": {
        "id": "tOuXJlbjn3O9"
      }
    },
    {
      "cell_type": "code",
      "source": [
        "np.arange(1,10,2)"
      ],
      "metadata": {
        "colab": {
          "base_uri": "https://localhost:8080/"
        },
        "id": "btSwfIbhnxEw",
        "outputId": "8bedc4a9-06a7-4dec-eea3-32edc40764df"
      },
      "execution_count": null,
      "outputs": [
        {
          "output_type": "execute_result",
          "data": {
            "text/plain": [
              "array([1, 3, 5, 7, 9])"
            ]
          },
          "metadata": {},
          "execution_count": 16
        }
      ]
    },
    {
      "cell_type": "markdown",
      "source": [
        "## 2) nparray 배열의 모양, 차수, 데이터 타입 확인해보기"
      ],
      "metadata": {
        "id": "0GwQwClXoUXR"
      }
    },
    {
      "cell_type": "code",
      "source": [
        "arr = np.array([[1,2,3],[4,5,6]])"
      ],
      "metadata": {
        "id": "9wpd9zguoGQd"
      },
      "execution_count": null,
      "outputs": []
    },
    {
      "cell_type": "markdown",
      "source": [
        "- 이래뵈도 2차원임"
      ],
      "metadata": {
        "id": "moxNhPSaouo1"
      }
    },
    {
      "cell_type": "code",
      "source": [
        "arr = np.array([[1,2,3],[4,5,6]])\n",
        "print(arr)"
      ],
      "metadata": {
        "colab": {
          "base_uri": "https://localhost:8080/"
        },
        "id": "uWWoDPRNobi9",
        "outputId": "35b85348-c3e3-4531-9e0b-a50882edecae"
      },
      "execution_count": null,
      "outputs": [
        {
          "output_type": "stream",
          "name": "stdout",
          "text": [
            "[[1 2 3]\n",
            " [4 5 6]]\n"
          ]
        }
      ]
    },
    {
      "cell_type": "markdown",
      "source": [
        "- 쉽게 생각하면, 꺾인 괄호의 수 = 차원의 수 이다."
      ],
      "metadata": {
        "id": "UCh68OzEpCrr"
      }
    },
    {
      "cell_type": "markdown",
      "source": [
        "## 3) 차원의 확인"
      ],
      "metadata": {
        "id": "Ktajjl8Wq5Pg"
      }
    },
    {
      "cell_type": "code",
      "source": [
        "arr.ndim"
      ],
      "metadata": {
        "colab": {
          "base_uri": "https://localhost:8080/"
        },
        "id": "SYvnhfTspA0B",
        "outputId": "60018100-b425-447b-ed1b-de73a2db72d7"
      },
      "execution_count": null,
      "outputs": [
        {
          "output_type": "execute_result",
          "data": {
            "text/plain": [
              "2"
            ]
          },
          "metadata": {},
          "execution_count": 25
        }
      ]
    },
    {
      "cell_type": "markdown",
      "source": [
        "## 3) 데이터의 모양 확인"
      ],
      "metadata": {
        "id": "EuZR7JEbq-vS"
      }
    },
    {
      "cell_type": "code",
      "source": [
        "arr.shape"
      ],
      "metadata": {
        "colab": {
          "base_uri": "https://localhost:8080/"
        },
        "id": "YY7TzSjnq83A",
        "outputId": "ae2e00c7-a0ec-4d06-9d9f-0cfc43d26243"
      },
      "execution_count": null,
      "outputs": [
        {
          "output_type": "execute_result",
          "data": {
            "text/plain": [
              "(2, 3)"
            ]
          },
          "metadata": {},
          "execution_count": 26
        }
      ]
    },
    {
      "cell_type": "markdown",
      "source": [
        "## 4) 데이터 타입의 확인"
      ],
      "metadata": {
        "id": "4eTlJvVCrC5u"
      }
    },
    {
      "cell_type": "code",
      "source": [
        "print(type(arr))\n",
        "print(arr.dtype)"
      ],
      "metadata": {
        "colab": {
          "base_uri": "https://localhost:8080/"
        },
        "id": "DND1qxA-rCKD",
        "outputId": "94b9a8d0-23fa-4876-d65e-2455a13665be"
      },
      "execution_count": null,
      "outputs": [
        {
          "output_type": "stream",
          "name": "stdout",
          "text": [
            "<class 'numpy.ndarray'>\n",
            "int64\n"
          ]
        }
      ]
    },
    {
      "cell_type": "markdown",
      "source": [
        "- 64비트 데이터 형식이라는 의미로, 현재로서 64비트가 가장 크다."
      ],
      "metadata": {
        "id": "46caKdDkrLiA"
      }
    },
    {
      "cell_type": "markdown",
      "source": [
        "![image.png](data:image/png;base64,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)"
      ],
      "metadata": {
        "id": "swAVq6N1rbQP"
      }
    },
    {
      "cell_type": "markdown",
      "source": [
        "- u int 값 : 양수로만 표현됨(마이너스 필요없을때)"
      ],
      "metadata": {
        "id": "wfcuFvuorc1C"
      }
    },
    {
      "cell_type": "markdown",
      "source": [
        "## 5) ndarray(다차원배열) 배열의 타입 변환"
      ],
      "metadata": {
        "id": "4QKnV4sorwf0"
      }
    },
    {
      "cell_type": "markdown",
      "source": [
        "- ndarray 배열의 타입 보기"
      ],
      "metadata": {
        "id": "USBCrnc9sDuu"
      }
    },
    {
      "cell_type": "code",
      "source": [
        "arr_int = np.array([1,2,3,4])\n",
        "print(arr_int.dtype)"
      ],
      "metadata": {
        "colab": {
          "base_uri": "https://localhost:8080/"
        },
        "id": "MEqjWJearHRI",
        "outputId": "10eef6bb-1764-4f9a-8392-12367e8ec547"
      },
      "execution_count": null,
      "outputs": [
        {
          "output_type": "stream",
          "name": "stdout",
          "text": [
            "int64\n"
          ]
        }
      ]
    },
    {
      "cell_type": "markdown",
      "source": [
        "### (1) ndarray 배열의 타입 변환 (int -> float)"
      ],
      "metadata": {
        "id": "8IsrcA5dsGZN"
      }
    },
    {
      "cell_type": "code",
      "source": [
        "arr_int = np.array([1,2,3,4])\n",
        "print(arr_int.dtype)\n",
        "arr_float = arr_int.astype(np.float64)\n",
        "print(arr_float.dtype)"
      ],
      "metadata": {
        "colab": {
          "base_uri": "https://localhost:8080/"
        },
        "id": "9Adf3_u5r3tQ",
        "outputId": "95563284-8587-49eb-c7a8-3324aad5cfa5"
      },
      "execution_count": null,
      "outputs": [
        {
          "output_type": "stream",
          "name": "stdout",
          "text": [
            "int64\n",
            "float64\n"
          ]
        }
      ]
    },
    {
      "cell_type": "markdown",
      "source": [
        "### (2) 문자에서 숫자로 변환"
      ],
      "metadata": {
        "id": "EaF0PI_5vmH7"
      }
    },
    {
      "cell_type": "markdown",
      "source": [
        "- 문자 배열로 생성"
      ],
      "metadata": {
        "id": "uFb8eaLbvwqz"
      }
    },
    {
      "cell_type": "code",
      "source": [
        "arr_str = np.array(['1','2','3','4'])\n",
        "print(arr_str.dtype)"
      ],
      "metadata": {
        "colab": {
          "base_uri": "https://localhost:8080/"
        },
        "id": "AXOSPMHAsNfk",
        "outputId": "016c34a8-8b68-4d6e-8d0d-8421ace17bb0"
      },
      "execution_count": null,
      "outputs": [
        {
          "output_type": "stream",
          "name": "stdout",
          "text": [
            "<U1\n"
          ]
        }
      ]
    },
    {
      "cell_type": "markdown",
      "source": [
        "- 문자를 숫자로 변환 (str -> int)"
      ],
      "metadata": {
        "id": "rXM-_6f1wXXp"
      }
    },
    {
      "cell_type": "code",
      "source": [
        "arr_str = np.array(['1','2','3','4'])\n",
        "print(arr_str.dtype)\n",
        "arr_int = arr_str.astype(np.int64)\n",
        "print(arr_int.dtype)"
      ],
      "metadata": {
        "colab": {
          "base_uri": "https://localhost:8080/"
        },
        "id": "QEi7QhDavv3-",
        "outputId": "9bde323a-0fee-4260-b6cb-8f8ddd98db8e"
      },
      "execution_count": null,
      "outputs": [
        {
          "output_type": "stream",
          "name": "stdout",
          "text": [
            "<U1\n",
            "int64\n"
          ]
        }
      ]
    },
    {
      "cell_type": "markdown",
      "source": [
        "## 6) 배열의 연산"
      ],
      "metadata": {
        "id": "Xj01tT9Lwuag"
      }
    },
    {
      "cell_type": "code",
      "source": [
        "arr1 = np.array([[1,2],[3,4]])\n",
        "arr2 = np.array([[5,6],[7,8]])\n",
        "print(arr1 + arr2)\n",
        "print(arr1 - arr2)\n",
        "print(arr1 * arr2) "
      ],
      "metadata": {
        "colab": {
          "base_uri": "https://localhost:8080/"
        },
        "id": "M3Dqvt3Nwkx6",
        "outputId": "1c4f0591-f563-4bc2-beb5-712d9e9948c6"
      },
      "execution_count": null,
      "outputs": [
        {
          "output_type": "stream",
          "name": "stdout",
          "text": [
            "[[ 6  8]\n",
            " [10 12]]\n",
            "[[-4 -4]\n",
            " [-4 -4]]\n",
            "[[ 5 12]\n",
            " [21 32]]\n"
          ]
        }
      ]
    },
    {
      "cell_type": "markdown",
      "source": [
        "- add = +"
      ],
      "metadata": {
        "id": "qKS5Cocox_3i"
      }
    },
    {
      "cell_type": "code",
      "source": [
        "np.add(arr1, arr2)"
      ],
      "metadata": {
        "colab": {
          "base_uri": "https://localhost:8080/"
        },
        "id": "1U8mm1vRw2uz",
        "outputId": "be36c185-1aae-4399-c8e9-20703bfd8ac3"
      },
      "execution_count": null,
      "outputs": [
        {
          "output_type": "execute_result",
          "data": {
            "text/plain": [
              "array([[ 6,  8],\n",
              "       [10, 12]])"
            ]
          },
          "metadata": {},
          "execution_count": 42
        }
      ]
    },
    {
      "cell_type": "markdown",
      "source": [
        "- 여러개의 값을 실행하는 경우에는 'print'를 써주는것이 좋다."
      ],
      "metadata": {
        "id": "uJSxtFIkyaIU"
      }
    },
    {
      "cell_type": "code",
      "source": [
        "print(np.add(arr1, arr2))\n",
        "print(np.multiply(arr1, arr2))"
      ],
      "metadata": {
        "colab": {
          "base_uri": "https://localhost:8080/"
        },
        "id": "aT_UDDw3x-Os",
        "outputId": "3e2e7005-030d-407f-afcf-74041530843a"
      },
      "execution_count": null,
      "outputs": [
        {
          "output_type": "stream",
          "name": "stdout",
          "text": [
            "[[ 6  8]\n",
            " [10 12]]\n",
            "[[ 5 12]\n",
            " [21 32]]\n"
          ]
        }
      ]
    },
    {
      "cell_type": "markdown",
      "source": [
        "## 7) ndarray 배열 슬라이싱 하기"
      ],
      "metadata": {
        "id": "1BHNcCt2yko8"
      }
    },
    {
      "cell_type": "code",
      "source": [
        "arr = np.array([[1,2,3], \n",
        "                [4,5,6], \n",
        "                [7,8,9]])"
      ],
      "metadata": {
        "id": "atYe5kPCyYS_"
      },
      "execution_count": null,
      "outputs": []
    },
    {
      "cell_type": "code",
      "source": [
        "arr_1 = arr[:2,1:3]\n",
        "print(arr_1)"
      ],
      "metadata": {
        "colab": {
          "base_uri": "https://localhost:8080/"
        },
        "id": "IODvFfDXy4fo",
        "outputId": "856e60a5-90aa-4ee5-e8e0-9a7d2eaa77df"
      },
      "execution_count": null,
      "outputs": [
        {
          "output_type": "stream",
          "name": "stdout",
          "text": [
            "[[2 3]\n",
            " [5 6]]\n"
          ]
        }
      ]
    },
    {
      "cell_type": "markdown",
      "source": [
        "![image.png](data:image/png;base64,iVBORw0KGgoAAAANSUhEUgAAAbkAAAGCCAYAAAB96b1GAAAgAElEQVR4nOy9d5Ak13ng+Xsvs2x3T5uZHo+BnYEnARAgCJIACZICaERzlMSVKDGkk7R7ay5uV3uxiovQbezG3e1KexeKvY29vTsZ6mQoSpRWpCRaGMLRgDAEMTADYAYzg8G4nh7Tvstk5vvuj5dZleV6pnvaVHW/X0R3dVdlZb40733vfVadPHFScDgcDodjHeJnMpm1boPD4XA4HCuCn8vm1roNDofD4XCsCL7vVnIOh8PhWKf4vu+tdRscDofD4VgRfK31WrfB4XA4HI4Vwfe0W8k5HA6HY32iRMSFEDgcDodjXeJ0lQ6Hw+FYtzgh53A4HI51ixNyDofD4Vi3OCHncDgcjnWLE3IOh8PhWLf4a90Ah8PhcPQ6QqObvmr6SxreW03cSs7hcDgcy4JJ/dQQQAysUbCaW8k5HA6HY8mkZZdXey+1clOA6LVayDkh53A4HI6lo4hAShCVQaogoDwfVB7Upli4qTXTWDoh53A4HI6lU52EUz+B/X8Px18GU4Zdt8E7PwZX3g9eHxCv5EQAA0qzWhLPCTmHw+FwLJ3ptzAP/S6lt1+kz0yBhJROv8ncm/vZ8rFp2PdByO5MCbbVzZfshJxj3ZO2Gajafyr1vjTMKQUVf2qswRzs3w1+Wqn/lY7/rvuRNR/r4q2yupxmTzRJtU867mu558TpdkvLJ2m/uYV8CdbIBLMKXMyDYr2eeeq8RexzLwZOvoY++ih9EtrPFBSicxTOTxI+8n/i+3nY+yDo/oaetlpXyQk5x4YgIp4/psbvRHxZUWVABBGF0p7tvMEshNMQzcfCzo97ZuwppjR4WfAGwcuDzgMg8b795GCqXXc2QAiSrbWnRlMbNSHJHld1FlyTaI1Xyp5/IuBXrzmOLkOMfbbnZ0FC+7x42FcNmBD/7H4qz/0Nud37wL8OpQpNU8qVxwk5x4ZAsdB4HH9iqigzBefehpOvwtgRggsnMeVptBhCZbuLFvAxBAhki+R37oWb7oXR68HfAuTi3Wo6z/o1SL371dqWEnDJWKFqwmVlI34aW2rscRNBV/OOM/atDSzcOq3PF1q3rxuk6RVgYATJb0GVzsXhAuntQ6pHnyZ3/Dm4aQ+QQzl1pcOxvCikcRUXo7FrFIWAVCCchENPUPrBl8idfB5dPkdGpDZqZdKjlwEvEQBvZKkcuJPsXT+Pevfn0GozSiddq9OQF9smko87yEL7scdqruDs6tHQoqKNzzeKRW/SonU9qLelUS3dyAapXJae5VxxA+qWj1Le/xD58GxqG0BgoHSa6lNfIXvDJ1fbHGeb4erJOdY/kpqBCmgNEtn/lYJwAoLj8PgfMv/c1ylWxyEst7o8p01U6c8EUFmmsjsY/OnfhHd9Fvxt1IVEqxhI8kOo2vfjgdNEGDSekvg9+76RhVdPyyFoaisRCePrEoEqg6qCyYL2CXUW8FCp9eXGE3K15W1sm1JNn6zXKyLtZbjMQfU8HP0+pcf/lMKRh+uPfWRfZ/O76P9v/wSuuht0/6q22q3kHBsDlZJIJrQDdzQP516HI88w8+zfkz/zAsVwtv6dZu1gp+mgAqIqg9XTTD3/dQb33g0j2y8xADbVrmgeVTmPd/6oFbLFIRjdB6qIVlmMCKqjpLv8gbU+XkdW8L/1DJx4ler0WbLDO+Dqu/B33AreIIIfD+Zrl65pzRABFdZnHik9pdqIQ6rqg3wR9j5AYaAfvvgSzJ8BpKYu6QtmqL74HbI7r4W8E3IOx7LS4NGlNFCGaI7opUfxnvl9OPk8A+EshFh1itVhNkzYLzqOK8BUyc2egNmzyEg8o+/4XZU0Lh4kA5g5Ren7f0XhyNehMk+1uIPwXb9I8Y4HEH8ErTQrqe9Jxmtl5uHg4/Ct/wXOHyJrIvByzO/5KYqf+k3YfjtKr46dcC1pN6exgc9VqM4is3OICHrTJvAz2FiwxNO2/o1GP9pm250kFz1+V8fvXtSCvDaoZi9jMCIgGq03w9A+uPkDhC98Cz+cqSkzlJTRR5+E0x+Gq/Ys0ai7tDN3Qs6xAUhUgwqiOZg9DD/8U6rP/Q2FuVNA1W7WHCEQawsDr0ig8gTikZEqBSmjTKXuzZL8eBCJgESX3B1FxerBYA6e/RL6h78PZgJE8NRRShPHoU/DzZ9jNQSKBrhwgON/+7tcMXO4rtY1FYJjz8Frj8DWm0EXYu86WBNDyypisFo3MZALT8PrDzP32BcpT0+Rz+TJ9Q3g3/cZ2Hcf5K4GXYwH98zC47JgNQrBNKgZiBT4/eCP0J3X1CAYIrx6tJtA/SQ15LbA3gcJX3kWvzyTOg3BP/8aHH8JrrofK3pWZ4LkhJxj3WO7YGgzMZRPwFN/ROm5r1CYH7MfNhuXNIjfT7lvB7mdt5K59lYymX7wfIgCOPgsvPEQBDN2+2Q1FgF+DlTiR60uffI5P405dYBcOFZri0eVwbkjcOxl5JbPx96WKzePr8UGHniC4ZmDIEGDDbLPC2DqjFXVxW2shRK07mwdUF9z6WRFfvB7jP/N77C1fIi+5L0Jxfx/PYS5+kn6P/KrsP02yO7AhlrUnYtUElGS7N6U4MyPqTz9t0yfegNyRUbfeS+84zOo/Ciish3atXYXt9lLWdKPuBKQPOy+jfyWK2DuaEobH0AlIHz7Jfy5k9C3Czqe3/LihJxjA2AAgZkTBE/+MZln/oBCMF8XcM36JOWhrrufwl2fh30/DZk+aoomE8HeA0AArz0GZqauktQeYaYI/QP1fV0qIoRBQLY5/lpFhFF1dea8JoDSBNXDz9FvZho/i6Dqafytu0FpIjQaz2qd1rXrmokXI4ooiqg+/zW2Vo40OiCJUAxOwuFvYyaPoj/xP8H1n4030Chp9yAEMDMOD/9Hcge+xmgsAefe/i7ZKmTu+Tnwt670yS0SDaLxmk7H/hvFnysIfcgUGjeK42FKp19nYPYoFLc4IedwLBumBDNvI9/5T5hXvmEdTpIpabx4QaCaG2Z+eB9Dd38Gbrofhq5DdAFB0Imno/Zg0zBs20X4etyBaivADKqwGfqG450uQuUkEts2kv/jV1XA37zt8q/BpWDm4PgPCMffIJsE6SV4Hv6+++GmT1pHmMZGrk771hIxEFYIy7PWRgmtwj0so8++Rum7X6TQvwV2vgvUAG2fA1MhOvU6syePMpjyWsxHc5w/8BRb3/FBGOwuISeoRlNaoq1WZQjOwfhP4PlvUTqyn8L5Nxr7WLx9ZWqKgbC0qu12Qs6x/qlMwNN/SfTKt8lVT7WGBWQylLJbyd/0IEM/9SswuBe8ISAfT0ATXSRW5Vm5AGOH8Uyl4TBiwBQGIQ4aX5QIUCoWpE1oH/xsbP9a4fVcNANHn0JNn7AjQ60omAfD15F9z2dh5CaQTMPYtZ5lnEGjMSit8PJ56NtiEw6bucYbnPwdVtAnfgzPfRU+eTN4A43b1LYN8aoX8KJS/X0FHkKhesE+Z114YeunHIEKrHC7cARefITzz/41w+UTFGSu1l1q1OaIGTCre15OyDnWPzPH4cd/jF86WU87BLXBJdz6Tgp3fx7u/Bz4w6DyiBFULQLA1IWMXICn/yu8/iiqFmtn92U8H8n2gc7UFohwuS4EARCuznhXmoDXH6Fg4pl2cp20prz1dvK73wlkiZQV/LZJ3TcQLzcGL76HhuI9n2Xu7Jv0jT9d3yAlpABy0RQcecaqfz2PRFvZEE0nIUgJL8n3WEOnAvG7DcHEjifZ6gycfhUOfB1e/TacfZnNSuq26bTxLiXg+0Z2Qm7zyk/YUjgh51j/zM/CzCnwUgOHAZRmdue99D/4j+DqD8RebRlQBhWn3FLxdpgItIGDjzL19F8wKFF9cIs9MedVkf59d4MerIVKX1pXtkJU1fQ/NKnCmt3SLw+JRbBBoyRWxUaTcOx5uPCW9ahMrVLmpZ/ibZ+C4g5MS0jEeo6TU01XXcGV76PvZ/9XOPI0TI0xd+gZ+sZ/bJ0uYrMUKiKcOoFP1Qoz5TUGiCvqQYlJ6EDqMipjbAzeGiFE2LRufr1RGJS5gBeewxs7iDz/ENUj9nnJyWwcM0jKPk09JEcANJWh68nd9SkYuopa6rtVwAk5x/pHIlCJupHaLLPibaL/k78BV9wD3haM0jYZsjF1maLjwUaqMHmKyhNfZnD+cOtE2+9j4Jrb4eb7QFtHlYXEUnux0Gb2riAx+C/wxUVj4t+S5NeMzjL2/b9je3W+vpEAyiMaugpuej8oG8S7fiPjGmm91Aoyo3DFfbDnbgjG6Tv2A6Iv/mO8aL5uhlVYNWQ4C5laavDWnStQqp42zr6ahk3WhpTgjVWrRGdh7CdMfffPqRz+EVvCs+SimVadfNrO7UFVFwh1gXJhJyMf+nW489OQGYEGAbqyOCHn2DgknTYOUA38Ark9d4A/iHXOlwaX+AYnx8op+NH/i5x+vm5vSHXs2eIV9N/z86CHSNUf6GoEHa8wDLz5A7KnXkw+sGiY9YYZeM/Ha95yGzkxcx0PoQ+V2Q1XvMt6Cs69DZn6FooQDu2HW3aDN1KfXPUAJjbIekl2gGgWXv82F775nxmeeMWeW7PGoTm2IJOBwasJt72T7NXvoXjLh2DwavByEFXBy7BaOCHnWN8Y6iNzIuTif7XygDxGMug43keUsoN/JHG4WwBmEo78EPZ/nXw4Wd93vJ9qYSf9d/2MVXmqAslap7vHNB0H9EZQniZ8/hFGoji5bqKCFWDrDXDjT1l3b1VP5LWhST9PXh5v6w448nZdXSmAiiidPELhphCj6la9XsBm4kq1V1WpfO8vGJo6HOc1pcUOaa9FjsnsKNlr7qF43R2w43qKI9dA3/bYAScfa0lWVxfghJxj/ePpujE85RpvRCCsorQ1qCfejZJ4OpoQdAiTbzD+0BfZOvGm/WLSsT1FlU1kb/kEvP8XMPkrY+1muvhp+gvdgm2PRmx4xdjrlI+/TL8pN6qdPJ/+fe+BvutaPEY3OgpjVdjhDExMxteLhgsUVstAgJeUu+gZmlTtEiJnXkNHM62eyTWhDuy8iaEP/DJc+ynIbUZ0HrSHwkuVJKzVBFm1XrFR1OuOjYrG5hXMp4qTxgORZ8owfghlSohY1YyS2IKisDP20iSVb/xfbJna37ISRHyiLfvg/v8O8ntsP1aRna0K0LVechaDguokvPJVcuXxRgmmgb6tcN3tUBylO9NMrRHGpm5j/gg8/IcwebRRha0AfFR+AKsO6O7noBl7CmKdY+J3/OKI/aRmp2v6AsCO2+CaD0LhSvAHUCqVuiv2nYpQRC26zZXFCTnH+ifbB5uvs3+n+pYnIZx+BZjAo4zNYVm1M3QpQfkYPPfnyOGn0dWZRjWewNzwOyh86l/B0DWg8zajnyiWJQ1I3E6zQl3UpnqOYOIIHHqETDBlP4ibbXQBs/u9sPMW0Nm2Lt/txrv1hZA+SyOAqVonjFNPwKP/N/PPf9W+B6nVSoZScSf970icdeLBvs243p3XL0karazjlVfEf+8XmOrbZ4V2WkWZyCulmdn/GBx4Ehv2YqzqXwSJ/Xmb9RrS4We5cepKx/ontwm23gRnDkNUqdW6ykpI6dVHKOy5BvK7443jFYtU4Oj34fu/T748bt9LxnlRkB+g755fgD0fAtVHYuOSWK2n4szsS5qwphw/7M6WsI+LYB355uD4fhh/mVqy5Vj9NKcHGLjxQejfXf+MxgFqY5B4GqrY6XYGTjwHX//fYPxVipXZxvskEHp9FO56ALbayQ8ojEqtkIj/0d26uos9swTsryy8+/MMZnNUHv89/MkTeGreqvOTTcQwEByj9P0vU9j5Xth5PUoPoJSJJ372vNdiVeWEnGP94xdhcA8lchR0pT5CR3MUDj5C6dBTRH4BLfUyIiIRWTNPJpqzapt0jks9QLTvo3i33g+ZTaSLmy4LKbtYqCAL2KTIyxgvJyEEY5RefoqCMfXjxmED1ewo3Pph8Pqhbe7F9Y+gMHj2iivB1xEc+z4XvvJvGZnYH6st442Ta+eBv+M62HcXlM7Z8vHZEbTut5dR4jG/JkS6Ea92PiKC0lnIDsO7/gG5Wz4EL3yT+Sf/lOL0Abt5ymtZJo8Rvv5t/G07QCfZXpJ+tTYxlU7IOdY/fh/suoOgsJXCzHTjZ6ZEgZL1oITWgSedgtIAOktl9AZy9/4KbNpjB4GkGy13/xXwxWCjapcbgVMvUz3+Eg2pdBWUvCE2v/dTkB/GDngbU8ilURJC6Syzj32Joek36sHPicktIQQmT8LDf0JZDxD2jdJ/9Tvg9k+j8qNQu9qxnU5132quLrcFhUdkBK0LKC8LuRzc9SDF86/BDw80fgFQQRk9d86GCWTaSfHVF3ROyDnWP7oIV7+P/I7rYeYwbafQnWbVcXBv4lhQzm8j/+FfhivfD+RQKkO93sgyT80FtAkAqZt7lmG3SoytPP7MNxmonE59YF8qg1dTuPMT1qNS4hn4hpRzkmi2rfp64hj6wkF0VEqpruPX9PWZOg2Tp8nr+IM3hiGowPu+YJ9FlSx7jL0XXUZDWdT4HAIgozxrmj1+hPKbb5CHRrucsV+IdBatNWIMSqf3ll7RwWo9VM7xxLEByEBxC9mb30spM7Twpir1A7ZfJppCBfm7fx7e8Wkaij4ut4BLW+DDCuHYKWQ5B8PIhg1MHnrGuoUnxIuLoX3vhU17Wc3USz1BlLoHDZkCOvxtsKru8hSvP/k1mD9Ts80h3etx2SwUNEKWCGXOwfiPOfflf0P+bJw4IDnfOETHFEeRK98P/iAqyRa0xt6lTshdNnW/oEYPIWn7mWMN0J7NHL/vfuZ33U3k9de9xJp/aHrVgJelkt2O2fdxuPvnQIbi4GiPjrPRi5rp0k+EBi+H9jONH8UC1jMRSvmoRasNm589sYNrOIG89giF0pnWsIGBrbDvPbXMLSiFqORCbDQUJlbaoTKwaTtB/856to7kHrX/qs2AIgAR2oQQVm0cpRCvkLX10m/4iQ17XYF93pSJIJyCUz+m+tXfYUv5aFwlIYWGcmEX3t77ye69B6JMPClI25HX5hly6splob4MNykPorr2eZG1xRzLS1LaY/hWNn/yN+HJQTi5HyrnrQNG25EqvqfKh83Xkrv+AbjtCzByBahCm1iheECov3FpbROxwrJvM15xqP7QpDQ6ygjKhLbszqIEXVI9IUmhpBAxqNnTqCNPkJM4T2VN1haQXe9F7bgJyNbCouyV8JoWLBtHf2kArXKoTVcyeN/nKX/zFPnzL9VTdXWavdbGeJ9d195qbZxi7D1UPtY+15reSsSsejmaNA2KCQEIYPoY4WN/RPbYo63dRQGFUfL3/Trc8Q9sJQ/t01JdlUvuFcuKE3LLQmMaJ/tsK0z8pOjYvdyxhijAFGD3nfDZK6A0aY3jSmgtfkXNyxC0jbMrDEN2B5gVmo16Hvj5FgEHILNnUfPjNjh7sdWUla67rYtBqQqcPABjL1q1ZeI4oaCaGSJ73b3Qv73+dZJ6eqkGbRCS3BxJUSG0D3sfIP9Lu6k+9ReMvf48eTNLNpxFi03EbJ8O+zyJl2NO5ejfeQP9H/2HkNtKLclAT6h1BKhCNI5889/DwUfrmsfUTD7IbSdzz6/B3T8L+V0kGoA1cqZswQm5y6TWAZruqAjomudUkkeKjan1WWviax4pjacGoDgAxbS9oA3prP+1AUk12s2Xg9rMyMbeoXNgKvXjRlCdOkeudA76Rxe583oAl0RiY5aqY1QPPE62FOepTM3Yg/6dZK//oF2p1pQTsuGdKxVi748GMlthex/Zz17DnvkzcOIgBInHbqKaC+MVm8/A4HbYvAc2XQf01ZMJdPNAkNx7U4b5o8w/9HtkX3sIP4yrDthMAiBg9DD+3o/A+34F+naAyXWdN64TcsuEiUcrD+oqiahCrW6UV8CotQmGdNiR3IuDbyV2mVS1Httm65r6UeqdVmTZO3Ct9Kj2YPuVVL0+slJpWM35VG0meAlALc0ZxNrzqvDWk5TeeIpsgzoKqhTp23s3bL4JvKwtGltbStIVM/LVxsbJxT5HyUQJhah+yPTjDe5BDd6e+oYmxMND4kTGcTmZ2C4HINru01OathqEbkGA8hw8/WWKL/2ZzdGZNhcKoPNUb/4k+Y/9c+i7NuVlHNMlz4wTcpeJqqkk7cOLGAjOwJvfo/Tc36HDMrmtV8IHfw3dfyWQp+6X7lhN0guwhqrdTSszBbEas/Gb0mJ3W04UZPoIdZ4sHkh9ABQydsBcYjXlCCubdVRi7vG/ZFO5NWygVLyC7J0PgIpACcpLVrIqLW83HEluZetc21gbzr6v47/tFrUnRKW+WXPcMTVfJuuyazDd6GGpDVTG4IU/pfSjv6RQnmi00SkIvQH8vT9F/sF/DEPX0fp0dHI/XX2ckFsO4gm+RkCFcPiHTH7j/2Do3ItASPnQIOfGzrL7l34LyV0VJ8hwl371qHeypWmM7bdq313mPhsJ+AL4HnipwPJ4QDFK085BYTFoApgbIxh7HSXl+jHiMXbw+vfAln3Uk/JaWkV9K+tV+LXzKWktKNCYe81r2TKdIssKPLWgW+Zq0XRm6fsenYEjj1F+9L9QKJ1u3FwDOke44y78j/wj2HITqE12g/RsqItsjk57dtnUfcVtVoQxOPAwQ+eftwJPQZ4pBo89DAefROm8E3Brhq7NvBsSZHUKJUh9D1aus3gKUNYT0hdjV3ENg4TBJr1dAmJLfBJNYt58Bj+YbfXgBLjlXsjuBL+AxK4mXTROrSm66S9N0/PT5v+Wd+PnSmr/tNvL2iFiw0skCuCNbzP/1X9DvnwCiOpepBrQHvNbbiH/4X8IV3wEkX5qT0q7MJwuwI22y00YEs5N4Sez5Phme2EFpi8455M1pNXtfXE9cXn7bfu9qYUkyyJtY4KKndwEJRVK42/jNR9AAyN7YPTqxXtubgBU03/N/1/aNzun0+mGocDaHjWemUQde4LqY39EcfZYfbGZnIr2mNt0DX0//S/hqvcTmZbyql1JN1zj9UUQ2llRSEOQp+dpECGMwrXXVDg2DBGxJUhBGIY2Prch2L0Au+60NeP05alEHb2JAjxVgqk3CB7+T/inXwCilpXZXPFK+j76z+C6j0BuB1pbhyYj3b3md0JuufE9PM+rpYFqeFAig+/57qo7VpUIQA/Sv/tmdKbQ8EEpOwJXvbceqOzYQIjNYRrOw8nHKP/1/0zm+I/QptTiNxJkR+i775fh5s+DHkZiG7UojSzRIWq1cOpKh2OdkphRbEhEAe/695O56/Oc2/8d8pXzlCnQf8vH4MZPxM4D3T1YOZYbgfAcHPou5Sf/P7yTz0MSvpKoxhWUvGEK7/s1eNd/A/4gkTEoLejlKA68CjghtyLoFpW86uKErI5uITUrTucYSFi0UVBQYlVKkfLxijvJfOifsuXm+2DiMP2DV8C2W5GBfaRdIhbaXytr5WFwscG1izwfFqDjiLAaJXhEw/m3kIf+d/LnD9LgZBJfvqo/QuGuz8C9vw7F3SAarZKo4HQbu3eC5ITcZWJnyfZvBeDlEM9rcRLwxdQr6TrnE0dT8JnNjwiIB0mcXDzYGLVEz8p4/w3egcXdcNUoXHUvNv3S4u1wlyQ+1nKC33XyTbXc744IrNpk2JRh4m3UhTfBpALTk1S7Kofc8HH4wL+Avt3YqhQKpRJXk6670G1xQm5ZaeMWLPVPemBl71gJFrjvKt7Avuo4L2+bbBhqKZqA5uB1ZYVak2Brs1UDbReTSTrMls8Sd/KVHgA7q8oW6mYLeq+uFKlLoVo8ZNdwtqu8OM1YKrMNxMHeI5hrP0DuQ78GfXvs46jFTsJ6Q7bVcELO4VgLmtWRDTN40/hZ899rRkqwNA10aeXE6llqemy07TaUD1uvgq03wPhRMFUQQ6QL6Kvfi/+J34LRG4ko4OkQUD15yZ2QWwG01u0fhjB0akpHHYnT/RmFDfYWREJq7tsxkXhg4vIrazDI1FdvYpciWtfksEFsyIyniWL731rHTRkjHWvvrckY3SzxhXoC8LVmy03wid/m1EN/SnD2CPnCJrbe/XHUuz8BxV02YTgKiUVFD8o4J+QcjrVEAcgMzB6G8wcpSKllm2JpDI4/BTMn1zZg289D3yBsGrWrAC+HR5yIOPBA5+2P8uPzWsnGdFDdKvAkUaslxvKm17WgWa+rDEkU45ohGrxNcPX72fmre2F+AnJ9UNgG3iAoP1VlpXdxQm45aecRVdPdLL93ZWdfN6FzMVDHqtPuRiWzeVWBmSPwjX8Px5+F4EKjvk9AnT8I3/5t0FnWThWgID8EfVtgaA+SHUYyfRgVEagM2YEteNv32aKyxZE4F+JKt7WToMuDlwPft/lAG67/Wl2/pK0ZW01C5kCqcbRZI0oMSNW6868ovnU40T7kdtpacCpj22oCIERpD08lY0lcY0f5tFYZ7F5h6ITcZVI3rcS33NMor53CxtginU0l5i6XKNWG2lHNBTjyELz0fczsOFpCm49wgZyZajW9ujYYbbu/JHVLQmTiBDL+OtrMtwZkJzFL87NrZ5dLTmDuApw/Am/vR7SHUT42rZMm0j6BX0C8HKI9xKyGkGuPQaOUj/Yz5AYH0F4W5WlEZxrUhEqvZvtSVSVEUCqEmTEKlTONm0mV4sRL8LXfQnLbVqVlqmVQMpj4OVS1kBaDUTm8bVfB3Z+BTdchatQ+ryK2VFSX4oTcSpCu/Fsb4VZCgEg86Vd1+071AvKTv2P6279NsTJGRipAgMJDdRRybRwdHCuPWFuciqReRafZ+67T32tBrfzPPDpqI8Kqq9yehUhivSaIr6lqfP5XPbtL/Xg1waEVRGGqTfFreRoOfx+1hPCO5cG0nZ542mf+YB9TB55lx8/9FmrX/aB015cbdEKuh1GAhyGyeeattnTyFc49/geMzh+lNntMijaqixRp7OYntVfpNHHoFOTdhVnce7kHEqgAACAASURBVI4kzUv6cY8EVNB4XddKcylRrYB4x/tsYMmVJy6XTm2SiKKpUBz/IbzwDdT299qVe5en9eru1q03wvDi2ywCq8myt1CpWBMzeR7mzwNRfVWQhO5datJ0x/LR6bqm85o2C8JuvBdqkT9riaHx2bezwe4a7dKJstux1tewEwJEVcKpcxAEtUvczbiV3GoissxPhGpVgkqAT7XzYNOtnWcj0+2jBPSmKrvdqngtn//FVp1dq7ZewnE9Cex4FoeNdDNOyK0DmvuOSXJnSpsNuvt53Dik70O7OCp3n5ZOsz18oWvtuAwibAo6uvp5dULuMmnsM9q6eevUja8JGlPPD7fMuSsbVAa16tI0CDkzsBN9+6dg006gTayVXMRe51h+jMDkG8w/+/cUZap9fkMF9O2CWz8Cm66Mg3Pj7yboJYwwiw1GXkrC4MUcY0n773DengdhBcIqzF+gMnuBucnzBFNnUNUZVBSSIUJhUFKlXypoM1dXITY3JXGEzQ3B7Z+Gwaus2/2iSKf7MyDzMHYAXnkUghn7tsIeaGAP3PGgDcZuu59V5M3vwqHHFpgoC6JayxF3E07ILRtJwKlnf1pYuSoEzea2ljyZAuHQVWTv/ByM3mLjiJqJVQ+LYrEDU7dkeVhNFur9Apx4hOkXn6ZYnW0/0RAIMoNkbvyITarsDdr30+7vi1YXLcXde7GToFU4Richp7SNMzMBmHlyUiWH2BjEYBaqZYjKUJ6FsRMwdozoxEGmLpwjJ1WkMkNWC5oAX0JAM6cH6Nv3fvjAP4WBa5ZQYDYRcibuoJOw/xuEh17AT4RcnO290r+b3J0/ByN3dLi3qxR/KD5UZuDQ90AH9eGrx1bDTshtBBSYyNjOr3Og+ttstNgndykCewMKORa+UrpvmKpk7L1RUdvbMD97gcGJMbgmD/6AfTOKqMUdCItfza2HldxCMwhdAG2AEYhi+1HmCqtlwdhkCUZgTwRG4XkeI9U5mD4DZ49CaQqZOs3M2KuYUPBGb4D3/CwM7wJV6Bjs3uks6poWbI5IcqCLBHj1QVgBOk9oIEcOvGIs5JrPcxX7ke69hMzNOCG3ErQLjIyDJteUWoBu01OrIE5/f+ks9cHfYKu5hS6riEBxCK8wCNNBow01ZU/KqAjKM/YZShY7zTGPnVY1HVnM9rLE+7aIYyxa6ELHdtXeivuh8myyhoaUslnQWFVbovrNFWB0ALZcBRiUlBmIpm3eUH8QMlsxInE/9tFN3Xmhe22gvr3OxalKY8exekYJaqm+VGTPbQ2GDBNPnmx7tRW0aY/VHsMJuZVAdUikmwi5tR7nl0UDssSnvQc7yeXQMeQo8UrLDpAf3ALTnfehJbKpoDD1FVuXe7StBtKhn6mUZBBU/Gyr+P14raXqaanq11IBhdo1FiDyR21pNTQhCk9J3ae56di1KuwLoeJfWoGoxrmJAptZpN7G9vd5Ze99YpYUZc8b6OlkSGs93DpWm7hzt/tZ5I6WcvAlfGf9ogVQeYZ3XQ+S67xd+i+llkHAreSqb3WOIRf7TuqBTqzhEQrBq8eWYhqDcBQN19Z+ojF4CApfrKi0Kyxp+6Po8NMxKUBT7UnRcfs62TRXpw/puN10EOi9hFvJLQupJ1jpRu9K4leRejD4ClcGr6lA0h1d6dggT+cHtk1HFFUvFNxK+x31mF16TdDJfVB96O3XYlVv8YfJxY7/N8R2pAW0V4sXEYtUVy6atTpGvB9V/1/Hokw3HCMt3NIdsr5N7CZS76qJilS1bNp0zGbivaj0RrYwbqqZ1NKPJU4q0qFk1wpTWwmvk47shNxlopqfBJWpe1c2qSIkMkuzry8HUndhbplVXsSWEO/g0r/kaKD9lTI21ZTug903EOLhJxOTpgnKypRkWY0RbOWOUb+mCx8jUTzaHrnQNWxTDQDwFlJCXnIX0CnHmvR0sSlnrALEoJdltX45pB/AeB3cwwLPCTnHgjSu4C5eQqGH+8LqopKJugdbduAPbYOJt9rGaemG8BM3uVg6K+w8syBJyZ8ongS3ERxNjpRrVCO31pT1ghNyK0EHd26RXixBmFJdKKyHppK6ChYaZp29d36rQDvJb2ZQM4fh2Cswdwh0ta4faxcUnqRQ6rQY2YgXftEzqqVMwZb7wqZuYq2YK252uII4IbcStIstERAxPejqk/RAU7cRmApWhRbbGLW2btbgOuulMnMIvvUf4NDjNqF2W2/c+CUCggDCWWCydbuN6mm56JCcNYztrNnxjF2imRmQahxsnnxmfxJzQs1u67gsnJBzXBpJ4HFUhupx+MGXCF76FjMzM2itMaY+gDTHD2102o1T2WieQjgBMtd+w5pjCuTMFDz5Z8z+4O+oqlYvTC2glpLaq8cRs8gH7WKlptoeZBmKgdaOa1PuGQWeisgE0+SSbCc1Uk4njmXBCbnLpEWzlKRbajMLEwnsTK5tFoNVpNOh274vtd9KQogm4bu/x8zTf8lAeIqRNjak1NccFyPtqdfumkXxh9Ek/WGbVRxcYoDWGtHsidjp/6XQred8MZLu36WxZ8txa7oJJ+Qum3rgqCJ2009f1tSM3IRlFnLI70YaxhEJYPI4wTNfYqAyXh9c0zJ7vfWQ5aStra3NdulaY82v7ejSwbKB5vPsVQF1OaTvYcd7FjsZrZkbdop10oedkHMsjrk5TNQ+kbBjARZzfdKThsQkupz2maXsZ7H3t50gX8jBYiPYn6TD344VxQk5x6UT292MSC8tRruDZmG10CDXPONPr5JXP8tT/RhLHZg7nXtaRdu8//Us8JyAW1WckFsJvHV6WZWqe7S1y9qSvLcom98CrIbH9+WsUBZ7jMQOk35d6DjNgmG5Mj2txnXtpMKWDu83s54EQTrJSZh6byOsXruAdToaO1aF9CA1uB0++i+g7+oFhNwie/RSqjas9DEWvf/kewDGlll560mqT/0V2XBmYfVd8j2dhTs+DO/8NOhBWmYXSwkhWOnzxsQDuY6TEYcwexqe+BMY25/aL+AV4N7Pw7UPXMbxupjEvhZNwSuPE/3kO3idnIgcy44TcitBs00ljQlt5eKepIMxXAGZPrjyflvosVNs0WK9SlcjrGmFjyGpvxQGpALzk8zyLUZodh9vT8UrkBvdC9d+HDK72ruXL0ommEWftl60R7C12woaJQKqChOHqRQfIcf+Boelqt5Edue74frPxd9dT8u4BANyBsbOMa+fZIDJVhVtEhe5juR7N+CE3GXSkrtSxIYReCqu35bChKwPOtTw8jxqmfJX6DDLzgofo/VK+KA8/E4hA80IKNFAFpRP5zJOi2mUWpVL25h+M4IwsGWDGtoCodJk239rHaEhsp7X3kKnaCRVs86xHDght6yoeBq2ngI5l+px4KajrdjM84t9PpREcTVplmeavxpLhQbvyoZiQRd5nDbwc+Pk2orghJzD0Y0k6jwNGSKYGo/ze7VhA8sFh+Ni+GGwXlRoa0XaumHTW2WNaatuiCJDpVRCZxVKXb5dzqiUacMIJjLkwgXuZxBCEBLqS7/nJnGYALJhCFGEVh3qXFWqVCoVvERt2YQsUgWjFqn2XOz+V+sYFoOIoAnxzUUsYs2HMGUYfwuCMob6vTOpZ0h1rMrZZveyeEOkUovUTqgwPg0NRuFjwBgiY1qcREUEooj1PBYZY8hGVQgXSC2mARFr/zQRYRQmps1VJenzWsDv8LxHkcEPQowfYLTfuShsF+CE3OWSzkwgGu11GAyMHVxMZJAoWhadu1F1r30tlzhghwGhWqKQ67SSSCEihGHY1jnCLPKc9RJseyt9jMXuv06E1rqW9e2SEWzuw8kzUK0QqJBkAiHxfVmdycBivTFN7N6i0aLxJYAg6JxvUmRdCzkVh9+IuUSpZdbuetSEHOB3aK+IEAQBxg8xWro6X21PqitN3Kd1Gx+xVJrg2n+64TP7vl6BBKjmImONMtbDzg4Yl69jSmorJpVvugXVwRNvsVd8sYP3ahxjyU9Nw0roElZSzRlPqrOgVbxyN0jcEqNYsCBo8zNpJ0N1QZf+PBmo2r2XNMioJSbgVsvokNSDJKvVlglGOl6u+aM1ul72sMre8QVW8Fqrnsgo56/Vhbwc6mWYFFoMCkMkiih+9T0fiVc2KjXLiFBEYUQu68OyTZIS1ZypDx7aAy8DYdDkIhyhTIiWVU43mDyncXLoxdzz5IG337f7MAuouxba92o8ayt9jCXvv/a95GZEnX162mU8UbY6uGjBEwiVdWBRcAlagaZitxLgexCJIu1nqZRBa40Yg4h9TpRq+i46Ea91Ydhxwph6XxIVfrttbeb9XhyLFoXucI7pCY1SRD3kXalV9wu6nlrJtVspGWU7iKeFXDAF86fg3FsQViEsJ1sBkPUKMLQTtuwjYoBQF9sdZZla29SZe+OZdawUiSBYbLmX2gQlAhXG2otG3cTF1pdGabTYxL8a8FSIjqr4Elnhg8EafzzQOTzlE6gcJh597STRxH2tUUXe8ZhtT2Q9eR07eoWeEnIJ9c6lCZUGZcgGM3D4R5Se/2sy5w7gh1MQVUgqKkMIup/5wesovOcLeDd+pIOQczi6iETrHkUgQUrItcur1ubrUp8c+oRkpALhFIy/xczZU/imTEZseEKgfBjYRmHrHnLFzeAXUo3wCfHiWL0mdys3gXN0MT0l5HTTzFVphR8F5KJpmPgx49/5j4xMvYQvc1hPj3jzWoqkC+RLE5in5/C27IKd25a9jUop8Nt4Tmq7tF+6d55jQxKrK00UocdPk9l1LWXloUQQdXFBl6y4NIYM83Dmaaa//fvo0y8SmcjaXMSgCRARqsannC2gCpsZuv4uuOJ62HUj5Hfhe/14mX5KFEBl8bWuOZIkDjlLcRZyOFaSnhJyAFqMXb2h0VFAjjJUxom++4eMTL2CH3VIlRRnmNBqBsZfg6nTsHM1W+5wXA6G4NwZMjsDtNePMdW6eOtUe0ySdV9I1szCuUOM/83vMnJhf8d+UgSoAMFJwucPU3qhj7IeIL91L8Vte/BGd1Ec3gP9m2FwGxSvokK/E26OrqXnhFxi5jSATwAyT3DoOdSbP7AqynbG/HT/8xRkMtY5JNlX4q2ZUu2089xcqCR93dX+YvFv3W6mdawYKScO0ylOMv38pv7WQGiqJAFJdQeGS1nNGVQ4zdwb32Nw4mX8cKa+/+YCrckjHBh8PcOAnmFAxuD4ITgef14chMHtVEf3ou75H/F33I5R2bg13Wt3W8j72alc1y/d+0S2waCp6Cxg8ImdSs69ROnpP8Q3k61JkQ12kEheFVSjfuauvB+27rMnr0KaBY9RdvarYy9CLRfrBInxPvGuzNAQEFXzQovQJqL7/ZEcy4WJczOa2PNWogBGd1P2+jp/qV0Ehhg8E4EQqwh16ucix47zZQblCpII16RPJMejaXcZ6kK2ue5beQrG38R/7buMf+U38U58l0w0XzumUd07lUsLOttOfdHQH0dv03MrOURb+4IE6OoE0f5H6LvwEpigvo0CdJ5oYDdBcZBIZfEJqUgOPXod/ff9IgxeQRLVnzzk1nvMCiwDcUCrbrEFXhq6rUdlT80qHMtCcs+VxJOg4jAUhq1a8FJIVnOxl6N97xKepOS5xgfdR3b0Gma8QfJqAjyp16iTbDwpE6BSnxi2a0dN8EVoKbFr9gDRk3+M97FhMiM3EXpDl3hSa0NinzRoq85Vrk+ud3pOyGmMFXRi4MyrzB74HoPV+caZbwRs24f3gX+Ot+M2Kl6/TVHjF8j3jxCoeE8KkOZLYPAljP+y29RyTDiVhmOR6NQqH60Q44NXpG9kG6xwSTEt1CZq83qQ3PX3k337e1QPfIPs3Bj4GRjdA33brfYhmIOJwzA3FXtzktJCdDhIMId37Al4QsMD/xa9aahrV0ZpE0RybZyacv3TU0JORIjEI6sMhDNw8BGyU4dbVDsl3U/hxg/Dvg+B30dG5xHlkSNetRllBRjUvqsFwqiKUoLE9jqFkNWGwAgR+qLWtothoghlIjdz3ECkbVQag6cEtI/U3PNXEGViDaQtYGryI2Q+9Bvwzk/CxEkoDMDIdlsLEM8WNq1OwcwFOHec+bdeYnb8LczsWYaj8+TMfByWQ7wCxPafYAYOPgVXPETuziFK/o6VP7clEIlCa42KPULrkwBqwe+O9UdPCTmlFGiNZ8rALKWXH6JgJhurl2iYGrqewu0fZz67lQyKSBSiPGtnM2mZGKf4wuARkjNTEM1BWMFWNrYZQjLZAaCfij98GY23L8aIE3IbiOZUWVYjkCEiswpHT9TxOtZKaML+a/H7rsTbVbGDu5ezanrR8crGkBmtwJXzFG+fpBjOwMQJOPEKlcMvEowfoW/qTVRiE/ew/a8ywZmfPMy22z6Ml9lJ1IUrJE9CsmEFZcoQztpAeN+H7BbmJY+YCN/rqSHRcQn02B01eCrAlxmiV58iP3fcvp1aYhmdY/t9X4BN1xGJwdMeHopAkqTIJta8WGFjHQIi61J96DF48wcw/XbskKIhU4QtV8Pe++GKB1b7hB09jsamnbPCTseriRwDW3bAwRU+dixowribJ+q6UPmEuSxRGKG9WPWvBBXbpysqh+dlCcN+yPqovneQ3fEhcreXyY29inn036FOPA0SNHpnnj8KF94i2nkzItJ1K6NMNAcXjsDRp+xrZRY27WTuig8Q7bmPXC7Xle12XB49JuTAFwOV05x5/pvsNOUGry9RWdTO22HfezDeJrLK+kTbpLKCKDvpVGLrRipsx8/JeaovfI3SD79EfuooOSkB9XIyVZUleONH9N19BG7+KHP+dpTK4mmNmABPKxLFkIgCnQWVBTVX90xTxN6VZTTRWlTQcKwBSUJjk7Zt6QL+0Lb6s5G47S/z2Jqk4UqEW8OqMrJPrDKCxJ1IUVfbRQLK8+L8loqq7odMgdyuW9EP/BPm/naKvjP7GyaYI9FZePPH+Ds+gUnlNDQNYT1NHi2CtYEvofzPYtEXXuLCt/4z3qkXyZtZlBgi5TM/8BSjH/gluOVnKPtDcXhHfO1WoV2OlaWnhJwttyQw8TaF6bcaZ5Ea5vUQfe98EDKbiSjgoYjigiSS3osCpTw73mBg/CAXnv0q26fegGjWbpbEDAFZNUd2/FmCR0+TyXn03fgxKmqLzfrg+VZ4kdhfEle4JgteHIbguU6z4UiEjYigtILIsxqCJBJgpVR7kgi5RhoqC0jjFjbhc33bJJrUKKvuRG8it/UOcnvugLP7G8L0MjJL6c0Xyd49B5k8aK9RpKmUsO+UnHoFifY/zKbjT+EHU/aNuN2FyWkmH7rA0L73kVV5Kv4C4R2OnqOnzENiFFGkYeIM+WqTa1oA3sB2GH0n+JsQ7RGqrHWfTsUUKeXFBUt9sKUcYXqMofJ5iKqNE810vFIUkZl/i+p3fhd+8ud4ZoKIMhUTqzXTLt3KdM5C4djQiAioDGzZBrliowdjF2NVmoaq8gm8Qfzt17auPgXKM2eRyWP40ik+Qte2TaiqrM2JucIE0+P4wWyiwkl/QjG8wPxz30RjJ7m+hOjlK1XiWEN6SshZwWELSBaS2VhKHZgf3gb9O0FlESMoE6DF1IK50z+16nLiw8B2ZvNb6rWTEhVSOkF7/H527hTlJ/4M/4U/o1g5SVaLHQDEVua2zjFtnAriGCkR4/JXbiDqAQS2jqBBE+gM9G2GodgLscuFnHXMMvhidRXG74ct18CmqxtrxAn4pQv4Y/tRMl97W3XK2Rqv5jIqgjhJ9EribdpONbOpNQ7QQDaa4fzLT8DMKZyqcn3RU0JOKUVWK5g9C2a+6UMI8wPQt41QebH7dFhbVSktKC21/63wi3Utm69ly12fYjazAzKDRH4RyQyBV6jtu6bzjKrk595Cnvx/4MB3yJhzaCq1YxmIVZXtZ6YdKyM71imNXUy0so4gfh4KQ40Toi5/NLRYm3gkHmzaTTS8F3S+voGCfDQHZ16pq/2BKKpboNvluMxICabOrWjbATLvuI+Jwh5b6zGNAiSgr3oWKmkNUU8Nj44O9JZNTgwSzBFNT+G1mWT5mzZj8puIlM1ZEupkRtZm2zjEu6o1+FvJvfsL9A/v5fybz5PVVfKDI2TOv0Hwyt+TqZxrTINkQtTMaea++Tv0TZ+Ed/0T/P7tcSCCLUsCuZW5CI4epF6lvpaEQGXBz1kPqHT6yS5UXybhB2BVeJ7SMDhKNHo98vYz+JRq7fbNPJw7DKWpWhewxVc9G47j6fo5xn3Ki2YonTm+8iJl87vY9jP/Gv7+t+DCG43XXWXqjjJoQuW7ldw6oaeEnMJAdQ4J5hoHg8R2VhwkUhkultMP6s4AAEZnCFU//jV3s/nq27H5lnyonCGz+Sqmnvwig6VjTWmNoC84z8z3vkzm/Bz5e79AduQmIh33XiUt9gqwqh/dhQOZY6VoqLxmf9dKQPXWSsHG0/lWa6HzsOMWApWzg0j8PCspw8QhqEwSSYRSnk20YAx+32b04Gjjs6+xjlvhfOsBl9TGxtfkWkei0F6BzPY9sGM7TBys15qMtw3IgvbiPhrb1XvsHjla6Skhp7Eu+NUwaPVMU1nIFomiCKM9lErPnlupzavj2VogisDfBOhaAG3GH8W/bQeDyjD72B/SXzlRl53xDgaCcXjlS1QkIvfgb5Ap7rKZI1Tr8lFjUwbi4nA2DI35TtJCLrbW6S7OZhyTpCZLVjgZE4EuorbuI2y2P5sQZk5AeQqlQ8RoNAq8HBV/mFxxKL3jhmMs12VIEi8DNUElWpMhgKlTyNsHUUjjilJrcpv3QP+WupnDqSvXBb13FyWxezW9b6owcRYlkRUk0CYv5aVQ72oRPiY/DLf9Iv0P/EtMYRuIB8028rBEeOBb8NwfkzFl6ym2Ct5iDsdqoQmt44mAKOu5nNl6BVGzkBOgWoLZafzaBFTFc9HLTYx3iW0VjR/bD00EKIMXzcDbjzP+F/8aVTrbogmqUGDkzk9DbluqmJfzrlwP9JSQM3hIbgDyg23VfdGF4+RmT+LX0rtfXG3Z9jgqnrkqCJSPyW2Dmx5A3/vPmB24HvFjY0MqEL0vOs/siw9BWLKHbLNaEyPOs9LRwyQZX7V1nvEKZAoDyUepzUIol9AmQmuN9nScRWS1hptUUmygKCWKYy9w4aE/YHjmkG1fg8rUIzO8G/a+iwgbI2crqvfU8OjoQE/dxRCPanYL+d3Xgz9Q/yCpFTd+CM69iiflBp28Fn3JPxbT8BMoTVjYQ3TnP6H/p/57wpF99UD0mjNKgDc7bpPbJna5NNqGEBjT5boph6MJ2wuavERVBlSW/OCWNrXvgDDAE4OSCBMZRJTtX7LSqzkT19GLs81ojZo7S/Djr5Efe8lqWtJZiADIoLfuBlUg1Pm4nT01NDoWoOfupIiBa25jKruzsXMZ0DNn4cizYCpogayEiy6l4QtkUl5ViZCMxMNk++CGj5P59G9AJtH5N+1gfsrm9HMrNse6wdriwpoKvnGl1B4DUqv1wWoONb4YqyqNk04TTaHHniFv6mENNWc1BURlqm+/QTJjTYrNhqrnhkdHG3rqLoryUDoDg1fjXX0PqEa1YS6ahKNPQzBLRkIiWbp6MFFXmLiqc6Q0AYpyZhT6r7bBvMmGAAq0ROBr0KrBexOIxwQDBFx8gHCse6RJld7Vvkitz6st3xM2fpLuak3u93HqBZvtpRkBjIAECJFNxZdUGE+nArsEbL+tC1ctgNao7CbEqPoqLo0CKU9DZa7m/VxLY+boeXruLoYayG6j/46PU1VxIGry4IqBM/th7AC+KROqxZe2t/1A15PZxl5xNtZHWTWNXwSv2BgkXus4YlUySWdOfyYhSuIyPo6NQaL6SoRaTbglP/HqKGXf7Ua0hGhJHDFq9QyIFNhadKmN46LEDeed/Pj5el5Xqf9ItQKVGVpDLpY2RNkK4HFLs4Poaz5AkB1u7K8ptaUihCgEierfd8qYdUHPCTlEU1F9sOtmsluvB+VZp63kTKKA2RcehfAMGRXZIpUOh+OyaF1RaZA8XiLE0lUWEjnVbjVUKMZB8DQI9igsQXmmqb9eilq0TVvxYxuiQYxCvBF452fJfPB/YH7X+2Nty6J36+hReupWS6x+NNqzwajX3k2gBuqzMw2IYebg9229qLVYMTlbnGOdkjhmRSIoERCDH7YpkyPEq7V0lKCNtKPY3+g0lnylWsKrTOJJ0HTMy1tRKaWo6iKVTdfgvftzFH/hX0F+oDuVKW7oWBF6SsgppVBabLCmn7VCrr/JAUUJm8MxOPJjRGVavMJWHCNQc5lOtyv52D3Jjt7DFx3bu+z/ngQwd46586esii+VCQgN9G0i9PxU/4sziAxsoZQdsUIw3UUq8/ils2hTF3JLFm7KGhl8Sdn18Kn4o5DbQaxjbUBrBWK6p2CqGyeWjZ4SciSZ0AVQRdh8K9kdN9qPUuqSrMxQeuslvLkxtCmvVWMdjnVBLbxGrI3b15qMVDAnXkWH040bK6BvEPoHkQZ5YeKV3CYk01qvLQoqUJ5KZQoy9ZJViy5bVQ//SVaCvoTk5DwceQ4q8/W2pstpOdYlPSXkanNCpQlUDgb24F9xa2NwuALCEHP+KHrsZXJxzFzNprDkjtOpNanjtiPpREnuSpf01VFD1xwdanT9BN7GvmFmCE+8iC+zjfY4nYHBq6Aw1EaLoiE/QNUfqOeNjFHBHFQm2q6mFt9jYpeT2AFGRGyCh9Jxxp/8K5sdKbnscd+sUgA8pPa9pdkDLxsJbY7ertSn9iY9JeRqiLbqB1WAXTdQyW2ndipx/8hMn8B7+wmI7EyznjcwLsGzpIdIp4RUznpRpjpqqDyrhvGSy5oKfFUgEqClusRjO9YVCqtyT//fxQLOQE0N6ImB+XHMqefIRo2rosgrwK53Q/+2eAWY7CFeDRa3UM6NgG5Me+cF0zBzGsRqXiKi2AAAIABJREFUXpI4tyWZG8THkAXxayFEBuCl7zBw/kXb1qRrit2+uPsW6BtqiI/Tq9lPax7Ykb2m1eVJWO3oMSGXuPPbVZmdobF9L+GOW0HHA4YAHmSCaTj2LFRmrH6e0CaBrSVvXcqpGxvCoCKgYl9T6g5NALEA7Ri60MUDmWMV8XJQHCXUua4PH0gwxFUIBBg/TD7J5J/gQeD3YUZvgswmoDEIwFr1FPmBIZsVKNUFPSUwPwm1osLp8J/F9tUk76QhkApZNUvh3EvMH/gehWiqvlnc9PnhG+F9XwBVRERik4heYu7by0eHJSjPrcmx1yM9JeSAmgoCQHsaCqMUr7uXSKWKNwo2Hu3Ey1A5S0ZKtdVbkkl9KTPEJBs7KgTa2frqalC3VnMsSCYPW/ZQJUNjNY21bNTCaNG2YmJlHA4/B1PHGtsbgcmPoHbcCqrQaS8U+waJGg12tm+VZmOhmVQkSKfXWwTxihNl8H3Q0QU4+Chq7DVqSpxamEOB4o33w+73UomTS9jV5yoOjU0xhn4wC+XZjps7FkfPCbk0YoRIb0bd/CHmM8N1lU+SVzKYJnrxcXQ0QdX4hGQxS6wuJCJEUYQvFTvjnBmvHyvuMFWVg+JAPdg1jQJjDBJFrZ85Nh4qBwNXoLPF7p8RKQMSoanimxl4+2FmXvy7VvmjgYFthNtvJfT6O+wrD7nBNpNMA1K1ZaqWgTBOzaVNFc4dgp/8BYXqWOPSUjSVLTfBvvcRZjaDn6/ZA9dyYFTVCzBz1iVzXyZ6T8iJjbjRYjBK25lwYZSBffdgVOyAUnuII6b2fwtOPINP1RrMWbprsvIy5EwVxo5BGLXMvnN9Qzbdl8714IV1rCoqD5tvJBzY3ZAarlvRGDLBGLz9OPLYFxmojLVsU/GHKV5zJ8YvtqzUaihNpFrNBRpjc77Wree1jCVLqCNS+ysXnCV84Ttw7s34+LUDEnib8G58EHa+g0jna0cyyhCqBUwOK004D/P1lVzkkrpfFj05FtsQApOaSGbglg8y7Q1br6maEReGZw4x9+Rfkps7TUYqjTntFqD5AbdpvTwwFarjpxsFnAfgkd9xDZCHSMVFW1txCVg2GA2evMnfhkDnYPuN9N/+UUr57asq4JrzQi7oeawMnoRkwkk48j1mvvNfUGMvQFhpaXNpaB/c9sBFQ7xaEh+rpD/aVdzlDOn1dNCGrAnh5AvMvfxdiILGPqs8KsNX4b/rM5DZim4qBbTYnJnLRqwdMpVpJCjFMfWyjF7hG4+eE3Jpj6fYDYVQZWDHu1G7b4IsDZ1PmTLeyRfhhS+TCcbwowhlPKRppqm0IjIGq030bWogZT3CMga0icvkmBLT48dtOjGIy4qA0UXYvMd6jWWyGJ0BogaBq01o3ZddGMHGo2lwipSm4vfBXV+g8Ll/V3+e1hgviUONswtpU8UPxuHgV5j99u8wMPaDxuDvAFA+5EYY+vCvwqZ9iKfi8+kw0VOCSmZ7cTcUiWwiBQNa+1yOC79BI1EFv3qByg+/wmD5YFxtoH68+cIe+u//ZejbTUXlUzZAy6rmrlStf5uZ8xSiCaKgRCRJzJ9xIUhL4P9n782DJDvOA7/fl/leXd093T03MIPBDRAnCRIkQZACL5AUKYqiVtRKWh27lERLuwpZDu9ueNcOhx3ecMR6ww7b8lredWyEZImSKFoUJVMSD5ESKYIXDoIkQIC4B5wLgzl6pu+q915+/iPfq3pVXdXT93T15C+iZqrrXfney8wv88vvGKr01V2VLo/AAL7DiBpXM37P++Hsd2H2RJdwqTVPwxOfgmvvID48jmHCL23nDc2pIk6IDTi17bh37Uu11/oycPPUs55FYYXERFTrEyAGxJJiOg83jwRh+kVAD1yxqBhcNIEZP4wXCJd3vdanQ/VDx0gXsekUzByFJz/H7Lf+mNGFY37HsrtDDKndQ3T3T8C1byaJJvLBYe+Zy38Zkky9m0DeqacSEUsNMj+YFOlk8iiCLa+UDGU0u0D2/b8mOf4dqoUvYtGsBeo3vBluejvYURTjVzlK7g6Xm6w5R5TOI/XJXCsUOo61MlRCbjCGeeo0bryf9IUHMU/8OcaVTYVbcO4pml/7JNV37cGO3YAt1DPQMYM2BqK6zzCgnezBvtErog7OPU969ihdHZJCSuyFXNsRNcLrMYOhSWBY8D5isbawbor0ic/invg0lRPfZLQ143dx+GrdDr5Qxx15M9z7j6F2NSnelcfJgMAHYqiMTpLaBmQdX7AFaRCPXAVRDYv4pKdEXWrMld0BGBQuvIg+9nEazTMd+VAIubGrkTveAbVrSE2MDFo/vIw0m02qSROLkOWpfwy5CjXIu1WxQ4QcXmjVriF6268xdfR7TM48DVlu5p/ruasvfIGFFx/CUfHKkD5120wcYuza2+HQdTCxH+q7cp+ZFF49Rvr3f8z49DMdC07wi9hSgfqYb0iimN7Ft2LfsIgc2KaoZsQ4ounHOPv//jsarzxKI50CWp20UkUna6DlGize/lPs+rHfhMaNJCbGkOIwg+dCZpTaXW/nwnfuoXnqUapuCqRCa/dNuFvfh4km/W6aLneWgRh1xNkxkoc/RXzy296YpdQUs+o4zRvfT+PG+3ASkXWnCN82iMtAFNEMMb586ZIZcmAl7Bghh7E0qVPdfROT7/zHXPz8v2d8IbeoKtSE2Sx1vYT/ydlTpOefIvlOhZbEZFLx/kGaUtEFn5i1UH8U541AJq6BA7eykx5p4Mqi4Wbg3NMsfvHfs+vkQ1RauTbE0j0bMjHzo9fSuPuDVN76i1A9RMvW2ibvUT6D65d0NFFLbPcy8eP/nOajn2V+6odIY5y9t70DDt/t17a76F46uBRCAief4NwTX+ZgYWxSCvk3W9vP+L0/AZV9ZOQ5H8XlVtvbjc59FypgJ1u4VrhD2BE9cpF12BhQjZDbP8DIyRfgsf8AaR7VvJQgcfmTZURuhgiod60B0nFPcHSr7VUYv+1+GL2ZTKpsDxOCQGAQAzJ9LxyDL/5bai981asSy8LN7+SPru+h8cAvwO0fIRs5RKoWoy1SjRCxRPlsrv+VIxbNGObgO4nf90ai5iyuMkZiY0SULHUQFXnoTNfa+0owAK88R7011a1tAZoyyvhr3w1Xv46mGffq0O3qpFi2yM07HJevmAZWx3Ycvqwa3xx8KIPUVCDeQ3TvB2ke/hGw9ZKqsOeTlT5FgyhceMqZg6E7CG2hsrGArXHxyPvgzh8li8dIlDwuX48vkHqHcnryZQUCW005V7fkYayq09/l/Cf+e3jxG5Dka2Xlul4gYG66FRZPwtN/in3mT6guPEWsi1jN8jFgUf8H4wM5VKA2jrNVEEsmEWptd1SjVXbqDuvj2Ubj3W2WCovXPQhv+SiZNMjaBmbbmWI0fRliae4gdsRMroNfOE+c0tj7Gqr3/SLzC/M0zj0F6XQnKGtvwy1ZYrbzYfWa9RbHlBpOEu0nOfQGxh/8Ddhzq8+MkFdIkaWP1kCu6gyVNXB5MerXeIQMyRJaX/4jRk9+07eTstajTzvR7zxMFn2HRKrMmQru6rvZ/66PUT30Zprl8HoDKKKKOIlx4lWGbYcB4/9Zq6m8YmDfHex980dY/M6f4RYvkhDTOHwX4+/5Nahdi9oqojIk9hteyBUqyqCqXD07SMh1YiNYKzTdbuTWD9OI6vDoJ+H416E5CxSZjPv44Tjnf+o3eyv/bYDGbuI3fJT43l+gNXoYtTHOZRgp9JlBkAW2KVpEYTUYcbisSXrscRqL57ikrl1BZIEoXfAqfSA9dg4etvCB6zGNiXYQ9dUpijamvaRicNE1VN/8y0RX3UZ67mXqtQnMdW+BPdeQmAapdmZGnfgqgZ3KDhJy5em8QUXBxHDD/XDgRpg/lzuDOtBm94Gq3n1gcRFePUryyrNMnX4FXZzDajOPNCBkKmRRHbv7Wg68/kG45h4YOYTTGEExYlApHGGXkmUuWFcGthWqSpamZBJDzMpkTW9AYdciO30U25qDRn+Dk60kE8hGdhPd+k4imoAhM2M0TSNYKF6B7CAh59qVN80dsgVHM9qLG98L452ZXkVb+TGdxlioUKLrLhCnZ9jvXD5zS2n7uhkDGoMZhWgfiRqcxqiAkHr/HvDBmHvHhu1ZYWhhgctL4TpjcBgRpDZCOnktnN8NzfN+40qt6jNQU0HqeyjSXbVXklapctyYMFoGEWhJDWNqeYzbPE2XmHbs28CVw44Rcj61BiUfHR8CJ5VK/lvaFju9ERmcKuoyRAxqxjDVUX9G57qEVaZCxXgfFkV8dJNSCTqiLSaVSs/2QGB7YUjBCU5qjN3/U7RmTlI5/sXlD+ojiJL6QSq3vx+qewHTdiG4XPSmyjH5+qLJlykKa+zAlcGOEXL9EqE6KQRP2RwXvyZRiiWokIfjElyefN7/HpXOBQikCmItRn34IFRBOot1RgFjsCbuLqDm8fl2qnXltvQz2n4Ug6uio83auUMv/fy65EtvoN41Pf9cra/A1W+g8qF/BS88wOypYxhdxGSt9p5lwdCecakhHp2keu1r4fo3ofEY6Yb4ca1dSPZeu2/Ah3VdYW2s+O3kAllKhibBP2597Awhp0sFXMHAylXqFNrtoDdISamB2PLOKm2PA9fvArKc3mVnh/kqGmQgp1TPepPLeIpAxmaJ9W73eUq/rTMSfTlGo+Cv2Yz2YvbfS7znNka16UPhmXI4rT5dhQBaATuCkwqtUkiv7uustlwbyADhv5lDssF9ztp/DwJu7ewMIRcIBNaNMxUSiRAfQhlxeQBz6Z/VzQHWWjIVn7Wj2Edc6JQD24Yg5LaaYHgS2OYohowqLteZqRQO3ktJM8UYL9yi3MijmIFciTN6o8upQoM79+UgCLnNQATtXXy/Aht8YPgQHJpbIjrx3bJV/Npdn9mcisUBUdmw6wo26rj02pm5IoX/5SQIuUAg0KYt4OgYbVkywPZd32qZqONcnh+XSESs6RU5bxkk4Ax4NS5BlbvVBCG3gTjxzrWxiVDpseFSUE194tWd0vgLQwl/40AGkhKq1aWxhfmccytWYasYH44q37+dXXsDZ07d62/erywrjGL67Os77O6I5RbnO/QdUs1XipPBM7lMlTgPEhFmcltL6I3WyZJswqo+4on1lmbl+H8G5/PS7ZSRXNtzwuQR6+eJ3Qy4eLmjAuAtJA15BJwkj6pziUNogpullgc7QJ3/yGDr4lWx2nq5U+rxRrFslhMD2TxC0ukztmcqux1HEHKB9SH42encBTjxLZg+EYaqK6UI8Tbz0tJQc0tI4Nz34Phonlkjb7qlDPaBbcCgd5FkwDxcfIqGXuz8HgYKm04QchuMLOMjp6q5unKHUL7V6bMsfvr/oCmd5JmB5fGPzxAl04xcameF1jc/TevbX6KlMR0X8sKX7QrTDW5TBo3v1AkVSahls8RuvrOhN9NDYMMJQm4zMH1UR+LDh+F2UI0uZ2cQqCVnqBV/76Db3BT65Sq8xIyswgyV1kz/cwWGg0FpvgKbxpVr6xvYOAalJgoMRkqfgt5Evf2O6T0+MFz0vtvwDjedMJPbYIoYl1lv5VWwXSnKhwdvRedwEmFq48xW91BfmIIs62RThyDcVku/UX2vIHN9tvXuF5778NKbnLb3/eeE2JVrJwi5DaLQxasqWENqerMUQIQbujU5H8HCO7AuMMLInuuZvPs9zD5+gdHW6ctdvJ1B0dGVhVhRdQYJs7KgC7OB4WVQYuZSMOyibwmCbm0EIRdYlqhIT6LeNbgVjVN5269QnbyWqaf+jmbTWwUGY5P+DOyUJAVSNMtopBfZNf2Djqoyw3d2UZ25idtZMCMlT7SO/+Vw6QMC/dgv5+HsC8BC5/2HQcuGEoTc5eAy59taCwZInWPRGHT0Jqr3TjB5z4OdezH9s6EHBpGCNCFpwtxR+J2P0ZWhQoBohJFf/h8YifYtc57hq0uBEs98juQvf4e4teD/DkZbG04QchuMiFdTiukZjgm4zHV8o4YEV45IaPKQTyamaQ5AfOCylm1Y6Debc+LIaGGijNpcq7tzy1tlFjewtRtZiI7gxCcjbeejEwgCbvipVr/HvNYYL/8Y3u2GEoRcYIXkyrJi5haSpK4Lo4AarIiPXoKhPZPL1+ecgNUIk+dL7Eq4GtRaOwN1RNrq+S3kK9hIgpBbJ/2dPw1oKaBtPkr3+6YM0yitnAQ1NLyNw6kC1jtz21Iz7KpPnVW48mywPbcOA40dQKlNLelLwvvdCMJT3AzEYm295zfINPUZlwNXPCo+4LIDSHtCeuUGCEYNiMOJN/4J7EAkIpEIH/yVkpVlZ407Ml5VHQ3hWv52IMzkNpC+lnQ7QK0UzJY3gfIsHy5pbNAd598TRqg7AHUIjl6jI8maoC2MQpJm2MKVILTFVROEXCCw3egZFPUKuDCe30GUM0iUHMNNugCti4hxSPFjUE+vifDUNpgszw8mPY7gOLzFZTpczuCB7UMQbjuQ0T3MSt0Lu9IsLb34Ksy+Aplf3giJPdZOEHKBwDbFlZpnO+rFZSpLYJOYvBod2e+1leUoN2kTzh0H18rzUIaueq2EJ7duXPvjxBsUAHlm8BLtkDzBiOBKw/X5XJIwcr8ysCOMHbweTNQVnNuQ+ByNODK0Hd4rzOhWTxByG401YCzORnQ9XgU0gSzx2cMDAXoaYE9sys4IPjTTHYuNiccmQErLGApWHWRNMHGeo3JVQ6RAidB6NgXT/X8xOguyLdCP3sDLXfXEYtSEurNj6T+I6R78hG56PYSnFwgEAoEdSxBym0Qcx90/mDyuZRbUDYFAILBVBCEXCAQCgR1LEHIbSu8szXUnwwSQMJMLBAKBrSIIuXVi6F46NpoLtijuNvdVMBhIk6HLDh4IBALDShByG4gBnzoF78jbf84WZnKBQCCwVQQhFwgEAoEdSxByG4zLM38bawftEJzBA4FAYIsIQm6rCQIuEAgEtowg5AKBQCCwYwn55NZJJ1J8KWa8E8RUfGbnnr1Jkysz8aE4IjGk6nwEPpdhxSBqyK7EoLPiqBjIMsUY61Ot9FrjWoAEQ5onzFw6JnUCqtmqR6vCAHX6AHQNGgiRTXyxO8gVJyuebVeC5RCncqMIQm7DyPNBqQIRKhXvMtCv4u6gBroanHOgGbGkRMx3cust2xcOu7Jh0LvOfHoVl4Cb9T9J9yHiEkjPExOD2B4h50pZxdPVF0tW2fTdGuqs2ex3twNccdwMI9LC1/NOe/BPuyzohr0dXD6CkAtsCQ6Dk4iYeaL5U3DiYZg/l3fQy3TSuroZx7ZDBnTEis/LpA7mToBrdmb4eSJoWhfh+58BM47v5Fw+aHJ0Onjrz7GqMq0hs8FqhdymC7gdMlB0c5izz/l32Bs4IrAhBCG3SVi7NJ8ccMUannivwRbR+e/Seuj3mP3BV7HJLJGmy+TI2imj16UdciergCFO56gUfxYCToFkmtZf/w6JVHFCW/3t+mgCVp+lYNif7c4QcoaEStbEuixERtokgpDbYEQEjMFs+kh2CEnn4ftfoPKdT7DbzXVvuzJlfzfS8z2DClMdAdhvv7Uy7M97p814dtr9bCNCTxzYEow6jEtIzp2AdO7SB1yJLMklV0II6qydTlvbE3JPbiRhJrcZOIfYmFQcUW+npK21LeLvAMSlPjs6dBvkODpqut7ZzLA39uWEkhuwXWkvwW3aMHS7CsvimQx6LkUd0dJv252S8FryXXr2CWw4Qcitk6UjLgMSkxm7pOIaHGQpO2U9YbUsiebZ29BtnoNPLJ1efgfQt8NWVNRv0qR7rVboCDcp6lGWG+F0XFb876UQ4eq6O9FlzdC3mxLHW952Ca2yACh+N5XcmGczRwCbgLrcTST279tk/hYG3e8w3ds2Jwi5wLYgHb2e8+N3tv2xOsYowy/oBhnWiAguTRlNzjFx/nHfyUNnxlIZYW7PPcyZeu4nFwEGJwajDieFd6b/1yik4o02Rc3AEOGe7dWJjuocI3MnsRdfAi1Zmhqgsovm+K3MxQdpdVmSbq97WB6HE4PDMMk0cuZpGs1XhmMmOuQEIbfBFJ30QEfYK9S6cllEiO5+O/vf+S/yHwpHsctWoi0gv0eXwcXn4f/6J8BCtzou3sXIL/13jER78t/KiZ0u8Yy0V/fbyzYTEK3j8NAfwcPHIWuWNlRh73VU3//PqO6+K5/tl8o+DM2pbSlp/GwuOUryyf8ZfvjK0tlcYMMJQm4zEMEsJ+SCoOtBwYzTrNwE9FFrDjGDZnHFYMgixGbOd349t51JFRtfz0J8de5CAP2EU3lGF6lDVHH5yawM8DPsEz3lclJdXKR1YQ6rDltqHk4Mqd1NpXKYxfqtZMbi8DPaSNOhqCtFCZ34Zz4iCdN2jD2hG9gSgpALXH5EuiYdbcGgZrvNN1bPwI6scOZ2eGd417321H4Gjli79+6lHT5OoKopxiUgKalUyFYZvuuyMX8ee+EoNmt1GWikVMj23goTh8giPxAwOJ+ceAgEXIGBktO+AaKdYVg1BAQh14sUjSd3vG1vMEuMTFJD3hF39lIcaIoas0RZZNSBS5cxE/eNN+0TkaJrxNpnFK6qbRXpWuIMXl567rd0f8PTja0SNSCOjJSYUtSXATM/o4NnheBoZLPI9LNw7Cmar75MdWyM6NrXE+25jabdVQTC7ByRn0tV23WrrWLvrV+ytO6Vy7Iac/eBxyXz2NYFb1RSnsnFDWrX3AWmjksckbFbOntTzXAYrDoquoDoImTzeTsuRbMRA1ENzCSJqeWzTXybznfpPFXjn+OwNdMhJQi5Jfic3p3M3gOsuMThqKBiQNOSSPQj8sxG/uGWF9BxkCUM6rpt1+jUd/xOHKbHb6a9h3b/X6hCd/RS1g5BRBAT0dKEPIhl9w65ULOlvnCQMFEjSPM0fPF/gme/RHVxFgzMXfejjPzYv6ay57W0XAUj2rmKlAZyzmEFDEJWeKHjVakiAuoHb67H6s9xKeOWS+PbWgTz8zBzFpx2CfqWqWFGDlNhhKqpoZq1B4NOzOaqXUvCPXaLyPmXaB19hOzVZ6ll8+1txQBTJq6C2z9MvPtmWjb2ZdX8HnuDb+f/BzafIOSWYNodjCdqfzftuIH5Fk0pBNFGNLas3wyupyE4DKkYeueZgSFDvENY3S2Ca62rw6u5aTj+HdLnHiJqzbZ/15OPw/c/g/zIzThbyWuLF0yRkg+gMmKTQjYLLiU2FTpGLQY0xtkaiUQ9wz1XEnBrr/sCxNqC1hw0Ly7dIaoTH7iRTCpdGopifWszyVQxGBrJGXj5qyRf+G3SmbNIMkemza59VZXM1jHPfIPKe34De+S9OGP9sDeMOi8rQcj1ooZMxasdMRhVv2RUUgWKOijUJgM6JzHrqdkmv1aGwWHVd0ZObCm4bhBww464DNs8BVPPsr6I+gnp+RNE6cWOj53CqJuBM8+CXaCqMYbUq9myRUjmIGnCwhScOUZy9gQRCY4Ymzvst4io7NqHOXwL1b23kUbjpBojImsWa90zP38W4+Z9MOo+zvFZVCer7iY1sddSDEg5tBlYEaymMPc85z77f7Ln7CPExcZyOTPAQpxOw8kLLDx8NfXdd6C7DuPa2R7cOoYCgfUQhFwPqopTxRIBDhVHBQEnpHhViorX0TsxS0ZpRexKa3sebTsNz2BMvjDtJPKqDhySJqTz57HpIozsxVS3dk0isHk4TeGJv2b+C79NYz2qK1fkI5Pu0GCaeXP86VPo4kmYPwvTx2D6FXj1JbjwQzj7EsyeJM6d8q3pHF9xgFhaYzdSef+/InrNe0hl7zoKCmV1vKpiRSG9iB5/lvbkrBB2JmZk3xGyyi5U4mLot87rr6aoGVG2AF//BHumnhi8X7HcaYCsSXrq+zDzItHYQZpSwwu41hYUONCPIOR6EBxVEqxrwbnvw+N/wdzUq4wcfg3R7e+GyZtYlNHOesAGqiI6alFHxc0hyWmaX/5PtI49icmapGOHmXz3LyEH3kZWUqMGho9Ym2QXjzP95EPsSs8vDWm2SrpmCe1waU04/i2yT/5zWglIMke6OE2ULFBNFxBt+TBzxTFCt4LA4Q1BZo/xysOf4eDVt+N27cGKFO7nrGWGUhjROFWEDLTF1Lmz7C7vpKC2TuXgEZy0yPJoL2nuCN9eNtjEWV1V5+CV7zH7zMOMltbgLoW2NS6Znz2HQellZbiEXE/6iXLzUlUsgpKhYtt/rwVLCvMv8+pnfpv9J/6WERZYeH4Cd+oHjLz3v6A2fitNrfYcVSqby1cvyg2wWNDQbJkZnQGXYSRF0ldpfu33Sb71e4xnUz6R4ukx5qKIkZ94DVR345bGpw8MCcY1kamXiC6e9MZI/WJ3rhcFLl7Azn2LeuF0XJw/V7F1xYAsL7pp53uFRaozJ2D2DHaS3AdvHQrLXOVoREldRiQtTDrf/QwEFqlRn9ifG6c4tCxY8+guy1mjrhTnFTUYLRmRaAbJFOkTf0l9/hWWzCDFglRwRF6Q5YMFjccxe2+Gxj6c2G6BvC6GLIzZNmK4hBzQsX4EJ76TNwrqBBXF4shMhdRl2LV0GGK92uexP2PixDcg84vh9fRVeOqPYPcReNuvYKuHyNqNrkj6WVRCS2Rj0t5KaQTcAoNGdibL1/usg2e/CI/9PqPZVFt9Y1jAnP4+nHiE6Ia3kwQhN7xoglx4iWhxur2GtmZBV/KpW0JZkEnP7wWX6j/VUIssWJNbN9p8rTjtayy1HGmuAYkAEefLsTCNLpzplDF/BgumRn3sAI6ILHcAL1T63s1mY2ZIqRiUCEj9zBJvccrpZ4ie/yykU90HGGDfrXD4dYip05o6gZs55c+1715G3/JzpBM3kkm0Du1q7kvX9WxDlvC1MHRCrhBwnQrvW6gaiyUldnNEaZPIVMgk8iOzVTjEqipoRuuVHxJRsqDKG9/so59idO/CCZA+AAAgAElEQVRV2Dv/ES2p4UyEmPLIcWWNvt8eTqCqTTj7FAvf/iz1+Ve74vFCSuocKQ0iVZwmGBP3OVNgKMgS1CXds6n10O/4lWR2iDobVWIg8odIAhJxwe4jvvX9MHljz6n9uvVqMNo5QlVAU1i4SDJbsqzM63xLKlAZ6XOFjU3RYApLU1IQg2hCPT1B8sTniM+/6LUvpWfYjPdTfdNH4e63I2aUytw5mJ0Ca6F2ECYO4UyMy48LIunyMnRCrlBRln10DCl15mDxDJz+AVKtEk0cIarsIZGGt0pcKeLAOSpHbmXm+a8w5vJRXB5SaXThKLNf+X8YPXg39X13sGDHUU3YiKocSwY6Dd/+U+TYtyHL/Ei3rZaxmPEDmD3X4iQK/nDDjurWOe4XlcVU6QiJiCaWeakilXEmrroGGd8NVEEhPfkczcooE3e+A173j9D6vraAbK/JraH4piSgRASOPY9ki0v3q+6CsX2wBVFbjHZ6lqq24Pg3WHj6b4mzjC5ZbmKm6kc4eMePsxgdIIvqYK9Bxk074DaZX9tXUxiTBTF3ORkqIefoRGAvHLYBKtk8vPR5Zr/8u9RPPQomYn7/axl7z39OfPjNNG1txdcQBaIqvO5DJC9+F1443gmimuvXGxeeg6/+NvLefwljd/gRXI6qggjSz4/HqRdcZX8fVawxpFlGzEV44au0HvkTasn5jhoLQGCmfoSxez/M4ti1CDGDwmMGAkDHSjGugm1APEGzsZ/F6h504hDjh2+huud6qntvhtGJvB470EquUmz5fIgSkbILVYcVRytfvzKk7fW1lVJeKxMRJMugeZ46i51ZZi5QRvYfgcaejXoal8Tl8TBpnmfuC/+BXQsvevlaCDiBi9HVHHzwF0mre3Cm4t1Acn84ABP5LtX7IK4zLF3eT/g+ZT0nurIZKiHXoaPAqKYzcPI7nP/sf2Ry6kkkm/Yx/E59Bx75BOy7BRq7lzlXNyrQcoZK7SC73/JhWheepnL+OXBJ+7JG5+G5v4PDr6dx7wGaZt+6vGA0F3Sc/B5TX/pPTCbnfXT60imbdpTGvR+BWx5AbRyCJQQujbWw9xZ43Ydh7BA0dlMd20u1MQnVsTwMVY1MRkjbsyWHyeMq5k4zuSVxMZ1JcwG3xvWwPIJPez4nCoszxFoKd5cP7jQeAWJ0k2M8du7FEbspmk9+gezMS16V2pPvLbruPrjxATKp+ZihUmiTOjjoCDg1ueP6khX6SyMCWYqTEMVoPQypkPM4l2HSs5x95NPsmXoSSS5QRCWq2Fk49ii0LkBjFSdVg0rEPHUa195L5e4fp/W136PSPF1a4M9g8QLT3/wUu665jerVP0LTFGsHftTVjsjQFXQ384XLE1r6UbBiyZDFi6SP/hmT5x4j13d07tPWqd5wH9z/szTt/vITyP8vL9wNV+DaK5c+72ijO3Opwf7b4I0fI60czK0TS1fWDIO0VfGeQpnoSn97V5lCOK1X+eby+/RhrzKy0y9TJekpO7jqCJhK13Gmn3HNaq6bUwR5tiQYl3qBBnDhGdInP8Mu0+z45xfrmqMHGLnvQ1A9lIfzI3cj0pKPq+kSfsXVVhvAIVFLNDbpjzMhkvN6GFIhVzSzDE49ycTxryJupiMYBBCLjh5EzMpVlZCvEYhgtYqLDmLe9E9IXn6S6OiXMdmc3ymvq7suPkHyl/8L8c9dS3XXdcwX0lQVKpV2p9I1DHMJ4ONX+sCvKSY9C89+huTZLxMVaxNFCMEIFnbfzcgDvwW1w2RaJc4X79uNth0E1pd9YJqfwDakp+Nby6srxzbtMjRxXiNg49wSuOyLCRgpCbyeUknHn61vOWFdfppOHEIK2uT8S0+wz80tKUdt7/UQj+d1vRAia7+mdw/w+seIDJtchMXjMHMMFs/7wevRRxk5+U1I8ggsbUfvOtz0Dth3E87WSIlw6hBRIknzTBA9bkPt76v3lUviSeoH7oC4gTHGuzRss/RIw8KQCbk8WDG+AVoxMPUK0dwpuiOCQ1LfR3zbu6C2a22XEkdClbh2kJH3/Rrzf36Bxsmvtc+PAlmGPf0kfOMP4YGPYhvXkxRxlTTu3yC1u7FW3CxceB73zT+iPn+yfKv+PuK9jNz1IBy4h0TG/D2TEqJXBgayZNDfLeA6+62h01xvR6vlgV8GyQKVwiG9XG5jqBw6QqJ2VYL/Uv5xNpujkp6Fqefhh9+l+dzXmT75HLZ1Easwls1gspk+z7AJZ5+D7/455tYZRvfeRSJVWrkU7KSHKsrRaZ9rUe06E4OtQ+ZQo+0ce6G9r56hEnJthUqxDusE5mchXfAbSo0hG7mK+Jq3gR1f3UV6HDczV8PsfxON+38ePvN9r/4sjZaNzsATn4arb6J6xz4yswLdaH5spA7SM0x/+Q/ZdeLRUhSHfB+pkBx6I/Fr38NiZRKVCHEZmCJmZhjZBYaLsqCNUEibZEX6qbIwi2tQqeWquo1BRKlkF3CPf4rmd/+C+tnvU21Os6/XCb59AJ0waamDo99GTz5P67lHqD7w68RHXoeJJmhR8dbeGzjT8uEBO/FyA2tnqHpJh49ykApkAtbNQzIF2cKSHaU2BntuxK3CsrJMkd4mtULCKNz4DtLX/RJNs6dT8QtLsNmTzH39EzD1bWpuDlyGtbb/qDLzmQusJlg3g3voD6k8+/luAZd/ZhvX0Pjgb8Gum9E8eoKIkBKRSiV3iA0EhhPrEnTmLLFod08kQG0cbJVMN07I1Vvn4eTDzPzt/0791GPQnO7vR2hKv5Ud6QUknaZ67BvM/dm/gMf+ENv8IZH2rCduAMWyibfUDssP62FIe0nvRmDTadzFc91CB3yg2dF9uPpkey1ipbhiob1EKhFU9xO98eew170RNVFXtHeyhMorT6J/93uYxTNACsYOXj/QjCiZxrz8dRaf+RK19HT3qFFgceQIo+/8KIzfRJORnjQ/ndBGgcDwUawgO9zCRW+0Ua7LKlAdhThGjWxcjFazyJlH/5bx1iuQ9cTsLLNcu1LAzTEyf5Rzf/M7ZF/9feJkqjtwRGBbMXRCrphhxQpm4QLNi2e7/Fj8/w2ifUdITGVNeac6gq6TDbxpG7g9dxG99R8yP3Kk5FzrP3F6AX7wBVrf/gJkc14QDrwJCwun4bGPU5/6Qef3tpC22JvfAXf+JC7ag5FKl17fqFd1hmwEgZXRMZEvBEZZcBSxG4vPwLNI/89aSuMEkIyFmQuYwoyx3X4N1EbAxmyoI7hLoLVAV2LWYtbWT9gNIh+M7slO03z0j+D0M8TOC80QNH37MWRCLpco4oAmJNO0Fi92KmouJGYr47DnEKnL1qTPjnrMlE3b5N/BNW9j5F2/jjNj3SoNAUmm0cf/AF78EpLOds+0DLnRSQatY/DU5+GZv0eK6OaF2sTGzO27l/jeD0HtIBlxd2ci3iHdSViEDqyEPOu4lAVdWSPgP2sVWKvHgaRACm4Wpo/lAY4paTJqMHoE7K4NXefCTrLv3vczWz3QVZym2cWp+EZOj72B2eqhjhN97/PoJww1ZebUMXDZliRyDayeoTI86caBpt4Qo6cyNl3E6NgE1lqvz16FnCusN9t/t69myMShlYPEr3kP5uhjpE99jii52LVoXT33JDzy53DnO3zG41JxMQaSBTjxTS585a+YWDjXCduF/38h3kfj9f8Arrqbpqm2Vaeh+QTWjPa6A5h2WDw/WPKO3lun/i7Wn1Nkfsq7OXRtrWBqE7mPnOmKd7keEjNKfMMbGX3gV7j41EOYhYtIXKd+5HVc9cb3+hBiz3yd+a98nMb08+AWugJG9xYfCy0XUamNee0MsFp/uMDmM8RC7hKUM3lvxPnU4MRbUcWN69D7fx13/hgc+3pPA1B48WuQnvWRUaAjZF0Gi7Pw5T9gonVuiSbG2Tr1294Br/9pXDyJ1YTU1IH1OcEGrmA0BokQjYhwOPVR950YHC2KWVzFmVLw882lPTtTRzI7RazdQi4VQ6U+CXEFEblUruEV44hoxYfg/n/JyF2/RDI7BSN70bHdJKaCqqNy53VUa9fgvvq/YU4+QrvxlgVdaTYXje6hcc2dJFR9qq9gCbnt2JETBDGCz+m2sfj1QEciMXLVnVTe/DOcqV7TqfxFxh1twbGnun33iro/ex7On4VsqePL/NVvgQc+BpVJUlOjaaqECCaBteNAmiCONFdbWlpU1H8ifOR9cQlOoJVtcQfdWqC6OI0tD+AEUmtgZDdIvLFCQxyqitoqZvwA9atvoTpxgMxUyATUxri4gb3pPsw/+Dc07/o5WtFYZzkk1/wWf58du4vRH/uvYOwAjthHcAltdduxI2dyhcmt/3916spBlEcDmVpadoyR29/L6IkXyR77XWw27Z9mO/JEt3P6EpPknpOnjf2MvvkjMHEHTSokziBGMdqbqy4QWCGSQPIqnPkWNbsbRPN14bwjjiKwFapmF1T3kkqDTKpbFFnDQHORqDmDFe2yjFYb4WrjGDF5lJKNvbLDkFDHFGuTxidkVSCRKkS7iffeS/V9u6DeYOaJL9FYeAVrF8BUWTDjZLuOsPfBX4Nrf4TEjLIVmRICa2NHCrnNI9e3i8OoJYkPUX/gF+D043D8USiyGw+i7HNT/G8gMxO07vpZohvfRhqNIWKwqkuyLQQCqyJ18MKj8MJHcmOKUkh9Y8BEaG0fcs3dpLe8n+jWd5NF121J0YwaWFyA5rwXvuV2E1UwI2N5eTeQUrSVIntCTCtfishtw1RwEuMkojJyM/ad/5rRyVtZ/MHfUJ8/iosnYO+dVF//83DkDtJoDKeSh1827ZiYge3D0Am5Lmsrl9COvlekwzGgTnwD0WhJBJOVMPgIv0VEEIUMS1w7BD/yT5n//P9K45WHVzbhKlQfBrB1ZvbcycQbfhaqB73zq+ZRL4VO3q4BtMMH5aqYWHVp+TVX4V7m9QJV7R9X08TgFCXrOL5eEXH6HCqyzMDIgFMy23lvA10vVfpvK8e01JKpvvPBkWX+OO7ZKeaOfp/ohYcZefA3YfxamjLWtuAt4lhuBB0LRAfN88TJGciSrjiRElXR6j5EBdGknRWhMI5pu0EAa9FwlM+RYQZYRRpSU4NqhH3jR6jffB80pzBRjfrYQagfIpWOs3o5k0HnX5Z8Jw92fWkHb9d+X53yFgY7W9g2egV22fWEIqbo9m6rQyXkuhuag0h9otHudWtfacVbZm1K8G4tnFktTTNG9fp30rjrKbKpo9jk1XyfAccWAi632jobHWDv+34FN3kbLal1d1R6CQEHGCIcqd9XFVTyILTFOdZ6k5tIlwl28cP2bihbRmm231Xfu2I+9mKQSsWHgcroNpLo1R4U30vbjZtjfGGO9On/j8XaLmpv/yjV8ZtIXNQduX/DDECMdxtYmIaFc92BFQSc1EijCWKxbdvi8rVN+Z7WWKbiHI7IP4PSKS3FeQ2piUjNVbD3qv4nKmJV5mdbFb3l73cvItvSXlPFDE36nyHsWVzbV4zWAgtzM/7noqGIt86iPPLZRDIxzEkdXvfjNG99H0h86YZXuA1EMXvf8jNw5AGcjUP4nsDaEKBR8yrI4u/VohClF6l8++OkD30c5k4Sa9IOhr5RtAMZaATT097auCDv9I2p4KJRoIIUg9WeT1DhB1ZKZOzwVBZHrnYrlOrpPNniQvdEQCCjClGVyJjNd3AVUGdg1xEa7/plWmefo3L6CShSh/RDITMN5PoHMfd8EKK9RFEF1mCC7HNX5TNLETBm6TmKP6MIjMWYrX/nBoONY+/ascTvyIEI1tquI3Y0asDY/u+7CC4gAlGUP5fBz0MZQQ7fQ/PIO3BHH6auFzoOzf0P6Gg/ikdeCJjsInOPf5qxvQfhTf8ZVhRBvYpeLCIG1+PXthoKtZ4XnKlXm/b6okU1zPg+qIxgiMj63MhQ5eDo0lwYKPx3l3tH4H3vogi7ZG1yC9pGoUkY4OAuIhhjURGMrD/H4GYSRXZ4NJaurctO/cPXzEcn6WoklpZEMLkfW4mxmyzkFK8lTKVGdLBG5b2/zuyn/i2jcz9YVmW5MHqE0bf+Kuy7AyKfDiiiy2N3xVji0h/LVDdjILJEsvXvXFCfqbofLgNriKII13b92OHWapHtzLwGICJgLVEULbsOIzIGu2+h+v7fIn3oE8y+9AgyfwFjyc3ae1CDqFJxs1hd6KzV5lVvrPkyZ77yB+x728eIqKAuQ2zc7vBMduk66i4xWDNAV+MsfbVxlXhiP0iEUbPMUvJwaD66FTQWnB8sLH+MH7BiLUZ6B0Ob2zaK8orSW/iu8hlrUOMHa7Idl0VyomFSkRWBuf0wV4HU+9jkBift/WwEjZEtLZcFsA24+T2Mvv578NDLwMJSQac+jNDoa98Pt7zDH9PJrbP6QVp5BLySga0x+Wx4q1lZw7TW5i95eOrlmkhX2FFZg5hyWPw+OHxKqcNvI/qZNzKqrdzgyvhgx0vIwLXgib9k+u9+l11nv7ukntrF83D+GOy9FUyM0jFskRWMHO2A8hahGYQUbNZZiytjLM5E7aZgbZ99BIZltt8djkJ8CpXVIILtmoxsbtvQ/BqSX7t/kQQxfmC63dfnoiGpJ0C35T1tq0KWvHNj4lKYna0oUyFpYrAT8IYP0zr1ApXnPw+6WCqY39Xc/iF44KNgR2lPQ7Uwo15jdRkSzU1fyqPaIRp0bSfUgdgxlLFSok4vHKWdE6pk2YjC3T/FrmoF/uy/hblzXQOmSDPcmROYyetQU9nQ1yI4cPOwMNeJV1mqAsbYpd3SlVgttoFF9LJ0Zh3bmiEScSWjsMLqUExngNcO8FokL8wtKze98y9dRAEi2Hc3lQd/kwvRnk4ou6Iu7Lqa+B2/CqN3dX7U4s7WUWGKNXkxw2nAEvJmrR1D7lImCILN/3VIvvRWNm93uSVuBNFh2P9amDzsT+DwUXsUxBhMMpubkF9iJrkKfPt1sDhLdv7VjoArj2BtEVWhWBha7rMzUdWS3vDylmXYGSoht23RkquCrXgV5DV3M/GBf8656vUQAw4Waofgzb8K+24MFTew6VjUr/O28cJOpfjkFihSOG3Stvy1myVA2ut/MbbS8NfLgARQSHWEeN/16x7zBQIFw2N1sm2RHktBvHOzGYd7P8weU0V/+BgYS/3ga+DOD0A8ebkKG7iiKKkxSo7gUnzXWZ/XcOZVn2utlLIqwUJ1V64Z2Mgi5TOU6iTccB/zT3+F6sWXsK5JGtWYPfw2Jt744VzEOiSMwwPrJAi5dbJkPbxt6VmByhG472PIff+0tHHAgYHAhpPrytW7aHjz5AyyeZg5C+efgSc+D9Ovdg7J62WLKuw9AlSQ4viNmFrlatWMCHvLu2iIwBOfgZkzRIduYeINPw8H7myvIGr+bUA8l0DgkgQht078GoP/0pFbZQmWD49L20NzDWwphWGPNGH+KM0v/C6tJz6LJDM03EVMr5eBiRk7cC1MHAQsadoiiqsbUpSuNlKdgNvfCze/ybuRRDWvAZE6dEVtDS0msHaGT8gVvhs9Vrmd765jcdmVAXmLKa6tpn8bDe02sKo0SmsdIhW52zLIFuHvfpfWY3/MWOtEl+dK+RLzMknjlvtBfC66yGyk9ZafXRocKhFix8FOeiFn/Aqic5p701y5qkpph5lxIFpyvQgqoNUyfEKuTR7eZ4lT5dqjMayZshFU+x/bta3nayBwacSBFjHg1tK5lY5TYH6K2Uc/yVjzxGDDDgXd/1q490NAlCsLN07YSLltlDFRu8T2svhxbi/U5Vbbxptmtx1AVEJHskqu3KFSIHBFYUBqzLu4vwM2gFRh/BZGHvxFGL8JsD5tTEgds/XENTANkAgNs7d1sTOEXGiDgcASvCdZPuw3Ao1dxNfcQ9NO9qj4YzBjTDeOwD0/DTfeDzLWWcsLM6stx47sgeo4aE9Ir/AqVs0QqysZ6G3vMrfs9kBgW1OovzcwkLYiiNSZfP8/I/ncIhz9G0ibYKowfhj23cKum98N9/w81HbjpEIqKbEMCtAV2ExG9h6C+kEwlfZv4T2sjeEWcgOI4/y22o6noXoEho+0lWxIA1WE1IHBYve/lvgn/w2c/SjMXYT6KIyMw8hu2HUYzF4fcBclzhfuglXwZWDXJFTy2bReySY462e4hFyhllT8gvzIfpLaBLR+2P7d2RHiA9eDqaGqnZQWO5nezDrbOd7dStnx70w76sBykG2hfe9Z0iRyi0CG08ItunCTLtKJDs4WXY7NbAw4J1i7GyZ2k0281idBcHl2cvDZxcWbhmRZQiTSzg5uYFtHmt/OaP7gXO5vFOHyKDN0t93yaMJW/Cxbi4SxbtlMFBtbXl+YFQ1qipi727i9Rtu5cP0oOnChCpN3c+D1HyD71kls8yxoBbfvNvb/+G+AOQDtNB07t3WKSrsR+b/7vFABUwRTVb1MFVJXPqNWJXM7950BWKdgYpyJl27MH5PNFuCHT8INu2nJLqooohmqihZqLE1RsX0D+WrPH4bSbuLT+Bk13f2skg8OI/897+yUvpcIrABvOOLX1pxpEtHCuVZHOJRdOBze+NRV0DyXg+/zSkkAN1nYaanUMuClqyo4R+YyELuhiXU3mijN0stdhhVT5MZyRIDFmnGie38Wu+d6OPcS1CeJDt0GY9eRZBYfbXZnYzTCSec+4wGV0qlClkGakZqtfy6GFJOmvgPt3Si+x03z7aqKOrlMKYG2ButidPIW3NhV0DredxwWacr8U1+jcegupDJKApB5H7M0S1BjiXR1w2hX+rf726B9B/8dWBntZy7OJ5xtzuEWL/iNZVeOIsh6tAtqu8hSxbgsF3L5WaTYcZPLKw6jg/sTVSVLM7I0QyXd1urUKEsvg1/ZGlEyRB2KkkqEkwo6egvmziPYZB6iChqN0swElwmmX8LIHYZTQaVzn/GAGZDLnBdyWepHX1uMkiFZRpZl/XXkTnHOdZKmqkEz3bGZCVIqRFfdza67f5QLf3+cCXcBtCf/oLaYefYbNN7yQczYfjL1/mWFwhIVWuR946rM/F0pUMIq2CJ12Y5DimzoDiNNOP40yekX823l/QCtMr/ndhpH7iDNMqxqnoC2E1x7s6fUXpA6FIgH1CtVJctSnHOouG2tLBuqNTkRn0bEq1CyPF6EwUkDV6kgGNSBGpsvc+zMDrKMEcEhXetwwywYOmUf3ntYCZlESLwL+5ZfYeK6N8Ajf0z6g88TpRc6a3SasHv6aXjii8T33kBcn2QxNWQSYUiJujQbQQBtZ4yC0Ra2eYHsoU9yIDnW2ViKPNMcP0Ljg/81HLwHEWlnWDd5u3CdiBObRpGYeqe0wKEScgCKyQWb6Rq9OiIMDiEf1e6UNxTYkagqqQgS78Ycei2kM6THHieautBVd+PWWRa+9SfUFxN4689Tiw8yLyOgBmcUow4nqwkPtnaCGF07TiBOLsAzn6d16hnq5Y35+3amTvWOt8Ch20nMyOUo5o5kuISceluyVLzyOsrX3FxP82tbnIVmGbjcDFALilowhiRVqnYMxl+D7L4RLj7brfoRqF98Br75f3N+aord7/olGuPXAjE4C7h+QbLaGHJVUlulVNhKrqFtrEYl1RbUnfB7Dou2/y7O2fm+2cYLrmfga8oDgz6q2N79V3CFPPSWvyeDw6jDaoLRFky/CN/5NNWFc32PXjA1Rg7cCFIjUYs1HQ3N6ssSKBguIZdjckVlp6H4/0JFCAwNkq8/GqFJA5m8CXPD/cwce5yx5JVuqzuA1jnGvv9xFk8/Qu2+D8GR14MZBc0wxg6IQ7kIrWk4dw6SBdAWkHl/At3kpm8jGNkFI5MQT2DsKMZUIZ7AmVEiG5GZiKwtcDd/Jpqpto2ZNk2g5sGlVZVqlKFzryKLr8LFp+Hrn4SjX/ECry8Gn2E5asfyvOyI8frLPqHgRLzLyTZejgOGVci1n2rP6CssjAe2If06VCed2uswaNyg8cYPs3jmGDz1p9A6v+SYOJslPvsk8595ETNxDUk0AhjUaF8RYbIm6fxFtNWkahyRpjhxZCpsupZDLIkzaFwjHtlN1JggbuzCjO7BjoxDfZSo2iCKqnQCNm+uQVS1Og6VEahWvaCHfHCwgc9CFNLMG3lN/RA99TzTx3+AvPoUY81XkYECrkzoxzaSoRRygcCwY7Q7t0CqSlq/jrEHfw3S07hnv4pJzy/NsJM0adCEc1PUit8HaTAK74JeZ/Py/6thNUP2YiaaAHOl65XT+0TiZyxlp/jNpLqfJN5FFPuZksvX9z39Bctq55fWgmYpcbYAM69gFqYYzzLf06Z0NMXbffqzgwhCLhC4DHQiiRQuExUSIBq9Dj74P8K3/oTz3/wEuxdf9Lngit7WsvLUcoWgGZBSZ9WsaU1ume+p4qXgFpGcJJZX/Hf1a5md9cwNmj2pydc/nX9v0HlnxcWKdxmWV7aEIOQCgcuIKyktAZqmjlavoXb/L7L7qutZfPjPsSe+TbxwAh+3jv798SABVJ7FLbffpVhuxriS6/Zu6yeoN312k3UEz5JrbaCqtN99hJnbZSMIucDWMMj5uN3JFWbw2vP7cDPISdvkYba81WEeESZ/BtYKi+YQ0a3/kNpVb4Bv/T489vuwcNav+ZSNUpZTPy4naDabftct9LMbNbNcLYOusVHPaKW5bQc9mzYhtsxGEoRcYGvpJ+xMBjJLpXUy/7uUPXrYR8Br6kAz4iJc10gF3vqTcO0N8NhfMfPit4nTGaqaIiIkUiHSFOkXws5YHBGJiYhHJjG79uCt99aimisFFR6Eap7RGlxrnnT+Aq45T1UXMbrQmSxdspMfUnrralmoG4sbvRpz031w43XwjS/Aie92ZrVaDIjKn+WcQwIrJQi5wOVFAZfCS4+S8B+B7tnPsNuZ5QGdVn1EgapDVbGSYUarjN16M1x4BdJFECGWCpDSN3u3AxNXqY5NQnUUbM0nSF31UyC2YSgAACAASURBVL2Es7ks/WqzFlYOwPw0nDsF8+ehueCNL4Z94LJSyve5Zzfm0A0QGXj5RdzsFCZM2LaEIOQCW4N6szKlT9R9B5x4nPjE410aS3/c1hRvs7DrnaH0WuIV34tB/nIqsuUMHNZqRLLSbYVcNCyvUl1rmbYjy61BnjkDZ77Sntm13Uq61LdlS89hH95tH4KQC2wJTqBJBSNxnkqkz047MTvnRt6LlD7QbcAxaP/yPpvRby63zmUvsc9OY7lnMWjgVhoAtCSmLlGeuC+oKzeKIOQCW4RBbUQqhkpGp8PVnv97hcJOEnhrZbWWjes9bqPZDmW4nFxKyOfPJ8XmiVIVawSfgrEnrFNg1YQ5cWDLEBvTGJuEKBo8C9kuHfMwsJZndanZX2DzuIQlbKU2CqO78zQAYcFuowgzuSGmcCiGUr+1jQWEqIG73sfFU0dpvfwII+kFGrKII8JJ73jLbetsw5eVXgvVAeHsuhNsdp7nRo9sV9odb02Eyu1O5ykYHA5Dk5iFygS1u34SDr4BqPgYmNvBMqVs0NTH/UNVt3WfA0HI7Ui2a6DqyFrYfTvjP/XfwAtfg1efg+QCRmNM3653eydj3O5slZpmNdcJqqNujDjqcYP6Na+Da+4jqV4NEvn2MCDm6Zaj2nd0opucvHWjCEIusCU4oKUOiUaxcY3orkPedcApIn0sLgtWlfE6EBhCjKAqNE0VlThP0XO5C7VzCEIusLVohCOmBSCQWV02k7kJCq7ADkZVQQ1iBM2T3zrodjMIrIsg5AJbQpFM0ki35sMi3qVqiZzzo9kg4gI7GhHIc7IZfCCEVCJCzd84gpALbBlGWnmUdh+YeKmxSdfePudaUFcGdjQ+3U8mhlh9/NIo1PkNpS3kyiNpU1hrSXc8vCJiumjm/RXzLLuFdZf2RPIu1FDFAmU/tZTD9Gz31kfFVL3vCH8FN7ZWymGYtpOqbECY3z5bXHe5+2gCfcJOt+VJZh2mK0ml0eUX0n0dCKYKl6Z431F7UJCaoO4aFkwfA6vtajw2jHghJ679UH3HE3XMjbviCDqMCCabR5Dck19KLyijaHCq+VqL+EXVorNyYhARHBbNw9c4UTIV7x6Sd2ymLWDz4/B5mrau4W4fAedxXSbh/jl0nocq3ablPY2kOLYze3KY/PW7rbhX7Q5V1A5gFDri9SPeFB2NMKSU6254vsNBMTB1xbwjvLcNI3JCl1rIicFonsJWDU4cVptE2Txki5AugJsGbcLcHGTzuQWct5QrIpVL5sAaqFaRym6IR0EirNTA1jBUwNZITB1DBSPGF0R8Iy1G+cVcxa/pbP643isP0vZ8saxW2+wOY+D5c+EVtaODGNL8QRgcqRjEFQ2lv8jyAwrrryHken+TrwPA9hPqgZVj8rQ9KWk7CWvwSgsEACIvUBz15jE4+zIsXoAs9QuirUXIWpA14dxxsvkLZHMzLF54hdb8DK45jyXBkBKpI+vjN+FUSeJRTG2cuDFKVBvB1kao1MewjXHikUmo1MBWoNqAqAqVKsQjYPIwNzaCuAqVuo+kvploC5JZaCb59OgyogpxBWqjYBogERDjTAO00DR7Hb6iWG12kkL2IPhsxaqKqiDqgCyPrhAYZhyQugxjOxoUdYqG+IeBAJFohiTzLHztE5hnv0h19pgXaqSQJvlnEUR9uniBSm+/WHjCDxo4psACMDXguEKbGdcgHoN4HK2Ok0kMUY3UVjGVBq4ygt1zLbqJDTdenILpV0iaC6hmRG2hsfmj4rT0XFUV5xxRFMH4daS7rqe6+yrsvmsw44epUgGJ2vM2owm4FjRnsC7pPrGDSFMgQbRF3Rkv5KyAc6RSJROz5Wt0gY2hpRkIWNdCsD6nqpGwsBMIAFEtm6L19F+x8Pgn2T3zAtDKc3zRSfOxXIzQYvtaJj3l82Z4dWhzETiDYInEgDoiiXxCRgxZVMtVb5tD5hIibVERu+UzubLoVudQl6uQTQVra7TEIraKMxXSkmWiFvY/WcKYm2Zs4fySAXx97jh8749h5Kve+VodVCMY3UN01a1EI7fStLs3+Q4Dm8EYLUw2B+kM2AbYEealjkj/qBmBwJVERDZHcvJJaounvaquN4Cr0kmN0k/YLRdod7n0EuX0H+VzFNfIMoiyXIhm7U1Rsrg1Dbec1XerKD0DcflSnICRhMjN+e3ddgVL8UtvS3+bPQmP/AULzgIGozBPRmJHqO+5jrEP/JdUD7+ZRMZKMTG3Zi0yUKJf5vQ+ZKrEKJFrIaceZuaRv2Tx1IuYkXH23PFWGnd8gLS2m1SXqveXc74PBJYgJeOIrp+Hox5FIIyI0CxHyC6XvRBCZWEkrHwGV97etiDpQ+/zigb8vlUMmrWul5XOesvGiGW1bvld9FMb935vvyuF1jnqpV2qAOkZOHWU81/Zx+6fvg4TV8FEPcF9A9sBq6BtK1vBaAs9/0Pc5/4dY8e/wljme6HFY1/CqaVxz4dIzSavYQd2NmVf1j59seSO7NuZiGgX2Y3vZu4HD1FNp73RSUG5I3UGNTUSW2XBjJCaKhkx8egEqcS5NWJH1Ks6nHMkSUKUzFF3TQwpVW15a01NMboImixN7lgWBL2d+VY/0fIMdiME7nKpTgpB5np+W+5c5e0DUnis5PlNnXyJ3ekMVFIgDxBLbmUbhN22IGu/i9RP2JOp/7+9M42x5Lru++/cqnpLr9M9KznDGZLiIlIbScmmLFubZdCWZTuJ7NgJYCQIDAQJkiABsgAB8jlfggD5EARwAEe2P8RIvEQGjEA2bFM0aa2htVDSaCguM8Nl9p7p9W1V9+TDrXqv3uvXs5A93W85v8Gbfkv161pu3XPPvef8D/ras2xdfp0577sefI02l848z8zjP4XMHOoT0h2X0bdh7BZx6uaIH3ia5U//Bte+/odUGytAHo7uFYliUlejdvAEycJBKvOHqBw5BfPLML8ElVkgyS3+YAmQ/HXzOjTWYfUabK7B1g386grp1grZxjU6jS1EM3zaDInmWYs466DqQTNcmoaoMTrEtO/q9JnHkSGoRDgRiJJuGkG2S519kZww7G+Hzz2RejRt41WpSgvnm/lW2XAvrmDw3Nxq2lUBqRLVl8BV6aCI9lY9LXZhlOgl1IgA6Tpy4ZsknTXy7BGIQNMWldYqNNfRuhk4Y7qJM4nRaAH54D9k+X2/Srp+FYdH1KPqcbUFqM6Rumo32KEc+NFNLr5JZF5UTXGLHTgWBYWTPBsteHYdqlkbOg2yxhppYx2aqyTNVbSzSdRp4Fcvkm6tIO1NnDTu6gkJHbxDZhZx84dgZhlPgiemsot/Z5hclZc4l71KcX6LbO0a6foqrvE2bJ6F9avQ3oSuwaObPB+ed6Cd3twTLj/3hDSNmXnu/9jfhvpJVOqIVwQfIi6NEcJ3/1dV2LgG579OVTd7zraASERcqcFMmJw242ZMM11Zr0wcmZvBLR6HwshJoZ+QgIt6sl4iPW8knwpx3QW37R2j4sioBq9AXdc7UBU8MS4SiKpE9UWqufeG+rCOpCkua1HxaUht0M5dnbIUgcjFECUhP89VcPm/3WN4nTSXJ2iHxPqUSDKiZgN8A1rXodXolqfpLnB2jZwPqR5vfYXOX/8+Sftq//Rv7TAcf5J29SAdF7YXjYlqB6ne/yg89GkyjYOSDYqKx5WulbHf9MvZVaQN18/Dytn+3EgPjaSG3PcRSA6agTOmnpJAs8M7hyfpSsxkWYZzru9G8Tic+lxGSrvvFt9xs2m4otMtphsz7xHNIK4gIqQ4fObxDpxzeeKyQhRee+/v+k2rqkS5u5N5T+QKObLd+gvluMXBTwoP1yPFuZ0hqMDMZ3iiPlFjp+A0KJZ71TwHLmNNvsRBKRm5DHThPuTjv07lng9RcZWwH+rA1fBSQ5JZUu/QNENih0d21azfKX4gyrAsRgaTG/F588DZIicSpHMN/9ZpnM96AV15G91ihoMf+GRIJzAmi1tE35aXPPpeT+j9cjvEADupwUfR9qTr4aLF+Yj/Dk9k+P7wN0JdpaDWILJd1LmrhXmXEelpcRYGbi8pzm/fsUo4T0J/doDD5YolQiQCUoHI9VTMS9ekJTVq1WMQH6UlszgyKAw4Dnx+M8Tlqei7cojviDCnAG2pBeM+hZJVQXIvV69JV7j+yrc4WA5WcoBELJ96HOaP09La/kUnG/uGF4i9v0WVj+khLq+lDXtWZtu771YhY4ffH8VRx+7t087nbMdP1O34efD7SnqFO+6ny4ODYpQ4VzgZMKYjrHhS+L+uNFbdaatJJazjhjVtLr9GtnK292HhxSWHmHnyGYhnUXFm46YUL65vZmiaGd1ezZhqXOkBhTp78FJHcRC0W9zqhgzetYeVs8z4tf58VYVW7QicegJV06ycVkKx4bwl3aa4wCRjRVOnjXEKRCg8WPFkKmRAJJoHO92tbP19RnWHSyS0iEE9dW3DlTeodNbCR4U4AFBduheSA4goonRLPhoTwg5NPENJicP90cUT682iAKYDM3LGaFKeOlXHjG6C34CV12DzBmi6wy9OwMhVhlWSCHJsIWCoAee+RsXn6TS+99EMG/D6c5C8RNUleeUKY7LY3j4SBFwMtXmYOwz143SiGVLr4u0MjD/bK4NPREef011PaF1m7a9+j84rz1Frr1HV9pCth5cZGie605E7bxHUgtbf6lfHKeZ2L/6Azv+9QJYnvYhM2rRlL4LbD7w7PQweeSiam0VCO56nMXeKe575JyRHHyeNlpmk/uCdYEZu7BlUTfUTMw+vqiCQ+Qz31d8lefELLHSu5etPLhxnt+BrbuAmenouN1jlvLhB0fT2dZLOdRISdsrHHEsK79ZXe228K0RRuv4Ak7weOejlawJSlNZKmBFHcuMVNp7tMPfz/wZZmEeGRMnfNprnQhddykA5sOIeHWXMyBkji1clEo92Nmm+dZrZxsV+oeoJXZbbkaKDGybdVkYBOsO3HWVutq9dY97qbet2OB87FA6eOJRg4LrHH57Pakrz8ulQBPvAE/u4g6OBGTljZFH1RHiy1hpxZ6N/TupOKmFMCrt1nKM48r6dsla3K9Y+ise32+x07AqQUUs3obWB5lUCpms6tx8zcsbIEkcx0CAhQ8uBJsVAvahzOM138KSw02Cl8NiLNcfyNmWBpW3e3G7v4IjRrQ4z5D0I+raiuYjGHu7XCGJGzhhxwnpChvY31mKZYfYw7dl7SKcgilBxIS2AlNr1H0LW3L7R/HGa1aO3oVYzeuu2bgcxgtBRKxVt47LVoNHqYnyyRCpxt0pISJSfbEfOKcQKqYSgLMnaJOvnoLHZ35t360HaCHDyewZj7Mmkgi/XgChG9JUKPPk5Ko/+LSpSYdJvaJUkyMXqJs0/+LfU1l/evtFTn6f24M/3Sl+NSxBSuZrGIBKDX4f0Kvz1H5Ktv00nriPv/UWqJx8DVw3VNMq/v+Nxj3kbyT3bWABtw+pbtJ/7TSrpS721SAF1MYLDqctF16cXM3LGyCM6kBbRLWIbw9JDcOJpgmzZPuzcnuGQwtPRJj6ZGb6OtfwAnPhweD4uBq5g2BSjEAQMts7Q/OLvUHvzRaLOOpHEpJ0tOPrP4ZHPBt1W4vycjNlx3yndMlptqB+CuNYfbKOTfwruBDNyxmhTqJ4MRlO6/L9ohk60DIziBNxuE3LfEo1ymTO2GwZXoRUthOc36+lGUKd0qBppfgzVc2donv8BtW4JqRbxtTOkr70ED3yOrDYLxHl5qPE67jtCerJ2ibZIZW6gCFPOTXVsp4sxv+KGYUw06lCJYO0KM/5G/2dph2zjGnFniyj3ZCZ/oGPcKWbkDMMYXcQj2oG0RZS2tnknzncgVKLcl90zRh+brjQMY2TpVZwYUjB5otdgjd3CPDnDMEYfcSFNpBt0FB6ZxEA8fF3KMBgBT65bpl2KGkgeUUXU5w0438Z7KpriZCtEFWlnQIl+eMVyJIFojpZb7G6jKnhAnQCuO1r0EkaOk1yvbGKYymsUyuP6QnR5ULeyEHce09C6YXutKHglYcglF4gaK9C8TDx3gIwEG7ffBUT6E++7b4+HK73vRm7Y2RNaVLUJpJC1glHzHtauwIUztC6eZ+3aBaK00fcdg83bA8nyMeYf/TGqpz4CUR2ooCS0JSYl7hfM0HjbvhijzPbSqtPDQErFjjJPY97pq8MjII52llGFPu3SdH2FpJ2XXpLe7xi7hJRzD4d8nMuGjTL7buR6Bf1816urZmtw9Xvwg7+EN76Fv3ER11iB9ib4jKp6DpOG3JBbjSZehfS7y8SnPgLv/xlYegiZP0l19ijOzeK7dbockGIjQWOUcXicdtg+rO5tMWk4EVg6Akmtqztd0Go1qGdTIshsvCP21cj5rvRMMU3YIfGr8PKzNJ7/72SXzjCnDZxvA9lwnULVW6qXx+1r6I+eo3nuO8jMEdziUaIDx0mOvRce+2mYO0kzms/zTk0M0RhNMu+JnIfmOs73J/8CEEd5YrDrynpNQkv2qnDwGG1XD2+UpmdFJE+Ezo+0mKo1b87I2X9PLk9uVLJQur19mYtf/p8cu/TVfqM2qO5QLrmyE6U1C6FJvXkRmhfhengvq9/L2rkfsvRz/4zK4qNspRkurjDB1aiMMcULaK5XmDU2wLe23xOVWYiqeHH5rTMZ07dOBOIZ2iT9H3SDUMqVYw2jnxFpFSE8WL2Hs99GV84GA1deWNeB54MKGMNmLQd/T0rbeYial1h6+Y/wL/wP3OY5qklkUVrGyOJcGJOm7S1kqCeXQJxMiGkbQBzpoJHrYrMvxs7ssyfXk6hR1ZD02V6nKq3+WILCMDlC1V9J6EhM6pLu22VEC1Plif36dkNX/Mwy0DW2vvNF6nFM8ul/hU8OgtTuzuEaxrtAVXHawbWu4zXrb8sAlQOQVHH4MF056hEBt4G/5VpjyaSXJL3M5BkF+2rkCkNUpA6AhyPHusara+BcBCT4yjxu6SQsHyFZOkKycJRwCEm+cRZ+OoGsAxcv0Pzhl6m1V0KAStage+eXpkHnWhfovPh7RI/8NNX7P0YLM3LGaOE0FJFFU1xjNdTXK6cOSATJAsSVME15M1X/cUTzoxlmvNWFh0zQ8Rq7xv4GnuR1oGL1IIJPZnAHn2L2w79K+xu/SSXdopPM0Vh+Hwuf+ge4k0+FdQdx4aYuoiKV/gbugMyDtql94hxrL/4Za6++yOzWmyw23sZ1VnsGNL9poqzB1unnmDnxOCSL+3A2DOPmuMhB6vHNNcSXenoPRA6SCiT1fds/wxhF9j3wBIoZdUemKVSOMvsTfx8OH6b19jni2QMsvOfH4NgH6cTLeOJbFoRUVZwDcUp1aY6Fz5xk4eO/AjfegFe/Bt/6Ilw50/c7Ltui8dpXmLnxOTh86u4drGG8G3yHqL1OWkxXQu7ZxJDMgCsEFMDWqgxj36cry9MqYdKy5Sq0Fh4hfvIheBLa3W0DqYQKwrH67mug+9rn3pkXhyK03CyeWfzMCeLqY1SX3g/RDM2/+K/UOldK63XKUuM8XPoRHP74Xhy+YdwRaZpR0Q5srfQHnkSEmYzqAlQKT84MnGHACNwFvRGn7y4hexyphAfd9yAV1xf9KHhi7SWRU/r98IhBY2KNqfgiFHkWjj+FW7yn+JLez7QFWxt35TgNY1cQhdZWWJ8r0HyImNRDrpxhGF323chBNx2cQkcyeHjDdy1EYwaDOLj+HCLKet82qAqReUIF4Zl7kPpSeLMUneYUxj5JTh06ZD53IsPKpwnxYZCmHbS9SlTotirgw8xFmsxBVM8HgpOSJXcr/MBjelAt9YB3K5J2YDB1030YUfZ3TW6bIQuVjwtDNhgh1n0/p+vVaf6u9m83qGgozoUUhKgGUaWXR1e2CaN/zQaICXJkeYPTIDrdlyMo/Y1RRG4th2aMHOIUWutIc5WKtvujK+MKnflDxK5GLv7FtHX604iq7mxoduseVx3alMbBwMGIeHKGYdwmPsV1thjsdVIPrjKH3dKG0c9IRFcahnFrVBWyFNIt8P2jaI8jqi6COJxa0IlhFNidYBjjRNqE5g2QAeX9JEHqy2G6ekzryRnG3cCMnGGME+0mtDa2ryXjiCpzpvphGANM9h0hvvfI6QUe2mjXGB+6sYNZCukGQcIuR6Gjgq/Os1MB4fFmh6MZiKvwwi2FIozpY7LuhaHk3YOkJWOX9j4uohAdIAnsqHRuGPuLxFXwHWitbq/C4Sro3KGe7mu5jY872ksvGhybesnDCnIDZ0NXY5CJNnL92TOlxHLZId5G22wrPWwYo0LWhk4r/BysrRgnVGozdI3BJCEDOXCl43NFHpd6nKY4UszUGWWmJrqyiDdzCqhHyzlGkK9xTF9CqTEeOAgJ4K21MGUJfYr8KhWo1VEJNREnxdC57jDVkZa8NiDkxwq5YPv+7J8x+sSZn9xOXSXr1ZdSh3OAS2HtTbLNa0HcpFREFZeAxIzTOVH13WMEQATnBhx0KSWAq6Lb5rrAj+Axu1Iyqzjp78gcoXPzSpYVuqWjdwy7R0biN2B9JSzH9XlyETOLy/hM6KCgGUNm9sYUTxRFUJuhsnQULkag+XqkQHV2ESqLZFTJNALSmydIjz3azR4pjlNE8lqbO/zGHZ4L5dZ55CISxDWcwyMjrS0RR4Md4gQRRnlBAST2uQJEZx2uvky2cT1sVLr+nXiRpL7IOJ0Th0NwvYasut1gFS+jCESGKp5EUbSjlNp+cVs3pxOiKOz3CN9n7x7xOFG0uTn0OCuz86iLiVwoQRVpofg1Wtf0TvESRNir1SMc/alfY/XPLlHbeJ0qHTYrh6g98hk48CAqMZEoXoTi30Qi0r2ikg9oPfQXlwbI+wB5B9an6B5u9puqGiYS8kHzKI8p4kqlst/7cNfwEiokO4VIHd4ppClc/D5JZ623oQJRhcbMMZL7H2OczomooHnYuFeFONresLXwhASShFgS+qLzIHh/I2bkfFEJO0no7HSzRhFJJQRb6Phpst02gkDqyZqbxOX0ASGU1zlwGKnVqeRV7aVQeBuxa3qneAF1gib3Ih/4LIvzNfjBl6F5g9mHPwGPfgbm7iPGEUtv/d2N+XHvhJL1DJhWiJME74ZM1zoHcUylUrljQxciVPPhUTR8Rcs5R5wkSBIHPWA/uvdeLNGEjngIXo4jDEkUDR1F1oDXv0Lcud4rmgqkRCx84Odg4QHG6pxoPlrzEIlAnOSeWu9zHERI8OSiKPdUhx3jaB13hEAW9W60YfdRMVXDOxu1jg0qwCbZ+uVtC+ktN0P14EmQStdL1/xajvsZ6XotLoHqIXjkF+DhZwgR0xWQeh4VnW+37clkIZQqoBfFpndaaihmbe7Q3t9OyynaWeQiVCQMokeUiQ48KaYsihG+dC7C+RfhyuuDG+KTOjz0UYgW9no3DeP20Bbp1g2q0FcurkVEdeHgRHbsUn4mSZ9Bu/n2hhGYTJ++SwiwEDxCCtdPs/4Xvw2y1b+ZQLxwDO55FGRmX/bUMG6OBzJam6vbPNqUKiwuh6nJSfZmDeMdMOFGDkKxrSZ0rsML/5uZK98O/UXJh23KPO7BpyGZs07CGF18k9batTyytPd2O6rDwhFwZb9HzasxDCbcyCmQIuC34PSf0jzzAlGaB5yU4i46Bx+Bp/5OvoBqXYMximSwuUqi6bZagVFlBuJqb9Pu56MbDGAYe8WEGDntPrTvNYCDtbfg679Dbe217clDSZX5D30W7v0JYGaC82uMsWftWlD0GGiicX0ektneGzZOM4wuE2LkoLBeHkg7HdT7oHbUepn2n/4XOPsC+EZvcwc+nmXj1DPwkV+CSgg4kUmRijAmj5WLJNre9rZbPApuDrqBVoKKTVgaBkxUdGWRIRPC5EVasPk2PPvfyL73J5C2yDfIiVivHWPxp34d5h9AXQUZQdUPwwBCuPj6Vaq+1WvD+XgsnjkArkpPabwv+NIwppoJMnIBUQ1399pZeOEL8I3fpZ7m6ialOz+NZ1n88c/BI58GdwBVizkxRpyrb1PRdp9mJcDs/BJQ7SXkmnUzjC4TcztoCiHruwmbZ+CF3yL7xm9D63oIMinL3ijow8/AT/4jiBdQFwEhx3/cZZCMySVttlCVXlvO23NWWwAScFH3jo72aR8NY9SYGE9OaEFnE9pX4LnfYv2r/4v59tVcsivfKIIsq8KRR0h+8tegfj9kgjgN2sW2hmGMKuKIl0+x4WaY061QLi4GjWeIDp+EuN7bFM2VcMIrw5hmJsPIaRuunYY3vg7f+mOy1/6KeW0XRZJ7eNBDDxM/8+/h/k+ExXon4FOCPkpsc5bGiJLAx36Z5PzfwLk/DwM3V0Ue/gSceBw0MntmGEMYLSNXFp5V3ysjIYr6DBEFbUBnFTYuw9un4c3TcOMC2Y3zZFfOkmxdIioi0Ip6I3kZiq0jH2Xm5/8FvOcz4BbD9E6xoRk3Y6SJYeFhqr/4H+CVT9JZXSU5dB+85yOw+NB2I2fN2dgtCv3Lwbi8Mekz99XIaTmjNf8hhaETCVJctMG3EW1C4zq8+T1WvvrnbL3xPeqdCyylV3G6SeQhKhtJSl8tNVi+n5lf+tdw8tMQLeXqEPnGbrRsvWFsz+OW0G7vfRqOfYgEQCqo1HvC1L60rTGZyLBObq/+9rD3Rr+t7Xvv7uk5cA7IJMSJODrEugnrb8GVl+HV59HTzyEXzrAsHZa1sy3KbKdrr0ceR37238H9nwodhVfINKjyG8a4oIRUgajSK7fCnavMG+OMmJDNHbLvRq6oUi0K4ttEuk7UvAxvvgTnv0PnjR/QuHyWaPMtZv16WH+DfgOnpddCt3KyRjXWj32YhZ/5x/DIZyBZIsPhyCa7LIsxmXSLAEuoF0b/DL9hGNvZVyMneGJa0GmAtMM62/efZ/W7f87sle8RNy6Q+C36imsUZd7LBg6CSxgBJGRRTKd+QhWOJAAACu9JREFUmNrjH2PhY78BR59Ek4O92RxHUV3OMMYKG8Qbxp2xv55cew02zsLVb8N3n6Vz5htk65dZdA1Imz1jVswqlpbRuq+Luz4DrS6zfuAxZh/9FLUnnoFDD4ObhWgG7zPUCVFeeidg05XGeCEAhb6qpb0Yxi3ZEyOXeSVyhMhIvwabF+DcS/D2D+m8/m0aF75Pvb1Ckm2QCNCht0hXUBg8D8QJaXSArdoic0cewC3eC3NLyNH3sHD/B2HhFCRL4OYBwavHuaLebdEp2ELGWCAeJM/mL/fnHqAF2Q1Ir5UiZadAmk2LY3TjsO5v7Co+n6P2oC3IrgU9027AXr6ZpEzFvXAb7JEn5yFrwOY5mi/+CZ2Xn2XmyreJtq6QdHwwbAU9+b1+IlAiJKrAsfcTP/ZJFh74cVh+GGr3Qv0AuHxis0+jS3Ey+IXmwY09HvAtOP8dcP+HtkRECG4Cbuw7tVs2hTk9BE++aOMtWLtMtHWlt0HX2KUgHi/bJ8CmjT0xcpE2Yf0VGr/7L8kuvMQ8GyEB22v/lOPQEFXw8TIr9eO4kx9m+aOfh/seh2gGpJo/8jIj3VV4ufl3GuOFj3Dqete3CMntePj2H5O+9GXA0fadfd3N3eJO5xjG36wbd4qKI0KpSAdpr23v52zk02VvPLnN81z5/f/M4UvfAr/eV+pt6MWQhK34EG7pGNUjD+Puf4pDDz0FSw9AchSohtw2UfARGeTToQPfZwZuvPEADsThxfXyIKX8eZs4uzI8WdUwJpHBma+hn0fYkkxgb4zcG9+kcv45SNfD62EJ24WBEuC+R5l53+fhvqfg2AehfhwkyqcheyLKQqg44NDh39v3B4yxRASokFElcfTayuAAyWLpjWmgJDLffV1+L3+duRoRMaIZIo5pvjn2xshtbYY54sH1tp1c6tWrsPUmdA6BLkKWgs5BNAdSL204cOF2HNUYY0nRVioJrl4tLaoP/Jw07nSqaVLPg7Gd2xnMKWgyC0mVbeEIU8jeGLmD97FZv4eF1iWkWDQd7KjKCd03LpJ99Yusf+VLdGrLRIceYPHog0RHTsHRU7j6EiwehdpRcDPgKoQV1tLV74ZZDwx9cm8QFK+KiOvWU+4NjqzX2H+K6yVQrVF5/JOsXThNsvYmVdfB+Wxgy8m5m99J61NrstNBoYAo/XPzCiCOzCVsRgvUH/wknHgMVFDZpXHQMAOrOvKDrL0xcic+xD1P/13khbdh8xJBEJn+Kcqij8pPWNRe4QBA521Y/x68nn8WV2DpFNz7JDzyC/DA07B4HFwtfJkvIiuzvO5WQjf3oDB8CuBx4sl8JaznGaOJSLiGT3yehfpB+NGzsHYFsnZvk+6T6V2UG/F+xtg1hrfx4vrH9UPMH34U98Tnof4AbXEk7zYKRXX4n9V3+b17xN4YuWQJ+cm/ByffS+NvvsTqyy9Qb11ksbPCHc3NZIBvw9Vz+KsXaZ/5JjK3THVhCZI66mqkrkpy/D3w4GOweDgXXw7BC/gGnPkueuk81BaRJz9FtPwU6GxY87OQpBGjFHpbOQjv+zl46GnotKHkyfUzvYbOmBKGDuZcGAy6CFeZhWgRXOXdG7gJYG+SwbVCVL0X7j9E/eQT1NdehTNfpfOjb+IvvoZrXSdq3cD5zX47U5TJKZ5DHjrexrk2ta112HwdLoXtRCISEja+P0unMkeLBPAojlQSorRBjRYz2QbNqM76N7/Efb/+H+H4hyFetGnKkaI8n60oCeIOQPUAVPdzvwxjPxk+iFMUj8M5CXnirvfJtLMnRs65fDwRV4A55NApOPQJko9uwfW34PzfwLnn4dVn4eprYZReXKTBa1ROFRjMcvQZkDEnTWhdu+k+1dJ1Dmxs0nr+C1R/+QTEi5ZbN6JoeW47V66xICNjOhneyAXpdZmuPAdiN8WeGLnuaS4la2ckRNECHKzCwjF479Ow8itw+SzpG2doXnqFjatvETeuckBvEPsmZM3el+60jna719QDzrO5fo1qawPqikoh/WXsN4M2rNAbzYiY7oBow9hOWaceICoKTqsFJe29QHPJW1IE0RrENYgPwD0PwImU+P3XmdNV5tJNuH4eXvkG/uxpNi68Tq1xiTjdwGkbygoXg5UJCo9vJyUAB6lU6CQLITqzV8bAGHE8EE35jWsYN6WYsxRbhNlbI1c6227bEyEYmQgqR0APQQWYeT8c/1ncJzwL2Sa8+jX44fNk579GdPklaG+CZv3GrOzlDaoDlF5L5SBHPvg5mL0XcPtadNe4Fa70v2EYw3DlZ9aXAXtm5Laf7Zu/E+XRjoMfV+Dhj8P9HyRa+SW4eAY2VsJanKahLt3GChsXz9FYvYpvbRA7N7RjlKUHOfBjvwAf+OlQjgewRbnRYaf2YVfGmG52WpO7ve2mkX2vDH5HuARYhmgZ7j0J93yUkA+XhUrJefHVucZV5tJ10Gb/70spYdwdgbkTQUWlm2G5h8diGIZh3HXGy8gV1QUECndcSfARRHhIqoCHuWVCDbKbfVVCOPw8T0Ghm6RuGIZhTARjZeSUQs2kXMZA8hiTqKu+3afutcN3ZfkncT6ZuWvSN4ZhGMbIMFZGLtBvtgZFuYvnt2uwytvqOK/7dFUQ/C3krUwRxDCM22Ey+ooxNHK7w2QlCwzxVwdr6+H7UywKxtKiG4Zxt5By/J26snxK1ytw2v96lBkrI3ezjI+dPrnd3xjx67S7TNXBGoZxR4iWAs2HeHMDY+pR707GysgZ7xAhb6zFI2P4VIRloRmGkfcNCqgH0t7rUbdoQzAjN4lorkiuuSKMQpS2ob0C7QsgtfC+lIdkZuAMwyBXSyE80vUQ7DemBg7MyE0u2u+pRWtvwF9+Aa0t4fPUCZHBVmuGzjCmHS/Bc3PqcG//v6AoBWbkjH0ib3iFSXOQT02WGqYHGpfg9B8jHqJhFRwMwzAYUFos+ooipXgoo+3m2dB9AsgQvDg0r+CrXvqN2KCWpxk4wzBuxWBtzxJS/sCPds068+QmCJEI4joNqiwS0fXmChyhsZqBMwzjnZB7d6mrELs64+Anjf4eGreFkNeNWjqKW7yXvvHLsPw4wzCMO0WBSpX40AmozaIa9QoZjyiiqtb1jS15Pot4FIdHiDpX4fzXWPmj/0S0do6K3yDS8HnbRcRaSuQkw492+zQMYx9wQ6xCKhGtygLuwU9y4LP/FA49AT7qViIfVczIjTW9esBehY44qqrQvgrrZ+CN78PqxRBpKYC4ASWUyZDtMQxjD6hU4J4H4cRPQHQQohk01w82I2fcFbL8EZpZeLgi0MlnIGkuaF2EWGagUS7Tkxu4UW6dhmHsH9vk/7I8naAKLsm1fjX/eHQ7Egs8GWPcwHOBXjSvRCCu2wS7jVGK/2xsYxjGTRhmt8Tni/8332yUME/OMAzDmFgsutIwDMOYWMzIGYZhGBOLGTnDMAxjYjEjZxiGYUwsZuQMwzCMicWMnGEYhjGxmJEzDMMwJhYzcoZhGMbEYkbOMAzDmFjMyBmGYRgTi2lXGoZhTDsTXJDEjJxhGIZxS8ZV5timKw3DMIyJxTw5wzCMaaQ0RXm7XpofQ2/OjJxhGMYUUjZsg8ZL1W/bZlwxI2cYhjHlFEat91r7fo4zZuQMwzCmDd/vvakqqorIQNVvkW3vjRtm5AzDMKaJ3Gkre2+FgUviZHs44m2kF4yyx2dGzjAMY1ooGSwRR5alqFeiOCKO4v5t3MDPmyCMrrf3/wF+wyBvVzQ4AAAAAABJRU5ErkJggg==)"
      ],
      "metadata": {
        "id": "9j38lP7p0DZF"
      }
    },
    {
      "cell_type": "markdown",
      "source": [
        "## 8) 배열에서 내가 원하는 요소에 접근하기"
      ],
      "metadata": {
        "id": "VtTu-vWG0QNL"
      }
    },
    {
      "cell_type": "code",
      "source": [
        "arr = np.array([[1,2,3],\n",
        "                [4,5,6],\n",
        "                [7,8,9]])"
      ],
      "metadata": {
        "id": "0xpieyH9zFuF"
      },
      "execution_count": null,
      "outputs": []
    },
    {
      "cell_type": "markdown",
      "source": [
        "- 0번째 행, 2번째 열 자름"
      ],
      "metadata": {
        "id": "-U8PkHZ31tfW"
      }
    },
    {
      "cell_type": "code",
      "source": [
        "arr[0,2]"
      ],
      "metadata": {
        "colab": {
          "base_uri": "https://localhost:8080/"
        },
        "id": "TEeM1vCu0X9E",
        "outputId": "a7bf4e1e-4380-4984-9829-29b917ba96ff"
      },
      "execution_count": null,
      "outputs": [
        {
          "output_type": "execute_result",
          "data": {
            "text/plain": [
              "3"
            ]
          },
          "metadata": {},
          "execution_count": 53
        }
      ]
    },
    {
      "cell_type": "markdown",
      "source": [
        "- 3보다 큰 값에 대해 표시"
      ],
      "metadata": {
        "id": "cnOq0Oli1yVC"
      }
    },
    {
      "cell_type": "code",
      "source": [
        "arr = np.array([[1,2,3],[4,5,6]])\n",
        "idx = arr >3\n",
        "print(idx)"
      ],
      "metadata": {
        "colab": {
          "base_uri": "https://localhost:8080/"
        },
        "id": "m7qkG9tk0eHz",
        "outputId": "a9417396-540f-411f-fc1b-5f30bf64c569"
      },
      "execution_count": null,
      "outputs": [
        {
          "output_type": "stream",
          "name": "stdout",
          "text": [
            "[[False False False]\n",
            " [ True  True  True]]\n"
          ]
        }
      ]
    },
    {
      "cell_type": "markdown",
      "source": [
        "- 큰 값 바로 보기"
      ],
      "metadata": {
        "id": "OxjC3qHK12Cy"
      }
    },
    {
      "cell_type": "code",
      "source": [
        "arr[idx]"
      ],
      "metadata": {
        "colab": {
          "base_uri": "https://localhost:8080/"
        },
        "id": "h_kIPqdm1Z_b",
        "outputId": "32105093-6ea0-4c77-e94f-06f2343c4574"
      },
      "execution_count": null,
      "outputs": [
        {
          "output_type": "execute_result",
          "data": {
            "text/plain": [
              "array([4, 5, 6])"
            ]
          },
          "metadata": {},
          "execution_count": 56
        }
      ]
    },
    {
      "cell_type": "markdown",
      "source": [
        "## 9) Numpy에서 File 읽기"
      ],
      "metadata": {
        "id": "COb_V_r04f2D"
      }
    },
    {
      "cell_type": "markdown",
      "source": [
        "- csv 파일 읽기"
      ],
      "metadata": {
        "id": "8xaPosR25CCC"
      }
    },
    {
      "cell_type": "code",
      "source": [
        "np.loadtxt(fname='winequality-red.csv')"
      ],
      "metadata": {
        "colab": {
          "base_uri": "https://localhost:8080/",
          "height": 325
        },
        "id": "0HGvfNdI1q73",
        "outputId": "f4a8157c-25b3-44ed-a5d2-8ebd182452bc"
      },
      "execution_count": null,
      "outputs": [
        {
          "output_type": "error",
          "ename": "UnicodeDecodeError",
          "evalue": "ignored",
          "traceback": [
            "\u001b[0;31m---------------------------------------------------------------------------\u001b[0m",
            "\u001b[0;31mUnicodeDecodeError\u001b[0m                        Traceback (most recent call last)",
            "\u001b[0;32m<ipython-input-57-8164d9750553>\u001b[0m in \u001b[0;36m<cell line: 1>\u001b[0;34m()\u001b[0m\n\u001b[0;32m----> 1\u001b[0;31m \u001b[0mnp\u001b[0m\u001b[0;34m.\u001b[0m\u001b[0mloadtxt\u001b[0m\u001b[0;34m(\u001b[0m\u001b[0mfname\u001b[0m\u001b[0;34m=\u001b[0m\u001b[0;34m'winequality-red.csv'\u001b[0m\u001b[0;34m)\u001b[0m\u001b[0;34m\u001b[0m\u001b[0;34m\u001b[0m\u001b[0m\n\u001b[0m",
            "\u001b[0;32m/usr/local/lib/python3.9/dist-packages/numpy/lib/npyio.py\u001b[0m in \u001b[0;36mloadtxt\u001b[0;34m(fname, dtype, comments, delimiter, converters, skiprows, usecols, unpack, ndmin, encoding, max_rows, like)\u001b[0m\n\u001b[1;32m   1083\u001b[0m         \u001b[0;31m# Read until we find a line with some values, and use it to determine\u001b[0m\u001b[0;34m\u001b[0m\u001b[0;34m\u001b[0m\u001b[0m\n\u001b[1;32m   1084\u001b[0m         \u001b[0;31m# the need for decoding and estimate the number of columns.\u001b[0m\u001b[0;34m\u001b[0m\u001b[0;34m\u001b[0m\u001b[0m\n\u001b[0;32m-> 1085\u001b[0;31m         \u001b[0;32mfor\u001b[0m \u001b[0mfirst_line\u001b[0m \u001b[0;32min\u001b[0m \u001b[0mline_iter\u001b[0m\u001b[0;34m:\u001b[0m\u001b[0;34m\u001b[0m\u001b[0;34m\u001b[0m\u001b[0m\n\u001b[0m\u001b[1;32m   1086\u001b[0m             \u001b[0mncols\u001b[0m \u001b[0;34m=\u001b[0m \u001b[0mlen\u001b[0m\u001b[0;34m(\u001b[0m\u001b[0musecols\u001b[0m \u001b[0;32mor\u001b[0m \u001b[0msplit_line\u001b[0m\u001b[0;34m(\u001b[0m\u001b[0mfirst_line\u001b[0m\u001b[0;34m)\u001b[0m\u001b[0;34m)\u001b[0m\u001b[0;34m\u001b[0m\u001b[0;34m\u001b[0m\u001b[0m\n\u001b[1;32m   1087\u001b[0m             \u001b[0;32mif\u001b[0m \u001b[0mncols\u001b[0m\u001b[0;34m:\u001b[0m\u001b[0;34m\u001b[0m\u001b[0;34m\u001b[0m\u001b[0m\n",
            "\u001b[0;32m/usr/lib/python3.9/codecs.py\u001b[0m in \u001b[0;36mdecode\u001b[0;34m(self, input, final)\u001b[0m\n\u001b[1;32m    320\u001b[0m         \u001b[0;31m# decode input (taking the buffer into account)\u001b[0m\u001b[0;34m\u001b[0m\u001b[0;34m\u001b[0m\u001b[0m\n\u001b[1;32m    321\u001b[0m         \u001b[0mdata\u001b[0m \u001b[0;34m=\u001b[0m \u001b[0mself\u001b[0m\u001b[0;34m.\u001b[0m\u001b[0mbuffer\u001b[0m \u001b[0;34m+\u001b[0m \u001b[0minput\u001b[0m\u001b[0;34m\u001b[0m\u001b[0;34m\u001b[0m\u001b[0m\n\u001b[0;32m--> 322\u001b[0;31m         \u001b[0;34m(\u001b[0m\u001b[0mresult\u001b[0m\u001b[0;34m,\u001b[0m \u001b[0mconsumed\u001b[0m\u001b[0;34m)\u001b[0m \u001b[0;34m=\u001b[0m \u001b[0mself\u001b[0m\u001b[0;34m.\u001b[0m\u001b[0m_buffer_decode\u001b[0m\u001b[0;34m(\u001b[0m\u001b[0mdata\u001b[0m\u001b[0;34m,\u001b[0m \u001b[0mself\u001b[0m\u001b[0;34m.\u001b[0m\u001b[0merrors\u001b[0m\u001b[0;34m,\u001b[0m \u001b[0mfinal\u001b[0m\u001b[0;34m)\u001b[0m\u001b[0;34m\u001b[0m\u001b[0;34m\u001b[0m\u001b[0m\n\u001b[0m\u001b[1;32m    323\u001b[0m         \u001b[0;31m# keep undecoded input until the next call\u001b[0m\u001b[0;34m\u001b[0m\u001b[0;34m\u001b[0m\u001b[0m\n\u001b[1;32m    324\u001b[0m         \u001b[0mself\u001b[0m\u001b[0;34m.\u001b[0m\u001b[0mbuffer\u001b[0m \u001b[0;34m=\u001b[0m \u001b[0mdata\u001b[0m\u001b[0;34m[\u001b[0m\u001b[0mconsumed\u001b[0m\u001b[0;34m:\u001b[0m\u001b[0;34m]\u001b[0m\u001b[0;34m\u001b[0m\u001b[0;34m\u001b[0m\u001b[0m\n",
            "\u001b[0;31mUnicodeDecodeError\u001b[0m: 'utf-8' codec can't decode byte 0x90 in position 22: invalid start byte"
          ]
        }
      ]
    },
    {
      "cell_type": "markdown",
      "source": [
        "- 에러발생 이유 : 첫번째 줄은 문자였기 때문에!\n",
        "- 해결방법 : 첫번째 줄 건너뛰고 읽어봐야 함"
      ],
      "metadata": {
        "id": "pDFGhWyH5e8H"
      }
    },
    {
      "cell_type": "code",
      "source": [
        "np.loadtxt(fname='winequality-red.csv', skiprows=1)"
      ],
      "metadata": {
        "colab": {
          "base_uri": "https://localhost:8080/",
          "height": 325
        },
        "id": "FOzUUO4q5YK0",
        "outputId": "26585b04-7e74-4cb3-ea9f-bf3ba3417d70"
      },
      "execution_count": null,
      "outputs": [
        {
          "output_type": "error",
          "ename": "UnicodeDecodeError",
          "evalue": "ignored",
          "traceback": [
            "\u001b[0;31m---------------------------------------------------------------------------\u001b[0m",
            "\u001b[0;31mUnicodeDecodeError\u001b[0m                        Traceback (most recent call last)",
            "\u001b[0;32m<ipython-input-58-6cbb398ee75e>\u001b[0m in \u001b[0;36m<cell line: 1>\u001b[0;34m()\u001b[0m\n\u001b[0;32m----> 1\u001b[0;31m \u001b[0mnp\u001b[0m\u001b[0;34m.\u001b[0m\u001b[0mloadtxt\u001b[0m\u001b[0;34m(\u001b[0m\u001b[0mfname\u001b[0m\u001b[0;34m=\u001b[0m\u001b[0;34m'winequality-red.csv'\u001b[0m\u001b[0;34m,\u001b[0m \u001b[0mskiprows\u001b[0m\u001b[0;34m=\u001b[0m\u001b[0;36m1\u001b[0m\u001b[0;34m)\u001b[0m\u001b[0;34m\u001b[0m\u001b[0;34m\u001b[0m\u001b[0m\n\u001b[0m",
            "\u001b[0;32m/usr/local/lib/python3.9/dist-packages/numpy/lib/npyio.py\u001b[0m in \u001b[0;36mloadtxt\u001b[0;34m(fname, dtype, comments, delimiter, converters, skiprows, usecols, unpack, ndmin, encoding, max_rows, like)\u001b[0m\n\u001b[1;32m   1079\u001b[0m         \u001b[0;31m# Skip the first `skiprows` lines\u001b[0m\u001b[0;34m\u001b[0m\u001b[0;34m\u001b[0m\u001b[0m\n\u001b[1;32m   1080\u001b[0m         \u001b[0;32mfor\u001b[0m \u001b[0mi\u001b[0m \u001b[0;32min\u001b[0m \u001b[0mrange\u001b[0m\u001b[0;34m(\u001b[0m\u001b[0mskiprows\u001b[0m\u001b[0;34m)\u001b[0m\u001b[0;34m:\u001b[0m\u001b[0;34m\u001b[0m\u001b[0;34m\u001b[0m\u001b[0m\n\u001b[0;32m-> 1081\u001b[0;31m             \u001b[0mnext\u001b[0m\u001b[0;34m(\u001b[0m\u001b[0mline_iter\u001b[0m\u001b[0;34m)\u001b[0m\u001b[0;34m\u001b[0m\u001b[0;34m\u001b[0m\u001b[0m\n\u001b[0m\u001b[1;32m   1082\u001b[0m \u001b[0;34m\u001b[0m\u001b[0m\n\u001b[1;32m   1083\u001b[0m         \u001b[0;31m# Read until we find a line with some values, and use it to determine\u001b[0m\u001b[0;34m\u001b[0m\u001b[0;34m\u001b[0m\u001b[0m\n",
            "\u001b[0;32m/usr/lib/python3.9/codecs.py\u001b[0m in \u001b[0;36mdecode\u001b[0;34m(self, input, final)\u001b[0m\n\u001b[1;32m    320\u001b[0m         \u001b[0;31m# decode input (taking the buffer into account)\u001b[0m\u001b[0;34m\u001b[0m\u001b[0;34m\u001b[0m\u001b[0m\n\u001b[1;32m    321\u001b[0m         \u001b[0mdata\u001b[0m \u001b[0;34m=\u001b[0m \u001b[0mself\u001b[0m\u001b[0;34m.\u001b[0m\u001b[0mbuffer\u001b[0m \u001b[0;34m+\u001b[0m \u001b[0minput\u001b[0m\u001b[0;34m\u001b[0m\u001b[0;34m\u001b[0m\u001b[0m\n\u001b[0;32m--> 322\u001b[0;31m         \u001b[0;34m(\u001b[0m\u001b[0mresult\u001b[0m\u001b[0;34m,\u001b[0m \u001b[0mconsumed\u001b[0m\u001b[0;34m)\u001b[0m \u001b[0;34m=\u001b[0m \u001b[0mself\u001b[0m\u001b[0;34m.\u001b[0m\u001b[0m_buffer_decode\u001b[0m\u001b[0;34m(\u001b[0m\u001b[0mdata\u001b[0m\u001b[0;34m,\u001b[0m \u001b[0mself\u001b[0m\u001b[0;34m.\u001b[0m\u001b[0merrors\u001b[0m\u001b[0;34m,\u001b[0m \u001b[0mfinal\u001b[0m\u001b[0;34m)\u001b[0m\u001b[0;34m\u001b[0m\u001b[0;34m\u001b[0m\u001b[0m\n\u001b[0m\u001b[1;32m    323\u001b[0m         \u001b[0;31m# keep undecoded input until the next call\u001b[0m\u001b[0;34m\u001b[0m\u001b[0;34m\u001b[0m\u001b[0m\n\u001b[1;32m    324\u001b[0m         \u001b[0mself\u001b[0m\u001b[0;34m.\u001b[0m\u001b[0mbuffer\u001b[0m \u001b[0;34m=\u001b[0m \u001b[0mdata\u001b[0m\u001b[0;34m[\u001b[0m\u001b[0mconsumed\u001b[0m\u001b[0;34m:\u001b[0m\u001b[0;34m]\u001b[0m\u001b[0;34m\u001b[0m\u001b[0;34m\u001b[0m\u001b[0m\n",
            "\u001b[0;31mUnicodeDecodeError\u001b[0m: 'utf-8' codec can't decode byte 0x90 in position 22: invalid start byte"
          ]
        }
      ]
    },
    {
      "cell_type": "markdown",
      "source": [
        "- 에러발생 이유 : 숫자 구별자가 , 가 아니라 ; 이라서 / 바꿔줘야 함"
      ],
      "metadata": {
        "id": "-5CxD9ad5qr2"
      }
    },
    {
      "cell_type": "code",
      "source": [
        "redwine = np.loadtxt(fname='winequality-red.csv', delimiter=';', skiprows=1)\n",
        "print(redwine)"
      ],
      "metadata": {
        "colab": {
          "base_uri": "https://localhost:8080/"
        },
        "id": "H_wB2SIO5n09",
        "outputId": "5d58767f-034d-411c-ca82-f930670855fc"
      },
      "execution_count": null,
      "outputs": [
        {
          "output_type": "stream",
          "name": "stdout",
          "text": [
            "[[ 7.4    0.7    0.    ...  0.56   9.4    5.   ]\n",
            " [ 7.8    0.88   0.    ...  0.68   9.8    5.   ]\n",
            " [ 7.8    0.76   0.04  ...  0.65   9.8    5.   ]\n",
            " ...\n",
            " [ 6.3    0.51   0.13  ...  0.75  11.     6.   ]\n",
            " [ 5.9    0.645  0.12  ...  0.71  10.2    5.   ]\n",
            " [ 6.     0.31   0.47  ...  0.66  11.     6.   ]]\n"
          ]
        }
      ]
    },
    {
      "cell_type": "markdown",
      "source": [
        "[ 기초 통계 함수 ]"
      ],
      "metadata": {
        "id": "X90hV2B993TA"
      }
    },
    {
      "cell_type": "markdown",
      "source": [
        "- sum : 합계\n",
        "- mean : 평균\n",
        "- std : 표준 편차\n",
        "- var : 분산 (std의 제곱)\n",
        "- min : 최소값\n",
        "- max : 최대값"
      ],
      "metadata": {
        "id": "mTuUARzj98Zu"
      }
    },
    {
      "cell_type": "markdown",
      "source": [
        "[축 용어]\n",
        "\n",
        "- axis = 0 : 세로축을 기준으로\n",
        "- axis = 1 : 가로축을 기준으로"
      ],
      "metadata": {
        "id": "xwFiNOrKBFLD"
      }
    },
    {
      "cell_type": "code",
      "source": [
        "print(redwine.sum())\n",
        "print(redwine.sum(axis=0))  #첫번째 세로축으로 합계를 본다.\n",
        "print(redwine.mean(axis=0)) #첫번째 세로축으로 평균을 본다."
      ],
      "metadata": {
        "colab": {
          "base_uri": "https://localhost:8080/"
        },
        "id": "L0ds_KwC5zmm",
        "outputId": "878f2e6c-0eb2-4fd6-b77f-daef2a70802c"
      },
      "execution_count": null,
      "outputs": [
        {
          "output_type": "stream",
          "name": "stdout",
          "text": [
            "152084.78194\n",
            "[13303.1       843.985     433.29     4059.55      139.859   25384.\n",
            " 74302.       1593.79794  5294.47     1052.38    16666.35     9012.     ]\n",
            "[ 8.31963727  0.52782051  0.27097561  2.5388055   0.08746654 15.87492183\n",
            " 46.46779237  0.99674668  3.3111132   0.65814884 10.42298311  5.63602251]\n"
          ]
        }
      ]
    },
    {
      "cell_type": "code",
      "source": [
        "print(redwine[:]) #전체 데이터를 출력해라"
      ],
      "metadata": {
        "colab": {
          "base_uri": "https://localhost:8080/"
        },
        "id": "I-idq1up_rLf",
        "outputId": "23b4d531-7ba1-4b1e-bd20-fb7426b21f24"
      },
      "execution_count": null,
      "outputs": [
        {
          "output_type": "stream",
          "name": "stdout",
          "text": [
            "[[ 7.4    0.7    0.    ...  0.56   9.4    5.   ]\n",
            " [ 7.8    0.88   0.    ...  0.68   9.8    5.   ]\n",
            " [ 7.8    0.76   0.04  ...  0.65   9.8    5.   ]\n",
            " ...\n",
            " [ 6.3    0.51   0.13  ...  0.75  11.     6.   ]\n",
            " [ 5.9    0.645  0.12  ...  0.71  10.2    5.   ]\n",
            " [ 6.     0.31   0.47  ...  0.66  11.     6.   ]]\n"
          ]
        }
      ]
    },
    {
      "cell_type": "code",
      "source": [
        "print(redwine[:,0].mean())"
      ],
      "metadata": {
        "colab": {
          "base_uri": "https://localhost:8080/"
        },
        "id": "PAudS5MMAdtv",
        "outputId": "601cc9b5-7102-4fb4-ca60-98ef4381abd7"
      },
      "execution_count": null,
      "outputs": [
        {
          "output_type": "stream",
          "name": "stdout",
          "text": [
            "8.31963727329581\n"
          ]
        }
      ]
    },
    {
      "cell_type": "code",
      "source": [
        "print(redwine.max(axis=0)) #각 컬럼별 최대값 "
      ],
      "metadata": {
        "colab": {
          "base_uri": "https://localhost:8080/"
        },
        "id": "WosHyaD3BZVX",
        "outputId": "c5baaf23-cfff-4395-92a5-b1e709c9fdd6"
      },
      "execution_count": null,
      "outputs": [
        {
          "output_type": "stream",
          "name": "stdout",
          "text": [
            "[ 15.9       1.58      1.       15.5       0.611    72.      289.\n",
            "   1.00369   4.01      2.       14.9       8.     ]\n"
          ]
        }
      ]
    },
    {
      "cell_type": "code",
      "source": [],
      "metadata": {
        "id": "KuMOnAviBwIT"
      },
      "execution_count": null,
      "outputs": []
    }
  ]
}
