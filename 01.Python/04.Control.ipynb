{
  "nbformat": 4,
  "nbformat_minor": 0,
  "metadata": {
    "colab": {
      "provenance": [],
      "authorship_tag": "ABX9TyNbJJu4e1sZxWyYEWdoKBVg",
      "include_colab_link": true
    },
    "kernelspec": {
      "name": "python3",
      "display_name": "Python 3"
    },
    "language_info": {
      "name": "python"
    }
  },
  "cells": [
    {
      "cell_type": "markdown",
      "metadata": {
        "id": "view-in-github",
        "colab_type": "text"
      },
      "source": [
        "<a href=\"https://colab.research.google.com/github/jhportfolio1/python/blob/main/python_4_Control.ipynb\" target=\"_parent\"><img src=\"https://colab.research.google.com/assets/colab-badge.svg\" alt=\"Open In Colab\"/></a>"
      ]
    },
    {
      "cell_type": "markdown",
      "source": [
        "# 4. 제어문(Control)"
      ],
      "metadata": {
        "id": "5zGgwe2dkU8f"
      }
    },
    {
      "cell_type": "markdown",
      "source": [
        "## 1) 제어문 기본 및 if/else"
      ],
      "metadata": {
        "id": "KIQfBIf1k___"
      }
    },
    {
      "cell_type": "markdown",
      "source": [
        "조건에 따라서 다른 결과를 얻기 위해 사용하는 것"
      ],
      "metadata": {
        "id": "zuFwCo8EkXFH"
      }
    },
    {
      "cell_type": "code",
      "source": [
        "value = 10\n",
        "if value > 5:\n",
        "  print('value is bigger than 5')"
      ],
      "metadata": {
        "colab": {
          "base_uri": "https://localhost:8080/"
        },
        "id": "bYAh-KYWkV_s",
        "outputId": "6a9879b4-96d6-44cb-8059-3f74cf15f006"
      },
      "execution_count": null,
      "outputs": [
        {
          "output_type": "stream",
          "name": "stdout",
          "text": [
            "value is bigger than 5\n"
          ]
        }
      ]
    },
    {
      "cell_type": "markdown",
      "source": [
        "if/else(=if not) 조건을 활용해본다."
      ],
      "metadata": {
        "id": "GLQHNydgk11R"
      }
    },
    {
      "cell_type": "code",
      "source": [
        "money = 10\n",
        "if money > 100:\n",
        "  item = 'apple'\n",
        "\n",
        "else:\n",
        "  item = 'banana'\n",
        "\n",
        "print(item)"
      ],
      "metadata": {
        "colab": {
          "base_uri": "https://localhost:8080/"
        },
        "id": "YMK9vLLukfYI",
        "outputId": "8cda1b9c-9841-46cb-85d9-03674429b31a"
      },
      "execution_count": null,
      "outputs": [
        {
          "output_type": "stream",
          "name": "stdout",
          "text": [
            "banana\n"
          ]
        }
      ]
    },
    {
      "cell_type": "markdown",
      "source": [
        "## 2) 성적 처리"
      ],
      "metadata": {
        "id": "uKUF2YCSlDzv"
      }
    },
    {
      "cell_type": "markdown",
      "source": [
        "(1) socre input() 하면 바로 아래 입력창이 뜨고, 넣은 값이 아래 그대로 나타난다."
      ],
      "metadata": {
        "id": "qAhakq9NlUC-"
      }
    },
    {
      "cell_type": "code",
      "source": [
        "score = input()\n",
        "print(score)"
      ],
      "metadata": {
        "colab": {
          "base_uri": "https://localhost:8080/"
        },
        "id": "fdhPOaO1lFXF",
        "outputId": "6630dc69-5df5-494b-a23c-858b73299a98"
      },
      "execution_count": null,
      "outputs": [
        {
          "output_type": "stream",
          "name": "stdout",
          "text": [
            "100\n",
            "100\n"
          ]
        }
      ]
    },
    {
      "cell_type": "markdown",
      "source": [
        "(2) 입력 활용 -> 칸 앞에 칸 이름 넣어주기"
      ],
      "metadata": {
        "id": "E-YYN_dMlZc8"
      }
    },
    {
      "cell_type": "code",
      "source": [
        "score = input(('input your score'))\n",
        "print(score)"
      ],
      "metadata": {
        "colab": {
          "base_uri": "https://localhost:8080/"
        },
        "id": "hmy4HC3IlQUJ",
        "outputId": "c09a97b1-ce5e-47c7-fbfb-4cfe99c12f63"
      },
      "execution_count": null,
      "outputs": [
        {
          "output_type": "stream",
          "name": "stdout",
          "text": [
            "input your score100\n",
            "100\n"
          ]
        }
      ]
    },
    {
      "cell_type": "markdown",
      "source": [
        "(3) 성적에 조건 넣어보기"
      ],
      "metadata": {
        "id": "G4Wl845IlyQF"
      }
    },
    {
      "cell_type": "code",
      "source": [
        "score = int(input(('input your score:')))\n",
        "\n",
        "if 90 <= score <=100:\n",
        "  grade = 'A'\n",
        "elif 80 <= score < 90:\n",
        "  grade = 'B'\n",
        "elif 70 <= score < 80:\n",
        "  grade = 'C'\n",
        "elif 60 <= score < 50:\n",
        "  grade = 'D'\n",
        "else:\n",
        "  grade = 'F'\n",
        "\n",
        "print('Your score is' + str(score))\n",
        "print('Your grade is' + grade)\n"
      ],
      "metadata": {
        "colab": {
          "base_uri": "https://localhost:8080/"
        },
        "id": "1zXNE-RWlfsd",
        "outputId": "c953687d-3969-44db-9e76-182e4ff4cdbb"
      },
      "execution_count": null,
      "outputs": [
        {
          "output_type": "stream",
          "name": "stdout",
          "text": [
            "input your score:90\n",
            "Your score is90\n",
            "Your grade isA\n"
          ]
        }
      ]
    },
    {
      "cell_type": "markdown",
      "source": [
        "## 2) 조건식의 참과 거짓"
      ],
      "metadata": {
        "id": "T2oWy7x-nJOq"
      }
    },
    {
      "cell_type": "code",
      "source": [
        "print(bool(True))\n",
        "print(bool(False))\n",
        "print(bool(123))\n",
        "print(bool(0))\n",
        "print(bool(-1))\n",
        "print(bool('apple'))"
      ],
      "metadata": {
        "colab": {
          "base_uri": "https://localhost:8080/"
        },
        "id": "xJ12ZpDzl9M-",
        "outputId": "beda0268-9512-4122-ca13-f00a449fe135"
      },
      "execution_count": null,
      "outputs": [
        {
          "output_type": "stream",
          "name": "stdout",
          "text": [
            "True\n",
            "False\n",
            "True\n",
            "False\n",
            "True\n",
            "True\n"
          ]
        }
      ]
    },
    {
      "cell_type": "markdown",
      "source": [
        "## 3) 반복문"
      ],
      "metadata": {
        "id": "_Xrm_QANn3wm"
      }
    },
    {
      "cell_type": "markdown",
      "source": [
        "(1) value문을 이용한 반복문 (-=을 넣으면 줄여가며 없어짐)"
      ],
      "metadata": {
        "id": "8yLrFUlqoG57"
      }
    },
    {
      "cell_type": "code",
      "source": [
        "value = 5\n",
        "while value > 0:\n",
        "  print(value)\n",
        "  value -= 1 "
      ],
      "metadata": {
        "colab": {
          "base_uri": "https://localhost:8080/"
        },
        "id": "5m-onUZKn5Ou",
        "outputId": "ab65ec03-ff79-4940-e636-a168ed0e08f7"
      },
      "execution_count": null,
      "outputs": [
        {
          "output_type": "stream",
          "name": "stdout",
          "text": [
            "5\n",
            "4\n",
            "3\n",
            "2\n",
            "1\n"
          ]
        }
      ]
    },
    {
      "cell_type": "markdown",
      "source": [
        "(2) for문을 이용한 반복문"
      ],
      "metadata": {
        "id": "jhM0TvfooRMC"
      }
    },
    {
      "cell_type": "code",
      "source": [
        "I = ['Apple', 100, 15.23]\n",
        "for i in I:\n",
        "  print(i)\n",
        "\n"
      ],
      "metadata": {
        "colab": {
          "base_uri": "https://localhost:8080/"
        },
        "id": "Jj3KNekzoP3c",
        "outputId": "b14ee230-daeb-436c-a9cd-3baf8c52e721"
      },
      "execution_count": null,
      "outputs": [
        {
          "output_type": "stream",
          "name": "stdout",
          "text": [
            "Apple\n",
            "100\n",
            "15.23\n"
          ]
        }
      ]
    },
    {
      "cell_type": "markdown",
      "source": [
        "(3) loop를 이용한 구구단 만들기"
      ],
      "metadata": {
        "id": "GsXslN28oyUl"
      }
    },
    {
      "cell_type": "code",
      "source": [
        "loop1 = [2,3,4,5,6,7,8,9]\n",
        "loop2 = [1,2,3,4,5,6,7,8,9]\n",
        "\n",
        "for i in loop2:\n",
        "  print(\"2 * \" + str(i) + \"=\" + str(2*i))"
      ],
      "metadata": {
        "colab": {
          "base_uri": "https://localhost:8080/"
        },
        "id": "3dG8HITRodu_",
        "outputId": "0966a807-8709-4ff0-9947-2d537358f64d"
      },
      "execution_count": null,
      "outputs": [
        {
          "output_type": "stream",
          "name": "stdout",
          "text": [
            "2 * 1=2\n",
            "2 * 2=4\n",
            "2 * 3=6\n",
            "2 * 4=8\n",
            "2 * 5=10\n",
            "2 * 6=12\n",
            "2 * 7=14\n",
            "2 * 8=16\n",
            "2 * 9=18\n"
          ]
        }
      ]
    },
    {
      "cell_type": "code",
      "source": [
        "loop1 = [2,3,4,5,6,7,8,9]\n",
        "loop2 = [1,2,3,4,5,6,7,8,9]\n",
        "\n",
        "for i in loop2:\n",
        "  print(\"2 * {0} = {1}\".format(i, i*2))"
      ],
      "metadata": {
        "colab": {
          "base_uri": "https://localhost:8080/"
        },
        "id": "NbsHEe0epGxO",
        "outputId": "47fb9708-87fd-4de2-a6e8-69086626c36b"
      },
      "execution_count": null,
      "outputs": [
        {
          "output_type": "stream",
          "name": "stdout",
          "text": [
            "2 * 1 = 2\n",
            "2 * 2 = 4\n",
            "2 * 3 = 6\n",
            "2 * 4 = 8\n",
            "2 * 5 = 10\n",
            "2 * 6 = 12\n",
            "2 * 7 = 14\n",
            "2 * 8 = 16\n",
            "2 * 9 = 18\n"
          ]
        }
      ]
    },
    {
      "cell_type": "markdown",
      "source": [
        "## 선생님 답"
      ],
      "metadata": {
        "id": "EWo7u59e8ubT"
      }
    },
    {
      "cell_type": "code",
      "source": [
        "loop1 = [2,3,4,5,6,7,8,9]\n",
        "loop2 = [1,2,3,4,5,6,7,8,9]\n",
        "\n",
        "for i in loop1:\n",
        "  print('{0} 단-----------------'.format(i))\n",
        "  for j in loop2:\n",
        "    print(\"{0} * {1} = {2}\".format(i,j,i*j))"
      ],
      "metadata": {
        "id": "yWGuz94UpVwj",
        "colab": {
          "base_uri": "https://localhost:8080/"
        },
        "outputId": "15ad3846-2e3e-4385-8529-94bddbf71a17"
      },
      "execution_count": 6,
      "outputs": [
        {
          "output_type": "stream",
          "name": "stdout",
          "text": [
            "2 단-----------------\n",
            "2 * 1 = 2\n",
            "2 * 2 = 4\n",
            "2 * 3 = 6\n",
            "2 * 4 = 8\n",
            "2 * 5 = 10\n",
            "2 * 6 = 12\n",
            "2 * 7 = 14\n",
            "2 * 8 = 16\n",
            "2 * 9 = 18\n",
            "3 단-----------------\n",
            "3 * 1 = 3\n",
            "3 * 2 = 6\n",
            "3 * 3 = 9\n",
            "3 * 4 = 12\n",
            "3 * 5 = 15\n",
            "3 * 6 = 18\n",
            "3 * 7 = 21\n",
            "3 * 8 = 24\n",
            "3 * 9 = 27\n",
            "4 단-----------------\n",
            "4 * 1 = 4\n",
            "4 * 2 = 8\n",
            "4 * 3 = 12\n",
            "4 * 4 = 16\n",
            "4 * 5 = 20\n",
            "4 * 6 = 24\n",
            "4 * 7 = 28\n",
            "4 * 8 = 32\n",
            "4 * 9 = 36\n",
            "5 단-----------------\n",
            "5 * 1 = 5\n",
            "5 * 2 = 10\n",
            "5 * 3 = 15\n",
            "5 * 4 = 20\n",
            "5 * 5 = 25\n",
            "5 * 6 = 30\n",
            "5 * 7 = 35\n",
            "5 * 8 = 40\n",
            "5 * 9 = 45\n",
            "6 단-----------------\n",
            "6 * 1 = 6\n",
            "6 * 2 = 12\n",
            "6 * 3 = 18\n",
            "6 * 4 = 24\n",
            "6 * 5 = 30\n",
            "6 * 6 = 36\n",
            "6 * 7 = 42\n",
            "6 * 8 = 48\n",
            "6 * 9 = 54\n",
            "7 단-----------------\n",
            "7 * 1 = 7\n",
            "7 * 2 = 14\n",
            "7 * 3 = 21\n",
            "7 * 4 = 28\n",
            "7 * 5 = 35\n",
            "7 * 6 = 42\n",
            "7 * 7 = 49\n",
            "7 * 8 = 56\n",
            "7 * 9 = 63\n",
            "8 단-----------------\n",
            "8 * 1 = 8\n",
            "8 * 2 = 16\n",
            "8 * 3 = 24\n",
            "8 * 4 = 32\n",
            "8 * 5 = 40\n",
            "8 * 6 = 48\n",
            "8 * 7 = 56\n",
            "8 * 8 = 64\n",
            "8 * 9 = 72\n",
            "9 단-----------------\n",
            "9 * 1 = 9\n",
            "9 * 2 = 18\n",
            "9 * 3 = 27\n",
            "9 * 4 = 36\n",
            "9 * 5 = 45\n",
            "9 * 6 = 54\n",
            "9 * 7 = 63\n",
            "9 * 8 = 72\n",
            "9 * 9 = 81\n"
          ]
        }
      ]
    },
    {
      "cell_type": "markdown",
      "source": [
        "## 4) 반복문 멈추기"
      ],
      "metadata": {
        "id": "OYQQoIWi90tE"
      }
    },
    {
      "cell_type": "markdown",
      "source": [
        "### (1) break 문을 이용해 반복문을 멈추기"
      ],
      "metadata": {
        "id": "Lchhxch498CK"
      }
    },
    {
      "cell_type": "code",
      "source": [
        "L = [1,2,3,4,5,6,7,8,9,10]"
      ],
      "metadata": {
        "id": "ZNgNcRYj9Isd"
      },
      "execution_count": 31,
      "outputs": []
    },
    {
      "cell_type": "code",
      "source": [
        "for i in L:\n",
        "  if i>5:\n",
        "    break\n",
        "  print('Item: {0}'.format(i))"
      ],
      "metadata": {
        "colab": {
          "base_uri": "https://localhost:8080/"
        },
        "id": "NWf0mbCF-B_r",
        "outputId": "9f74cc4b-e669-436e-cf9a-97f5c2bcfbc9"
      },
      "execution_count": 32,
      "outputs": [
        {
          "output_type": "stream",
          "name": "stdout",
          "text": [
            "Item: 1\n",
            "Item: 2\n",
            "Item: 3\n",
            "Item: 4\n",
            "Item: 5\n"
          ]
        }
      ]
    },
    {
      "cell_type": "markdown",
      "source": [
        "### (2) continue 문을 통해 해당 반복만 건너뛰기"
      ],
      "metadata": {
        "id": "xjOhDN4C-Zab"
      }
    },
    {
      "cell_type": "code",
      "source": [
        "for i in L:\n",
        "  print('Item{0}'.format(i))"
      ],
      "metadata": {
        "colab": {
          "base_uri": "https://localhost:8080/"
        },
        "id": "fTA-KszA-OsU",
        "outputId": "2ff01d86-52a1-48e1-fc8d-0e275575096b"
      },
      "execution_count": 15,
      "outputs": [
        {
          "output_type": "stream",
          "name": "stdout",
          "text": [
            "Item1\n",
            "Item2\n",
            "Item3\n",
            "Item4\n",
            "Item5\n",
            "Item6\n",
            "Item7\n",
            "Item8\n",
            "Item9\n",
            "Item10\n"
          ]
        }
      ]
    },
    {
      "cell_type": "markdown",
      "source": [
        "이 중에서 홀수만 추출하고 싶을 때?"
      ],
      "metadata": {
        "id": "Axa653Db-o-U"
      }
    },
    {
      "cell_type": "code",
      "source": [
        "for i in L:\n",
        "  if i%2 == 0:\n",
        "    continue\n",
        "\n",
        "  print('Item{0}'.format(i))"
      ],
      "metadata": {
        "colab": {
          "base_uri": "https://localhost:8080/"
        },
        "id": "gBsKwA0n-nYV",
        "outputId": "51712a9c-252c-4438-9916-79735fbecfc6"
      },
      "execution_count": 33,
      "outputs": [
        {
          "output_type": "stream",
          "name": "stdout",
          "text": [
            "Item1\n",
            "Item3\n",
            "Item5\n",
            "Item7\n",
            "Item9\n"
          ]
        }
      ]
    },
    {
      "cell_type": "markdown",
      "source": [
        "(3) range 함수를 이용한 특정 범위의 숫자 생성 방식"
      ],
      "metadata": {
        "id": "43uN0g-F_81t"
      }
    },
    {
      "cell_type": "code",
      "source": [
        "print(list(range(10)))\n",
        "print(list(range(5, 10)))\n",
        "print(list(range(10,0,-1)))\n",
        "print(list(range(0,10,2)))"
      ],
      "metadata": {
        "colab": {
          "base_uri": "https://localhost:8080/"
        },
        "id": "ChRV1bgv_FpF",
        "outputId": "1ccf33a2-b49c-481b-d284-70c0c21c6617"
      },
      "execution_count": 20,
      "outputs": [
        {
          "output_type": "stream",
          "name": "stdout",
          "text": [
            "[0, 1, 2, 3, 4, 5, 6, 7, 8, 9]\n",
            "[5, 6, 7, 8, 9]\n",
            "[10, 9, 8, 7, 6, 5, 4, 3, 2, 1]\n",
            "[0, 2, 4, 6, 8]\n"
          ]
        }
      ]
    },
    {
      "cell_type": "markdown",
      "source": [
        "또 다른 연습 해보기"
      ],
      "metadata": {
        "id": "DWdYYfELAodx"
      }
    },
    {
      "cell_type": "code",
      "source": [
        "L = ['Apple', 'Ornage', 'Banana']\n",
        "\n",
        "for i in L:\n",
        "  print(i)"
      ],
      "metadata": {
        "colab": {
          "base_uri": "https://localhost:8080/"
        },
        "id": "tTMTMHQyAJvQ",
        "outputId": "10e4d502-4bee-4557-b8f8-71bc5b72fe99"
      },
      "execution_count": 21,
      "outputs": [
        {
          "output_type": "stream",
          "name": "stdout",
          "text": [
            "Apple\n",
            "Ornage\n",
            "Banana\n"
          ]
        }
      ]
    },
    {
      "cell_type": "code",
      "source": [
        "l = list(range(1,6))"
      ],
      "metadata": {
        "id": "u9DoTmpeAhZj"
      },
      "execution_count": 22,
      "outputs": []
    },
    {
      "cell_type": "code",
      "source": [
        "[print(i) for i in l]"
      ],
      "metadata": {
        "colab": {
          "base_uri": "https://localhost:8080/"
        },
        "id": "ar6Cs5EqAt46",
        "outputId": "d14a78e9-da07-4973-df75-781f9180c67b"
      },
      "execution_count": 23,
      "outputs": [
        {
          "output_type": "stream",
          "name": "stdout",
          "text": [
            "1\n",
            "2\n",
            "3\n",
            "4\n",
            "5\n"
          ]
        },
        {
          "output_type": "execute_result",
          "data": {
            "text/plain": [
              "[None, None, None, None, None]"
            ]
          },
          "metadata": {},
          "execution_count": 23
        }
      ]
    },
    {
      "cell_type": "code",
      "source": [
        "[i**2 for i in l]"
      ],
      "metadata": {
        "colab": {
          "base_uri": "https://localhost:8080/"
        },
        "id": "tbcV6gSZA0OW",
        "outputId": "036c6d1d-e4f1-4c5c-b57e-990393c352c0"
      },
      "execution_count": 24,
      "outputs": [
        {
          "output_type": "execute_result",
          "data": {
            "text/plain": [
              "[1, 4, 9, 16, 25]"
            ]
          },
          "metadata": {},
          "execution_count": 24
        }
      ]
    },
    {
      "cell_type": "code",
      "source": [],
      "metadata": {
        "id": "pzxRGyqDBOZc"
      },
      "execution_count": null,
      "outputs": []
    }
  ]
}
