{
  "nbformat": 4,
  "nbformat_minor": 0,
  "metadata": {
    "colab": {
      "provenance": [],
      "authorship_tag": "ABX9TyOhHyetpx5GX+7X3uFuDTGm",
      "include_colab_link": true
    },
    "kernelspec": {
      "name": "python3",
      "display_name": "Python 3"
    },
    "language_info": {
      "name": "python"
    }
  },
  "cells": [
    {
      "cell_type": "markdown",
      "metadata": {
        "id": "view-in-github",
        "colab_type": "text"
      },
      "source": [
        "<a href=\"https://colab.research.google.com/github/jhportfolio1/python/blob/main/python_2_%EC%97%B4%EA%B1%B0%ED%98%95_%EC%9E%90%EB%A3%8C_%EA%B5%AC%EC%A1%B0.ipynb\" target=\"_parent\"><img src=\"https://colab.research.google.com/assets/colab-badge.svg\" alt=\"Open In Colab\"/></a>"
      ]
    },
    {
      "cell_type": "markdown",
      "source": [
        "# 1. 리스트 만들기\n",
        "\n"
      ],
      "metadata": {
        "id": "dcj5nekTvao9"
      }
    },
    {
      "cell_type": "code",
      "execution_count": 47,
      "metadata": {
        "colab": {
          "base_uri": "https://localhost:8080/"
        },
        "id": "1tND68RhvShZ",
        "outputId": "615705de-a465-46d3-9c8f-317179b62742"
      },
      "outputs": [
        {
          "output_type": "stream",
          "name": "stdout",
          "text": [
            "['red', 'green', 'gold']\n",
            "<class 'list'>\n"
          ]
        }
      ],
      "source": [
        "colors = ['red', 'green', 'gold']\n",
        "print(colors)\n",
        "print(type(colors))"
      ]
    },
    {
      "cell_type": "code",
      "source": [
        "colors.append('blue')  #리스트에 컬러추가 - append\n",
        "print(colors)"
      ],
      "metadata": {
        "colab": {
          "base_uri": "https://localhost:8080/"
        },
        "id": "PJOqvu8fv7wX",
        "outputId": "01a86c6d-6bac-4f5f-ffda-fc2121c4e2d9"
      },
      "execution_count": 48,
      "outputs": [
        {
          "output_type": "stream",
          "name": "stdout",
          "text": [
            "['red', 'green', 'gold', 'blue']\n"
          ]
        }
      ]
    },
    {
      "cell_type": "code",
      "source": [
        "colors.insert(1, 'black')  #원하는 위치에 컬러추가\n",
        "print(colors)"
      ],
      "metadata": {
        "colab": {
          "base_uri": "https://localhost:8080/"
        },
        "id": "RYKsFGGrwx7z",
        "outputId": "367afe5c-97fa-4bf1-afdf-f4b1e7a35bdf"
      },
      "execution_count": 49,
      "outputs": [
        {
          "output_type": "stream",
          "name": "stdout",
          "text": [
            "['red', 'black', 'green', 'gold', 'blue']\n"
          ]
        }
      ]
    },
    {
      "cell_type": "code",
      "source": [
        "colors.extend(['white','gray']) #리스트에 컬러추가 - extend\n",
        "print(colors)"
      ],
      "metadata": {
        "colab": {
          "base_uri": "https://localhost:8080/"
        },
        "id": "rl7Cdr6Rw8vY",
        "outputId": "83ece03c-2994-49cf-d5d8-6435f042e23e"
      },
      "execution_count": 50,
      "outputs": [
        {
          "output_type": "stream",
          "name": "stdout",
          "text": [
            "['red', 'black', 'green', 'gold', 'blue', 'white', 'gray']\n"
          ]
        }
      ]
    },
    {
      "cell_type": "code",
      "source": [
        "colors += ['red']            #리스트에 컬러추가 - '+='  // 주의사항 : [] 가 꼭 있어야함\n",
        "colors = colors + ['red']    #위에꺼 풀어씀 // 주의사항 : [] 가 꼭 있어야함\n",
        "print(colors)"
      ],
      "metadata": {
        "colab": {
          "base_uri": "https://localhost:8080/"
        },
        "id": "9NrRWHJKxeb8",
        "outputId": "9d7658d0-cfe0-41a8-d8c9-13600c534688"
      },
      "execution_count": 51,
      "outputs": [
        {
          "output_type": "stream",
          "name": "stdout",
          "text": [
            "['red', 'black', 'green', 'gold', 'blue', 'white', 'gray', 'red', 'red']\n"
          ]
        }
      ]
    },
    {
      "cell_type": "markdown",
      "source": [
        "중간에 컬러추가가 너무 많이 된 경우(중복출력)에는 처음부터 재실행하면 원상복구된다."
      ],
      "metadata": {
        "id": "uFCDu2WSymQy"
      }
    },
    {
      "cell_type": "code",
      "source": [
        "print(colors.index('red'))     #특정 컬러를 찾고 싶은 경우 index 이용하면됨\n",
        "print(colors.index('red', 1))  #특정 컬러를 1번 자리부터 찾고 싶은 경우"
      ],
      "metadata": {
        "colab": {
          "base_uri": "https://localhost:8080/"
        },
        "id": "pZLUD_XtylTv",
        "outputId": "ee25b8bb-a5b6-4b72-d2aa-e66a03056524"
      },
      "execution_count": 52,
      "outputs": [
        {
          "output_type": "stream",
          "name": "stdout",
          "text": [
            "0\n",
            "7\n"
          ]
        }
      ]
    },
    {
      "cell_type": "code",
      "source": [
        "print(colors.count('red'))    #리스트에서 red가 몇번 나오는지 알고싶은 경우"
      ],
      "metadata": {
        "colab": {
          "base_uri": "https://localhost:8080/"
        },
        "id": "3jqMw21jyw5A",
        "outputId": "d5debe89-b96d-4325-92a1-b940a3e91948"
      },
      "execution_count": 53,
      "outputs": [
        {
          "output_type": "stream",
          "name": "stdout",
          "text": [
            "3\n"
          ]
        }
      ]
    },
    {
      "cell_type": "code",
      "source": [
        "colors.pop(1)  #리스트에서 1번 컬러 빼내기"
      ],
      "metadata": {
        "colab": {
          "base_uri": "https://localhost:8080/",
          "height": 35
        },
        "id": "fFHyWC5CzNXf",
        "outputId": "b9b0b773-5264-42c1-a6cb-c31723a18ff2"
      },
      "execution_count": 54,
      "outputs": [
        {
          "output_type": "execute_result",
          "data": {
            "text/plain": [
              "'black'"
            ],
            "application/vnd.google.colaboratory.intrinsic+json": {
              "type": "string"
            }
          },
          "metadata": {},
          "execution_count": 54
        }
      ]
    },
    {
      "cell_type": "code",
      "source": [
        "print(colors)  #위에서 빼낸 black 사라졌음"
      ],
      "metadata": {
        "colab": {
          "base_uri": "https://localhost:8080/"
        },
        "id": "-xnXBzW26uSi",
        "outputId": "f4b7b109-2ef8-4eab-e2ce-add572c1bcbf"
      },
      "execution_count": 55,
      "outputs": [
        {
          "output_type": "stream",
          "name": "stdout",
          "text": [
            "['red', 'green', 'gold', 'blue', 'white', 'gray', 'red', 'red']\n"
          ]
        }
      ]
    },
    {
      "cell_type": "code",
      "source": [
        "#remove는 컬러 삭제하는 법\n",
        "colors.remove('gold') \n",
        "print(colors)"
      ],
      "metadata": {
        "colab": {
          "base_uri": "https://localhost:8080/"
        },
        "id": "mrC8FIgp7Wje",
        "outputId": "f264448c-32dd-45d5-eef4-cc28af0b407c"
      },
      "execution_count": 56,
      "outputs": [
        {
          "output_type": "stream",
          "name": "stdout",
          "text": [
            "['red', 'green', 'blue', 'white', 'gray', 'red', 'red']\n"
          ]
        }
      ]
    },
    {
      "cell_type": "code",
      "source": [
        "#sort를 통해 알파벳을 순서대로 정렬한다.\n",
        "colors.sort()\n",
        "print(colors)\n",
        "colors.reverse()\n",
        "print(colors)"
      ],
      "metadata": {
        "colab": {
          "base_uri": "https://localhost:8080/"
        },
        "id": "nE5eRAog7bRw",
        "outputId": "b6022159-a6a4-40cf-aea1-61e64e725369"
      },
      "execution_count": 59,
      "outputs": [
        {
          "output_type": "stream",
          "name": "stdout",
          "text": [
            "['blue', 'gray', 'green', 'red', 'red', 'red', 'white']\n",
            "['white', 'red', 'red', 'red', 'green', 'gray', 'blue']\n",
            "['blue', 'gray', 'green', 'red', 'red', 'red', 'white']\n",
            "['white', 'red', 'red', 'red', 'green', 'gray', 'blue']\n"
          ]
        }
      ]
    },
    {
      "cell_type": "code",
      "source": [
        "#세트(set)\n",
        "a = {1,2,3}\n",
        "b = {3,4,5}"
      ],
      "metadata": {
        "id": "AUr2z5-d8A2Q"
      },
      "execution_count": 61,
      "outputs": []
    },
    {
      "cell_type": "markdown",
      "source": [],
      "metadata": {
        "id": "XKAby85v9rW1"
      }
    },
    {
      "cell_type": "code",
      "source": [
        "print(a,b)\n",
        "print(type(a))"
      ],
      "metadata": {
        "colab": {
          "base_uri": "https://localhost:8080/"
        },
        "id": "buIf7DUp8Ra8",
        "outputId": "81cef511-3b61-4839-9b5a-6091f6d9b0c9"
      },
      "execution_count": 63,
      "outputs": [
        {
          "output_type": "stream",
          "name": "stdout",
          "text": [
            "{1, 2, 3} {3, 4, 5}\n",
            "<class 'set'>\n"
          ]
        }
      ]
    },
    {
      "cell_type": "code",
      "source": [
        "# 합집합, 교집합을 구할 수 있다.\n",
        "print(a.union(b))         #합집합\n",
        "print(a.intersection(b))  #교집합"
      ],
      "metadata": {
        "colab": {
          "base_uri": "https://localhost:8080/"
        },
        "id": "we5IAM_j8W8s",
        "outputId": "086ad622-0575-48b4-9dfd-0a651e8bed7b"
      },
      "execution_count": 65,
      "outputs": [
        {
          "output_type": "stream",
          "name": "stdout",
          "text": [
            "{1, 2, 3, 4, 5}\n",
            "{3}\n",
            "{1, 2}\n"
          ]
        }
      ]
    },
    {
      "cell_type": "code",
      "source": [
        "#합집합, 교집합, 차집합 구하기2\n",
        "print(a|b)  #합집합\n",
        "print(a&b)  #교집합\n",
        "print(a-b)  #차집합  "
      ],
      "metadata": {
        "colab": {
          "base_uri": "https://localhost:8080/"
        },
        "id": "lzUeD8pZ8-KY",
        "outputId": "cc446d5d-f856-4228-e420-c6a19dcd69d0"
      },
      "execution_count": 68,
      "outputs": [
        {
          "output_type": "stream",
          "name": "stdout",
          "text": [
            "{1, 2, 3, 4, 5}\n",
            "{3}\n",
            "{1, 2}\n"
          ]
        }
      ]
    },
    {
      "cell_type": "code",
      "source": [
        "# 튜플(tuple)\n",
        "t = (1,2,3)\n",
        "print(type(t))"
      ],
      "metadata": {
        "colab": {
          "base_uri": "https://localhost:8080/"
        },
        "id": "Ui_QR_Xu95-o",
        "outputId": "10270555-abe8-4f1a-c04c-102d7733a635"
      },
      "execution_count": 69,
      "outputs": [
        {
          "output_type": "stream",
          "name": "stdout",
          "text": [
            "<class 'tuple'>\n"
          ]
        }
      ]
    },
    {
      "cell_type": "code",
      "source": [
        "(a, b) = (1, 2)\n",
        "print(a, b)"
      ],
      "metadata": {
        "colab": {
          "base_uri": "https://localhost:8080/"
        },
        "id": "4ysSvlYz-TfE",
        "outputId": "4c65b687-aece-4393-8fda-08ad8559792a"
      },
      "execution_count": 70,
      "outputs": [
        {
          "output_type": "stream",
          "name": "stdout",
          "text": [
            "1 2\n"
          ]
        }
      ]
    },
    {
      "cell_type": "code",
      "source": [
        "a= 10\n",
        "b= 20\n",
        "(a, b) = (b, a)  #순서를 바꿀때 정의\n",
        "print(a, b)"
      ],
      "metadata": {
        "colab": {
          "base_uri": "https://localhost:8080/"
        },
        "id": "pw44Xnz2_ieM",
        "outputId": "b410a58a-410a-4798-cd2a-3a82b6ec048a"
      },
      "execution_count": 71,
      "outputs": [
        {
          "output_type": "stream",
          "name": "stdout",
          "text": [
            "20 10\n"
          ]
        }
      ]
    },
    {
      "cell_type": "code",
      "source": [
        "# 타입의 전환도 무척 간단하다.\n",
        "a = set((1,2,3))\n",
        "print(type(a))\n",
        "\n",
        "b = list(a)\n",
        "print(type(b))\n",
        "\n",
        "c = tuple(b)\n",
        "print(type(c))\n",
        "\n",
        "d = set(c)\n",
        "print(type(d))"
      ],
      "metadata": {
        "colab": {
          "base_uri": "https://localhost:8080/"
        },
        "id": "dN73zqmq_n8j",
        "outputId": "aa7c86d7-a0ac-4965-e078-c705edc46ea8"
      },
      "execution_count": 76,
      "outputs": [
        {
          "output_type": "stream",
          "name": "stdout",
          "text": [
            "<class 'set'>\n",
            "<class 'list'>\n",
            "<class 'tuple'>\n",
            "<class 'set'>\n"
          ]
        }
      ]
    },
    {
      "cell_type": "code",
      "source": [
        "# in 연산자 통해서 해당 값이 있는지 확인 가능하다.(데이터 타입 상관없음)\n",
        "a = set((1,2,3))\n",
        "print(1 in a)  #1이 a안에 있는지 확인 / true(있다), false(없다) 로 결과 나옴"
      ],
      "metadata": {
        "colab": {
          "base_uri": "https://localhost:8080/"
        },
        "id": "XEhxFppIAMBv",
        "outputId": "3050d84b-5fa8-4f3d-cd63-455f051f06ba"
      },
      "execution_count": 79,
      "outputs": [
        {
          "output_type": "stream",
          "name": "stdout",
          "text": [
            "True\n"
          ]
        }
      ]
    },
    {
      "cell_type": "code",
      "source": [
        "# 사전 (Dictionary)\n",
        "\n",
        "d = dict(a=1, b=2, c=3)\n",
        "print(d)\n",
        "print(type(d))"
      ],
      "metadata": {
        "colab": {
          "base_uri": "https://localhost:8080/"
        },
        "id": "YL8mHp4gA8r-",
        "outputId": "46120dde-5d5e-4989-840c-70e5458a9088"
      },
      "execution_count": 81,
      "outputs": [
        {
          "output_type": "stream",
          "name": "stdout",
          "text": [
            "{'a': 1, 'b': 2, 'c': 3}\n",
            "<class 'dict'>\n"
          ]
        }
      ]
    },
    {
      "cell_type": "code",
      "source": [
        "color = { 'apple' : 'red', 'banana' : 'yellow'}  #많이 사용한다!\n",
        "print(color)"
      ],
      "metadata": {
        "colab": {
          "base_uri": "https://localhost:8080/"
        },
        "id": "FT9hCz9OEnlL",
        "outputId": "70efa44c-0fee-4022-b7e5-a04944253a07"
      },
      "execution_count": 83,
      "outputs": [
        {
          "output_type": "stream",
          "name": "stdout",
          "text": [
            "{'apple': 'red', 'banana': 'yellow'}\n"
          ]
        }
      ]
    },
    {
      "cell_type": "code",
      "source": [
        "print(color['apple'])\n",
        "#print(color[0])        #dict타입은 인덱스가 없습니다.\n"
      ],
      "metadata": {
        "colab": {
          "base_uri": "https://localhost:8080/"
        },
        "id": "AV3-b6sVFIoC",
        "outputId": "6d4fb319-e958-4b54-9a74-2c656bc523f6"
      },
      "execution_count": 85,
      "outputs": [
        {
          "output_type": "stream",
          "name": "stdout",
          "text": [
            "red\n"
          ]
        }
      ]
    },
    {
      "cell_type": "code",
      "source": [
        "print(color['cherry'])  #리스트에 없는 것은 에러가 난다."
      ],
      "metadata": {
        "colab": {
          "base_uri": "https://localhost:8080/",
          "height": 173
        },
        "id": "8MIKxSU6FbVR",
        "outputId": "66883ef5-4171-42c1-a501-22d263ead08a"
      },
      "execution_count": 86,
      "outputs": [
        {
          "output_type": "error",
          "ename": "KeyError",
          "evalue": "ignored",
          "traceback": [
            "\u001b[0;31m---------------------------------------------------------------------------\u001b[0m",
            "\u001b[0;31mKeyError\u001b[0m                                  Traceback (most recent call last)",
            "\u001b[0;32m<ipython-input-86-88513f1616f7>\u001b[0m in \u001b[0;36m<cell line: 1>\u001b[0;34m()\u001b[0m\n\u001b[0;32m----> 1\u001b[0;31m \u001b[0mprint\u001b[0m\u001b[0;34m(\u001b[0m\u001b[0mcolor\u001b[0m\u001b[0;34m[\u001b[0m\u001b[0;34m'cherry'\u001b[0m\u001b[0;34m]\u001b[0m\u001b[0;34m)\u001b[0m\u001b[0;34m\u001b[0m\u001b[0;34m\u001b[0m\u001b[0m\n\u001b[0m",
            "\u001b[0;31mKeyError\u001b[0m: 'cherry'"
          ]
        }
      ]
    },
    {
      "cell_type": "code",
      "source": [
        "color['cherry'] = 'red'  #없는 값을 추가해서 나타내보기\n",
        "print(color)"
      ],
      "metadata": {
        "colab": {
          "base_uri": "https://localhost:8080/"
        },
        "id": "kHyNVFW2GD0p",
        "outputId": "11b3df8c-f8f8-4596-8ec6-5d1981d96b58"
      },
      "execution_count": 87,
      "outputs": [
        {
          "output_type": "stream",
          "name": "stdout",
          "text": [
            "{'apple': 'red', 'banana': 'yellow', 'cherry': 'red'}\n"
          ]
        }
      ]
    },
    {
      "cell_type": "code",
      "source": [
        "color['apple'] = 'green' #기존 값(apple=red)을 수정(apple=green) -> 따라서 중복될 수 없다.\n",
        "print(color)"
      ],
      "metadata": {
        "colab": {
          "base_uri": "https://localhost:8080/"
        },
        "id": "9i_FsByFGdyk",
        "outputId": "2ec77a39-83c8-486d-9884-dca00fc10b15"
      },
      "execution_count": 90,
      "outputs": [
        {
          "output_type": "stream",
          "name": "stdout",
          "text": [
            "{'apple': 'green', 'banana': 'yellow', 'cherry': 'red'}\n"
          ]
        }
      ]
    },
    {
      "cell_type": "markdown",
      "source": [
        "여기서 key값 : apple, banana, cherry / value값 : green, yello, red"
      ],
      "metadata": {
        "id": "-zrSmbJBHEV5"
      }
    },
    {
      "cell_type": "code",
      "source": [
        "print(color.keys())   #key값을 출력해라\n",
        "print(color.values()) #value값을 출력해라\n",
        "print(color.items())  #item : color+value"
      ],
      "metadata": {
        "colab": {
          "base_uri": "https://localhost:8080/"
        },
        "id": "ux5aBbqMGqjC",
        "outputId": "1efbbc51-f757-4096-8629-fb1a475f66ec"
      },
      "execution_count": 95,
      "outputs": [
        {
          "output_type": "stream",
          "name": "stdout",
          "text": [
            "dict_keys(['apple', 'banana', 'cherry'])\n",
            "dict_values(['green', 'yellow', 'red'])\n",
            "dict_items([('apple', 'green'), ('banana', 'yellow'), ('cherry', 'red')])\n"
          ]
        }
      ]
    },
    {
      "cell_type": "code",
      "source": [
        "# for 문을 사용해서 데이터 가져와보기\n",
        "#key의 갯수만큼 반복, key 순서별로 반복 (k/tmp,i는 그냥 문자)\n",
        "for k in color.keys():\n",
        "  print(k)     \n"
      ],
      "metadata": {
        "colab": {
          "base_uri": "https://localhost:8080/"
        },
        "id": "ILey5jZnHQOp",
        "outputId": "5dd33da9-923f-46a2-f47f-55af93e6329a"
      },
      "execution_count": 107,
      "outputs": [
        {
          "output_type": "stream",
          "name": "stdout",
          "text": [
            "apple\n",
            "banana\n",
            "cherry\n"
          ]
        }
      ]
    },
    {
      "cell_type": "code",
      "source": [
        "for tmp in color.values() :\n",
        "  print(tmp)\n",
        "        \n"
      ],
      "metadata": {
        "colab": {
          "base_uri": "https://localhost:8080/"
        },
        "id": "rio87M4jHvPF",
        "outputId": "8a2bf339-1d50-4a48-ad7a-98c4fc0bba11"
      },
      "execution_count": 105,
      "outputs": [
        {
          "output_type": "stream",
          "name": "stdout",
          "text": [
            "green\n",
            "yellow\n",
            "red\n"
          ]
        }
      ]
    },
    {
      "cell_type": "code",
      "source": [
        "for i in color.items() :\n",
        "  print(i)"
      ],
      "metadata": {
        "colab": {
          "base_uri": "https://localhost:8080/"
        },
        "id": "9aWxtQzVJ0nP",
        "outputId": "956ad216-2ac7-4c7b-9a2b-0ce552d8e6db"
      },
      "execution_count": 106,
      "outputs": [
        {
          "output_type": "stream",
          "name": "stdout",
          "text": [
            "('apple', 'green')\n",
            "('banana', 'yellow')\n",
            "('cherry', 'red')\n"
          ]
        }
      ]
    },
    {
      "cell_type": "code",
      "source": [
        "for(k, v) in color.items():\n",
        "  print(k,v)"
      ],
      "metadata": {
        "colab": {
          "base_uri": "https://localhost:8080/"
        },
        "id": "QVJmQ38_J10c",
        "outputId": "260fa601-5be4-4a3e-a236-1c33fd171adc"
      },
      "execution_count": 108,
      "outputs": [
        {
          "output_type": "stream",
          "name": "stdout",
          "text": [
            "apple green\n",
            "banana yellow\n",
            "cherry red\n"
          ]
        }
      ]
    },
    {
      "cell_type": "code",
      "source": [
        "# Dict에서 불필요한 아이템 삭제\n",
        "\n",
        "del color['banana']\n",
        "print(color)"
      ],
      "metadata": {
        "colab": {
          "base_uri": "https://localhost:8080/"
        },
        "id": "v9FQa8-yKEdQ",
        "outputId": "4fe7131d-b9c1-4081-cc8d-751f7c433db6"
      },
      "execution_count": 112,
      "outputs": [
        {
          "output_type": "stream",
          "name": "stdout",
          "text": [
            "{'apple': 'green'}\n"
          ]
        }
      ]
    },
    {
      "cell_type": "code",
      "source": [
        "# Dict 전체지우기\n",
        "\n",
        "color.clear()\n",
        "print()"
      ],
      "metadata": {
        "colab": {
          "base_uri": "https://localhost:8080/"
        },
        "id": "bjKIlzvDK-XY",
        "outputId": "a6d7d1f3-dc1f-400a-c35e-b6f789f69a61"
      },
      "execution_count": 115,
      "outputs": [
        {
          "output_type": "stream",
          "name": "stdout",
          "text": [
            "\n"
          ]
        }
      ]
    },
    {
      "cell_type": "code",
      "source": [
        "#데이터 타입은 서로 혼용해서 사용하는 것이 가능하다.\n",
        "\n",
        "{'age':40.5, 'job':[1,2,3], 'name':{'Park':2}, 'cho':1 }"
      ],
      "metadata": {
        "colab": {
          "base_uri": "https://localhost:8080/"
        },
        "id": "HUvAIL51LhaF",
        "outputId": "6921e8af-b29a-45f1-e074-8713edc65242"
      },
      "execution_count": 117,
      "outputs": [
        {
          "output_type": "execute_result",
          "data": {
            "text/plain": [
              "{'age': 40.5, 'job': [1, 2, 3], 'name': {'Park': 2}, 'cho': 1}"
            ]
          },
          "metadata": {},
          "execution_count": 117
        }
      ]
    },
    {
      "cell_type": "code",
      "source": [
        "#bool 타입 \n",
        "isRight = False\n",
        "print(type(isRight))"
      ],
      "metadata": {
        "colab": {
          "base_uri": "https://localhost:8080/"
        },
        "id": "Zwi76YIoM31j",
        "outputId": "4079829d-8f76-4037-c0fa-4d724b8a2c9e"
      },
      "execution_count": 118,
      "outputs": [
        {
          "output_type": "stream",
          "name": "stdout",
          "text": [
            "<class 'bool'>\n"
          ]
        }
      ]
    },
    {
      "cell_type": "code",
      "source": [
        "print(1>2)\n",
        "print(1==2)\n",
        "print(1!=2)"
      ],
      "metadata": {
        "colab": {
          "base_uri": "https://localhost:8080/"
        },
        "id": "rkBZIsKFNpuy",
        "outputId": "f8feb4ae-560d-448e-fbb1-18fa609b3cc7"
      },
      "execution_count": 121,
      "outputs": [
        {
          "output_type": "stream",
          "name": "stdout",
          "text": [
            "False\n",
            "False\n",
            "True\n"
          ]
        }
      ]
    },
    {
      "cell_type": "code",
      "source": [
        "#논리 연산자\n",
        "print(True and False)\n",
        "print(True & True)\n",
        "print(True or False)\n",
        "print(False | False)\n",
        "print(not True)"
      ],
      "metadata": {
        "colab": {
          "base_uri": "https://localhost:8080/"
        },
        "id": "m_IxBuhrNzG_",
        "outputId": "e1ac2118-2802-4e41-db6f-ac0cd73e1947"
      },
      "execution_count": 122,
      "outputs": [
        {
          "output_type": "stream",
          "name": "stdout",
          "text": [
            "False\n",
            "True\n",
            "True\n",
            "False\n",
            "False\n"
          ]
        }
      ]
    },
    {
      "cell_type": "code",
      "source": [
        "# 얕은 복사와 깊은 복사\n",
        "\n",
        "a = [1,2,3]\n",
        "b = a\n",
        "print(b)"
      ],
      "metadata": {
        "colab": {
          "base_uri": "https://localhost:8080/"
        },
        "id": "baUZgFteOOLj",
        "outputId": "0456c75d-0d25-4772-bdf7-35498d7a992a"
      },
      "execution_count": 123,
      "outputs": [
        {
          "output_type": "stream",
          "name": "stdout",
          "text": [
            "[1, 2, 3]\n"
          ]
        }
      ]
    },
    {
      "cell_type": "code",
      "source": [
        "a[0] = 38\n",
        "print(a)\n",
        "print(b)  #a의 값을 바꾼것도 적용된다."
      ],
      "metadata": {
        "colab": {
          "base_uri": "https://localhost:8080/"
        },
        "id": "auiCK-DdThT2",
        "outputId": "a7635cfe-e7eb-4623-f680-47f00f934b3d"
      },
      "execution_count": 126,
      "outputs": [
        {
          "output_type": "stream",
          "name": "stdout",
          "text": [
            "[38, 2, 3]\n",
            "[38, 2, 3]\n"
          ]
        }
      ]
    },
    {
      "cell_type": "code",
      "source": [
        "#Call by Value\n",
        "a = [1,2,3]\n",
        "b = a[:]\n",
        "a[0] = 38\n",
        "print(a, b)"
      ],
      "metadata": {
        "colab": {
          "base_uri": "https://localhost:8080/"
        },
        "id": "D7h1qhVSTrx0",
        "outputId": "d192fba4-e206-4805-cc81-af1c1f33ab43"
      },
      "execution_count": 130,
      "outputs": [
        {
          "output_type": "stream",
          "name": "stdout",
          "text": [
            "[38, 2, 3] [1, 2, 3]\n"
          ]
        }
      ]
    },
    {
      "cell_type": "code",
      "source": [
        "# copy module을 사용하는 법 (import : 기본 명령 외 추가로 가져옴)\n",
        "import copy\n",
        "\n",
        "a = [1,2,3]\n",
        "b = copy.deepcopy(a)\n",
        "a[0] = 38\n",
        "print(a, b)"
      ],
      "metadata": {
        "colab": {
          "base_uri": "https://localhost:8080/"
        },
        "id": "7bAaF67ZVOcs",
        "outputId": "4a65c1be-7b9f-433f-e58a-9e142703d626"
      },
      "execution_count": 131,
      "outputs": [
        {
          "output_type": "stream",
          "name": "stdout",
          "text": [
            "[38, 2, 3] [1, 2, 3]\n"
          ]
        }
      ]
    },
    {
      "cell_type": "code",
      "source": [],
      "metadata": {
        "id": "Cg9tnBm_V6Gs"
      },
      "execution_count": null,
      "outputs": []
    }
  ]
}
