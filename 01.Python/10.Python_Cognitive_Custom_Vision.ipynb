{
  "nbformat": 4,
  "nbformat_minor": 0,
  "metadata": {
    "colab": {
      "provenance": [],
      "authorship_tag": "ABX9TyOHhaL2fYjJOFThVFkTephR",
      "include_colab_link": true
    },
    "kernelspec": {
      "name": "python3",
      "display_name": "Python 3"
    },
    "language_info": {
      "name": "python"
    }
  },
  "cells": [
    {
      "cell_type": "markdown",
      "metadata": {
        "id": "view-in-github",
        "colab_type": "text"
      },
      "source": [
        "<a href=\"https://colab.research.google.com/github/jhportfolio1/python/blob/main/python_10_Python_Cognitive_Custom_Vision.ipynb\" target=\"_parent\"><img src=\"https://colab.research.google.com/assets/colab-badge.svg\" alt=\"Open In Colab\"/></a>"
      ]
    },
    {
      "cell_type": "markdown",
      "source": [
        "# 10. Custom Vision"
      ],
      "metadata": {
        "id": "f4q4C171Bgu5"
      }
    },
    {
      "cell_type": "markdown",
      "source": [
        "- 데이터가 학습되어 있지 않아서, 개발자가 학습시켜야 하는 비전 프로그램"
      ],
      "metadata": {
        "id": "_rDM8XE-BkWM"
      }
    },
    {
      "cell_type": "markdown",
      "source": [
        "## 1) Custom Vision 패키지 설치하기"
      ],
      "metadata": {
        "id": "XU0WIc1YaaN-"
      }
    },
    {
      "cell_type": "code",
      "execution_count": null,
      "metadata": {
        "colab": {
          "base_uri": "https://localhost:8080/"
        },
        "id": "huKHhYTnBYzL",
        "outputId": "877b2b3f-d3a6-4325-f611-46f4e483a949"
      },
      "outputs": [
        {
          "output_type": "stream",
          "name": "stdout",
          "text": [
            "Looking in indexes: https://pypi.org/simple, https://us-python.pkg.dev/colab-wheels/public/simple/\n",
            "Requirement already satisfied: azure-cognitiveservices-vision-customvision in /usr/local/lib/python3.9/dist-packages (3.1.0)\n",
            "Requirement already satisfied: azure-common~=1.1 in /usr/local/lib/python3.9/dist-packages (from azure-cognitiveservices-vision-customvision) (1.1.28)\n",
            "Requirement already satisfied: msrest>=0.5.0 in /usr/local/lib/python3.9/dist-packages (from azure-cognitiveservices-vision-customvision) (0.7.1)\n",
            "Requirement already satisfied: certifi>=2017.4.17 in /usr/local/lib/python3.9/dist-packages (from msrest>=0.5.0->azure-cognitiveservices-vision-customvision) (2022.12.7)\n",
            "Requirement already satisfied: requests-oauthlib>=0.5.0 in /usr/local/lib/python3.9/dist-packages (from msrest>=0.5.0->azure-cognitiveservices-vision-customvision) (1.3.1)\n",
            "Requirement already satisfied: isodate>=0.6.0 in /usr/local/lib/python3.9/dist-packages (from msrest>=0.5.0->azure-cognitiveservices-vision-customvision) (0.6.1)\n",
            "Requirement already satisfied: azure-core>=1.24.0 in /usr/local/lib/python3.9/dist-packages (from msrest>=0.5.0->azure-cognitiveservices-vision-customvision) (1.26.4)\n",
            "Requirement already satisfied: requests~=2.16 in /usr/local/lib/python3.9/dist-packages (from msrest>=0.5.0->azure-cognitiveservices-vision-customvision) (2.27.1)\n",
            "Requirement already satisfied: six>=1.11.0 in /usr/local/lib/python3.9/dist-packages (from azure-core>=1.24.0->msrest>=0.5.0->azure-cognitiveservices-vision-customvision) (1.16.0)\n",
            "Requirement already satisfied: typing-extensions>=4.3.0 in /usr/local/lib/python3.9/dist-packages (from azure-core>=1.24.0->msrest>=0.5.0->azure-cognitiveservices-vision-customvision) (4.5.0)\n",
            "Requirement already satisfied: charset-normalizer~=2.0.0 in /usr/local/lib/python3.9/dist-packages (from requests~=2.16->msrest>=0.5.0->azure-cognitiveservices-vision-customvision) (2.0.12)\n",
            "Requirement already satisfied: urllib3<1.27,>=1.21.1 in /usr/local/lib/python3.9/dist-packages (from requests~=2.16->msrest>=0.5.0->azure-cognitiveservices-vision-customvision) (1.26.15)\n",
            "Requirement already satisfied: idna<4,>=2.5 in /usr/local/lib/python3.9/dist-packages (from requests~=2.16->msrest>=0.5.0->azure-cognitiveservices-vision-customvision) (3.4)\n",
            "Requirement already satisfied: oauthlib>=3.0.0 in /usr/local/lib/python3.9/dist-packages (from requests-oauthlib>=0.5.0->msrest>=0.5.0->azure-cognitiveservices-vision-customvision) (3.2.2)\n"
          ]
        }
      ],
      "source": [
        "pip install azure-cognitiveservices-vision-customvision"
      ]
    },
    {
      "cell_type": "markdown",
      "source": [
        "## 2) 트레이닝 기능, 파일 설치 기능 불러오기"
      ],
      "metadata": {
        "id": "VVP1OwEWbMgP"
      }
    },
    {
      "cell_type": "code",
      "source": [],
      "metadata": {
        "id": "wFM-zWJAg8vV"
      },
      "execution_count": null,
      "outputs": []
    },
    {
      "cell_type": "code",
      "source": [
        "from azure.cognitiveservices.vision.customvision.training import CustomVisionTrainingClient\n",
        "from azure.cognitiveservices.vision.customvision.training.models import ImageFileCreateEntry\n",
        "from msrest.authentication import ApiKeyCredentials "
      ],
      "metadata": {
        "id": "FHyeAZ_jZ6-n"
      },
      "execution_count": null,
      "outputs": []
    },
    {
      "cell_type": "code",
      "source": [
        "endpoint = 'https://labuser97customvision.cognitiveservices.azure.com/'\n",
        "training_key = '80d23859355645ca99723c59f3c8466e'"
      ],
      "metadata": {
        "id": "moscJFs_anVT"
      },
      "execution_count": null,
      "outputs": []
    },
    {
      "cell_type": "code",
      "source": [
        "publish_interation_name = 'GreatWallModel'\n",
        "credentials = ApiKeyCredentials(in_headers={'Training-key': training_key})"
      ],
      "metadata": {
        "id": "jAhtLMWmbURJ"
      },
      "execution_count": null,
      "outputs": []
    },
    {
      "cell_type": "code",
      "source": [
        "trainer = CustomVisionTrainingClient(endpoint, credentials)"
      ],
      "metadata": {
        "id": "4sJd-O_1cVPd"
      },
      "execution_count": null,
      "outputs": []
    },
    {
      "cell_type": "markdown",
      "source": [
        "## 3) 일을 시켜보자 (Creat New Project)"
      ],
      "metadata": {
        "id": "XqXP_n9dfi-k"
      }
    },
    {
      "cell_type": "markdown",
      "source": [
        "### (1) 프로젝트 생성"
      ],
      "metadata": {
        "id": "dkQdB8qWhMfU"
      }
    },
    {
      "cell_type": "code",
      "source": [
        "print('Creating project....')\n",
        "project_name = 'GreatWall_97'\n",
        "project = trainer.create_project(project_name)"
      ],
      "metadata": {
        "colab": {
          "base_uri": "https://localhost:8080/"
        },
        "id": "jo9-i1sJfK5s",
        "outputId": "deb070d0-34ab-416c-bc9a-8659ce991094"
      },
      "execution_count": null,
      "outputs": [
        {
          "output_type": "stream",
          "name": "stdout",
          "text": [
            "Creating project....\n"
          ]
        }
      ]
    },
    {
      "cell_type": "markdown",
      "source": [
        "- 이렇게 하고 보면 CumtomVision.ai 에 새 프로젝트가 생성됨"
      ],
      "metadata": {
        "id": "1JZVORA3hOmK"
      }
    },
    {
      "cell_type": "markdown",
      "source": [
        "### (2) 태그 생성"
      ],
      "metadata": {
        "id": "vmFkeoFchUz_"
      }
    },
    {
      "cell_type": "code",
      "source": [
        "jajangmyeon_tag = trainer.create_tag(project.id, 'jajangmeyon')\n",
        "jjamppong_tag = trainer.create_tag(project.id, 'jjamppong')\n",
        "tansuyuk_tag = trainer.create_tag(project.id, 'tangsuyuk')"
      ],
      "metadata": {
        "id": "JeLfVhjfgKHU"
      },
      "execution_count": null,
      "outputs": []
    },
    {
      "cell_type": "markdown",
      "source": [
        "- 이렇게 하고 보면 CustomVision.ai - Greatwall_97 프로젝트에 3개의 태그가 생겨있음"
      ],
      "metadata": {
        "id": "NYMJItJVh7Vm"
      }
    },
    {
      "cell_type": "markdown",
      "source": [
        "- 들어가서 태그별로 사진 업로드"
      ],
      "metadata": {
        "id": "8NHvgw9HnWQg"
      }
    },
    {
      "cell_type": "markdown",
      "source": [
        "### (3) 학습 시작"
      ],
      "metadata": {
        "id": "mtTg5YSVnUNE"
      }
    },
    {
      "cell_type": "markdown",
      "source": [
        "- 여기서 오류나는 경우, 프로젝트 명이 중복으로 2개 이상 설치되었기 때문임"
      ],
      "metadata": {
        "id": "f9Mz-yQMxcIm"
      }
    },
    {
      "cell_type": "code",
      "source": [
        "import time\n",
        "\n",
        "print('Training......')\n",
        "iteration = trainer.train_project(project.id)\n",
        "while (iteration.status != 'Completed'):\n",
        "  iteration = trainer.get_iteration(project.id, iteration.id)\n",
        "  print('Training status: ' + iteration.status)\n",
        "  print('Waiting 10 seconds...')\n",
        "  time.sleep(10)"
      ],
      "metadata": {
        "colab": {
          "base_uri": "https://localhost:8080/"
        },
        "id": "I5FtuzqVhbsb",
        "outputId": "17eb1893-8b04-41d0-b27f-86cc781def07"
      },
      "execution_count": null,
      "outputs": [
        {
          "output_type": "stream",
          "name": "stdout",
          "text": [
            "Training......\n",
            "Training status: Training\n",
            "Waiting 10 seconds...\n",
            "Training status: Training\n",
            "Waiting 10 seconds...\n",
            "Training status: Training\n",
            "Waiting 10 seconds...\n",
            "Training status: Training\n",
            "Waiting 10 seconds...\n",
            "Training status: Training\n",
            "Waiting 10 seconds...\n",
            "Training status: Training\n",
            "Waiting 10 seconds...\n",
            "Training status: Training\n",
            "Waiting 10 seconds...\n",
            "Training status: Training\n",
            "Waiting 10 seconds...\n",
            "Training status: Training\n",
            "Waiting 10 seconds...\n",
            "Training status: Training\n",
            "Waiting 10 seconds...\n",
            "Training status: Training\n",
            "Waiting 10 seconds...\n",
            "Training status: Training\n",
            "Waiting 10 seconds...\n",
            "Training status: Training\n",
            "Waiting 10 seconds...\n",
            "Training status: Training\n",
            "Waiting 10 seconds...\n",
            "Training status: Training\n",
            "Waiting 10 seconds...\n",
            "Training status: Training\n",
            "Waiting 10 seconds...\n",
            "Training status: Training\n",
            "Waiting 10 seconds...\n",
            "Training status: Training\n",
            "Waiting 10 seconds...\n",
            "Training status: Training\n",
            "Waiting 10 seconds...\n",
            "Training status: Training\n",
            "Waiting 10 seconds...\n",
            "Training status: Training\n",
            "Waiting 10 seconds...\n",
            "Training status: Training\n",
            "Waiting 10 seconds...\n",
            "Training status: Training\n",
            "Waiting 10 seconds...\n",
            "Training status: Training\n",
            "Waiting 10 seconds...\n",
            "Training status: Training\n",
            "Waiting 10 seconds...\n",
            "Training status: Training\n",
            "Waiting 10 seconds...\n",
            "Training status: Completed\n",
            "Waiting 10 seconds...\n"
          ]
        }
      ]
    },
    {
      "cell_type": "code",
      "source": [],
      "metadata": {
        "id": "xO2T2-XN1aWe"
      },
      "execution_count": null,
      "outputs": []
    },
    {
      "cell_type": "markdown",
      "source": [
        "## 2) 예측, 추론하기"
      ],
      "metadata": {
        "id": "_PJPggNS1al5"
      }
    },
    {
      "cell_type": "code",
      "source": [
        "from azure.cognitiveservices.vision.customvision.prediction import CustomVisionPredictionClient"
      ],
      "metadata": {
        "id": "5RZ3sQxK1fXs"
      },
      "execution_count": null,
      "outputs": []
    },
    {
      "cell_type": "code",
      "source": [
        "credentials = ApiKeyCredentials(in_headers={'Training-key':training_key})"
      ],
      "metadata": {
        "id": "KGxzaTZV13Zr"
      },
      "execution_count": null,
      "outputs": []
    },
    {
      "cell_type": "code",
      "source": [
        "prediction_key = '80d23859355645ca99723c59f3c8466e'\n",
        "prediction_endpoint = 'https://labuser97customvision.cognitiveservices.azure.com/'\n",
        "\n",
        "prediction_credential = ApiKeyCredentials(\n",
        "    in_headers={'Prediction-key': prediction_key})"
      ],
      "metadata": {
        "id": "xiMcuU0a19ba"
      },
      "execution_count": null,
      "outputs": []
    },
    {
      "cell_type": "markdown",
      "source": [
        "### (1) 예측 리소스 생성하기"
      ],
      "metadata": {
        "id": "4K5nsdML3UJG"
      }
    },
    {
      "cell_type": "code",
      "source": [
        "predictor = CustomVisionPredictionClient(prediction_endpoint, prediction_credential)"
      ],
      "metadata": {
        "id": "5sgg4rwl3JR6"
      },
      "execution_count": null,
      "outputs": []
    },
    {
      "cell_type": "code",
      "source": [
        "target_image_url = 'https://encrypted-tbn0.gstatic.com/images?q=tbn:ANd9GcS0MbeleUFFbw_96LrF1x3PQlHCRJ19_PFi8Q&usqp=CAU'\n",
        "result = predictor.classify_image_url(project.id, \n",
        "                             'Iteration1', \n",
        "                             target_image_url)"
      ],
      "metadata": {
        "colab": {
          "base_uri": "https://localhost:8080/",
          "height": 374
        },
        "id": "y9We0wFE3dPZ",
        "outputId": "e72ce9f3-c06b-475d-930f-0e660fb6d492"
      },
      "execution_count": null,
      "outputs": [
        {
          "output_type": "error",
          "ename": "CustomVisionErrorException",
          "evalue": "ignored",
          "traceback": [
            "\u001b[0;31m---------------------------------------------------------------------------\u001b[0m",
            "\u001b[0;31mCustomVisionErrorException\u001b[0m                Traceback (most recent call last)",
            "\u001b[0;32m<ipython-input-75-178db0c9dfd4>\u001b[0m in \u001b[0;36m<cell line: 2>\u001b[0;34m()\u001b[0m\n\u001b[1;32m      1\u001b[0m \u001b[0mtarget_image_url\u001b[0m \u001b[0;34m=\u001b[0m \u001b[0;34m'https://encrypted-tbn0.gstatic.com/images?q=tbn:ANd9GcS0MbeleUFFbw_96LrF1x3PQlHCRJ19_PFi8Q&usqp=CAU'\u001b[0m\u001b[0;34m\u001b[0m\u001b[0;34m\u001b[0m\u001b[0m\n\u001b[0;32m----> 2\u001b[0;31m result = predictor.classify_image_url(project.id, \n\u001b[0m\u001b[1;32m      3\u001b[0m                              \u001b[0;34m'Iteration1'\u001b[0m\u001b[0;34m,\u001b[0m\u001b[0;34m\u001b[0m\u001b[0;34m\u001b[0m\u001b[0m\n\u001b[1;32m      4\u001b[0m                              target_image_url)\n",
            "\u001b[0;32m/usr/local/lib/python3.9/dist-packages/azure/cognitiveservices/vision/customvision/prediction/operations/_custom_vision_prediction_client_operations.py\u001b[0m in \u001b[0;36mclassify_image_url\u001b[0;34m(self, project_id, published_name, url, application, custom_headers, raw, **operation_config)\u001b[0m\n\u001b[1;32m    215\u001b[0m \u001b[0;34m\u001b[0m\u001b[0m\n\u001b[1;32m    216\u001b[0m         \u001b[0;32mif\u001b[0m \u001b[0mresponse\u001b[0m\u001b[0;34m.\u001b[0m\u001b[0mstatus_code\u001b[0m \u001b[0;32mnot\u001b[0m \u001b[0;32min\u001b[0m \u001b[0;34m[\u001b[0m\u001b[0;36m200\u001b[0m\u001b[0;34m]\u001b[0m\u001b[0;34m:\u001b[0m\u001b[0;34m\u001b[0m\u001b[0;34m\u001b[0m\u001b[0m\n\u001b[0;32m--> 217\u001b[0;31m             \u001b[0;32mraise\u001b[0m \u001b[0mmodels\u001b[0m\u001b[0;34m.\u001b[0m\u001b[0mCustomVisionErrorException\u001b[0m\u001b[0;34m(\u001b[0m\u001b[0mself\u001b[0m\u001b[0;34m.\u001b[0m\u001b[0m_deserialize\u001b[0m\u001b[0;34m,\u001b[0m \u001b[0mresponse\u001b[0m\u001b[0;34m)\u001b[0m\u001b[0;34m\u001b[0m\u001b[0;34m\u001b[0m\u001b[0m\n\u001b[0m\u001b[1;32m    218\u001b[0m \u001b[0;34m\u001b[0m\u001b[0m\n\u001b[1;32m    219\u001b[0m         \u001b[0mdeserialized\u001b[0m \u001b[0;34m=\u001b[0m \u001b[0;32mNone\u001b[0m\u001b[0;34m\u001b[0m\u001b[0;34m\u001b[0m\u001b[0m\n",
            "\u001b[0;31mCustomVisionErrorException\u001b[0m: Operation returned an invalid status code 'Access Denied'"
          ]
        }
      ]
    },
    {
      "cell_type": "code",
      "source": [
        "for prediction in result.predictions:\n",
        "  print('\\t' + prediction.tag_name + \n",
        "        ': {0:.2f}%'.format(prediction.probability * 100))"
      ],
      "metadata": {
        "colab": {
          "base_uri": "https://localhost:8080/",
          "height": 210
        },
        "id": "JsYKpiuv4Vjy",
        "outputId": "e7f514e8-4203-4228-fa8d-f668abf1a7eb"
      },
      "execution_count": null,
      "outputs": [
        {
          "output_type": "error",
          "ename": "NameError",
          "evalue": "ignored",
          "traceback": [
            "\u001b[0;31m---------------------------------------------------------------------------\u001b[0m",
            "\u001b[0;31mNameError\u001b[0m                                 Traceback (most recent call last)",
            "\u001b[0;32m<ipython-input-76-bc1fda1f72c8>\u001b[0m in \u001b[0;36m<cell line: 1>\u001b[0;34m()\u001b[0m\n\u001b[0;32m----> 1\u001b[0;31m \u001b[0;32mfor\u001b[0m \u001b[0mprediction\u001b[0m \u001b[0;32min\u001b[0m \u001b[0mresult\u001b[0m\u001b[0;34m.\u001b[0m\u001b[0mpredictions\u001b[0m\u001b[0;34m:\u001b[0m\u001b[0;34m\u001b[0m\u001b[0;34m\u001b[0m\u001b[0m\n\u001b[0m\u001b[1;32m      2\u001b[0m   print('\\t' + prediction.tag_name + \n\u001b[1;32m      3\u001b[0m         ': {0:.2f}%'.format(prediction.probability * 100))\n",
            "\u001b[0;31mNameError\u001b[0m: name 'result' is not defined"
          ]
        }
      ]
    },
    {
      "cell_type": "code",
      "source": [],
      "metadata": {
        "id": "NakNsL0a8ajA"
      },
      "execution_count": null,
      "outputs": []
    }
  ]
}
