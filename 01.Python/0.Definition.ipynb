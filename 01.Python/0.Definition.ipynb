{
  "nbformat": 4,
  "nbformat_minor": 0,
  "metadata": {
    "colab": {
      "provenance": [],
      "authorship_tag": "ABX9TyPrViqq2AqZIhppQ/4ikp3d",
      "include_colab_link": true
    },
    "kernelspec": {
      "name": "python3",
      "display_name": "Python 3"
    },
    "language_info": {
      "name": "python"
    }
  },
  "cells": [
    {
      "cell_type": "markdown",
      "metadata": {
        "id": "view-in-github",
        "colab_type": "text"
      },
      "source": [
        "<a href=\"https://colab.research.google.com/github/jhportfolio1/python/blob/main/python_0_Definition.ipynb\" target=\"_parent\"><img src=\"https://colab.research.google.com/assets/colab-badge.svg\" alt=\"Open In Colab\"/></a>"
      ]
    },
    {
      "cell_type": "markdown",
      "source": [
        "# Python 파이썬 용어정리"
      ],
      "metadata": {
        "id": "kNaslWI73hQi"
      }
    },
    {
      "cell_type": "markdown",
      "source": [
        "## 1) Function : 함수 기능"
      ],
      "metadata": {
        "id": "pJZ6FmI13lpB"
      }
    },
    {
      "cell_type": "markdown",
      "source": [
        "## 2) Class : 함수의 카테고리 지정"
      ],
      "metadata": {
        "id": "rxi7jvkq3tCn"
      }
    },
    {
      "cell_type": "markdown",
      "source": [
        "## 3) Library = Module : Function, Class가 많을 때 모아두는 곳"
      ],
      "metadata": {
        "id": "FGyuQIjO3zfl"
      }
    },
    {
      "cell_type": "markdown",
      "source": [
        "## 4) Package : Module, Library를 모아둔 곳"
      ],
      "metadata": {
        "id": "aaY0oW0f399V"
      }
    },
    {
      "cell_type": "markdown",
      "source": [
        "- pip inst 의 형식으로 package만 다운 받아서 적용가능 함"
      ],
      "metadata": {
        "id": "wAbS-VYe4FHt"
      }
    },
    {
      "cell_type": "code",
      "source": [],
      "metadata": {
        "id": "OQKT-ecy3sEX"
      },
      "execution_count": null,
      "outputs": []
    }
  ]
}
