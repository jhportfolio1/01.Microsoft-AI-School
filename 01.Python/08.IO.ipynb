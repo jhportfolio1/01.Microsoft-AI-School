{
  "nbformat": 4,
  "nbformat_minor": 0,
  "metadata": {
    "colab": {
      "provenance": [],
      "authorship_tag": "ABX9TyMT4ArP1ibzI7MCJxS/J+IW",
      "include_colab_link": true
    },
    "kernelspec": {
      "name": "python3",
      "display_name": "Python 3"
    },
    "language_info": {
      "name": "python"
    }
  },
  "cells": [
    {
      "cell_type": "markdown",
      "metadata": {
        "id": "view-in-github",
        "colab_type": "text"
      },
      "source": [
        "<a href=\"https://colab.research.google.com/github/jhportfolio1/python/blob/main/python_8_IO_ipynb_.ipynb\" target=\"_parent\"><img src=\"https://colab.research.google.com/assets/colab-badge.svg\" alt=\"Open In Colab\"/></a>"
      ]
    },
    {
      "cell_type": "markdown",
      "source": [
        "# 1. IO (Input / output)"
      ],
      "metadata": {
        "id": "ymFBJ6WURmWq"
      }
    },
    {
      "cell_type": "markdown",
      "source": [
        "## 1) input"
      ],
      "metadata": {
        "id": "dAUI7IU6RpYR"
      }
    },
    {
      "cell_type": "markdown",
      "source": [
        "### (1) 문장 구성"
      ],
      "metadata": {
        "id": "Uc0CjESMSqwi"
      }
    },
    {
      "cell_type": "code",
      "execution_count": 1,
      "metadata": {
        "colab": {
          "base_uri": "https://localhost:8080/"
        },
        "id": "D6Fh1GeTRdeR",
        "outputId": "ef6c7636-09c7-4eba-d63e-0d372a1a74dd"
      },
      "outputs": [
        {
          "output_type": "stream",
          "name": "stdout",
          "text": [
            "1\n"
          ]
        }
      ],
      "source": [
        "print(1)"
      ]
    },
    {
      "cell_type": "code",
      "source": [
        "import sys\n",
        "print('Welcome to Python')"
      ],
      "metadata": {
        "colab": {
          "base_uri": "https://localhost:8080/"
        },
        "id": "ipqU4-mDRsUT",
        "outputId": "700915ab-b48b-4f13-8089-99e381db62d4"
      },
      "execution_count": 2,
      "outputs": [
        {
          "output_type": "stream",
          "name": "stdout",
          "text": [
            "Welcome to Python\n"
          ]
        }
      ]
    },
    {
      "cell_type": "code",
      "source": [
        "import sys\n",
        "print('Welcome to Python', file=sys.stderr)"
      ],
      "metadata": {
        "colab": {
          "base_uri": "https://localhost:8080/"
        },
        "id": "LdHhmgM4RyE_",
        "outputId": "005a5ced-12e3-4964-88c7-1e7b3fe673bd"
      },
      "execution_count": 3,
      "outputs": [
        {
          "output_type": "stream",
          "name": "stderr",
          "text": [
            "Welcome to Python\n"
          ]
        }
      ]
    },
    {
      "cell_type": "markdown",
      "source": [
        "- sep : 구별자 (구분을 해준다)\n",
        "- end : 끝에다가 추가하고 싶은 것"
      ],
      "metadata": {
        "id": "FyVV6KiOSbYi"
      }
    },
    {
      "cell_type": "code",
      "source": [
        "import sys\n",
        "print('Welcome to',  'Python', sep='~', end='!', file=sys.stderr)"
      ],
      "metadata": {
        "colab": {
          "base_uri": "https://localhost:8080/"
        },
        "id": "rYCDPTUUR7FP",
        "outputId": "855ccdc1-3e71-49f7-a8c3-8013807fd15f"
      },
      "execution_count": 4,
      "outputs": [
        {
          "output_type": "stream",
          "name": "stderr",
          "text": [
            "Welcome to~Python!"
          ]
        }
      ]
    },
    {
      "cell_type": "code",
      "source": [],
      "metadata": {
        "id": "4Qh7HW5QSNnG"
      },
      "execution_count": null,
      "outputs": []
    },
    {
      "cell_type": "markdown",
      "source": [
        "### (2) Open : 파일을 추가로 만들 때"
      ],
      "metadata": {
        "id": "HmmERIa2Smm1"
      }
    },
    {
      "cell_type": "code",
      "source": [
        "f = open('test.txt', 'w')"
      ],
      "metadata": {
        "id": "uPUOPJUPSqE0"
      },
      "execution_count": 6,
      "outputs": []
    },
    {
      "cell_type": "markdown",
      "source": [
        "### (3) print로도 파일 추가가 가능함\n",
        "\n"
      ],
      "metadata": {
        "id": "U206TlPGS8oI"
      }
    },
    {
      "cell_type": "markdown",
      "source": [
        "- print(넣고 싶은 내용, 파일명)\n",
        "- f.close() 로 닫아줘야 보임"
      ],
      "metadata": {
        "id": "pDlJ9_YVTnIj"
      }
    },
    {
      "cell_type": "code",
      "source": [
        "print('Welcome to Python', file = f)"
      ],
      "metadata": {
        "id": "caUkZGbJSxR3"
      },
      "execution_count": 8,
      "outputs": []
    },
    {
      "cell_type": "code",
      "source": [
        "f.close()"
      ],
      "metadata": {
        "id": "8d3dcDB2TbzT"
      },
      "execution_count": 9,
      "outputs": []
    },
    {
      "cell_type": "markdown",
      "source": [
        "### (4) 읽기모드로 열기"
      ],
      "metadata": {
        "id": "kzfQ1l4AUEzU"
      }
    },
    {
      "cell_type": "markdown",
      "source": [
        "- r모드로 test파일 열기"
      ],
      "metadata": {
        "id": "Jy7EXq9xUM4B"
      }
    },
    {
      "cell_type": "code",
      "source": [
        "f = open('test.txt', 'r')"
      ],
      "metadata": {
        "id": "HVgYO2G-UGhS"
      },
      "execution_count": 11,
      "outputs": []
    },
    {
      "cell_type": "markdown",
      "source": [
        "-  read 명령을 줄 때마다 한줄씩 명령함"
      ],
      "metadata": {
        "id": "azppxw6iURTm"
      }
    },
    {
      "cell_type": "code",
      "source": [
        "f.readline()"
      ],
      "metadata": {
        "colab": {
          "base_uri": "https://localhost:8080/",
          "height": 35
        },
        "id": "mhCB4yPqUJYa",
        "outputId": "80e15331-cbed-4f2b-d8c3-e47e662683c7"
      },
      "execution_count": 12,
      "outputs": [
        {
          "output_type": "execute_result",
          "data": {
            "text/plain": [
              "'Welcome to Python\\n'"
            ],
            "application/vnd.google.colaboratory.intrinsic+json": {
              "type": "string"
            }
          },
          "metadata": {},
          "execution_count": 12
        }
      ]
    },
    {
      "cell_type": "code",
      "source": [],
      "metadata": {
        "id": "gbZ3EKS7Ur1a"
      },
      "execution_count": null,
      "outputs": []
    }
  ]
}
