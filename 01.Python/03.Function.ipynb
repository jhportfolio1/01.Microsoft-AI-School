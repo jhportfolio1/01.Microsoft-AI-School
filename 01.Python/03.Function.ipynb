{
  "nbformat": 4,
  "nbformat_minor": 0,
  "metadata": {
    "colab": {
      "provenance": [],
      "authorship_tag": "ABX9TyO5aPRHJleqtttlFMWTIprl",
      "include_colab_link": true
    },
    "kernelspec": {
      "name": "python3",
      "display_name": "Python 3"
    },
    "language_info": {
      "name": "python"
    }
  },
  "cells": [
    {
      "cell_type": "markdown",
      "metadata": {
        "id": "view-in-github",
        "colab_type": "text"
      },
      "source": [
        "<a href=\"https://colab.research.google.com/github/jhportfolio1/python/blob/main/python_3_Function.ipynb\" target=\"_parent\"><img src=\"https://colab.research.google.com/assets/colab-badge.svg\" alt=\"Open In Colab\"/></a>"
      ]
    },
    {
      "cell_type": "markdown",
      "source": [
        "#3. Function(함수)"
      ],
      "metadata": {
        "id": "6FyNx-1BXGku"
      }
    },
    {
      "cell_type": "markdown",
      "source": [
        "## 1) 함수만들기"
      ],
      "metadata": {
        "id": "jmUAHTkeXNU_"
      }
    },
    {
      "cell_type": "code",
      "execution_count": 2,
      "metadata": {
        "id": "5wA67ZRKWwb0"
      },
      "outputs": [],
      "source": [
        "def Times(a,b):\n",
        "  result = a * b\n",
        "  return result"
      ]
    },
    {
      "cell_type": "code",
      "source": [
        "print(Times)"
      ],
      "metadata": {
        "colab": {
          "base_uri": "https://localhost:8080/"
        },
        "id": "_nY_nTWFXb8Z",
        "outputId": "e3db4027-2bf6-409c-e8a3-b6aa7f003d77"
      },
      "execution_count": 3,
      "outputs": [
        {
          "output_type": "stream",
          "name": "stdout",
          "text": [
            "<function Times at 0x7f5dfff64f70>\n"
          ]
        }
      ]
    },
    {
      "cell_type": "markdown",
      "source": [
        "\n",
        "*   'function Times' : 함수명\n",
        "*   at ..........  : 위치 (16진수로 표기됨)\n"
      ],
      "metadata": {
        "id": "rnnP_Fq4Xj2F"
      }
    },
    {
      "cell_type": "code",
      "source": [
        "print(Times(10, 20))"
      ],
      "metadata": {
        "colab": {
          "base_uri": "https://localhost:8080/"
        },
        "id": "sX7llgnMXigw",
        "outputId": "4e1494f8-f300-421c-9e82-e2539a0145bd"
      },
      "execution_count": 4,
      "outputs": [
        {
          "output_type": "stream",
          "name": "stdout",
          "text": [
            "200\n"
          ]
        }
      ]
    },
    {
      "cell_type": "markdown",
      "source": [
        "※메모리 주소(=위치, 레퍼런스)를 확인하는 명령"
      ],
      "metadata": {
        "id": "i5f9vGkPYCpM"
      }
    },
    {
      "cell_type": "code",
      "source": [
        "print(id(Times))"
      ],
      "metadata": {
        "colab": {
          "base_uri": "https://localhost:8080/"
        },
        "id": "aq5rqwyRX5Q6",
        "outputId": "256d6f7d-ab07-45c8-b950-4bedc07e0901"
      },
      "execution_count": 13,
      "outputs": [
        {
          "output_type": "stream",
          "name": "stdout",
          "text": [
            "140041703018352\n"
          ]
        }
      ]
    },
    {
      "cell_type": "markdown",
      "source": [
        "※전체 메모리에 올라와있는 함수"
      ],
      "metadata": {
        "id": "jQZgNd7DYU-g"
      }
    },
    {
      "cell_type": "code",
      "source": [
        "globals()"
      ],
      "metadata": {
        "colab": {
          "base_uri": "https://localhost:8080/"
        },
        "id": "wK7g5x4-YGMc",
        "outputId": "060c045f-0d83-41e6-f382-39cd9d920a42"
      },
      "execution_count": 14,
      "outputs": [
        {
          "output_type": "execute_result",
          "data": {
            "text/plain": [
              "{'__name__': '__main__',\n",
              " '__doc__': 'Automatically created module for IPython interactive environment',\n",
              " '__package__': None,\n",
              " '__loader__': None,\n",
              " '__spec__': None,\n",
              " '__builtin__': <module 'builtins' (built-in)>,\n",
              " '__builtins__': <module 'builtins' (built-in)>,\n",
              " '_ih': ['',\n",
              "  'def Times(a,b):\\n  result = a * b\\n  returb result',\n",
              "  'def Times(a,b):\\n  result = a * b\\n  return result',\n",
              "  'print(Times)',\n",
              "  'print(Times(10, 20))',\n",
              "  '#### ※메모리 주소를 확인하는 명령',\n",
              "  'print(id(Times))',\n",
              "  'globall()',\n",
              "  'globals()',\n",
              "  'myTimes = Times',\n",
              "  'myTimes = Times',\n",
              "  'myTimes = Times\\nprint(myTimes(10,20))',\n",
              "  'print(id(myTimes))',\n",
              "  'print(id(Times))',\n",
              "  'globals()'],\n",
              " '_oh': {8: {...}},\n",
              " '_dh': ['/content'],\n",
              " 'In': ['',\n",
              "  'def Times(a,b):\\n  result = a * b\\n  returb result',\n",
              "  'def Times(a,b):\\n  result = a * b\\n  return result',\n",
              "  'print(Times)',\n",
              "  'print(Times(10, 20))',\n",
              "  '#### ※메모리 주소를 확인하는 명령',\n",
              "  'print(id(Times))',\n",
              "  'globall()',\n",
              "  'globals()',\n",
              "  'myTimes = Times',\n",
              "  'myTimes = Times',\n",
              "  'myTimes = Times\\nprint(myTimes(10,20))',\n",
              "  'print(id(myTimes))',\n",
              "  'print(id(Times))',\n",
              "  'globals()'],\n",
              " 'Out': {8: {...}},\n",
              " 'get_ipython': <bound method InteractiveShell.get_ipython of <google.colab._shell.Shell object at 0x7f5e1ef3ef10>>,\n",
              " 'exit': <IPython.core.autocall.ZMQExitAutocall at 0x7f5e1eb393a0>,\n",
              " 'quit': <IPython.core.autocall.ZMQExitAutocall at 0x7f5e1eb393a0>,\n",
              " '_': {...},\n",
              " '__': '',\n",
              " '___': '',\n",
              " '_i': 'print(id(Times))',\n",
              " '_ii': 'print(id(myTimes))',\n",
              " '_iii': 'myTimes = Times\\nprint(myTimes(10,20))',\n",
              " '_i1': 'def Times(a,b):\\n  result = a * b\\n  returb result',\n",
              " '_i2': 'def Times(a,b):\\n  result = a * b\\n  return result',\n",
              " 'Times': <function __main__.Times(a, b)>,\n",
              " '_i3': 'print(Times)',\n",
              " '_i4': 'print(Times(10, 20))',\n",
              " '_i5': '#### ※메모리 주소를 확인하는 명령',\n",
              " '_i6': 'print(id(Times))',\n",
              " '_i7': 'globall()',\n",
              " '_i8': 'globals()',\n",
              " '_8': {...},\n",
              " '_i9': 'myTimes = Times',\n",
              " 'myTimes': <function __main__.Times(a, b)>,\n",
              " '_i10': 'myTimes = Times',\n",
              " '_i11': 'myTimes = Times\\nprint(myTimes(10,20))',\n",
              " '_i12': 'print(id(myTimes))',\n",
              " '_i13': 'print(id(Times))',\n",
              " '_i14': 'globals()'}"
            ]
          },
          "metadata": {},
          "execution_count": 14
        }
      ]
    },
    {
      "cell_type": "markdown",
      "source": [
        "## 2) 함수 복사"
      ],
      "metadata": {
        "id": "anYp2hrzYe_R"
      }
    },
    {
      "cell_type": "code",
      "source": [
        "myTimes = Times\n",
        "print(myTimes(10,20))"
      ],
      "metadata": {
        "colab": {
          "base_uri": "https://localhost:8080/"
        },
        "id": "3X6eqhrCYW_P",
        "outputId": "e0979839-5801-4361-cd26-1d4b84cfc644"
      },
      "execution_count": 15,
      "outputs": [
        {
          "output_type": "stream",
          "name": "stdout",
          "text": [
            "200\n"
          ]
        }
      ]
    },
    {
      "cell_type": "code",
      "source": [
        "print(id(myTimes))"
      ],
      "metadata": {
        "colab": {
          "base_uri": "https://localhost:8080/"
        },
        "id": "Ipa6lpA2YjuM",
        "outputId": "9c129e49-5540-4824-9b93-df65de341cce"
      },
      "execution_count": 16,
      "outputs": [
        {
          "output_type": "stream",
          "name": "stdout",
          "text": [
            "140041703018352\n"
          ]
        }
      ]
    },
    {
      "cell_type": "markdown",
      "source": [
        "## 3) 변수의 범위"
      ],
      "metadata": {
        "id": "V9e_-JT5apBh"
      }
    },
    {
      "cell_type": "code",
      "source": [
        "a = 10\n",
        "b = 20\n",
        "def sum1(x,y):\n",
        "  return x+y"
      ],
      "metadata": {
        "id": "8YItTzvOaMP4"
      },
      "execution_count": 19,
      "outputs": []
    },
    {
      "cell_type": "code",
      "source": [
        "print(sum1(a,b))"
      ],
      "metadata": {
        "colab": {
          "base_uri": "https://localhost:8080/"
        },
        "id": "ZAznDFzHaZEk",
        "outputId": "6b251bbf-3fe6-4412-db6b-2f7a280ab8d9"
      },
      "execution_count": 20,
      "outputs": [
        {
          "output_type": "stream",
          "name": "stdout",
          "text": [
            "30\n"
          ]
        }
      ]
    },
    {
      "cell_type": "markdown",
      "source": [
        "이제 값을 바꿔본다.\n",
        "x를 처음 10으로 정의하고, 이후 x를 1로 정의한다면?"
      ],
      "metadata": {
        "id": "441MqeaaauNf"
      }
    },
    {
      "cell_type": "code",
      "source": [
        "x = 10\n",
        "def sum2(x,y):\n",
        "  x = 1\n",
        "  return x,y \n",
        "\n",
        "print(sum2(x, 20))\n",
        "print(x)"
      ],
      "metadata": {
        "colab": {
          "base_uri": "https://localhost:8080/"
        },
        "id": "KyzVy3U8abdY",
        "outputId": "ac464e44-04fd-4cbd-844c-48a1ae93c472"
      },
      "execution_count": 23,
      "outputs": [
        {
          "output_type": "stream",
          "name": "stdout",
          "text": [
            "(1, 20)\n",
            "10\n"
          ]
        }
      ]
    },
    {
      "cell_type": "markdown",
      "source": [
        "함수 밖 x=10 과 함수 안의 x=1 은 다른 값이다. <br>\n",
        "sum2라는 함수에서 x값은 1이고, 그 밖에서 x는 10인 것!"
      ],
      "metadata": {
        "id": "an_7fwGUbMkB"
      }
    },
    {
      "cell_type": "code",
      "source": [
        "g = 10\n",
        "x = 20\n",
        "def sum2(x, y) :\n",
        "  global g\n",
        "  g = g+1\n",
        "  return x,y\n",
        "\n",
        "print(sum2(x,20))\n",
        "print(g)"
      ],
      "metadata": {
        "colab": {
          "base_uri": "https://localhost:8080/"
        },
        "id": "JbeL8QHya78t",
        "outputId": "f69028d6-f409-4494-d603-8bcda63c8a84"
      },
      "execution_count": 27,
      "outputs": [
        {
          "output_type": "stream",
          "name": "stdout",
          "text": [
            "(20, 20)\n",
            "11\n"
          ]
        }
      ]
    },
    {
      "cell_type": "markdown",
      "source": [
        "밖에 있는 값을 함수 안으로 들여오고 싶다면(호출하고 싶다면) <br>\n",
        "global 을 사용하면 된다."
      ],
      "metadata": {
        "id": "GGYXTLGccN2Z"
      }
    },
    {
      "cell_type": "markdown",
      "source": [
        "## 4) 함수의 인자(Parameter)"
      ],
      "metadata": {
        "id": "aDmA6jkPcgmm"
      }
    },
    {
      "cell_type": "markdown",
      "source": [
        "먼저 디폴트 값을 지정해주고,"
      ],
      "metadata": {
        "id": "V2_E59IQdpMy"
      }
    },
    {
      "cell_type": "code",
      "source": [
        "def Times(a=10, b=20):\n",
        "  return a*b    \n"
      ],
      "metadata": {
        "id": "w4EuBPalcknK"
      },
      "execution_count": 29,
      "outputs": []
    },
    {
      "cell_type": "markdown",
      "source": [
        "a, b 값을 넣는다."
      ],
      "metadata": {
        "id": "CDYbxN1ndrcg"
      }
    },
    {
      "cell_type": "code",
      "source": [
        "print(Times(100, 200))\n",
        "print(Times(100))\n",
        "print(Times())\n",
        "print(Times(b=200))"
      ],
      "metadata": {
        "colab": {
          "base_uri": "https://localhost:8080/"
        },
        "id": "zDwP5BZyczaP",
        "outputId": "28bff20a-a7a8-4d8e-aa6b-3d4e0722ccc0"
      },
      "execution_count": 32,
      "outputs": [
        {
          "output_type": "stream",
          "name": "stdout",
          "text": [
            "20000\n",
            "2000\n",
            "200\n",
            "2000\n"
          ]
        }
      ]
    },
    {
      "cell_type": "markdown",
      "source": [
        "예제)"
      ],
      "metadata": {
        "id": "As-Qy5akdld7"
      }
    },
    {
      "cell_type": "code",
      "source": [
        "def connectURL(protocol, server, port):\n",
        "  address = protocol + '://' + server + ':' + port\n",
        "  return address\n",
        "\n",
        "print(connectURL('http', 'naver.com', '80')) #웹포트넘버:80"
      ],
      "metadata": {
        "colab": {
          "base_uri": "https://localhost:8080/"
        },
        "id": "_PLvGCq7dJuX",
        "outputId": "017a86d4-417a-4828-cb75-23cddfdca683"
      },
      "execution_count": 36,
      "outputs": [
        {
          "output_type": "stream",
          "name": "stdout",
          "text": [
            "http://naver.com:80\n"
          ]
        }
      ]
    },
    {
      "cell_type": "markdown",
      "source": [
        "활용)"
      ],
      "metadata": {
        "id": "I8S-jd6QeTBf"
      }
    },
    {
      "cell_type": "code",
      "source": [
        "def connectURL(protocol = 'https', server='naver.com', port='80'):\n",
        "  address = protocol + '://' + server + ':' + port\n",
        "  return address\n",
        "\n",
        "print(connectURL(port='8080'))"
      ],
      "metadata": {
        "colab": {
          "base_uri": "https://localhost:8080/"
        },
        "id": "YoTm4bRZeAe9",
        "outputId": "fee34a6f-1ea9-42ea-a766-b6125cb927a0"
      },
      "execution_count": 41,
      "outputs": [
        {
          "output_type": "stream",
          "name": "stdout",
          "text": [
            "<function connectURL at 0x7f5dd6f089d0>\n"
          ]
        }
      ]
    },
    {
      "cell_type": "markdown",
      "source": [
        "## 5) 가변인자 함수"
      ],
      "metadata": {
        "id": "wvJotw5ZjMgy"
      }
    },
    {
      "cell_type": "markdown",
      "source": [
        "갯수가 바뀌더라도 똑같이 출력가능함"
      ],
      "metadata": {
        "id": "vFwdzp0LjZ8d"
      }
    },
    {
      "cell_type": "code",
      "source": [
        "def test(*args):\n",
        "  print(type(args))\n",
        "  print(args)\n",
        "\n",
        "test(1,2,3,4,5)\n",
        "test(1,2,3)"
      ],
      "metadata": {
        "colab": {
          "base_uri": "https://localhost:8080/"
        },
        "id": "n56QweUSehDF",
        "outputId": "923beef8-7d1b-4928-bce9-875128a62ac6"
      },
      "execution_count": 44,
      "outputs": [
        {
          "output_type": "stream",
          "name": "stdout",
          "text": [
            "<class 'tuple'>\n",
            "(1, 2, 3, 4, 5)\n",
            "<class 'tuple'>\n",
            "(1, 2, 3)\n"
          ]
        }
      ]
    },
    {
      "cell_type": "code",
      "source": [],
      "metadata": {
        "id": "zjJyXWJtjXNt"
      },
      "execution_count": null,
      "outputs": []
    }
  ]
}
