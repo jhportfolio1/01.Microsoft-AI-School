{
  "nbformat": 4,
  "nbformat_minor": 0,
  "metadata": {
    "colab": {
      "provenance": [],
      "authorship_tag": "ABX9TyNbdGO+Us3DJJqsPsXjCK0+",
      "include_colab_link": true
    },
    "kernelspec": {
      "name": "python3",
      "display_name": "Python 3"
    },
    "language_info": {
      "name": "python"
    }
  },
  "cells": [
    {
      "cell_type": "markdown",
      "metadata": {
        "id": "view-in-github",
        "colab_type": "text"
      },
      "source": [
        "<a href=\"https://colab.research.google.com/github/jhportfolio1/Microsoft-AI-School/blob/main/DATA16_%EB%8B%A4%EB%B3%80%EB%9F%89%EB%B6%84%EC%84%9D.ipynb\" target=\"_parent\"><img src=\"https://colab.research.google.com/assets/colab-badge.svg\" alt=\"Open In Colab\"/></a>"
      ]
    },
    {
      "cell_type": "markdown",
      "source": [
        "# 1. 다변량 분석"
      ],
      "metadata": {
        "id": "ldZAKoF4yAat"
      }
    },
    {
      "cell_type": "markdown",
      "source": [
        ">## 1) 다변량 분석 소개\n",
        ">- 회귀분석 : 종속변수와 한개 이상 독립 변수 간의 관계를 분석하는 방법\n",
        ">- 다변량 분산 분석 : 종속변수가 여러개인 경우에 사용되는 분석방법\n",
        ">- 요인분석 :  다중변수 간의 상관관계 분석 후 변수들 사이 잠재적 요인 추출 방법\n",
        ">- 주성분분석(PCa) : 다중 변수들 간의 상관관계 고려하여 데이터를 새로운 축으로 변환하는 방법"
      ],
      "metadata": {
        "id": "W8E-K0QcyMqm"
      }
    },
    {
      "cell_type": "markdown",
      "source": [
        ">## 2) 다변량 데이터 특징 및 중요성\n",
        ">- 다양한 정보 제공 : 여러개 변수 포함하여 단일 변수 분석에 비해 많은 정보 제공\n",
        ">- 상관 관계 파악 : 다벼량 데이터에서 변수들 간 상관관계 파악 가능 \n",
        ">- 차원축소 : 변수의 수가 많아 차원축소기법 통해 변수 줄이고 복잡성 낮춰야함\n",
        ">- 예측 및 분류 : 예측 모델 개발 및 분류 작업에 유용"
      ],
      "metadata": {
        "id": "0KStLyxu2Wxw"
      }
    },
    {
      "cell_type": "markdown",
      "source": [
        ">## 3) 다변량 데이터 시각화\n",
        ">- 산점도 행렬\n",
        ">- 히트맵 \n",
        ">- 파이차트\n",
        ">- 등고선 그래프 : 변수간 상관관계 및 분포를 등고선으로 표현 \n",
        ">- 병렬좌표 : 변수를 수평 축으로 표시 후 데이터의 패턴 및 상관관계 시각화 \n",
        ">- 다차원 척도법 : 다변량 데이터의 변수들 간 거리 및 유사도를 보존하여 저차원 공간으로 축소"
      ],
      "metadata": {
        "id": "KuH3P8kI2sXt"
      }
    },
    {
      "cell_type": "markdown",
      "source": [
        "# 2. 다변량 정규분포 및 통계적 가설 검정"
      ],
      "metadata": {
        "id": "bzHYVFc33QPY"
      }
    },
    {
      "cell_type": "markdown",
      "source": [
        ">## 1) 다변량 데이터 정규분포 및 통계적 가설 검정 순서\n",
        ">- 가설검정 : 연구자가 관심있는 가설 설정\n",
        ">- 가설검정 통계량 계산 : 다변량 데이터의 특성에 맞는 통계량 계산 (T-통계량, F-통계량 사용)\n",
        ">- 유의수준설정 : 유의수준 설정 및 가설 검정할 기준 설정(0.05~0.01)\n",
        ">- 검정통계량과 기준값 비교 :검정 통계량과 기준값(유의수준) 비교\n",
        ">- 결과 해석"
      ],
      "metadata": {
        "id": "WHSxCKLf3Twi"
      }
    },
    {
      "cell_type": "markdown",
      "source": [
        ">## 2) 다변량 정규성 검정 방법\n",
        ">- 다변량 산점도 그래프\n",
        ">- 다변량 카이제곱 검정 : Mardia's Multivariate test, 왜도 및 첨도 평가\n",
        ">- 다변량 Shapiro-Wilk 검정\n",
        ">- 다변량 커트리스-마라테스 테스트 : 공분산 행렬의 특성값들이 정규분포 따르는지 확인하여 정규분포 확인"
      ],
      "metadata": {
        "id": "tLup_EYL3y2k"
      }
    },
    {
      "cell_type": "markdown",
      "source": [
        ">## 3) 다변량 통계적 가설검정 방법 (Hotelling's T-squared test)\n",
        ">- 데이터 2개이상 나누어져있을때, 그룹간 평균 파이의 유의성 검정하는 방법\n",
        ">- 다변량 분산분석(ANOVA) 다변량 확장된 개념 \n",
        ">- 그룹간 평균 차이 유의한지 검정하기 위해 통계량 계산하고, F분포와 비교하여 유의성 평가"
      ],
      "metadata": {
        "id": "AZLCFzvR4Vrv"
      }
    },
    {
      "cell_type": "markdown",
      "source": [
        "# 3. 다변량 이상치 탐지 \n",
        "- 다변량 통계적 방법 : 다변량 평균 벡터 및 공분산 행렬 추정후 Mahalanobis 거리 계산해서 이상치 식별\n",
        "- 기계학습 기반 방법 : ML알고리즘(One-Class SVM, Isolation Forest, Local Outlier Factor) 사용\n",
        "- 차원축소 기반 방법 : 다변량 데이터 차원 축소 후 축소된 공간에서 이상치 탐지(PCA 활용해서 주요 변동성 설명하는 주성분 찾는 것)"
      ],
      "metadata": {
        "id": "vroF-FpS4vak"
      }
    },
    {
      "cell_type": "markdown",
      "source": [
        "# 4. 다변량 선형 회귀 분석"
      ],
      "metadata": {
        "id": "0dGRKPvR5amq"
      }
    },
    {
      "cell_type": "markdown",
      "source": [
        ">## 1) 다변량 선형회귀분석이란?\n",
        ">- 종속변수와 n개의 독립변수 간 선형관계를 모델링하는 분석법\n",
        ">- 독립변수 1개 이상인 다변량 데이터에 대해 수행\n",
        ">- 독립변수 선형 조합으로 종속변수 예측\n",
        ">- 독립변수 간 상호작용 및 영향력 평가 가능 / 예측, 추정 가능\n",
        ">- 최소자승법(잔차의 제곱합을 최소화)으로 회귀계수 추정 "
      ],
      "metadata": {
        "id": "PLQeLI_J5eE2"
      }
    },
    {
      "cell_type": "markdown",
      "source": [
        ">## 2) 다변량 선형회귀 기본가정\n",
        ">- 선형성 가정 : 독립변수 및 종속변수 사이 선형 관계 있음을 가정\n",
        ">- 독립성 가정 : 독립변수 간 상관관계 없거나 약한 관계있음을 가정\n",
        ">- 등분산성 가정 : 오차 항 분산이 독립 변수에 관계없이 일정함을 가정\n",
        ">- 정규성 가정 : 오차 항이 정규분포 따름을 가정"
      ],
      "metadata": {
        "id": "nrpmDgG95r_u"
      }
    },
    {
      "cell_type": "markdown",
      "source": [
        ">## 3) 다변량 선형회귀 모델링 절차\n",
        ">- 데이터수집 : 독립변수 및 종속변수 데이터 수집\n",
        ">- 데이터전처리 : 결측치처리, 이상치제거, 데이터정규화 등\n",
        ">- 변수선택 : 독립변수 선택(상관관계, 변수유의성, 다중공선성 고려)\n",
        ">- 모델링 : 최소제곱법 등의 방법 사용\n",
        ">- 모델평가 : 모델적합도, 변수유의성, 잔차분석 등 평가 (가우시안잔차만족 평가)\n",
        ">- 모델개선 : 만족못하는 경우 변수선택, 데이터추가수집, 모델변경 등 작업통해 모델 개선\n",
        ">- 모델활용 : 예측, 추론에 사용"
      ],
      "metadata": {
        "id": "TOV8OphY6Kwg"
      }
    },
    {
      "cell_type": "markdown",
      "source": [
        "# 5. 최소자승법 이용한 다변량 선형 회귀 추정"
      ],
      "metadata": {
        "id": "NcZyOyQg6oA2"
      }
    },
    {
      "cell_type": "markdown",
      "source": [
        ">## 1) 최소자승법\n",
        ">- 다변량 선형회귀 분석에서 가장 일반석인 추정방법\n",
        ">- 종속변수와 독립변수 간 선형관계 모델링 후 회귀계수 추정방법\n",
        ">- 오차의 제곱합을 최소화하여 회귀계수 구하는 방법\\"
      ],
      "metadata": {
        "id": "Vvhyfh2z6tKQ"
      }
    },
    {
      "cell_type": "markdown",
      "source": [
        ">## 2) 최소자승법 선형회귀 추정 기본 순서\n",
        ">- 데이터준비 : 종속변수, 독립변수 포함 다변량 데이터 준비\n",
        ">- 회귀 모델 설정 : 다변량 선형 방정식 사용해 종속변수, 독립변수 간 선형관계 표현\n",
        ">- 회귀계수 추정 : 최소자승법 이용\n",
        ">- 모델평가(모델의 설명력) : 회귀계수의 유의성 검정, 모델의 적합도 평가 등 (T-통계량, F-통계량) \n",
        ">- 결과해석(독립변수의 영향력 및 방향성) : 회귀계수로 평가"
      ],
      "metadata": {
        "id": "jMq6rZEJ60Z0"
      }
    },
    {
      "cell_type": "markdown",
      "source": [
        "# 6. 회귀계수의 통계적 유의성 검정"
      ],
      "metadata": {
        "id": "T_nwuSg98E2N"
      }
    },
    {
      "cell_type": "markdown",
      "source": [
        ">## 1) 회귀계수의 통계적 유의성 검정\n",
        ">- t-통계량 사용\n",
        ">- t-통계량 : 회귀계수 추정치를 표준오차로 나눈 값\n",
        ">- 회귀계수가 표준오차에 비해 얼마나 큰지 나타냄"
      ],
      "metadata": {
        "id": "TC6fUMnxyXWL"
      }
    },
    {
      "cell_type": "markdown",
      "source": [
        ">## 2) 회귀계수의 통계적 유의성 검정 순서\n",
        ">- 가설설정 : 귀무가설/대립가설\n",
        ">- 귀무가설(H0) : 회귀계수가 0이다\n",
        ">- 대립가설(H1) : 회귀계수는 0이 아니다\n",
        "</br>\n",
        ">- t-통계량 계산 : 회귀 계수의 추정치를 해당 계수의 표준오차로 나눔\n",
        ">- 유의수준설정 : [0.05 : 0.01] 사이값\n",
        ">- 검정통계량과 기준값 비교 : t-통계량 > 기준값 (귀무가설 기각)\n",
        ">- 결과해석 : 귀무가설기가시 해당 회귀계수는 통계적으로 유의미한 영향 "
      ],
      "metadata": {
        "id": "Kq3d8qnn8IEU"
      }
    },
    {
      "cell_type": "markdown",
      "source": [
        "# 7. 다변량 차원 축소 방법\n",
        "- 고차원 데이터를 저차원으로 변환하는 기법\n",
        "- 데이터의 구조 및 패턴 파악, 시각화, 데이터압축, 노이즈 제거 등에 사용\n"
      ],
      "metadata": {
        "id": "a_o_CI7M81YD"
      }
    },
    {
      "cell_type": "markdown",
      "source": [
        ">## 1) 주성분분석(PCA)\n",
        ">- 데이터 분산을 최대로 보존하면서 주요한 정보를 포함하는 저차원 부분공간으로 데이터 변환\n",
        ">- 주성분은 데이터의 분산을 최대화 하는 방향 벡터로 정의됨\n",
        ">- 데이터를 전차원으로 압축할 수 있음\n",
        ">- 주성분의 개수를 조정하여 데이터의 차원 선택 가능"
      ],
      "metadata": {
        "id": "5Z1BWAEx89iR"
      }
    },
    {
      "cell_type": "markdown",
      "source": [
        ">## 2) 다차원 척도법(MDS) \n",
        ">- 데이터간 거리 행렬 기반으로 데이터를 저차원 공간에 배치하는 방법\n",
        ">- 데이터 포인트 사이 거리를 보존하며 고차원 데이를 저차원으로 변환\n",
        ">- MDS는 데이터간 유사성을 시각화할 수 있는 좌표 생성에 도움"
      ],
      "metadata": {
        "id": "Ne2A7k8K9Q4w"
      }
    },
    {
      "cell_type": "markdown",
      "source": [
        ">## 3) t-분포 확률적 임베딩(t-SNE)\n",
        ">- 고차원 데이터를 시각화 하기 위해 사용하는 비선형 차원축소방법\n",
        ">- 클러스터 시각화할 때 유용함\n",
        ">- 데이터 포인트간 유사성 보존하며 저차원에 배핑함\n",
        ">- t-SNE는 고차원 데이터 밀집도 기반으로 저차원 데이터 포인트 배치함"
      ],
      "metadata": {
        "id": "oQoMoCmh9cF0"
      }
    },
    {
      "cell_type": "markdown",
      "source": [
        ">## 4) 기타 분석 방법\n",
        ">- 선형 판별 분석(LDA)\n",
        ">- 이차원표현(QDA)\n",
        ">- 비음수행렬분해(NMF) "
      ],
      "metadata": {
        "id": "BvpWWLQG9vTj"
      }
    },
    {
      "cell_type": "markdown",
      "source": [
        "# 8. PCA 원리 및 주성분 해석\n",
        "- PCA : 다변량 데이터 차원 축소 기법, 데이터 분산 최대화하는 새로운 축 찾아서 데이터를 이축에 사영시킴\n",
        "- PCA : 데이터의 주요한 정보 보존하면서 저차원으로 표현 가능"
      ],
      "metadata": {
        "id": "MEDrwNAp976j"
      }
    },
    {
      "cell_type": "markdown",
      "source": [
        ">## 1) PCA 원리\n",
        ">- 공분산 행렬 계산 : 주어진 데이터의 공분산(변수들 간의 관계 타나내는 통계량) 행렬 계산\n",
        ">- 공분산 행렬의 고유값 분해 : 공분산 행렬을 고유값/고유벡터 조합으로 분해가능\n",
        ">- 주성분선택 : 고유값(데이터분산설명정도) 큰 순서대로 정렬, 방향벡터(변수들간의 가장 큰 분산)\n",
        ">- 주성분에 데이터사영 : 선택된 주성분 이용해 원본데이터를 새로운 축으로 사영시킴"
      ],
      "metadata": {
        "id": "qmoWrebD-LMK"
      }
    },
    {
      "cell_type": "markdown",
      "source": [
        ">## 2) PCA 주성분 해석 \n",
        ">- 주성분 : 데이터의 구조 설명하는데 도움되는 개별 변수 혹은 변수의 조합\n",
        ">- 고유값 클수록 해당축이 데이터 분산 잘 설명한다고 볼 수 있음\n",
        ">- 주성분 선택하고 데이터를 저차원에 투영하여, 데이터의 주요한 변동성 포착하고 이해가능"
      ],
      "metadata": {
        "id": "on7hUhLx-pJw"
      }
    },
    {
      "cell_type": "markdown",
      "source": [
        ">## 3) PCA 활용 차원축소 및 데이터 시각화 실습"
      ],
      "metadata": {
        "id": "r63uDA6s-87e"
      }
    },
    {
      "cell_type": "code",
      "source": [
        "import numpy as np\n",
        "from sklearn.decomposition import PCA\n",
        "import matplotlib.pyplot as plt\n",
        "\n",
        "#원본데이터생성\n",
        "data = np.random.rand(100,3)  #100개 샘플, 3개 변수로 구성된 데이터\n",
        "\n",
        "#PCA 모델 생성 및 학습\n",
        "pca = PCA(n_components=2)     #축소할 차원 수를 2로 설정\n",
        "reduced_data = pca.fit_transform(data)\n",
        "\n",
        "#축소된 데이터 시각화\n",
        "plt.scatter(reduced_data[:,0], reduced_data[:,1])\n",
        "plt.xlabel('Principal Component 1')\n",
        "plt.ylabel('Principal Component 2')\n",
        "plt.title('PCA - Dimensionality Reduction')\n",
        "plt.show()"
      ],
      "metadata": {
        "colab": {
          "base_uri": "https://localhost:8080/",
          "height": 472
        },
        "id": "kjSEBuuB74KP",
        "outputId": "757c4ccb-f568-42ec-9c80-0ef937ef373f"
      },
      "execution_count": 1,
      "outputs": [
        {
          "output_type": "display_data",
          "data": {
            "text/plain": [
              "<Figure size 640x480 with 1 Axes>"
            ],
            "image/png": "[encoded data removed]"
          },
          "metadata": {}
        }
      ]
    },
    {
      "cell_type": "code",
      "source": [],
      "metadata": {
        "id": "rvbTTvvd_kSg"
      },
      "execution_count": null,
      "outputs": []
    }
  ]
}