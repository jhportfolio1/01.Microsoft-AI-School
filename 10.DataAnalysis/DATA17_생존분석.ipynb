{
  "nbformat": 4,
  "nbformat_minor": 0,
  "metadata": {
    "colab": {
      "provenance": [],
      "authorship_tag": "ABX9TyNofikkwf/2tuz5A6RUNweF",
      "include_colab_link": true
    },
    "kernelspec": {
      "name": "python3",
      "display_name": "Python 3"
    },
    "language_info": {
      "name": "python"
    }
  },
  "cells": [
    {
      "cell_type": "markdown",
      "metadata": {
        "id": "view-in-github",
        "colab_type": "text"
      },
      "source": [
        "<a href=\"https://colab.research.google.com/github/jhportfolio1/Microsoft-AI-School/blob/main/DATA17_%EC%83%9D%EC%A1%B4%EB%B6%84%EC%84%9D.ipynb\" target=\"_parent\"><img src=\"https://colab.research.google.com/assets/colab-badge.svg\" alt=\"Open In Colab\"/></a>"
      ]
    },
    {
      "cell_type": "markdown",
      "source": [
        "# 1. 생존 분석 개요 및 목적"
      ],
      "metadata": {
        "id": "94exkly6ABag"
      }
    },
    {
      "cell_type": "markdown",
      "source": [
        ">## 1) 생존분석\n",
        ">- 시간에 따른 사건 발생 시간 데이터를 분석하는 통계 기법\n",
        ">- 생존시간, 사망시간, 고장시간 등 사건발생까지의 경과시간 나타냄\n"
      ],
      "metadata": {
        "id": "Ps3ZrTKcAHNi"
      }
    },
    {
      "cell_type": "markdown",
      "source": [
        ">## 2) 생존분석 목적\n",
        ">- 생존패턴 이해 : 사건발생까지의 시간에 대한 패턴(치료효과, 제품고장시간)\n",
        ">- 사건발생위험평가 : 위험비율 계산하여 사건이 미치는 영향 분석 가능\n",
        ">- 그룹간 비교 : 그룹간 생존 패턴 차이 비교 가능(약물치료 플라시보 효과 등)\n",
        ">- 이벤트발생예측 : 암환자 생존시간 예측 등"
      ],
      "metadata": {
        "id": "SwEPygDKAQZX"
      }
    },
    {
      "cell_type": "markdown",
      "source": [
        "# 2. 생존함수, 위험비율, 누적위험 기본개념"
      ],
      "metadata": {
        "id": "6BgC6U_LAjtO"
      }
    },
    {
      "cell_type": "markdown",
      "source": [
        ">## 1) 생존함수 S(t)\n",
        ">- 특정시간 이전에 사건 발생하지 않은 확률\n",
        ">- 주어진 시간 이후 사건 발생 확률 나타내는 함수\n",
        ">- 최종적으로 0에 수렴"
      ],
      "metadata": {
        "id": "kMeS7STUAphj"
      }
    },
    {
      "cell_type": "markdown",
      "source": [
        ">## 2) 위험비율\n",
        ">- 2개 이상 그룹간의 사건 발생 위험 비교시 사용\n",
        ">- 한 그룹의 사건 발생위험 / 다른그룹의 사건 발생 위험값\n",
        ">- 위험비율>1 : 해당 그룹의 사건발생위험 큼\n",
        ">- Cox비례위험 모형과 관련하여 분석"
      ],
      "metadata": {
        "id": "x9R-TqJwA1J7"
      }
    },
    {
      "cell_type": "markdown",
      "source": [
        ">## 3) 누적위험 H(t)\n",
        ">- 특정 시간까지의 누적된 위험 나타내는 함수\n",
        ">- 사건 발생 위험을 시간에 따라 누적하여 계산\n",
        ">- 시간에 따라 증가하고, 생존함수와 반대 경향"
      ],
      "metadata": {
        "id": "ZizKoMVhBJ-X"
      }
    },
    {
      "cell_type": "markdown",
      "source": [
        "# 3. 생존데이터 특징 및 수집방법"
      ],
      "metadata": {
        "id": "vqSULpZvBkib"
      }
    },
    {
      "cell_type": "markdown",
      "source": [
        ">## 1) 데이터별 특징\n",
        ">- 생존시간 : 시간단위표시, 개체의 생명력이나 실험조건에 따라 다양하게 측정됨\n",
        ">- 관련변수 : 특성, 실험조건, 환경조건 등 생존시간과 상관관계 파악시 사용\n",
        ">- 이벤트시간 : 개체가 특정 사건 발생후 얼마나 오래 생존했는지 나타냄"
      ],
      "metadata": {
        "id": "5Bitzd6dBnS4"
      }
    },
    {
      "cell_type": "markdown",
      "source": [
        ">## 2) 수집방법\n",
        ">- 임상시험\n",
        ">- 후향적 데이터 수집 : 의료기록, 보험청구데이터\n",
        ">- 실험연구\n",
        ">- 장기관찰"
      ],
      "metadata": {
        "id": "8StlyBmICAZS"
      }
    },
    {
      "cell_type": "markdown",
      "source": [
        "# 4. 오른쪽 편향(Censoring) 데이터 처리 방법"
      ],
      "metadata": {
        "id": "CGQXo0WMCNL0"
      }
    },
    {
      "cell_type": "markdown",
      "source": [
        ">## 1) 단순추정법\n",
        ">- 관찰된 데이터 분포 요약하여 추정\n",
        ">- 대상 사건이 발생하지 않은 경우 다룰때 사용"
      ],
      "metadata": {
        "id": "l60f3jXhCYeD"
      }
    },
    {
      "cell_type": "markdown",
      "source": [
        ">## 2) 치환법\n",
        ">- 오른쪽 편향 데이터 처리시 사용되는 방법\n",
        ">- 대상 사건 발생하지 않은 경우, 값을 가정하여 대체함\n",
        ">- 대체값 : 관찰된 데이터의 분포 기반으로 결정(최빈값, 평균값, 중앙값)\n",
        ">- 생존분석 : 사건발생시간에 대한 분석을 수행하는 통계적 기법(Kaplan-Meier, Cox비례위험모형)\n",
        ">- 보정 : 관찰된 데이터를 수정하여 오른쪽 편향을 보상함"
      ],
      "metadata": {
        "id": "oX5mgcpiCgIJ"
      }
    },
    {
      "cell_type": "markdown",
      "source": [
        "# 5. 생존함수 개념 및 추정 방법 설명"
      ],
      "metadata": {
        "id": "Bnf300J6DEiA"
      }
    },
    {
      "cell_type": "markdown",
      "source": [
        ">## 1) Kaplan-Meier(카플란 마이어) 추정법\n",
        ">- 비모수적 방법으로 생존함수 추정\n",
        ">- 시간을 일정하게 나누고, 해당 구간에서 사건 발생하지 않은 관찰값의 비율을 계산하여 생존함수 추정\n",
        ">- 오른쪽 편향 데이터 처리에도 유용함\n",
        ">- 생존곡선 : 계단모양으로 표시\n",
        ">- 다른 그룹간 생존 확률 비교에도 사용"
      ],
      "metadata": {
        "id": "QtCHv8WfDHaP"
      }
    },
    {
      "cell_type": "markdown",
      "source": [
        ">>### (1) 카플란 마이어 추정법 순서\n",
        ">>- 데이터수집 및 전처리 : 생존분석을 위한 데이터 수집, 전처리(생존시간, 사건발생여부, 오른쪽편향 처리)\n",
        ">>- 시간구간설정 : 일정구간으로 시간 나누어 생존확률 계산\n",
        ">>- 생존함수 및 생존곡선계산 : 구간별 생존확률 계산하여 생존함수 작성, 누적된 생존확률\n",
        ">>- 생존곡선시각화"
      ],
      "metadata": {
        "id": "M1bBvjfpD3Xd"
      }
    },
    {
      "cell_type": "markdown",
      "source": [
        ">>### (2) 카플란 마이어 추정법 실습\n",
        ">>- lifelines 라이브러리 사용 : 카플란마이어, Cox비례위험모형 등 있음"
      ],
      "metadata": {
        "id": "5Dqo8i2AEUvA"
      }
    },
    {
      "cell_type": "code",
      "source": [
        "pip install lifelines"
      ],
      "metadata": {
        "colab": {
          "base_uri": "https://localhost:8080/"
        },
        "id": "32lH53XoFVEg",
        "outputId": "83a8f246-8f0c-4666-e931-ae00b7b2c284"
      },
      "execution_count": 2,
      "outputs": [
        {
          "output_type": "stream",
          "name": "stdout",
          "text": [
            "Looking in indexes: https://pypi.org/simple, https://us-python.pkg.dev/colab-wheels/public/simple/\n",
            "Collecting lifelines\n",
            "  Downloading lifelines-0.27.7-py3-none-any.whl (409 kB)\n",
            "\u001b[2K     \u001b[90m━━━━━━━━━━━━━━━━━━━━━━━━━━━━━━━━━━━━━━━\u001b[0m \u001b[32m409.4/409.4 kB\u001b[0m \u001b[31m8.3 MB/s\u001b[0m eta \u001b[36m0:00:00\u001b[0m\n",
            "\u001b[?25hRequirement already satisfied: numpy>=1.14.0 in /usr/local/lib/python3.10/dist-packages (from lifelines) (1.22.4)\n",
            "Requirement already satisfied: scipy>=1.2.0 in /usr/local/lib/python3.10/dist-packages (from lifelines) (1.10.1)\n",
            "Requirement already satisfied: pandas>=1.0.0 in /usr/local/lib/python3.10/dist-packages (from lifelines) (1.5.3)\n",
            "Requirement already satisfied: matplotlib>=3.0 in /usr/local/lib/python3.10/dist-packages (from lifelines) (3.7.1)\n",
            "Requirement already satisfied: autograd>=1.5 in /usr/local/lib/python3.10/dist-packages (from lifelines) (1.5)\n",
            "Collecting autograd-gamma>=0.3 (from lifelines)\n",
            "  Downloading autograd-gamma-0.5.0.tar.gz (4.0 kB)\n",
            "  Preparing metadata (setup.py) ... \u001b[?25l\u001b[?25hdone\n",
            "Collecting formulaic>=0.2.2 (from lifelines)\n",
            "  Downloading formulaic-0.6.1-py3-none-any.whl (82 kB)\n",
            "\u001b[2K     \u001b[90m━━━━━━━━━━━━━━━━━━━━━━━━━━━━━━━━━━━━━━━━\u001b[0m \u001b[32m82.3/82.3 kB\u001b[0m \u001b[31m9.0 MB/s\u001b[0m eta \u001b[36m0:00:00\u001b[0m\n",
            "\u001b[?25hRequirement already satisfied: future>=0.15.2 in /usr/local/lib/python3.10/dist-packages (from autograd>=1.5->lifelines) (0.18.3)\n",
            "Collecting astor>=0.8 (from formulaic>=0.2.2->lifelines)\n",
            "  Downloading astor-0.8.1-py2.py3-none-any.whl (27 kB)\n",
            "Collecting interface-meta>=1.2.0 (from formulaic>=0.2.2->lifelines)\n",
            "  Downloading interface_meta-1.3.0-py3-none-any.whl (14 kB)\n",
            "Requirement already satisfied: typing-extensions>=4.2.0 in /usr/local/lib/python3.10/dist-packages (from formulaic>=0.2.2->lifelines) (4.5.0)\n",
            "Requirement already satisfied: wrapt>=1.0 in /usr/local/lib/python3.10/dist-packages (from formulaic>=0.2.2->lifelines) (1.14.1)\n",
            "Requirement already satisfied: contourpy>=1.0.1 in /usr/local/lib/python3.10/dist-packages (from matplotlib>=3.0->lifelines) (1.0.7)\n",
            "Requirement already satisfied: cycler>=0.10 in /usr/local/lib/python3.10/dist-packages (from matplotlib>=3.0->lifelines) (0.11.0)\n",
            "Requirement already satisfied: fonttools>=4.22.0 in /usr/local/lib/python3.10/dist-packages (from matplotlib>=3.0->lifelines) (4.39.3)\n",
            "Requirement already satisfied: kiwisolver>=1.0.1 in /usr/local/lib/python3.10/dist-packages (from matplotlib>=3.0->lifelines) (1.4.4)\n",
            "Requirement already satisfied: packaging>=20.0 in /usr/local/lib/python3.10/dist-packages (from matplotlib>=3.0->lifelines) (23.1)\n",
            "Requirement already satisfied: pillow>=6.2.0 in /usr/local/lib/python3.10/dist-packages (from matplotlib>=3.0->lifelines) (8.4.0)\n",
            "Requirement already satisfied: pyparsing>=2.3.1 in /usr/local/lib/python3.10/dist-packages (from matplotlib>=3.0->lifelines) (3.0.9)\n",
            "Requirement already satisfied: python-dateutil>=2.7 in /usr/local/lib/python3.10/dist-packages (from matplotlib>=3.0->lifelines) (2.8.2)\n",
            "Requirement already satisfied: pytz>=2020.1 in /usr/local/lib/python3.10/dist-packages (from pandas>=1.0.0->lifelines) (2022.7.1)\n",
            "Requirement already satisfied: six>=1.5 in /usr/local/lib/python3.10/dist-packages (from python-dateutil>=2.7->matplotlib>=3.0->lifelines) (1.16.0)\n",
            "Building wheels for collected packages: autograd-gamma\n",
            "  Building wheel for autograd-gamma (setup.py) ... \u001b[?25l\u001b[?25hdone\n",
            "  Created wheel for autograd-gamma: filename=autograd_gamma-0.5.0-py3-none-any.whl size=4031 sha256=196815f9a7cc8ceda742b747ebfb16501328295dc80a7d3b29c0f487108028f0\n",
            "  Stored in directory: /root/.cache/pip/wheels/25/cc/e0/ef2969164144c899fedb22b338f6703e2b9cf46eeebf254991\n",
            "Successfully built autograd-gamma\n",
            "Installing collected packages: interface-meta, astor, autograd-gamma, formulaic, lifelines\n",
            "Successfully installed astor-0.8.1 autograd-gamma-0.5.0 formulaic-0.6.1 interface-meta-1.3.0 lifelines-0.27.7\n"
          ]
        }
      ]
    },
    {
      "cell_type": "code",
      "source": [
        "import numpy as np\n",
        "from lifelines import KaplanMeierFitter\n",
        "import matplotlib.pyplot as plt\n",
        "\n",
        "#생존 시간 데이터와 사건 발생 여부 데이터 준비 \n",
        "time = np.array([10, 15, 20, 25, 30, 35, 40, 45, 50, 55, 60]) #생존 시간 데이터\n",
        "event = np.array([1, 0, 1, 1, 0, 1, 0, 1, 1, 0, 1]) #사건 발생 여부(1:사건발생, 0:오른쪽편향)\n",
        "\n",
        "#Kaplan-Meier 추정 객체 생성\n",
        "kmf = KaplanMeierFitter()\n",
        "\n",
        "#생존 곡선 추정\n",
        "kmf.fit(time,event)\n",
        "\n",
        "#생존 곡선 시각화\n",
        "kmf.plot()\n",
        "plt.xlabel('Time')\n",
        "plt.ylabel('Survival Probability')\n",
        "plt.title('Kaplan-Meier Survival Curve')\n",
        "plt.show()"
      ],
      "metadata": {
        "colab": {
          "base_uri": "https://localhost:8080/",
          "height": 472
        },
        "id": "GTDYqmN0Eclm",
        "outputId": "f276c209-1131-429b-90bb-e68e9d2a4138"
      },
      "execution_count": 3,
      "outputs": [
        {
          "output_type": "display_data",
          "data": {
            "text/plain": [
              "<Figure size 640x480 with 1 Axes>"
            ],
            "image/png": "[encoded data removed]"
          },
          "metadata": {}
        }
      ]
    },
    {
      "cell_type": "markdown",
      "source": [
        ">## 2) Cox 비례위험 모형\n",
        ">- 비모수적 모형 : 생존시간 분포에 대한 가정하지 않고 생존곡선 추정하지 않음\n",
        ">- 다변량모형 : 여러개의 예측 변수 동시에 고려하여 생존시간 예측하는 다변량 모형\n",
        ">- 비례위험 가정 : 위험비율은 시간에 따라 변하지 않음"
      ],
      "metadata": {
        "id": "fi_WxJ49DWNs"
      }
    },
    {
      "cell_type": "markdown",
      "source": [
        ">>### (1) Cox 비례위험모형 순서\n",
        ">>- 데이터준비 : 생존시간데이터, 예측변수 수집, 편향정보 확인\n",
        ">>- 모형적합 : Cox모형 적용\n",
        ">>- 모형평가 : 로그가능도, AIC, BIC 등으로 평가\n",
        ">>- 결과해석 : 적합된 모형통해 변수들의 상대적 위험비율 및 95% 신뢰구간 계산"
      ],
      "metadata": {
        "id": "Prx0fSr2GHOL"
      }
    },
    {
      "cell_type": "markdown",
      "source": [
        ">>### (2) 대체로 R로 진행함"
      ],
      "metadata": {
        "id": "Q-Tfz1FWKfX3"
      }
    },
    {
      "cell_type": "markdown",
      "source": [
        ">## 3) Log-Rank 검정\n",
        ">- 비모수적 검정방법 \n",
        ">- 다변량모형 : 2개 이상 그룹간 생존 곡선 차이 비교\n",
        ">- 카플란마이어 생존곡선 기반으로 함 \n",
        ">- 각 그룹 생존시간 데이터 및 오른쪽 편향 데이터 사용"
      ],
      "metadata": {
        "id": "X1_wS6mcG1-9"
      }
    },
    {
      "cell_type": "markdown",
      "source": [
        ">>### (1) Log-Rank 순서\n",
        ">>- 데이터 준비 : 그룹간 생존시간 데이터 및 편향정보 수집(각각 독립적)\n",
        ">>- 생존함수 및 생존곡선 계산 : 카플란마이어 추정법 사용\n",
        ">>- 검정 통계량 계산 : 관측된 이벤트 수와 기대 이벤트 수 사이의 차이 검정\n",
        ">>- 유의수준 : 0.05\n",
        ">>- 자유도 : (그룹수-1)\n",
        ">>- 가설검정 : 귀무가설 \"각 그룹의 생존곡선은 동일하다\" 검정 \n",
        ">>- 결과해석 : 유의수준에 따라 귀무가설 채택 or 기각\n",
        "\n"
      ],
      "metadata": {
        "id": "_uqoObjoHIEc"
      }
    },
    {
      "cell_type": "markdown",
      "source": [
        ">>### (2) Log-Rank 실습"
      ],
      "metadata": {
        "id": "HYckwll7IMap"
      }
    },
    {
      "cell_type": "code",
      "source": [
        "from lifelines import KaplanMeierFitter\n",
        "from lifelines.statistics import logrank_test\n",
        "from matplotlib import rcParams\n",
        "import matplotlib.pyplot as plt\n",
        "import numpy as np\n",
        "\n",
        "if __name__=='__main__':\n",
        "  \n",
        "  # 1. 데이터셋 입력\n",
        "  labels = ['Group1', 'Group2']\n",
        "  groups = [1,1,1,1,1,1,2,2,2,2,2,2]\n",
        "  events = [1,1,1,1,1,0,1,1,1,0,1,1]\n",
        "  times = [1, 2, 3, 4, 4.5, 5, 0.5, 0.75, 1, 1.5, 2, 3.5]\n",
        "\n",
        "  # 2. 데이터 전처리\n",
        "  E = np.array(events, dtype=np.int32)\n",
        "  T = np.array(times, dtype=np.float32)\n",
        "\n",
        "  # 3. matplotlib 설정\n",
        "  rcParams.update({'font.size':12})\n",
        "  fig, ax = plt.subplots(figsize=(5,5))\n",
        "  styles = ['-', '--']\n",
        "  colors = ['r', 'g']\n",
        "  lw = 3\n",
        "\n",
        "  # 4. 카플란마이어 그리기\n",
        "  kmf = KaplanMeierFitter()\n",
        "  for i, label in enumerate(labels):\n",
        "    ix = np.array(groups) == (i+1)\n",
        "    kmf.fit(T[ix], event_observed=E[ix], label=labels[i])\n",
        "    kmf.plot(ax=ax, ci_show=False, linewidth=lw, style=styles[i], c=colors[i])\n",
        "\n",
        "  # 5. LogRank 검정\n",
        "  ix = np.array(groups) == 2\n",
        "  result = logrank_test(T[ix], T[~ix], E[ix], E[~ix], alpha=.99)\n",
        "  pvalue = result.p_value\n",
        "  ax.text(3.4, 0.75, 'P-value=%.3f'% pvalue)    #위치(3.4, 0.75) 수동으로 저장필요\n",
        "\n",
        "  # 6. 시각화\n",
        "  ax.set_xlabel('Time', fontsize=14)\n",
        "  ax.set_ylabel('Survival', fontsize=14)\n",
        "  ax.legend(loc='upper right')\n",
        "\n",
        "  # 7. 그래프 저장하고 출력하기\n",
        "  plt.tight_layout()\n",
        "  plt.savefig('ex_kmplot.png', format='png', dpi=300)\n",
        "  plt.show()"
      ],
      "metadata": {
        "colab": {
          "base_uri": "https://localhost:8080/",
          "height": 501
        },
        "id": "IT7UEOu0GAjk",
        "outputId": "a8b7b932-d3d3-495c-cb9d-e29b4dfad824"
      },
      "execution_count": 5,
      "outputs": [
        {
          "output_type": "display_data",
          "data": {
            "text/plain": [
              "<Figure size 500x500 with 1 Axes>"
            ],
            "image/png": "[encoded data removed]"
          },
          "metadata": {}
        }
      ]
    },
    {
      "cell_type": "code",
      "source": [],
      "metadata": {
        "id": "akDq1OPCKRhF"
      },
      "execution_count": null,
      "outputs": []
    }
  ]
}
