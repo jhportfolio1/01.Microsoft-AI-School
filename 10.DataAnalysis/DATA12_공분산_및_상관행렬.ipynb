{
  "nbformat": 4,
  "nbformat_minor": 0,
  "metadata": {
    "colab": {
      "provenance": [],
      "authorship_tag": "ABX9TyONLKGuVz2QM3xgVOVLATUG",
      "include_colab_link": true
    },
    "kernelspec": {
      "name": "python3",
      "display_name": "Python 3"
    },
    "language_info": {
      "name": "python"
    }
  },
  "cells": [
    {
      "cell_type": "markdown",
      "metadata": {
        "id": "view-in-github",
        "colab_type": "text"
      },
      "source": [
        "<a href=\"https://colab.research.google.com/github/jhportfolio1/MsAiSchool10_DataAnalysis/blob/main/DATA12_%EA%B3%B5%EB%B6%84%EC%82%B0_%EB%B0%8F_%EC%83%81%EA%B4%80%ED%96%89%EB%A0%AC.ipynb\" target=\"_parent\"><img src=\"https://colab.research.google.com/assets/colab-badge.svg\" alt=\"Open In Colab\"/></a>"
      ]
    },
    {
      "cell_type": "markdown",
      "source": [
        "# 1. 공분산 및 상관행렬 개념"
      ],
      "metadata": {
        "id": "R-zchswSvjBT"
      }
    },
    {
      "cell_type": "markdown",
      "source": [
        ">## 1) 공분산"
      ],
      "metadata": {
        "id": "BibJ_YYkvl6a"
      }
    },
    {
      "cell_type": "markdown",
      "source": [
        ">>### (1) 공분산 개념\n",
        ">- 두 변수 간의 관련성 및 방향 나타내는 통계적 측도\n",
        ">- 두 변수가 함께 변하는 정도를 나타냄\n",
        ">- 공분산 값이 양수인경우 두 변수가 함께 증가/감소하는 경향있음\n",
        ">- 음수인 경우 하나의 변수 증가할 때 다른 변수 감소하는 경향\n",
        ">- 공분산 절대값으로만 변수 관련성 정도 비교하기 어려움"
      ],
      "metadata": {
        "id": "656DfGKKwytb"
      }
    },
    {
      "cell_type": "markdown",
      "source": [
        ">>### (2) 공분산 의미\n",
        ">>- 관계의 존재여부 : 공분산 0 아닌 경우, 변수 간에 관계 존재함\n",
        ">>- 관계의 강도 : 공분산 절대값 클수록 관련성 증가\n",
        ">>- 단위의존성 : 변수 단위에 의존적이어서, 값만으로는 변수정도 비교 어려움"
      ],
      "metadata": {
        "id": "FP82_ctMw1I8"
      }
    },
    {
      "cell_type": "markdown",
      "source": [
        ">>### (3) 공분산 계산 방법\n",
        ">>- 각 변수의 평균 계산 \n",
        ">>- 각 변수에서 평균을 뺀 값 계산\n",
        ">>- 값들의 곱 계산 : (x-평균x)*(y-평균y)\n",
        ">>- 값들의 곱의 평균 = 공분산"
      ],
      "metadata": {
        "id": "7Qorl7DnxE6c"
      }
    },
    {
      "cell_type": "markdown",
      "source": [
        ">>### (4) 공분산 행렬\n",
        ">>- 변수들간의 공분산을 나타내는 정사각 행렬\n",
        ">>- 변수간 상호작용 및 관련성 파악에 유용\n",
        ">>- 데이터 분석 및 다변량 통계분석에 활용\n",
        ">>- 20개 변수 분석시 : 20x20 행렬이 필요함"
      ],
      "metadata": {
        "id": "GFRyoivaxen8"
      }
    },
    {
      "cell_type": "markdown",
      "source": [
        ">>### (5) 공분산 장단점\n",
        ">>- 장점 : 변수간 관계측정 및 변동성 비교에 유용\n",
        ">>- 단점1 : 단위의존적으로, 변수 단위 변화시 공분산 단위도 달라짐\n",
        ">>- 단점2 : 선형관계만 고려함, 그 자체만으로 강도를 정량적으로 비교하기 어려움"
      ],
      "metadata": {
        "id": "DYbHVJe23s3L"
      }
    },
    {
      "cell_type": "markdown",
      "source": [
        ">## 2) 상관행렬\n"
      ],
      "metadata": {
        "id": "IR8ylu9Av4U-"
      }
    },
    {
      "cell_type": "markdown",
      "source": [
        ">>### (1) 상관행렬 개념\n",
        ">>- 공분산을 정규화 한 것 \n",
        ">>- 변수간의 선형관계 나타내는 행렬\n",
        ">>- 상관계수 -1 : 음의 상관관계\n",
        ">>- 상관계수 0 : 상관관계 없음\n",
        ">>- 상관계수 1 : 양의 상관관계"
      ],
      "metadata": {
        "id": "nW-Pm6SzywcO"
      }
    },
    {
      "cell_type": "markdown",
      "source": [
        ">>### (2) 상관행렬 의미\n",
        ">>- 다변량 데이터에서 변수들간의 관계 선형관계 파악하는 정사각 행렬\n",
        ">>- 공분산 행렬을 표준화하여 정규화된 지표로 변환한 것\n",
        ">>- 변수들 간의 관계 이해\n",
        ">>- 변수 선택 및 차원축소 작업에 활용 가능\n",
        ">>- 다중공선성(변수사이의 너무 높은 상관관계있는 경우 발생하는 문제) 판단\n",
        ">>- 데이터 시각화"
      ],
      "metadata": {
        "id": "jo3n0SbVy0IM"
      }
    },
    {
      "cell_type": "markdown",
      "source": [
        ">>### (3) 상관행렬 계산방법\n",
        ">>- 다변량 데이터셋 준비 ; 관축치로 이루어진 행렬형태여야 함\n",
        ">>- 각 변수의 평균 계산\n",
        ">>- 각 변수에서 평균값 뺀 값 계산\n",
        ">>- 표준편차 계산\n",
        ">>- 공분산 계산\n",
        ">>- 상관계수 계산 : 공분산을 표준편차의 곱으로 나누어 정규화한 값\n",
        ">>- 상관행렬 구성"
      ],
      "metadata": {
        "id": "E_qSeJkJzPiZ"
      }
    },
    {
      "cell_type": "markdown",
      "source": [
        ">>### (4) 상관행렬 \n",
        ">>- 대칭성 : 변수간 상관계수가 양방향을 동일함\n",
        ">>- 대각선 값 : 항상 1\n",
        ">>- 대칭성/대각선값 통해 행렬의 중복계산 줄여줌 -> 계산효율 높임 "
      ],
      "metadata": {
        "id": "M_Y0TzC2zpom"
      }
    },
    {
      "cell_type": "markdown",
      "source": [
        ">>### (5) 상관행렬 장단점\n",
        ">>- 장점 : 선형관계 파악 유용, 편수단위 독립적이어서 단위가 달라도 비교가능, 다중공선성 판단에 유용\n",
        ">>- 단점1 : 비선형관계 파악 어려움, 인과관계 아닌 관련성만 보여줌\n",
        ">>- 단점2 : 선형관계만 파악하므로 변수의 변동성 및 다른 관계 파악 어려움"
      ],
      "metadata": {
        "id": "XBY3C4aG4JDT"
      }
    },
    {
      "cell_type": "markdown",
      "source": [
        ">## 3) 공분산과 상관행렬의 차이"
      ],
      "metadata": {
        "id": "FIWLxlrN0K2D"
      }
    },
    {
      "cell_type": "markdown",
      "source": [
        ">>### (1) 정의의 차이\n",
        ">>- 공분산 : 두 변수간의 변동성 측정\n",
        ">>- 상관행렬 : 공분산 표준화 / 변수들간의 선형관계 파악하는데 사용하는 정규화된 지표"
      ],
      "metadata": {
        "id": "GBc9cLsK0Rhy"
      }
    },
    {
      "cell_type": "markdown",
      "source": [
        ">>### (2) 값의 범위 차이\n",
        ">>- 공분산 : 변수들의 단위에 의존\n",
        ">>- 상관계수 : -1~1까지의 범위"
      ],
      "metadata": {
        "id": "ruG_zWXc1O0S"
      }
    },
    {
      "cell_type": "markdown",
      "source": [
        ">>## (3) 해석의 차이\n",
        ">>- 공분산 : 두 변수 관계 나타내는데 사용 / 값 자체만으로 강도 비교는 어려움\n",
        ">>- 상관계수 : -1, 0, 1 로 판단"
      ],
      "metadata": {
        "id": "EFxojROU3gPo"
      }
    },
    {
      "cell_type": "markdown",
      "source": [
        "# 2. 공분산과 상관 행렬의 중요성 및 활용 사례\n",
        "- 관련성 및 의존성 분석 \n",
        "- 변수 선택 및 다중공선성 판단\n",
        "- 차원축소\n",
        "- 포트폴리오 관리\n",
        "- 데이터 시각화"
      ],
      "metadata": {
        "id": "VYSOYOJuwLjJ"
      }
    },
    {
      "cell_type": "markdown",
      "source": [
        "# 3. 상관행렬의 공분상 행렬 정규화 제공 중요성\n",
        "- 단위의 영향 제거 \n",
        "- 일반화된 비교 가능성 : 변수간의 선형관계 비교\n",
        "- 다중공선성 판단 : 변수간 상관관계 높을때 다중공선성 있는지 판단"
      ],
      "metadata": {
        "id": "3V5KqNDMI5gE"
      }
    },
    {
      "cell_type": "markdown",
      "source": [
        "# 4. 공분산 및 상환행렬 계산 및 해석 실습"
      ],
      "metadata": {
        "id": "wTytSp9hJYco"
      }
    },
    {
      "cell_type": "code",
      "source": [
        "import numpy as np\n",
        "\n",
        "#예시 데이터 생성\n",
        "x = np.array([1,2,3,4,5])   #변수의 x값\n",
        "y = np.array([2,4,6,8,10])  #변수의 y값\n",
        "z = np.array([3,6,9,12,15]) #변수의 z값\n",
        "\n",
        "#공분산 계산\n",
        "cor_matrix = np.cov([x,y,z])\n",
        "print(\"Covariance Matrix:\")\n",
        "print(cov_matrix)\n",
        "\n",
        "#상관행렬계산\n",
        "cov_matrix = np.corrcoef([x,y,z])\n",
        "print(\"\\nCorrelation Matrix:\")\n",
        "print(cov_matrix)"
      ],
      "metadata": {
        "colab": {
          "base_uri": "https://localhost:8080/"
        },
        "id": "k2AE_bYfI14l",
        "outputId": "ab685d8e-521b-482b-805f-e8dc467597c1"
      },
      "execution_count": 5,
      "outputs": [
        {
          "output_type": "stream",
          "name": "stdout",
          "text": [
            "Covariance Matrix:\n",
            "[[ 2.5  5.   7.5]\n",
            " [ 5.  10.  15. ]\n",
            " [ 7.5 15.  22.5]]\n",
            "\n",
            "Correlation Matrix:\n",
            "[[1. 1. 1.]\n",
            " [1. 1. 1.]\n",
            " [1. 1. 1.]]\n"
          ]
        }
      ]
    },
    {
      "cell_type": "markdown",
      "source": [
        "# 5. 상관행렬을 사용한 변수선택 및 다중 공선성 판단 실습"
      ],
      "metadata": {
        "id": "KnqZwgY9LF10"
      }
    },
    {
      "cell_type": "code",
      "source": [
        "import numpy as np\n",
        "\n",
        "#예시 데이터 생성\n",
        "x1 = np.array([1,2,3,4,5])   #변수의 x값\n",
        "x2 = np.array([2,4,6,8,10])  #변수의 y값\n",
        "x3 = np.array([3,6,9,12,15]) #변수의 z값\n",
        "\n",
        "#데이터 행렬 생성\n",
        "data = np.vstack([x1, x2, x3]).T\n",
        "\n",
        "#상관행렬계산\n",
        "cor_matrix = np.corrcoef(data, rowvar=False)\n",
        "\n",
        "#각 변수들 간의 상관 계수 출력\n",
        "print(\"Correlation Coefficients:\")\n",
        "print(cor_matrix)\n",
        "\n",
        "#다중공선성 판단\n",
        "threshold = 0.7   #상관 계수의 임계값 설정\n",
        "\n",
        "print(\"\\nVariables with high multicollinearity:\")\n",
        "for i in range(cor_matrix.shape[0]):\n",
        "  for j in range(i+1, cor_matrix.shape[1]):\n",
        "    if abs(cor_matrix[i, j]) > threshold:\n",
        "      print(f\"Variable {i+1} and Variable {j+1}\")"
      ],
      "metadata": {
        "colab": {
          "base_uri": "https://localhost:8080/"
        },
        "id": "4Vq5dyi3J-SK",
        "outputId": "eb59b9e7-9a22-4f09-dcb0-5a932e0d0fbc"
      },
      "execution_count": 8,
      "outputs": [
        {
          "output_type": "stream",
          "name": "stdout",
          "text": [
            "Correlation Coefficients:\n",
            "[[1. 1. 1.]\n",
            " [1. 1. 1.]\n",
            " [1. 1. 1.]]\n",
            "\n",
            "Variables with high multicollinearity:\n",
            "Variable 1 and Variable 2\n",
            "Variable 1 and Variable 3\n",
            "Variable 2 and Variable 3\n"
          ]
        }
      ]
    },
    {
      "cell_type": "markdown",
      "source": [
        "# 6. 상관행렬 사용한 차원축소 및 데이터 시각화 실습"
      ],
      "metadata": {
        "id": "MphfgKjfLlxG"
      }
    },
    {
      "cell_type": "markdown",
      "source": [
        ">## 1) 임계값 없이 진행\n",
        ">- 상관관계 약하게 나타남"
      ],
      "metadata": {
        "id": "ofv-mG_JN_nT"
      }
    },
    {
      "cell_type": "code",
      "source": [
        "import numpy as np\n",
        "import matplotlib.pyplot as plt\n",
        "import seaborn as sns\n",
        "\n",
        "#예시 데이터 생성\n",
        "x1 = np.random.normal(0, 1, 100)  #변수 x1의 값\n",
        "x2 = np.random.normal(0, 1, 100)  #변수 x2의 값\n",
        "x3 = np.random.normal(0, 1, 100)  #변수 x3의 값\n",
        "\n",
        "#데이터 행렬 생성\n",
        "data = np.vstack([x1, x2, x3]).T\n",
        "\n",
        "#상관 행렬 계산\n",
        "cor_matrix = np.corrcoef(data, rowvar=False)\n",
        "\n",
        "#히트맵으로 상관행렬 시각화\n",
        "plt.figure(figsize=(8,6))\n",
        "sns.heatmap(cor_matrix, annot=True, cmap='coolwarm')\n",
        "plt.title('Correlation Matrix')\n",
        "plt.show()"
      ],
      "metadata": {
        "colab": {
          "base_uri": "https://localhost:8080/",
          "height": 545
        },
        "id": "CaUgGib3K1JT",
        "outputId": "1a32b440-4d43-434c-97b9-70f19b2f3ea2"
      },
      "execution_count": 11,
      "outputs": [
        {
          "output_type": "display_data",
          "data": {
            "text/plain": [
              "<Figure size 800x600 with 2 Axes>"
            ],
            "image/png": "[encoded data removed]"
          },
          "metadata": {}
        }
      ]
    },
    {
      "cell_type": "markdown",
      "source": [
        ">## 2) 임계값 설정 후 진행"
      ],
      "metadata": {
        "id": "vCcgdOVVODCh"
      }
    },
    {
      "cell_type": "code",
      "source": [
        "# 상관 계수의 절대값이 일정 임계값 이상인 변수 선택\n",
        "threshold = 0.3\n",
        "\n",
        "selected_vars = []\n",
        "for i in range(cor_matrix.shape[0]):\n",
        "  for j in range(i+1, cor_matrix.shape[1]):\n",
        "    if abs(cor_matrix[i, j]) > threshold:\n",
        "           selected_vars.exted([i,j])\n",
        "\n",
        "# 선택된 변수들로 차원 축소된 데이터 생성\n",
        "if selected_vars:\n",
        "  reduced_data = data[:, list(set(selected_vars))]\n",
        "\n",
        "  #차원 축소된 데이터 시각화\n",
        "  plt.figure(figsize=(8,6))\n",
        "  plt.scatter(reduced_data[:, 0], reduced_data[:,1])\n",
        "  plt.xlabel('Reduced Variable 1')\n",
        "  plt.ylabel('Reduced Variable 2')\n",
        "  plt.title('Dimensionality Reduced Data')\n",
        "  plt.show()\n",
        "\n",
        "else:\n",
        "  print(\"데이터셋에서 선택된 변수가 없어 차원 축소가 이루어지지 않았음\")"
      ],
      "metadata": {
        "colab": {
          "base_uri": "https://localhost:8080/"
        },
        "id": "UFTL2UR4MH5Q",
        "outputId": "03fc74a2-0e1d-4078-e6bc-fcc4b85ebf29"
      },
      "execution_count": 12,
      "outputs": [
        {
          "output_type": "stream",
          "name": "stdout",
          "text": [
            "데이터셋에서 선택된 변수가 없어 차원 축소가 이루어지지 않았음\n"
          ]
        }
      ]
    },
    {
      "cell_type": "markdown",
      "source": [
        "# 7. seaborn 라이브러리에서 상관계수 구하기 실습"
      ],
      "metadata": {
        "id": "AHnyUI0uPDHG"
      }
    },
    {
      "cell_type": "markdown",
      "source": [
        ">## Tip 데이터셋 이용"
      ],
      "metadata": {
        "id": "IONhXSfvYI4s"
      }
    },
    {
      "cell_type": "code",
      "source": [
        "#seaborn 라이브러리에서 상관계수 구하는 내장함수 예시\n",
        "\n",
        "import seaborn as sns\n",
        "\n",
        "tips = sns.load_dataset('tips')\n",
        "\n",
        "corr=tips['total_bill'].corr(tips['tip'], method='pearson')\n",
        "print('Pearson correlation coeffiecient:', corr)\n",
        "\n",
        "print(type(tips))"
      ],
      "metadata": {
        "colab": {
          "base_uri": "https://localhost:8080/"
        },
        "id": "HuvJ7fFVO2cB",
        "outputId": "98a8c193-3463-47fa-bf90-0257a5aae04b"
      },
      "execution_count": 14,
      "outputs": [
        {
          "output_type": "stream",
          "name": "stdout",
          "text": [
            "Pearson correlation coeffiecient: 0.6757341092113641\n",
            "<class 'pandas.core.frame.DataFrame'>\n"
          ]
        }
      ]
    },
    {
      "cell_type": "code",
      "source": [
        "print(tips)"
      ],
      "metadata": {
        "colab": {
          "base_uri": "https://localhost:8080/"
        },
        "id": "DwjOD6LJPgC4",
        "outputId": "6c7de7b9-5caf-47ad-d5f9-b5dd3598a63a"
      },
      "execution_count": 15,
      "outputs": [
        {
          "output_type": "stream",
          "name": "stdout",
          "text": [
            "     total_bill   tip     sex smoker   day    time  size\n",
            "0         16.99  1.01  Female     No   Sun  Dinner     2\n",
            "1         10.34  1.66    Male     No   Sun  Dinner     3\n",
            "2         21.01  3.50    Male     No   Sun  Dinner     3\n",
            "3         23.68  3.31    Male     No   Sun  Dinner     2\n",
            "4         24.59  3.61  Female     No   Sun  Dinner     4\n",
            "..          ...   ...     ...    ...   ...     ...   ...\n",
            "239       29.03  5.92    Male     No   Sat  Dinner     3\n",
            "240       27.18  2.00  Female    Yes   Sat  Dinner     2\n",
            "241       22.67  2.00    Male    Yes   Sat  Dinner     2\n",
            "242       17.82  1.75    Male     No   Sat  Dinner     2\n",
            "243       18.78  3.00  Female     No  Thur  Dinner     2\n",
            "\n",
            "[244 rows x 7 columns]\n"
          ]
        }
      ]
    },
    {
      "cell_type": "code",
      "source": [
        "corr = tips.corr()"
      ],
      "metadata": {
        "colab": {
          "base_uri": "https://localhost:8080/"
        },
        "id": "4VwIGH4BWV6s",
        "outputId": "2019100f-3035-442b-a61a-f91133a043bc"
      },
      "execution_count": 16,
      "outputs": [
        {
          "output_type": "stream",
          "name": "stderr",
          "text": [
            "<ipython-input-16-54c36fc21d8b>:1: FutureWarning: The default value of numeric_only in DataFrame.corr is deprecated. In a future version, it will default to False. Select only valid columns or specify the value of numeric_only to silence this warning.\n",
            "  corr = tips.corr()\n"
          ]
        }
      ]
    },
    {
      "cell_type": "code",
      "source": [
        "print(corr)"
      ],
      "metadata": {
        "colab": {
          "base_uri": "https://localhost:8080/"
        },
        "id": "BEMFpfzyWYlB",
        "outputId": "83a8aa72-f58e-4b8c-fca0-ff2ceac28857"
      },
      "execution_count": 17,
      "outputs": [
        {
          "output_type": "stream",
          "name": "stdout",
          "text": [
            "            total_bill       tip      size\n",
            "total_bill    1.000000  0.675734  0.598315\n",
            "tip           0.675734  1.000000  0.489299\n",
            "size          0.598315  0.489299  1.000000\n"
          ]
        }
      ]
    },
    {
      "cell_type": "markdown",
      "source": [
        ">>### 성적 상관관계"
      ],
      "metadata": {
        "id": "jylc6RIcd2-I"
      }
    },
    {
      "cell_type": "code",
      "source": [
        "import numpy as np\n",
        "import pandas as pd\n",
        "\n",
        "#과목별 성적 데이터\n",
        "np.random.seed(42)\n",
        "math_scores = np.random.normal(loc=70, scale=10, size=(300,))\n",
        "english_scores = np.random.normal(loc=80, scale=8, size=(300,))\n",
        "korean_scores = np.random.normal(loc=75, scale=12, size=(300,))\n",
        "\n",
        "#학년 데이터\n",
        "grades = np.repeat([1,2,3], 100)\n",
        "\n",
        "#데이터프레임 생성\n",
        "df = pd.DataFrame({\n",
        "    'Grade': grades,\n",
        "    'Math' : math_scores,\n",
        "    'English' : english_scores,\n",
        "    'Korean' : korean_scores\n",
        "})\n",
        "\n",
        "#데이터셋 파일 만들기\n",
        "df.to_csv('student_score.csv', index=False)\n",
        "\n",
        "print(df)"
      ],
      "metadata": {
        "colab": {
          "base_uri": "https://localhost:8080/"
        },
        "id": "eQAUQkYDd4jd",
        "outputId": "5da07a4f-7ac8-4a26-88aa-83fbc0ab6b61"
      },
      "execution_count": 26,
      "outputs": [
        {
          "output_type": "stream",
          "name": "stdout",
          "text": [
            "     Grade       Math    English     Korean\n",
            "0        1  74.967142  73.368040  84.083863\n",
            "1        1  68.617357  75.518552  63.934016\n",
            "2        1  76.476885  85.978349  85.435271\n",
            "3        1  85.230299  84.882962  91.267654\n",
            "4        1  67.658466  79.832787  79.961219\n",
            "..     ...        ...        ...        ...\n",
            "295      3  63.070904  75.919869  82.784519\n",
            "296      3  78.995999  77.841001  72.994583\n",
            "297      3  73.072995  72.169890  76.760564\n",
            "298      3  78.128621  76.445654  89.478108\n",
            "299      3  76.296288  83.018404  65.196772\n",
            "\n",
            "[300 rows x 4 columns]\n"
          ]
        }
      ]
    },
    {
      "cell_type": "code",
      "source": [
        "#데이터 시각화\n",
        "\n",
        "import matplotlib.pyplot as plt\n",
        "\n",
        "plt.hist(df['Math'], bins=10)"
      ],
      "metadata": {
        "colab": {
          "base_uri": "https://localhost:8080/",
          "height": 522
        },
        "id": "WVoBxJptebdT",
        "outputId": "a2976648-05b6-4150-c170-49172b9a904e"
      },
      "execution_count": 30,
      "outputs": [
        {
          "output_type": "execute_result",
          "data": {
            "text/plain": [
              "(array([ 2.,  7., 31., 66., 81., 75., 25., 10.,  2.,  1.]),\n",
              " array([ 37.5873266 ,  44.68132543,  51.77532426,  58.86932309,\n",
              "         65.96332192,  73.05732075,  80.15131958,  87.24531841,\n",
              "         94.33931725, 101.43331608, 108.52731491]),\n",
              " <BarContainer object of 10 artists>)"
            ]
          },
          "metadata": {},
          "execution_count": 30
        },
        {
          "output_type": "display_data",
          "data": {
            "text/plain": [
              "<Figure size 640x480 with 1 Axes>"
            ],
            "image/png": "[encoded data removed]"
          },
          "metadata": {}
        }
      ]
    },
    {
      "cell_type": "code",
      "source": [
        "#상관관계 분석\n",
        "\n",
        "corr = df.corr()"
      ],
      "metadata": {
        "id": "oBs4RJkJe_Gm"
      },
      "execution_count": 31,
      "outputs": []
    },
    {
      "cell_type": "code",
      "source": [
        "#상관관계 시각화\n",
        "\n",
        "import seaborn as sns\n",
        "\n",
        "sns.heatmap(corr, annot=True)\n",
        "plt.show()"
      ],
      "metadata": {
        "colab": {
          "base_uri": "https://localhost:8080/",
          "height": 435
        },
        "id": "_8v9EW8IfPW2",
        "outputId": "57836086-8697-4758-8b89-1c2aae028ab5"
      },
      "execution_count": 33,
      "outputs": [
        {
          "output_type": "display_data",
          "data": {
            "text/plain": [
              "<Figure size 640x480 with 2 Axes>"
            ],
            "image/png": "[encoded data removed]"
          },
          "metadata": {}
        }
      ]
    },
    {
      "cell_type": "code",
      "source": [],
      "metadata": {
        "id": "seFNBQIpfXGg"
      },
      "execution_count": null,
      "outputs": []
    }
  ]
}