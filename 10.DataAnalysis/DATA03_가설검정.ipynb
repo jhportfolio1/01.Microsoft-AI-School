{
  "nbformat": 4,
  "nbformat_minor": 0,
  "metadata": {
    "colab": {
      "provenance": [],
      "toc_visible": true,
      "authorship_tag": "ABX9TyOVYCR/ozChlPejXPLSNVZs",
      "include_colab_link": true
    },
    "kernelspec": {
      "name": "python3",
      "display_name": "Python 3"
    },
    "language_info": {
      "name": "python"
    }
  },
  "cells": [
    {
      "cell_type": "markdown",
      "metadata": {
        "id": "view-in-github",
        "colab_type": "text"
      },
      "source": [
        "<a href=\"https://colab.research.google.com/github/jhportfolio1/MsAiSchool10_StatisticalData/blob/main/DATA03_%EA%B0%80%EC%84%A4%EA%B2%80%EC%A0%95.ipynb\" target=\"_parent\"><img src=\"https://colab.research.google.com/assets/colab-badge.svg\" alt=\"Open In Colab\"/></a>"
      ]
    },
    {
      "cell_type": "markdown",
      "source": [
        "# 1. 가설 검정 개념이해\n",
        "- 어떤 가설이 옳은지/틀렸는지 검증하는 과정\n",
        "- 데이터를 수집하고 분석하여 추론하는 과정에서 사용"
      ],
      "metadata": {
        "id": "XIZn1T3SEL2T"
      }
    },
    {
      "cell_type": "markdown",
      "source": [
        ">## 1) 귀무가설\n",
        "- '검증하려는 주장이 틀렸다'는 것을 입증하기 위해 세우는 가설\n",
        "- 어떤 인과관계나 차이가 존재하지 않는 다는 가정\n",
        "- 연구자가 반드시 입증해야 하는 가설로 이를 기각하는 것이 주요 목표\n",
        "- 유의수준(significance level) : 0.05~0.01로 설정함\n",
        "- 결과가 1~5% 이하일때 기각한다는 의미\n",
        "- p-value와 함께 고려함"
      ],
      "metadata": {
        "id": "pxCyBAqwERae"
      }
    },
    {
      "cell_type": "markdown",
      "source": [
        ">## 2) 대립가설\n",
        "- 연구자가 검증하고자 하는 가설\n",
        "- 대립가설은 실험결과에 영향을 주는 요인이 있다는 가설 / 귀무가설 기각시 채택\n",
        "- 양측성 : 두가지 결과 중 하나가 발생할 수 있는 경우\n",
        "- 단측성 : 한 방향으로만 결과가 나오는 경우"
      ],
      "metadata": {
        "id": "iM_LjuhcEg-d"
      }
    },
    {
      "cell_type": "markdown",
      "source": [
        ">## 3) 일원 분산 분석(One-way ANOVA)\n",
        "- 일원분산분석 : 1개 독립 변수로 종속변수의 평균에 차이가 있는지 검정함\n",
        "- 종속변수 : 수치형데이터 / 정규형분포 따르는 것이 좋음\n",
        "- 여러개 그룹 비교할 때 유용한 방법\n",
        "- F-통계량 사용하여 검정\n",
        "- 각 그룹의 샘플 수 비슷한지 확인하고 정규성 검정하는 것이 좋음"
      ],
      "metadata": {
        "id": "q5l5lHYjICK9"
      }
    },
    {
      "cell_type": "markdown",
      "source": [
        ">## 4) 이원 분산 분석(Two-way ANOVA)\n",
        "- 이원분산분석 : 두가지 요인(factor)에 따른 평균값의 차이를 비교하는 방법\n",
        "- 각 요인은 두개 이상의 수준을 가질 수 있음\n",
        "- F-검정 사용\n",
        "- 다중변수간 영향파악\n",
        "- 상호작용 효과파악\n",
        "- 분석의 정확도향상"
      ],
      "metadata": {
        "id": "GWnHbZ83NKe6"
      }
    },
    {
      "cell_type": "markdown",
      "source": [
        "# 2. 검정 방법"
      ],
      "metadata": {
        "id": "8WoypZtjFYms"
      }
    },
    {
      "cell_type": "markdown",
      "source": [
        ">## 1) t- 검정\n",
        "- 모집단의 분산/표준편차 추정할 수 없을때 경우에 사용 \n",
        "- 표준편차 이용하여 검정 수행\n",
        "- 표본의 크기가 작을 때 유용"
      ],
      "metadata": {
        "id": "cHUac7AvFkrF"
      }
    },
    {
      "cell_type": "markdown",
      "source": [
        ">## 2) z- 검정\n",
        "- 모집단의 분산/표준편차 알 수 있을때 사용\n",
        "- 표본 크기 작아도 사용가능 / 대부분 표본 30이상일때 적용"
      ],
      "metadata": {
        "id": "F6OFv0rCFlYh"
      }
    },
    {
      "cell_type": "markdown",
      "source": [
        ">## 3) 검정 통계량\n",
        "- 가설 검정에 사용되는 통계량으로 표본 데이터에서 계산\n",
        "- 표본데이터의 평균/분산/비율 등을 이용하여 계산\n",
        "- 가설 검정 결과 판단하는 기준"
      ],
      "metadata": {
        "id": "0Au86EFWGAOr"
      }
    },
    {
      "cell_type": "markdown",
      "source": [
        ">## 4) F-통계량\n",
        "- 각 그룹의 평균값들의 분산과 그룹 내 오차의 분산 비율로 계산\n",
        "- F-통계량 클수록 각 그룹 평균값 차이가 큼\n",
        "- 일원분산분석의 검정방법"
      ],
      "metadata": {
        "id": "S7J7SerJIc4F"
      }
    },
    {
      "cell_type": "markdown",
      "source": [
        ">## 5) 카이제곱(chi-squre) 검정\n",
        "- 관측값과 기대값 간의 차이가 우연인지 유읨미한 것인지 검정함\n",
        "- 분류 및 범주형 변수간 관계 파악시 사용\n",
        "- 귀무가설, 대립가설의 검정방법 중 하나"
      ],
      "metadata": {
        "id": "pCMIMOaFI0wt"
      }
    },
    {
      "cell_type": "markdown",
      "source": [
        ">## 6) 교호작용 효과\n",
        "- 여러 변수간의 조합이 종속변수에 영향 미치는 것 "
      ],
      "metadata": {
        "id": "yI_CTofxSe_A"
      }
    },
    {
      "cell_type": "markdown",
      "source": [
        "# 3. 가설 검정 실습"
      ],
      "metadata": {
        "id": "yagC9NZiGPPX"
      }
    },
    {
      "cell_type": "markdown",
      "source": [
        ">## 1) 귀무가설 실습\n",
        "- 타이타닉 데이터 이용\n",
        "- 귀무가설 : 타이타닉 호에 탑승한 남성 승객들의 생존율과 여성 승객의 생존율을 같다\n",
        "- 검정 방법 : t-검정\n",
        "- 유의 수준 : 0.05"
      ],
      "metadata": {
        "id": "IyJ8Pc4-GScc"
      }
    },
    {
      "cell_type": "code",
      "source": [
        "import pandas as pd\n",
        "from scipy import stats\n",
        "\n",
        "#데이터 불러오기\n",
        "titanic_df = pd.read_csv('Titanic_data.csv')\n",
        "\n",
        "\n",
        "#남성승객, 여성승객 생존 여부에 따른 데이터프레임 생성\n",
        "male_df = titanic_df[titanic_df['Sex'] == 'male']\n",
        "female_df = titanic_df[titanic_df['Sex'] == 'female']\n",
        "\n",
        "print(male_df)\n",
        "print(female_df)\n",
        "\n",
        "\n",
        "#각 데이터프레임의 생존여부 평균 계산\n",
        "male_survival_rate = male_df['Survived'].mean()\n",
        "female_survival_rate = female_df['Survived'].mean()\n",
        "\n",
        "print(male_survival_rate)\n",
        "print(female_survival_rate)\n",
        "\n",
        "\n",
        "#t-검정 수행\n",
        "t, p = stats.ttest_ind(male_df['Survived'], female_df['Survived'])\n",
        "\n",
        "#유의수준과 비교하여 귀무가설 기각 여부 결정\n",
        "alpha = 0.05\n",
        "if p < alpha:\n",
        "  print(f\"p-value: {p:.4f}, 귀무가설 기각\")\n",
        "else:\n",
        "  print(f\"p-value: {p:.4f}, 귀무가설 채택\")"
      ],
      "metadata": {
        "colab": {
          "base_uri": "https://localhost:8080/"
        },
        "id": "RFzHvChsENhB",
        "outputId": "636b6dea-e879-4cec-b73b-ed8308597b99"
      },
      "execution_count": 3,
      "outputs": [
        {
          "output_type": "stream",
          "name": "stdout",
          "text": [
            "     PassengerId  Survived  Pclass                            Name   Sex  \\\n",
            "0              1         0       3         Braund, Mr. Owen Harris  male   \n",
            "4              5         0       3        Allen, Mr. William Henry  male   \n",
            "5              6         0       3                Moran, Mr. James  male   \n",
            "6              7         0       1         McCarthy, Mr. Timothy J  male   \n",
            "7              8         0       3  Palsson, Master. Gosta Leonard  male   \n",
            "..           ...       ...     ...                             ...   ...   \n",
            "883          884         0       2   Banfield, Mr. Frederick James  male   \n",
            "884          885         0       3          Sutehall, Mr. Henry Jr  male   \n",
            "886          887         0       2           Montvila, Rev. Juozas  male   \n",
            "889          890         1       1           Behr, Mr. Karl Howell  male   \n",
            "890          891         0       3             Dooley, Mr. Patrick  male   \n",
            "\n",
            "      Age  SibSp  Parch            Ticket     Fare Cabin Embarked  \n",
            "0    22.0      1      0         A/5 21171   7.2500   NaN        S  \n",
            "4    35.0      0      0            373450   8.0500   NaN        S  \n",
            "5     NaN      0      0            330877   8.4583   NaN        Q  \n",
            "6    54.0      0      0             17463  51.8625   E46        S  \n",
            "7     2.0      3      1            349909  21.0750   NaN        S  \n",
            "..    ...    ...    ...               ...      ...   ...      ...  \n",
            "883  28.0      0      0  C.A./SOTON 34068  10.5000   NaN        S  \n",
            "884  25.0      0      0   SOTON/OQ 392076   7.0500   NaN        S  \n",
            "886  27.0      0      0            211536  13.0000   NaN        S  \n",
            "889  26.0      0      0            111369  30.0000  C148        C  \n",
            "890  32.0      0      0            370376   7.7500   NaN        Q  \n",
            "\n",
            "[577 rows x 12 columns]\n",
            "     PassengerId  Survived  Pclass  \\\n",
            "1              2         1       1   \n",
            "2              3         1       3   \n",
            "3              4         1       1   \n",
            "8              9         1       3   \n",
            "9             10         1       2   \n",
            "..           ...       ...     ...   \n",
            "880          881         1       2   \n",
            "882          883         0       3   \n",
            "885          886         0       3   \n",
            "887          888         1       1   \n",
            "888          889         0       3   \n",
            "\n",
            "                                                  Name     Sex   Age  SibSp  \\\n",
            "1    Cumings, Mrs. John Bradley (Florence Briggs Th...  female  38.0      1   \n",
            "2                               Heikkinen, Miss. Laina  female  26.0      0   \n",
            "3         Futrelle, Mrs. Jacques Heath (Lily May Peel)  female  35.0      1   \n",
            "8    Johnson, Mrs. Oscar W (Elisabeth Vilhelmina Berg)  female  27.0      0   \n",
            "9                  Nasser, Mrs. Nicholas (Adele Achem)  female  14.0      1   \n",
            "..                                                 ...     ...   ...    ...   \n",
            "880       Shelley, Mrs. William (Imanita Parrish Hall)  female  25.0      0   \n",
            "882                       Dahlberg, Miss. Gerda Ulrika  female  22.0      0   \n",
            "885               Rice, Mrs. William (Margaret Norton)  female  39.0      0   \n",
            "887                       Graham, Miss. Margaret Edith  female  19.0      0   \n",
            "888           Johnston, Miss. Catherine Helen \"Carrie\"  female   NaN      1   \n",
            "\n",
            "     Parch            Ticket     Fare Cabin Embarked  \n",
            "1        0          PC 17599  71.2833   C85        C  \n",
            "2        0  STON/O2. 3101282   7.9250   NaN        S  \n",
            "3        0            113803  53.1000  C123        S  \n",
            "8        2            347742  11.1333   NaN        S  \n",
            "9        0            237736  30.0708   NaN        C  \n",
            "..     ...               ...      ...   ...      ...  \n",
            "880      1            230433  26.0000   NaN        S  \n",
            "882      0              7552  10.5167   NaN        S  \n",
            "885      5            382652  29.1250   NaN        Q  \n",
            "887      0            112053  30.0000   B42        S  \n",
            "888      2        W./C. 6607  23.4500   NaN        S  \n",
            "\n",
            "[314 rows x 12 columns]\n",
            "0.18890814558058924\n",
            "0.7420382165605095\n",
            "p-value: 0.0000, 귀무가설 기각\n"
          ]
        }
      ]
    },
    {
      "cell_type": "markdown",
      "source": [
        ">## 2) 일원분산분석\n",
        "- 하나의 독립변수가 종속변수에 미치는 영향 분석\n",
        "- A, B, C : 3가지 생산방법\n",
        "- 30개의 샘플\n",
        "- 샘플점수 : 1~5점 사이\n",
        "\n"
      ],
      "metadata": {
        "id": "jJmzmE5-H2pg"
      }
    },
    {
      "cell_type": "code",
      "source": [
        "import pandas as pd\n",
        "import numpy as np \n",
        "\n",
        "#가상의 데이터셋 생성\n",
        "np.random.seed(1)\n",
        "data = {\n",
        "    'A': np.random.randint(1,6,10),\n",
        "    'B': np.random.randint(1,6,10),\n",
        "    'C': np.random.randint(1,6,10)\n",
        "}\n",
        "df = pd.DataFrame(data)\n",
        "print(df)"
      ],
      "metadata": {
        "colab": {
          "base_uri": "https://localhost:8080/"
        },
        "id": "qiILouLAK64v",
        "outputId": "c5a9d784-9fd9-4df6-a170-0322eb56ab0a"
      },
      "execution_count": 10,
      "outputs": [
        {
          "output_type": "stream",
          "name": "stdout",
          "text": [
            "   A  B  C\n",
            "0  4  2  5\n",
            "1  5  3  2\n",
            "2  1  5  2\n",
            "3  2  3  1\n",
            "4  4  5  2\n",
            "5  1  4  2\n",
            "6  1  5  2\n",
            "7  2  3  2\n",
            "8  5  5  1\n",
            "9  5  3  5\n"
          ]
        }
      ]
    },
    {
      "cell_type": "code",
      "source": [
        "from scipy.stats import f_oneway\n",
        "\n",
        "#일원 분산 분석 수행\n",
        "f_stat, p_val = f_oneway(df['A'],df['B'],df['C'])\n",
        "print('One-way ANOVA')\n",
        "print('==============')\n",
        "print(f'F-statistic: {f_stat:.4f}')\n",
        "print(f'p-value: {p_val:.4f}')\n",
        "\n",
        "alpha = 0.05\n",
        "if p_val < alpha:\n",
        "  print(\"귀무 가설 기각\")\n",
        "else:\n",
        "  print(\"귀무 가설 채택\")"
      ],
      "metadata": {
        "colab": {
          "base_uri": "https://localhost:8080/"
        },
        "id": "zdq_gCFbLnAe",
        "outputId": "43737484-d4db-425a-dc66-7a00b8680de2"
      },
      "execution_count": 11,
      "outputs": [
        {
          "output_type": "stream",
          "name": "stdout",
          "text": [
            "One-way ANOVA\n",
            "==============\n",
            "F-statistic: 2.2966\n",
            "p-value: 0.1199\n",
            "귀무 가설 채택\n"
          ]
        }
      ]
    },
    {
      "cell_type": "markdown",
      "source": [
        ">## 3) 카이제곱(chi-squre) 검정\n",
        "- 성별과 흡연 간의 상관관계 분석\n"
      ],
      "metadata": {
        "id": "o_0lfImMJSBc"
      }
    },
    {
      "cell_type": "code",
      "source": [
        "import pandas as pd\n",
        "import numpy as np\n",
        "from scipy.stats import chi2_contingency\n",
        "\n",
        "#가상 데이터 생성\n",
        "data = {\n",
        "    'Gender': ['M','M','M','M','F','F','F','F'],\n",
        "    'Smoker': ['yes','no','no','yes','yes','yes','no','no'],\n",
        "    'Count': ['20','80','40','60','40','160','80','120']\n",
        "}\n",
        "df = pd.DataFrame(data)\n",
        "\n",
        "#데이터프레임을 이용한 분할표 생성\n",
        "table = pd.pivot_table(df, values='Count', index='Gender', columns='Smoker')\n",
        "\n",
        "#chi-squre 검정 실행\n",
        "stat, p, dof, expected = chi2_contingency(table)\n",
        "alpha = 0.05\n",
        "\n",
        "#유의 수준과 p-value 비교 후 귀무 가설 기각 여부 결정\n",
        "if p < alpha:\n",
        "  print(f\"p-value: {p:.4f}, 귀무 가설 기각\")\n",
        "else:\n",
        "  print(f\"p-value: {p:.4f}, 귀무 가설 채택\")"
      ],
      "metadata": {
        "colab": {
          "base_uri": "https://localhost:8080/"
        },
        "id": "K_H7tujMJdLV",
        "outputId": "3e13485b-ce78-4dd6-e404-4fb061fae881"
      },
      "execution_count": 7,
      "outputs": [
        {
          "output_type": "stream",
          "name": "stdout",
          "text": [
            "p-value: 0.0000, 귀무 가설 기각\n"
          ]
        }
      ]
    },
    {
      "cell_type": "markdown",
      "source": [
        ">## 4) 이원분산분석\n",
        "- 성별과 객실 클래스가 생존여부에 미치는 영향"
      ],
      "metadata": {
        "id": "ZKXqjlsdTswy"
      }
    },
    {
      "cell_type": "code",
      "source": [
        "#프로그램 설치\n",
        "!pip install statsmodels"
      ],
      "metadata": {
        "id": "CswUdTVcT3q6"
      },
      "execution_count": null,
      "outputs": []
    },
    {
      "cell_type": "code",
      "source": [
        "import pandas as pd\n",
        "import seaborn as sns\n",
        "from statsmodels.formula.api import ols\n",
        "from statsmodels.stats.anova import anova_lm\n",
        "\n",
        "#데이터 불러오기\n",
        "titanic_df = pd.read_csv('Titanic_data.csv')\n",
        "\n",
        "#이원분산분석 모델 생성\n",
        "model = ols('Survived ~ C(Sex) + C(Pclass) + C(Sex):C(Pclass)', titanic_df).fit()\n",
        "\n",
        "#분산분석 실행\n",
        "anova_results = anova_lm(model, typ=2)\n",
        "\n",
        "#시각화\n",
        "sns.catplot(x='Sex', y='Survived', hue='Pclass', data=titanic_df, kind='bar')"
      ],
      "metadata": {
        "colab": {
          "base_uri": "https://localhost:8080/",
          "height": 524
        },
        "id": "g4dLxk14V3ib",
        "outputId": "7733d6c5-cd9d-4037-e4d9-4658fc173e0f"
      },
      "execution_count": 21,
      "outputs": [
        {
          "output_type": "execute_result",
          "data": {
            "text/plain": [
              "<seaborn.axisgrid.FacetGrid at 0x7fa111acbdf0>"
            ]
          },
          "metadata": {},
          "execution_count": 21
        },
        {
          "output_type": "display_data",
          "data": {
            "text/plain": [
              "<Figure size 558.875x500 with 1 Axes>"
            ],
            "image/png": "[encoded data removed]"
          },
          "metadata": {}
        }
      ]
    },
    {
      "cell_type": "markdown",
      "source": [
        ">## 5) 교호작용 효과\n",
        "- 성별과 객실등급(Pclass)가 생존 여부에 미치는 영향\n",
        "\n"
      ],
      "metadata": {
        "id": "RF5u7K21SI5A"
      }
    },
    {
      "cell_type": "code",
      "source": [
        "import seaborn as sns\n",
        "import matplotlib.pyplot as plt\n",
        "\n",
        "#데이터셋 불러오기\n",
        "titanic = sns.load_dataset('titanic')\n",
        "print(titanic)\n",
        "\n",
        "#종속변수, 독립변수 지정\n",
        "sns.pointplot(x='sex', y='survived', hue='pclass', data=titanic)\n",
        "\n",
        "#legend 추가\n",
        "plt.legend(title='Pclass', loc='best')\n",
        "\n",
        "#제목추가\n",
        "plt.title('Survival Rate by Sex and Pclass')"
      ],
      "metadata": {
        "colab": {
          "base_uri": "https://localhost:8080/",
          "height": 983
        },
        "id": "qPXUM-bRSIYX",
        "outputId": "cad0b5a3-dcfc-4436-f3ac-4ba81e3ec00c"
      },
      "execution_count": 16,
      "outputs": [
        {
          "output_type": "stream",
          "name": "stdout",
          "text": [
            "     survived  pclass     sex   age  sibsp  parch     fare embarked   class  \\\n",
            "0           0       3    male  22.0      1      0   7.2500        S   Third   \n",
            "1           1       1  female  38.0      1      0  71.2833        C   First   \n",
            "2           1       3  female  26.0      0      0   7.9250        S   Third   \n",
            "3           1       1  female  35.0      1      0  53.1000        S   First   \n",
            "4           0       3    male  35.0      0      0   8.0500        S   Third   \n",
            "..        ...     ...     ...   ...    ...    ...      ...      ...     ...   \n",
            "886         0       2    male  27.0      0      0  13.0000        S  Second   \n",
            "887         1       1  female  19.0      0      0  30.0000        S   First   \n",
            "888         0       3  female   NaN      1      2  23.4500        S   Third   \n",
            "889         1       1    male  26.0      0      0  30.0000        C   First   \n",
            "890         0       3    male  32.0      0      0   7.7500        Q   Third   \n",
            "\n",
            "       who  adult_male deck  embark_town alive  alone  \n",
            "0      man        True  NaN  Southampton    no  False  \n",
            "1    woman       False    C    Cherbourg   yes  False  \n",
            "2    woman       False  NaN  Southampton   yes   True  \n",
            "3    woman       False    C  Southampton   yes  False  \n",
            "4      man        True  NaN  Southampton    no   True  \n",
            "..     ...         ...  ...          ...   ...    ...  \n",
            "886    man        True  NaN  Southampton    no   True  \n",
            "887  woman       False    B  Southampton   yes   True  \n",
            "888  woman       False  NaN  Southampton    no  False  \n",
            "889    man        True    C    Cherbourg   yes   True  \n",
            "890    man        True  NaN   Queenstown    no   True  \n",
            "\n",
            "[891 rows x 15 columns]\n"
          ]
        },
        {
          "output_type": "execute_result",
          "data": {
            "text/plain": [
              "Text(0.5, 1.0, 'Survival Rate by Sex and Pclass')"
            ]
          },
          "metadata": {},
          "execution_count": 16
        },
        {
          "output_type": "display_data",
          "data": {
            "text/plain": [
              "<Figure size 640x480 with 1 Axes>"
            ],
            "image/png": "[encoded data removed]"
          },
          "metadata": {}
        }
      ]
    },
    {
      "cell_type": "code",
      "source": [
        "#"
      ],
      "metadata": {
        "id": "NvBl9i5pTYXY"
      },
      "execution_count": null,
      "outputs": []
    }
  ]
}