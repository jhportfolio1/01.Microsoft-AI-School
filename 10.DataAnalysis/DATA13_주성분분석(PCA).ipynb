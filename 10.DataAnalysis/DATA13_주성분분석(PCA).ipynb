{
  "nbformat": 4,
  "nbformat_minor": 0,
  "metadata": {
    "colab": {
      "provenance": [],
      "toc_visible": true,
      "authorship_tag": "ABX9TyPKtPW7SfLsLdKOWZwo/Ibr",
      "include_colab_link": true
    },
    "kernelspec": {
      "name": "python3",
      "display_name": "Python 3"
    },
    "language_info": {
      "name": "python"
    }
  },
  "cells": [
    {
      "cell_type": "markdown",
      "metadata": {
        "id": "view-in-github",
        "colab_type": "text"
      },
      "source": [
        "<a href=\"https://colab.research.google.com/github/jhportfolio1/MsAiSchool10_DataAnalysis/blob/main/DATA13_%EC%A3%BC%EC%84%B1%EB%B6%84%EB%B6%84%EC%84%9D(PCA).ipynb\" target=\"_parent\"><img src=\"https://colab.research.google.com/assets/colab-badge.svg\" alt=\"Open In Colab\"/></a>"
      ]
    },
    {
      "cell_type": "markdown",
      "source": [
        "# 1. 주성분분석(PCA) 개요"
      ],
      "metadata": {
        "id": "U7fjUCVPpw-1"
      }
    },
    {
      "cell_type": "markdown",
      "source": [
        ">## 1) PCA 개념 및 목적\n",
        ">- PCA : 다차원 데이터의 차원을 축소하고, 데이터의 주요한 패턴 추출하는 비지도 학습 알고리즘\n",
        ">- 데이터의 복잡성 감소시키고 변수간 상관관계 및 패턴 파악용\n",
        ">- 차원축소 : 다차원데이터를 저차원으로 변환하여 변동성 및 특징 유지하면서 차원 줄임\n",
        ">- 주성분추출 : PCA 데이터 분산 최대로 보존하는 방향, 주성분을 찾음\n",
        ">- 주성분 : 원본데이터 변동성 가장 잘 설명하는 변수들의 선형조합\n",
        ">- 정보유실최소화 : 데이터 정보 최대한 보존하고자함"
      ],
      "metadata": {
        "id": "CjvBfRCop1Ee"
      }
    },
    {
      "cell_type": "markdown",
      "source": [
        ">## 2) PCA 동작 방법\n",
        ">- 데이터셋 분포 확인\n",
        ">- 공분산 행렬 계산\n",
        ">- 고유값 및 고유벡터 계산 \n",
        ">- 주성분 선택\n",
        ">- 데이터 투영 : 새로운 축으로 데이터 투영\n",
        ">- 차원축소 : 필요 주성분의 수에 따라 데이터셋의 차원 축소"
      ],
      "metadata": {
        "id": "GbeNBfvMqdp9"
      }
    },
    {
      "cell_type": "markdown",
      "source": [
        ">## 3) PCA 전 데이터 전처리\n",
        ">- 변수 스케일링\n",
        ">- 변수 상관관계 기반 주성분 추출\n",
        ">- 이상치 처리\n",
        ">- 결측치 처리"
      ],
      "metadata": {
        "id": "t5F706W0q37n"
      }
    },
    {
      "cell_type": "markdown",
      "source": [
        ">## 4) PCA 결과 해석 방법 및 활용 사례 소개\n",
        ">- 주성분 해석 \n",
        ">- 차원축소와 변수선택\n",
        ">- 데이터시각화 \n",
        ">- 다중공선성 판단\n"
      ],
      "metadata": {
        "id": "4VqDo8f5rdlU"
      }
    },
    {
      "cell_type": "markdown",
      "source": [
        "# 2. 주성분분석 실습\n",
        "- 상관관계 파악 : 산점도 그래프에서 변수의 분포 파악\n",
        "- 이상치탐지 \n",
        "- 클러스터링 및 패턴 : 데이터 군집 현장 확인\n",
        "- 변수의 범위 파악 : 스케일 차이 확인해서 데이터 전처리나 분석 방법 결정 가능"
      ],
      "metadata": {
        "id": "3quMBR2Prqub"
      }
    },
    {
      "cell_type": "code",
      "source": [
        "import numpy as np\n",
        "from sklearn.decomposition import PCA\n",
        "import matplotlib.pyplot as plt\n",
        "\n",
        "#예제 데이터 생성\n",
        "X = np.random.rand(100, 3)  #100개의 샘플과 3개의 변수로 구성된 데이터\n",
        "\n",
        "#PCA모델 생성 및 적합\n",
        "pca = PCA(n_components=2)   #주성분을 2개로 설정\n",
        "pca.fit(X)\n",
        "\n",
        "#변환된 데이터\n",
        "transformed_data = pca.transform(X)\n",
        "\n",
        "#주성분의 설명력 확인\n",
        "explained_variance_ratio = pca.explained_variance_ratio_\n",
        "print(\"주성분의 설명력:\", explained_variance_ratio)\n",
        "\n",
        "#주성분의 가중치 확인\n",
        "components = pca.components_\n",
        "print(\"주성분의 가중치:\\n\", components)\n",
        "\n",
        "#변환된 데이터 시각화\n",
        "plt.scatter(transformed_data[:,0], transformed_data[:,1])\n",
        "plt.title('PCA result')\n",
        "plt.show()"
      ],
      "metadata": {
        "colab": {
          "base_uri": "https://localhost:8080/",
          "height": 525
        },
        "id": "_los48m-pz9d",
        "outputId": "27e08ccc-41c9-4c32-b563-1050c58d428a"
      },
      "execution_count": null,
      "outputs": [
        {
          "output_type": "stream",
          "name": "stdout",
          "text": [
            "주성분의 설명력: [0.37966839 0.32616937]\n",
            "주성분의 가중치:\n",
            " [[-0.01534629 -0.75722846  0.6529698 ]\n",
            " [-0.74672925  0.44297476  0.49615399]]\n"
          ]
        },
        {
          "output_type": "display_data",
          "data": {
            "text/plain": [
              "<Figure size 640x480 with 1 Axes>"
            ],
            "image/png": "[encoded data removed]"
          },
          "metadata": {}
        }
      ]
    },
    {
      "cell_type": "markdown",
      "source": [
        "# 3. PCA 장점 및 한계"
      ],
      "metadata": {
        "id": "3iOoE2rOc0FR"
      }
    },
    {
      "cell_type": "markdown",
      "source": [
        ">## 1) PCA 장점\n",
        ">- 차원축소 : 고차원 데이터를 저차원으로 축소가능 (복잡성↓, 저장공간절약)\n",
        ">- 변수선택 : 상관관계 고려하여 주성분 생성\n",
        ">- 다중공선성 해결 : 상관관계 높은 변수 주성분으로 표현하여 해결\n",
        ">- 데이터 시각화 : 고차원데이터를 2-3차원으로 축소하여 시각화 가능\n",
        ">- 변수선택 및 특성추출 : PCA는 변수들 간의 상관관계 고려하여 주성분 생성함"
      ],
      "metadata": {
        "id": "aHGO5xA4c2Pi"
      }
    },
    {
      "cell_type": "markdown",
      "source": [
        ">## 2) PCA 한계\n",
        ">- 선형가정 : PCA 변수 간 선형관계 기반으로 주성분 추출함\n",
        ">- 정보손실 : 데이터 분산 최대화하는 방향 추출 -> 과정에서 일부 정보 손실 가능\n",
        ">- 해석의 어려움 : 새로운 축으로 변환하여 주성분 표현하기 때문에 의미의 직접적인 파악 어려움\n",
        ">- 이상치에 민감함 : 주성분을 추출하기 때문에 이상치에 민감할 수 있음"
      ],
      "metadata": {
        "id": "6jRdodYYeqfX"
      }
    },
    {
      "cell_type": "code",
      "source": [],
      "metadata": {
        "id": "QhVTrg4-sXvp"
      },
      "execution_count": null,
      "outputs": []
    }
  ]
}