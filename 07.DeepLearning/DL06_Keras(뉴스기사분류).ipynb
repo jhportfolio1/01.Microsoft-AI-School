{
  "nbformat": 4,
  "nbformat_minor": 0,
  "metadata": {
    "colab": {
      "provenance": [],
      "toc_visible": true,
      "authorship_tag": "ABX9TyP578uk8+UMLPPd0KJm6zft",
      "include_colab_link": true
    },
    "kernelspec": {
      "name": "python3",
      "display_name": "Python 3"
    },
    "language_info": {
      "name": "python"
    }
  },
  "cells": [
    {
      "cell_type": "markdown",
      "metadata": {
        "id": "view-in-github",
        "colab_type": "text"
      },
      "source": [
        "<a href=\"https://colab.research.google.com/github/jhportfolio1/MsAiSchool07_DeepLearning/blob/main/DL06_Keras(%EB%89%B4%EC%8A%A4%EA%B8%B0%EC%82%AC%EB%B6%84%EB%A5%98).ipynb\" target=\"_parent\"><img src=\"https://colab.research.google.com/assets/colab-badge.svg\" alt=\"Open In Colab\"/></a>"
      ]
    },
    {
      "cell_type": "markdown",
      "source": [
        "# 1. 뉴스 기사 분류 : 로이터 데이터셋"
      ],
      "metadata": {
        "id": "5FoVvVWukK2M"
      }
    },
    {
      "cell_type": "markdown",
      "source": [
        ">## 1) 로이터 데이터셋"
      ],
      "metadata": {
        "id": "OSOK6ya4kN53"
      }
    },
    {
      "cell_type": "markdown",
      "source": [
        ">>### (1) 특징\n",
        "- 46개의 상호 배타적인 토픽\n",
        "- 1986년 데이터\n",
        "- Training Data 8982개 / Test Data 2246개\n",
        "- 전처리 되어 있어서 단어들이 모두 숫자로 변한되어 있음"
      ],
      "metadata": {
        "id": "gvBNbPUelY6w"
      }
    },
    {
      "cell_type": "markdown",
      "source": [
        ">>### (2) 필요한 작업\n",
        "- N개의 클래스로 데이터 포인트 분류 : 네트워크 마지막 Dense층 크기가 N\n",
        "- 단일 레이블/다중분류 : softmax 활성화 함수 사용 \n",
        "- 범주형 크로스엔트로피 사용 : 모델의 확률분포와 타깃분포 사이 거리 최소화\n",
        "- 범주형인코딩(원-핫인코딩) + Categorical_crossentropy 손실함수\n",
        "- 정수인코딩 + sparse_categorical_crossentropy 손실함수 \n",
        "- 많은 수의 범주 분류시에 중간층 크기 너무 작지 않게해야함"
      ],
      "metadata": {
        "id": "JQqJ-H9SlbRY"
      }
    },
    {
      "cell_type": "markdown",
      "source": [
        "---"
      ],
      "metadata": {
        "id": "2GmKDyyNEGla"
      }
    },
    {
      "cell_type": "markdown",
      "source": [
        "# 2. 실습"
      ],
      "metadata": {
        "id": "zjgrX086l7wu"
      }
    },
    {
      "cell_type": "markdown",
      "source": [
        ">## 1) 데이터 가져오기"
      ],
      "metadata": {
        "id": "PZYVlqq-l9kP"
      }
    },
    {
      "cell_type": "code",
      "source": [
        "from keras.datasets import reuters\n",
        "(train_data, train_labels), (test_data, test_labels) = reuters.load_data(num_words=10000)"
      ],
      "metadata": {
        "id": "T6rLDThkkNiq",
        "colab": {
          "base_uri": "https://localhost:8080/"
        },
        "outputId": "78c40d9a-2cd8-4ef7-a98c-320ee02591f0"
      },
      "execution_count": 1,
      "outputs": [
        {
          "output_type": "stream",
          "name": "stdout",
          "text": [
            "Downloading data from https://storage.googleapis.com/tensorflow/tf-keras-datasets/reuters.npz\n",
            "2110848/2110848 [==============================] - 0s 0us/step\n"
          ]
        }
      ]
    },
    {
      "cell_type": "markdown",
      "source": [
        ">## 2) 데이터 확인"
      ],
      "metadata": {
        "id": "TB9pnEdTnmuR"
      }
    },
    {
      "cell_type": "code",
      "source": [
        "train_data.shape[0] "
      ],
      "metadata": {
        "colab": {
          "base_uri": "https://localhost:8080/"
        },
        "id": "xPHlJhtrmiQ3",
        "outputId": "dd628cb9-478a-4015-f9b8-29e1a043ebad"
      },
      "execution_count": 2,
      "outputs": [
        {
          "output_type": "execute_result",
          "data": {
            "text/plain": [
              "8982"
            ]
          },
          "metadata": {},
          "execution_count": 2
        }
      ]
    },
    {
      "cell_type": "code",
      "source": [
        "print(train_data.shape)\n",
        "print(test_data.shape)"
      ],
      "metadata": {
        "colab": {
          "base_uri": "https://localhost:8080/"
        },
        "id": "XsbY7rXSnYql",
        "outputId": "50ba1285-b8db-491e-9e43-b4ffdb606021"
      },
      "execution_count": 3,
      "outputs": [
        {
          "output_type": "stream",
          "name": "stdout",
          "text": [
            "(8982,)\n",
            "(2246,)\n"
          ]
        }
      ]
    },
    {
      "cell_type": "markdown",
      "source": [
        ">## 3) 훈련데이터와 테스트 데이터의 벡터 변환"
      ],
      "metadata": {
        "id": "pQer2-kZo7sN"
      }
    },
    {
      "cell_type": "code",
      "source": [
        "import numpy as np\n",
        "\n",
        "def vectorize_sequences(sequences, dimension=10000):\n",
        "  results = np.zeros((len(sequences), dimension))\n",
        "\n",
        "  for i, sequence in enumerate(sequences):\n",
        "    results[i, sequence] = 1\n",
        "  \n",
        "  return results"
      ],
      "metadata": {
        "id": "_fY8vh6rnb33"
      },
      "execution_count": 4,
      "outputs": []
    },
    {
      "cell_type": "code",
      "source": [
        "# 훈련데이터와 테스트 데이터의 벡터 변환\n",
        "\n",
        "x_train = vectorize_sequences(train_data)\n",
        "x_test = vectorize_sequences(test_data)"
      ],
      "metadata": {
        "id": "yX5VmgGloXVB"
      },
      "execution_count": 5,
      "outputs": []
    },
    {
      "cell_type": "markdown",
      "source": [
        ">## 4) 라벨데이터를 카테고리 데이터로 전환 "
      ],
      "metadata": {
        "id": "psxUwV9BpoTB"
      }
    },
    {
      "cell_type": "code",
      "source": [
        "from keras.utils.np_utils import to_categorical\n",
        "\n",
        "one_hot_train_labels = to_categorical(train_labels)\n",
        "one_hot_test_labels = to_categorical(test_labels)"
      ],
      "metadata": {
        "id": "7QixFo1QpCO4"
      },
      "execution_count": 6,
      "outputs": []
    },
    {
      "cell_type": "markdown",
      "source": [
        ">## 5) 신경망(모델) 구성"
      ],
      "metadata": {
        "id": "pJrWf8TBAAoJ"
      }
    },
    {
      "cell_type": "code",
      "source": [
        "from keras import models\n",
        "from keras import layers\n",
        "\n",
        "model = models.Sequential()\n",
        "model.add(layers.Dense(64, activation='relu', input_shape=(10000,)))\n",
        "model.add(layers.Dense(64, activation='relu'))\n",
        "\n",
        "#토픽 수만큼 출력 (여러개중에 뽑아야하니 Softmax)\n",
        "model.add(layers.Dense(46, activation='softmax'))"
      ],
      "metadata": {
        "id": "5sQH7cyYpl7Y"
      },
      "execution_count": 8,
      "outputs": []
    },
    {
      "cell_type": "markdown",
      "source": [
        ">## 7) 모델 가중치 부여"
      ],
      "metadata": {
        "id": "P_wZnfwyCf6G"
      }
    },
    {
      "cell_type": "code",
      "source": [
        "model.compile(optimizer='rmsprop',\n",
        "              loss='categorical_crossentropy',\n",
        "              metrics=['accuracy'])"
      ],
      "metadata": {
        "id": "UxmYOcrvCcrd"
      },
      "execution_count": 9,
      "outputs": []
    },
    {
      "cell_type": "markdown",
      "source": [
        ">## 8) 학습용/훈련용 데이터 외 검증용 데이터 만들기(Validation Data)"
      ],
      "metadata": {
        "id": "ZAwZYPX7DIUa"
      }
    },
    {
      "cell_type": "code",
      "source": [
        "x_val = x_train[:1000] #1000번까지 검증용데이터 \n",
        "partial_x_train = x_train[1000:] #1000번이후 학습용데이터\n",
        "\n",
        "#위에서 라벨데이터 이름 바꿔놔서 그대로 따름\n",
        "y_val = one_hot_train_labels[:1000]\n",
        "partial_y_train = one_hot_train_labels[1000:]"
      ],
      "metadata": {
        "id": "Bmqp7CPtC0pQ"
      },
      "execution_count": 14,
      "outputs": []
    },
    {
      "cell_type": "markdown",
      "source": [
        ">## 9) 학습 및 기록"
      ],
      "metadata": {
        "id": "IfV3SCGyEKvt"
      }
    },
    {
      "cell_type": "code",
      "source": [
        "history = model.fit(partial_x_train,\n",
        "                    partial_y_train,\n",
        "                    epochs=20,\n",
        "                    batch_size=512,\n",
        "                    validation_data=(x_val, y_val))"
      ],
      "metadata": {
        "colab": {
          "base_uri": "https://localhost:8080/"
        },
        "id": "Ngx5I4VLEL8L",
        "outputId": "ab39fe42-7de1-47dc-f674-3dfd1a9e5adf"
      },
      "execution_count": 15,
      "outputs": [
        {
          "output_type": "stream",
          "name": "stdout",
          "text": [
            "Epoch 1/20\n",
            "16/16 [==============================] - 4s 176ms/step - loss: 2.5945 - accuracy: 0.5101 - val_loss: 1.7418 - val_accuracy: 0.6220\n",
            "Epoch 2/20\n",
            "16/16 [==============================] - 1s 70ms/step - loss: 1.4773 - accuracy: 0.6882 - val_loss: 1.3365 - val_accuracy: 0.6980\n",
            "Epoch 3/20\n",
            "16/16 [==============================] - 1s 64ms/step - loss: 1.1362 - accuracy: 0.7534 - val_loss: 1.1665 - val_accuracy: 0.7380\n",
            "Epoch 4/20\n",
            "16/16 [==============================] - 1s 65ms/step - loss: 0.9265 - accuracy: 0.8008 - val_loss: 1.0600 - val_accuracy: 0.7650\n",
            "Epoch 5/20\n",
            "16/16 [==============================] - 1s 64ms/step - loss: 0.7647 - accuracy: 0.8344 - val_loss: 1.0037 - val_accuracy: 0.7870\n",
            "Epoch 6/20\n",
            "16/16 [==============================] - 1s 63ms/step - loss: 0.6382 - accuracy: 0.8614 - val_loss: 0.9497 - val_accuracy: 0.7950\n",
            "Epoch 7/20\n",
            "16/16 [==============================] - 1s 66ms/step - loss: 0.5304 - accuracy: 0.8859 - val_loss: 0.9209 - val_accuracy: 0.8060\n",
            "Epoch 8/20\n",
            "16/16 [==============================] - 1s 70ms/step - loss: 0.4466 - accuracy: 0.9037 - val_loss: 0.8935 - val_accuracy: 0.8160\n",
            "Epoch 9/20\n",
            "16/16 [==============================] - 1s 64ms/step - loss: 0.3733 - accuracy: 0.9188 - val_loss: 0.9167 - val_accuracy: 0.8050\n",
            "Epoch 10/20\n",
            "16/16 [==============================] - 1s 69ms/step - loss: 0.3225 - accuracy: 0.9297 - val_loss: 0.9055 - val_accuracy: 0.8100\n",
            "Epoch 11/20\n",
            "16/16 [==============================] - 1s 92ms/step - loss: 0.2805 - accuracy: 0.9372 - val_loss: 0.8698 - val_accuracy: 0.8230\n",
            "Epoch 12/20\n",
            "16/16 [==============================] - 3s 168ms/step - loss: 0.2409 - accuracy: 0.9474 - val_loss: 0.8720 - val_accuracy: 0.8250\n",
            "Epoch 13/20\n",
            "16/16 [==============================] - 1s 73ms/step - loss: 0.2208 - accuracy: 0.9476 - val_loss: 0.9114 - val_accuracy: 0.8150\n",
            "Epoch 14/20\n",
            "16/16 [==============================] - 1s 68ms/step - loss: 0.1919 - accuracy: 0.9515 - val_loss: 0.9154 - val_accuracy: 0.8100\n",
            "Epoch 15/20\n",
            "16/16 [==============================] - 1s 71ms/step - loss: 0.1778 - accuracy: 0.9525 - val_loss: 0.9097 - val_accuracy: 0.8150\n",
            "Epoch 16/20\n",
            "16/16 [==============================] - 1s 76ms/step - loss: 0.1615 - accuracy: 0.9546 - val_loss: 0.9028 - val_accuracy: 0.8200\n",
            "Epoch 17/20\n",
            "16/16 [==============================] - 1s 75ms/step - loss: 0.1528 - accuracy: 0.9550 - val_loss: 0.9369 - val_accuracy: 0.8140\n",
            "Epoch 18/20\n",
            "16/16 [==============================] - 1s 74ms/step - loss: 0.1457 - accuracy: 0.9548 - val_loss: 0.9342 - val_accuracy: 0.8210\n",
            "Epoch 19/20\n",
            "16/16 [==============================] - 2s 97ms/step - loss: 0.1321 - accuracy: 0.9570 - val_loss: 0.9573 - val_accuracy: 0.8060\n",
            "Epoch 20/20\n",
            "16/16 [==============================] - 1s 70ms/step - loss: 0.1336 - accuracy: 0.9589 - val_loss: 0.9608 - val_accuracy: 0.8170\n"
          ]
        }
      ]
    },
    {
      "cell_type": "markdown",
      "source": [
        ">## 10) 차트 그리기"
      ],
      "metadata": {
        "id": "_2Etzx1uGoyd"
      }
    },
    {
      "cell_type": "markdown",
      "source": [
        "- Loss-Epochs 에서는 Validation loss가 가장 낮은 값\n",
        "- Acc-Epochs 에서는 Training loss와 Validation loss가 가장 가까운 값"
      ],
      "metadata": {
        "id": "f3bTj9U4IfMO"
      }
    },
    {
      "cell_type": "code",
      "source": [
        "import matplotlib.pyplot as plt"
      ],
      "metadata": {
        "id": "Ng34vdY3En4w"
      },
      "execution_count": 19,
      "outputs": []
    },
    {
      "cell_type": "code",
      "source": [
        "loss = history.history['loss']\n",
        "val_loss = history.history['val_loss']\n",
        "acc = history.history['accuracy']\n",
        "val_acc = history.history['val_accuracy']\n",
        "\n",
        "#반복횟수 구하기\n",
        "epochs = range(1, len(loss)+1)\n",
        "\n",
        "#차트그리기(반복횟수에 따른 손실값)\n",
        "plt.plot(epochs, loss, 'bo', label='Training loss')\n",
        "plt.plot(epochs, val_loss, 'r-', label='Validation loss')\n",
        "plt.title('Training and validation loss')\n",
        "plt.xlabel('Epochs')\n",
        "plt.ylabel('Loss')\n",
        "plt.legend()"
      ],
      "metadata": {
        "colab": {
          "base_uri": "https://localhost:8080/",
          "height": 490
        },
        "id": "ToOpU_j9F5tm",
        "outputId": "dea6ce28-3f6f-4e98-f82a-919b3cd385c0"
      },
      "execution_count": 21,
      "outputs": [
        {
          "output_type": "execute_result",
          "data": {
            "text/plain": [
              "<matplotlib.legend.Legend at 0x7f19336f9e10>"
            ]
          },
          "metadata": {},
          "execution_count": 21
        },
        {
          "output_type": "display_data",
          "data": {
            "text/plain": [
              "<Figure size 640x480 with 1 Axes>"
            ],
            "image/png": "[encoded data removed]"
          },
          "metadata": {}
        }
      ]
    },
    {
      "cell_type": "code",
      "source": [
        "#차트그리기(반복횟수에 따른 정확도값)\n",
        "plt.plot(epochs, acc, 'bo', label='Training accuracy')\n",
        "plt.plot(epochs, val_acc, 'r-', label='Validation accuracy')\n",
        "plt.title('Training and validation accuracy')\n",
        "plt.xlabel('Epochs')\n",
        "plt.ylabel('accuracy')\n",
        "plt.legend()"
      ],
      "metadata": {
        "colab": {
          "base_uri": "https://localhost:8080/",
          "height": 490
        },
        "id": "-JmF4LNzGHrO",
        "outputId": "335b7ee5-5553-46bf-9873-4e12e50f980f"
      },
      "execution_count": 22,
      "outputs": [
        {
          "output_type": "execute_result",
          "data": {
            "text/plain": [
              "<matplotlib.legend.Legend at 0x7f193317e560>"
            ]
          },
          "metadata": {},
          "execution_count": 22
        },
        {
          "output_type": "display_data",
          "data": {
            "text/plain": [
              "<Figure size 640x480 with 1 Axes>"
            ],
            "image/png": "[encoded data removed]"
          },
          "metadata": {}
        }
      ]
    },
    {
      "cell_type": "markdown",
      "source": [
        ">## 11) 검증된 결과로 다시 학습"
      ],
      "metadata": {
        "id": "9FGSLpMqJrlZ"
      }
    },
    {
      "cell_type": "markdown",
      "source": [
        "- 첫번째 로스값은 클 수 밖에 없음\n",
        "- 결과 79% 모델 만들어짐"
      ],
      "metadata": {
        "id": "-vc63RpuKqQd"
      }
    },
    {
      "cell_type": "code",
      "source": [
        "model = models.Sequential()\n",
        "model.add(layers.Dense(64, activation='relu', input_shape=(10000,)))\n",
        "model.add(layers.Dense(64, activation='relu'))\n",
        "model.add(layers.Dense(46, activation='softmax'))\n",
        "\n",
        "model.compile(optimizer='rmsprop',\n",
        "              loss='categorical_crossentropy',\n",
        "              metrics=['accuracy'])\n",
        "\n",
        "history = model.fit(partial_x_train,  #학습용데이터\n",
        "                    partial_y_train,   #학습용데이터\n",
        "                    epochs=20,\n",
        "                    batch_size=512,\n",
        "                    validation_data=(x_val, y_val)) #검증용데이터\n",
        "\n",
        "#평가\n",
        "eval_result = model.evaluate(x_test, one_hot_test_labels) #테스트용데이터\n",
        "print(eval_result)"
      ],
      "metadata": {
        "colab": {
          "base_uri": "https://localhost:8080/"
        },
        "id": "5zuXzfdPJvCt",
        "outputId": "f5f224d8-4b6d-4c1a-b9ad-71de1cdebeb7"
      },
      "execution_count": 23,
      "outputs": [
        {
          "output_type": "stream",
          "name": "stdout",
          "text": [
            "Epoch 1/20\n",
            "16/16 [==============================] - 3s 84ms/step - loss: 2.7681 - accuracy: 0.4592 - val_loss: 1.8654 - val_accuracy: 0.6290\n",
            "Epoch 2/20\n",
            "16/16 [==============================] - 1s 59ms/step - loss: 1.5628 - accuracy: 0.6869 - val_loss: 1.4030 - val_accuracy: 0.6900\n",
            "Epoch 3/20\n",
            "16/16 [==============================] - 1s 57ms/step - loss: 1.1999 - accuracy: 0.7430 - val_loss: 1.2091 - val_accuracy: 0.7420\n",
            "Epoch 4/20\n",
            "16/16 [==============================] - 1s 56ms/step - loss: 0.9757 - accuracy: 0.7892 - val_loss: 1.0891 - val_accuracy: 0.7660\n",
            "Epoch 5/20\n",
            "16/16 [==============================] - 1s 54ms/step - loss: 0.8109 - accuracy: 0.8266 - val_loss: 1.0174 - val_accuracy: 0.7820\n",
            "Epoch 6/20\n",
            "16/16 [==============================] - 1s 53ms/step - loss: 0.6721 - accuracy: 0.8569 - val_loss: 0.9734 - val_accuracy: 0.7890\n",
            "Epoch 7/20\n",
            "16/16 [==============================] - 1s 92ms/step - loss: 0.5618 - accuracy: 0.8826 - val_loss: 0.9125 - val_accuracy: 0.8120\n",
            "Epoch 8/20\n",
            "16/16 [==============================] - 1s 93ms/step - loss: 0.4716 - accuracy: 0.9008 - val_loss: 0.9001 - val_accuracy: 0.8100\n",
            "Epoch 9/20\n",
            "16/16 [==============================] - 1s 69ms/step - loss: 0.4000 - accuracy: 0.9173 - val_loss: 0.8828 - val_accuracy: 0.8150\n",
            "Epoch 10/20\n",
            "16/16 [==============================] - 1s 53ms/step - loss: 0.3440 - accuracy: 0.9265 - val_loss: 0.8708 - val_accuracy: 0.8190\n",
            "Epoch 11/20\n",
            "16/16 [==============================] - 1s 55ms/step - loss: 0.2924 - accuracy: 0.9375 - val_loss: 0.8869 - val_accuracy: 0.8130\n",
            "Epoch 12/20\n",
            "16/16 [==============================] - 1s 54ms/step - loss: 0.2572 - accuracy: 0.9435 - val_loss: 0.9115 - val_accuracy: 0.8120\n",
            "Epoch 13/20\n",
            "16/16 [==============================] - 1s 55ms/step - loss: 0.2275 - accuracy: 0.9451 - val_loss: 0.8903 - val_accuracy: 0.8160\n",
            "Epoch 14/20\n",
            "16/16 [==============================] - 1s 55ms/step - loss: 0.2064 - accuracy: 0.9506 - val_loss: 0.8916 - val_accuracy: 0.8170\n",
            "Epoch 15/20\n",
            "16/16 [==============================] - 1s 54ms/step - loss: 0.1842 - accuracy: 0.9510 - val_loss: 1.0769 - val_accuracy: 0.7770\n",
            "Epoch 16/20\n",
            "16/16 [==============================] - 1s 57ms/step - loss: 0.1783 - accuracy: 0.9499 - val_loss: 0.9227 - val_accuracy: 0.8090\n",
            "Epoch 17/20\n",
            "16/16 [==============================] - 1s 53ms/step - loss: 0.1621 - accuracy: 0.9541 - val_loss: 0.9521 - val_accuracy: 0.8110\n",
            "Epoch 18/20\n",
            "16/16 [==============================] - 1s 55ms/step - loss: 0.1467 - accuracy: 0.9562 - val_loss: 0.9341 - val_accuracy: 0.8120\n",
            "Epoch 19/20\n",
            "16/16 [==============================] - 1s 55ms/step - loss: 0.1403 - accuracy: 0.9569 - val_loss: 0.9712 - val_accuracy: 0.8080\n",
            "Epoch 20/20\n",
            "16/16 [==============================] - 1s 61ms/step - loss: 0.1386 - accuracy: 0.9579 - val_loss: 0.9419 - val_accuracy: 0.8110\n",
            "71/71 [==============================] - 1s 7ms/step - loss: 1.0212 - accuracy: 0.7925\n",
            "[1.0212100744247437, 0.7925200462341309]\n"
          ]
        }
      ]
    }
  ]
}